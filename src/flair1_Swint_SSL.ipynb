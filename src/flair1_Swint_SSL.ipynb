{
  "cells": [
    {
      "cell_type": "markdown",
      "metadata": {
        "id": "ZwZVnpaWChJt"
      },
      "source": [
        "# Self-supervised Vision Transformer for Land Cover Segmentation\n",
        "### Pre-trained model with Swin Transformer and Sentinel-1/2, segmentation head trained with Flair1\n"
      ]
    },
    {
      "cell_type": "code",
      "execution_count": 3,
      "metadata": {
        "colab": {
          "base_uri": "https://localhost:8080/"
        },
        "id": "j_DK22QTC9im",
        "outputId": "97d1ae5f-bc23-42e8-e3c6-0a22cc855f99"
      },
      "outputs": [
        {
          "name": "stdout",
          "output_type": "stream",
          "text": [
            "Mounted at /content/drive\n"
          ]
        }
      ],
      "source": [
        "from google.colab import drive\n",
        "drive.mount('/content/drive')"
      ]
    },
    {
      "cell_type": "code",
      "execution_count": 4,
      "metadata": {
        "colab": {
          "base_uri": "https://localhost:8080/"
        },
        "id": "psu86KKMDIa_",
        "outputId": "13be3058-bfbd-43e2-f482-0dfc6cd30934"
      },
      "outputs": [
        {
          "name": "stdout",
          "output_type": "stream",
          "text": [
            "Cloning into 'LandCover_map_Transformers_SSL'...\n",
            "remote: Enumerating objects: 8528, done.\u001b[K\n",
            "remote: Counting objects: 100% (111/111), done.\u001b[K\n",
            "remote: Compressing objects: 100% (81/81), done.\u001b[K\n",
            "remote: Total 8528 (delta 29), reused 105 (delta 23), pack-reused 8417\u001b[K\n",
            "Receiving objects: 100% (8528/8528), 418.46 MiB | 24.56 MiB/s, done.\n",
            "Resolving deltas: 100% (464/464), done.\n"
          ]
        }
      ],
      "source": [
        "!git clone https://github.com/BertilleT/LandCover_map_Transformers_SSL.git"
      ]
    },
    {
      "cell_type": "code",
      "execution_count": 5,
      "metadata": {
        "colab": {
          "base_uri": "https://localhost:8080/"
        },
        "id": "K5MJ9w1sDahB",
        "outputId": "f19e646a-9dff-489a-ae45-83989b06fd18"
      },
      "outputs": [
        {
          "name": "stdout",
          "output_type": "stream",
          "text": [
            "/content/LandCover_map_Transformers_SSL/src\n"
          ]
        }
      ],
      "source": [
        "cd LandCover_map_Transformers_SSL/src"
      ]
    },
    {
      "cell_type": "markdown",
      "metadata": {
        "id": "LbFX7YbsChJx"
      },
      "source": [
        "## Content\n",
        "\n",
        "1. [Installation](#installation)\n",
        "1. [Dataset](#dataset)\n",
        "1. [Quick Start](#quickstart)"
      ]
    },
    {
      "cell_type": "code",
      "execution_count": 7,
      "metadata": {
        "colab": {
          "base_uri": "https://localhost:8080/"
        },
        "id": "Bw95MlAaD5Yp",
        "outputId": "3c33fb92-59e6-4a3a-c986-0729f185ae9b"
      },
      "outputs": [
        {
          "name": "stdout",
          "output_type": "stream",
          "text": [
            "Collecting wandb\n",
            "  Downloading wandb-0.16.1-py3-none-any.whl (2.1 MB)\n",
            "\u001b[2K     \u001b[90m━━━━━━━━━━━━━━━━━━━━━━━━━━━━━━━━━━━━━━━━\u001b[0m \u001b[32m2.1/2.1 MB\u001b[0m \u001b[31m10.7 MB/s\u001b[0m eta \u001b[36m0:00:00\u001b[0m\n",
            "\u001b[?25hRequirement already satisfied: Click!=8.0.0,>=7.1 in /usr/local/lib/python3.10/dist-packages (from wandb) (8.1.7)\n",
            "Collecting GitPython!=3.1.29,>=1.0.0 (from wandb)\n",
            "  Downloading GitPython-3.1.40-py3-none-any.whl (190 kB)\n",
            "\u001b[2K     \u001b[90m━━━━━━━━━━━━━━━━━━━━━━━━━━━━━━━━━━━━━━━━\u001b[0m \u001b[32m190.6/190.6 kB\u001b[0m \u001b[31m21.9 MB/s\u001b[0m eta \u001b[36m0:00:00\u001b[0m\n",
            "\u001b[?25hRequirement already satisfied: requests<3,>=2.0.0 in /usr/local/lib/python3.10/dist-packages (from wandb) (2.31.0)\n",
            "Requirement already satisfied: psutil>=5.0.0 in /usr/local/lib/python3.10/dist-packages (from wandb) (5.9.5)\n",
            "Collecting sentry-sdk>=1.0.0 (from wandb)\n",
            "  Downloading sentry_sdk-1.39.1-py2.py3-none-any.whl (254 kB)\n",
            "\u001b[2K     \u001b[90m━━━━━━━━━━━━━━━━━━━━━━━━━━━━━━━━━━━━━━━━\u001b[0m \u001b[32m254.1/254.1 kB\u001b[0m \u001b[31m22.8 MB/s\u001b[0m eta \u001b[36m0:00:00\u001b[0m\n",
            "\u001b[?25hCollecting docker-pycreds>=0.4.0 (from wandb)\n",
            "  Downloading docker_pycreds-0.4.0-py2.py3-none-any.whl (9.0 kB)\n",
            "Requirement already satisfied: PyYAML in /usr/local/lib/python3.10/dist-packages (from wandb) (6.0.1)\n",
            "Collecting setproctitle (from wandb)\n",
            "  Downloading setproctitle-1.3.3-cp310-cp310-manylinux_2_5_x86_64.manylinux1_x86_64.manylinux_2_17_x86_64.manylinux2014_x86_64.whl (30 kB)\n",
            "Requirement already satisfied: setuptools in /usr/local/lib/python3.10/dist-packages (from wandb) (67.7.2)\n",
            "Requirement already satisfied: appdirs>=1.4.3 in /usr/local/lib/python3.10/dist-packages (from wandb) (1.4.4)\n",
            "Requirement already satisfied: protobuf!=4.21.0,<5,>=3.19.0 in /usr/local/lib/python3.10/dist-packages (from wandb) (3.20.3)\n",
            "Requirement already satisfied: six>=1.4.0 in /usr/local/lib/python3.10/dist-packages (from docker-pycreds>=0.4.0->wandb) (1.16.0)\n",
            "Collecting gitdb<5,>=4.0.1 (from GitPython!=3.1.29,>=1.0.0->wandb)\n",
            "  Downloading gitdb-4.0.11-py3-none-any.whl (62 kB)\n",
            "\u001b[2K     \u001b[90m━━━━━━━━━━━━━━━━━━━━━━━━━━━━━━━━━━━━━━━━\u001b[0m \u001b[32m62.7/62.7 kB\u001b[0m \u001b[31m8.1 MB/s\u001b[0m eta \u001b[36m0:00:00\u001b[0m\n",
            "\u001b[?25hRequirement already satisfied: charset-normalizer<4,>=2 in /usr/local/lib/python3.10/dist-packages (from requests<3,>=2.0.0->wandb) (3.3.2)\n",
            "Requirement already satisfied: idna<4,>=2.5 in /usr/local/lib/python3.10/dist-packages (from requests<3,>=2.0.0->wandb) (3.6)\n",
            "Requirement already satisfied: urllib3<3,>=1.21.1 in /usr/local/lib/python3.10/dist-packages (from requests<3,>=2.0.0->wandb) (2.0.7)\n",
            "Requirement already satisfied: certifi>=2017.4.17 in /usr/local/lib/python3.10/dist-packages (from requests<3,>=2.0.0->wandb) (2023.11.17)\n",
            "Collecting smmap<6,>=3.0.1 (from gitdb<5,>=4.0.1->GitPython!=3.1.29,>=1.0.0->wandb)\n",
            "  Downloading smmap-5.0.1-py3-none-any.whl (24 kB)\n",
            "Installing collected packages: smmap, setproctitle, sentry-sdk, docker-pycreds, gitdb, GitPython, wandb\n",
            "Successfully installed GitPython-3.1.40 docker-pycreds-0.4.0 gitdb-4.0.11 sentry-sdk-1.39.1 setproctitle-1.3.3 smmap-5.0.1 wandb-0.16.1\n",
            "Collecting rasterio\n",
            "  Downloading rasterio-1.3.9-cp310-cp310-manylinux2014_x86_64.whl (20.6 MB)\n",
            "\u001b[2K     \u001b[90m━━━━━━━━━━━━━━━━━━━━━━━━━━━━━━━━━━━━━━━━\u001b[0m \u001b[32m20.6/20.6 MB\u001b[0m \u001b[31m4.7 MB/s\u001b[0m eta \u001b[36m0:00:00\u001b[0m\n",
            "\u001b[?25hCollecting affine (from rasterio)\n",
            "  Downloading affine-2.4.0-py3-none-any.whl (15 kB)\n",
            "Requirement already satisfied: attrs in /usr/local/lib/python3.10/dist-packages (from rasterio) (23.1.0)\n",
            "Requirement already satisfied: certifi in /usr/local/lib/python3.10/dist-packages (from rasterio) (2023.11.17)\n",
            "Requirement already satisfied: click>=4.0 in /usr/local/lib/python3.10/dist-packages (from rasterio) (8.1.7)\n",
            "Requirement already satisfied: cligj>=0.5 in /usr/local/lib/python3.10/dist-packages (from rasterio) (0.7.2)\n",
            "Requirement already satisfied: numpy in /usr/local/lib/python3.10/dist-packages (from rasterio) (1.23.5)\n",
            "Collecting snuggs>=1.4.1 (from rasterio)\n",
            "  Downloading snuggs-1.4.7-py3-none-any.whl (5.4 kB)\n",
            "Requirement already satisfied: click-plugins in /usr/local/lib/python3.10/dist-packages (from rasterio) (1.1.1)\n",
            "Requirement already satisfied: setuptools in /usr/local/lib/python3.10/dist-packages (from rasterio) (67.7.2)\n",
            "Requirement already satisfied: pyparsing>=2.1.6 in /usr/local/lib/python3.10/dist-packages (from snuggs>=1.4.1->rasterio) (3.1.1)\n",
            "Installing collected packages: snuggs, affine, rasterio\n",
            "Successfully installed affine-2.4.0 rasterio-1.3.9 snuggs-1.4.7\n",
            "Collecting timm\n",
            "  Downloading timm-0.9.12-py3-none-any.whl (2.2 MB)\n",
            "\u001b[2K     \u001b[90m━━━━━━━━━━━━━━━━━━━━━━━━━━━━━━━━━━━━━━━━\u001b[0m \u001b[32m2.2/2.2 MB\u001b[0m \u001b[31m10.4 MB/s\u001b[0m eta \u001b[36m0:00:00\u001b[0m\n",
            "\u001b[?25hRequirement already satisfied: torch>=1.7 in /usr/local/lib/python3.10/dist-packages (from timm) (2.1.0+cu121)\n",
            "Requirement already satisfied: torchvision in /usr/local/lib/python3.10/dist-packages (from timm) (0.16.0+cu121)\n",
            "Requirement already satisfied: pyyaml in /usr/local/lib/python3.10/dist-packages (from timm) (6.0.1)\n",
            "Requirement already satisfied: huggingface-hub in /usr/local/lib/python3.10/dist-packages (from timm) (0.20.1)\n",
            "Requirement already satisfied: safetensors in /usr/local/lib/python3.10/dist-packages (from timm) (0.4.1)\n",
            "Requirement already satisfied: filelock in /usr/local/lib/python3.10/dist-packages (from torch>=1.7->timm) (3.13.1)\n",
            "Requirement already satisfied: typing-extensions in /usr/local/lib/python3.10/dist-packages (from torch>=1.7->timm) (4.5.0)\n",
            "Requirement already satisfied: sympy in /usr/local/lib/python3.10/dist-packages (from torch>=1.7->timm) (1.12)\n",
            "Requirement already satisfied: networkx in /usr/local/lib/python3.10/dist-packages (from torch>=1.7->timm) (3.2.1)\n",
            "Requirement already satisfied: jinja2 in /usr/local/lib/python3.10/dist-packages (from torch>=1.7->timm) (3.1.2)\n",
            "Requirement already satisfied: fsspec in /usr/local/lib/python3.10/dist-packages (from torch>=1.7->timm) (2023.6.0)\n",
            "Requirement already satisfied: triton==2.1.0 in /usr/local/lib/python3.10/dist-packages (from torch>=1.7->timm) (2.1.0)\n",
            "Requirement already satisfied: requests in /usr/local/lib/python3.10/dist-packages (from huggingface-hub->timm) (2.31.0)\n",
            "Requirement already satisfied: tqdm>=4.42.1 in /usr/local/lib/python3.10/dist-packages (from huggingface-hub->timm) (4.66.1)\n",
            "Requirement already satisfied: packaging>=20.9 in /usr/local/lib/python3.10/dist-packages (from huggingface-hub->timm) (23.2)\n",
            "Requirement already satisfied: numpy in /usr/local/lib/python3.10/dist-packages (from torchvision->timm) (1.23.5)\n",
            "Requirement already satisfied: pillow!=8.3.*,>=5.3.0 in /usr/local/lib/python3.10/dist-packages (from torchvision->timm) (9.4.0)\n",
            "Requirement already satisfied: MarkupSafe>=2.0 in /usr/local/lib/python3.10/dist-packages (from jinja2->torch>=1.7->timm) (2.1.3)\n",
            "Requirement already satisfied: charset-normalizer<4,>=2 in /usr/local/lib/python3.10/dist-packages (from requests->huggingface-hub->timm) (3.3.2)\n",
            "Requirement already satisfied: idna<4,>=2.5 in /usr/local/lib/python3.10/dist-packages (from requests->huggingface-hub->timm) (3.6)\n",
            "Requirement already satisfied: urllib3<3,>=1.21.1 in /usr/local/lib/python3.10/dist-packages (from requests->huggingface-hub->timm) (2.0.7)\n",
            "Requirement already satisfied: certifi>=2017.4.17 in /usr/local/lib/python3.10/dist-packages (from requests->huggingface-hub->timm) (2023.11.17)\n",
            "Requirement already satisfied: mpmath>=0.19 in /usr/local/lib/python3.10/dist-packages (from sympy->torch>=1.7->timm) (1.3.0)\n",
            "Installing collected packages: timm\n",
            "Successfully installed timm-0.9.12\n",
            "Collecting einops\n",
            "  Downloading einops-0.7.0-py3-none-any.whl (44 kB)\n",
            "\u001b[2K     \u001b[90m━━━━━━━━━━━━━━━━━━━━━━━━━━━━━━━━━━━━━━━━\u001b[0m \u001b[32m44.6/44.6 kB\u001b[0m \u001b[31m832.6 kB/s\u001b[0m eta \u001b[36m0:00:00\u001b[0m\n",
            "\u001b[?25hInstalling collected packages: einops\n",
            "Successfully installed einops-0.7.0\n",
            "Collecting diffdist\n",
            "  Downloading diffdist-0.1.tar.gz (4.6 kB)\n",
            "  Preparing metadata (setup.py) ... \u001b[?25l\u001b[?25hdone\n",
            "Building wheels for collected packages: diffdist\n",
            "  Building wheel for diffdist (setup.py) ... \u001b[?25l\u001b[?25hdone\n",
            "  Created wheel for diffdist: filename=diffdist-0.1-py3-none-any.whl size=6534 sha256=7b6b98f480f1c0e93af0a2f133a9c5897452042d82eb26e168cfca262628e33a\n",
            "  Stored in directory: /root/.cache/pip/wheels/f1/29/f6/5331a14ab74e769799b76eb32460f447c7feb7375a16b07854\n",
            "Successfully built diffdist\n",
            "Installing collected packages: diffdist\n",
            "Successfully installed diffdist-0.1\n"
          ]
        }
      ],
      "source": [
        "!pip install wandb\n",
        "!pip install rasterio\n",
        "!pip install timm\n",
        "!pip install einops\n",
        "!pip install diffdist"
      ]
    },
    {
      "cell_type": "code",
      "execution_count": 65,
      "metadata": {
        "id": "vLkB5HpsChJy"
      },
      "outputs": [],
      "source": [
        "# Import needed packages\n",
        "import argparse\n",
        "import json\n",
        "import os\n",
        "import random\n",
        "import numpy as np\n",
        "import torch\n",
        "import wandb\n",
        "import torch.nn.functional as F\n",
        "from distutils.util import strtobool\n",
        "from tqdm import tqdm\n",
        "from torchvision.models import resnet18, resnet50\n",
        "from utils import *\n",
        "import rasterio\n",
        "from pathlib import Path\n",
        "import numpy as np\n",
        "from torchvision import transforms\n",
        "from Transformer_SSL.models.swin_transformer import DoubleSwinTransformerDownstream\n",
        "from Transformer_SSL.models import build_model\n",
        "import torch.nn as nn\n",
        "from Transformer_SSL.models.swin_transformer import SwinTransformerDecoder\n",
        "import matplotlib.pyplot as plt\n",
        "from metrics import PixelwiseMetrics\n",
        "from validation_utils import validate_all\n",
        "from sklearn.metrics import confusion_matrix\n",
        "import matplotlib.pyplot as plt\n",
        "import seaborn as sns"
      ]
    },
    {
      "cell_type": "markdown",
      "metadata": {
        "id": "FB8Ln4Q6ChJ1"
      },
      "source": [
        "### Quick Start\n",
        "You can specify in the some hyperparameters in train_config (cell below), such as the learning_rate, the batch_size, number of epochs, or if you wish to fine-tune the model or not (with the finetuning argument), etc."
      ]
    },
    {
      "cell_type": "code",
      "execution_count": 125,
      "metadata": {
        "id": "tGctZOdHChJ1"
      },
      "outputs": [],
      "source": [
        "# Data configurations:\n",
        "data_config = {\n",
        "    'train_dir': '../../drive/MyDrive/MVA/flair1_fullset_13classes/train', # path to the training directory,\n",
        "    'val_dir': '../../drive/MyDrive/MVA/flair1_fullset_13classes/val', # path to the validation directory,\n",
        "    'test_dir': '../../drive/MyDrive/MVA/flair1_fullset_13classes/test', # path to the validation directory,\n",
        "    'train_mode': 'validation', # can be one of the following: 'test', 'validation'\n",
        "    'val_mode': 'test', # can be one of the following: 'test', 'validation'\n",
        "    'num_classes': 13, # number of classes in the dataset.\n",
        "    'clip_sample_values': True, # clip (limit) values\n",
        "    'train_used_data_fraction': 1, # fraction of data to use, should be in the range [0, 1]\n",
        "    'val_used_data_fraction': 1,\n",
        "    'image_px_size': 224, # image size (224x224)\n",
        "    'cover_all_parts_train': True, # if True, if image_px_size is not 224 during training, we use a random crop of the image\n",
        "    'cover_all_parts_validation': True, # if True, if image_px_size is not 224 during validation, we use a non-overlapping sliding window to cover the entire image\n",
        "    'seed': 42,\n",
        "}"
      ]
    },
    {
      "cell_type": "code",
      "execution_count": 126,
      "metadata": {
        "id": "zpgubM7VChJ2"
      },
      "outputs": [],
      "source": [
        "# Ensure deterministic behavior\n",
        "random.seed(data_config['seed'])\n",
        "np.random.seed(data_config['seed'])\n",
        "torch.manual_seed(data_config['seed'])\n",
        "torch.cuda.manual_seed_all(data_config['seed'])"
      ]
    },
    {
      "cell_type": "markdown",
      "metadata": {
        "id": "sfriqPvoChJ2"
      },
      "source": [
        "#### Prepare\n",
        "\n",
        "We create the `train_dataset` and `val_dataset` by using the `DFCDataset`, a custom class of `torch.utils.data.Dataset`"
      ]
    },
    {
      "cell_type": "code",
      "execution_count": 127,
      "metadata": {
        "id": "qSVCt7ZOChJ2"
      },
      "outputs": [],
      "source": [
        "class Flair1Dataset_SSL(torch.utils.data.Dataset):\n",
        "    def __init__(self, folder_path, size = 256, multimodal = False, seed = 42):\n",
        "        super(Flair1Dataset_SSL, self).__init__()\n",
        "        self.resize_transform = transforms.Resize((size, size))\n",
        "        self.resize_transform_l = transforms.Resize((size, size), interpolation=transforms.InterpolationMode.NEAREST)\n",
        "        self.folder_path = folder_path\n",
        "        self.img_files = sorted(list(get_data_paths(Path(self.folder_path), 'image*.tif')), key=lambda x: int(x.split('_')[-1][:-4]))\n",
        "        self.mask_files = sorted(list(get_data_paths(Path(self.folder_path), 'mask*.tif')), key=lambda x: int(x.split('_')[-1][:-4]))\n",
        "        self.total = len(self.img_files)\n",
        "        self.n_classes = len(dict_classes)\n",
        "        self.multimodal = multimodal\n",
        "        if multimodal == False:\n",
        "            self.n_inputs = 3\n",
        "        else:\n",
        "            self.n_inputs_rgb = 3\n",
        "            self.n_inputs_ir_el = 2\n",
        "\n",
        "    def __len__(self):\n",
        "        return self.total\n",
        "\n",
        "    def __getitem__(self, idx):\n",
        "        img = {}\n",
        "        img_path = self.img_files[idx]\n",
        "        mask_path = self.mask_files[idx]\n",
        "\n",
        "        label = rasterio.open(mask_path).read()\n",
        "        label = label - 1\n",
        "\n",
        "        data = rasterio.open(img_path).read()\n",
        "        img['rgb'] = data[0:3,:, :]\n",
        "        img['rgb'] = np.transpose(img['rgb'], (1, 2, 0))\n",
        "        img['rgb'] = transforms.ToPILImage()(img['rgb'])\n",
        "        img['rgb'] = self.resize_transform(img['rgb'])\n",
        "        # Convert back to tensor\n",
        "        img['rgb'] = transforms.ToTensor()(img['rgb'])\n",
        "\n",
        "        img['ir_el'] = data[3:,:, :]\n",
        "        img['ir_el'] = np.transpose(img['ir_el'], (1, 2, 0))\n",
        "        img['ir_el'] = transforms.ToPILImage()(img['ir_el'])\n",
        "        img['ir_el'] = self.resize_transform(img['ir_el'])\n",
        "        # Convert back to tensor\n",
        "        img['ir_el'] = transforms.ToTensor()(img['ir_el'])\n",
        "\n",
        "        # Convert label to PIL Image for resizing\n",
        "        label = np.transpose(label, (1, 2, 0))\n",
        "        label = transforms.ToPILImage()(label)\n",
        "        label = self.resize_transform_l(label)\n",
        "        #print values uniques in label\n",
        "        # Convert back to tensor\n",
        "        label = torch.from_numpy(np.array(label, dtype=np.uint8))\n",
        "        label = label.long()\n",
        "\n",
        "        #Turn data and label into float between 0 and 1\n",
        "        # data = data / 255\n",
        "        # label = label / 255\n",
        "        return img, label\n",
        "\n",
        "    def get_per_per_class(self):\n",
        "        class_per = dict.fromkeys(range(1,14), 0)\n",
        "        total_pixels = 0\n",
        "        for i in range(len(self)):\n",
        "            _, label = self[i]\n",
        "            for j in range(1,13):\n",
        "                class_per[j] += torch.sum(label == j).item()\n",
        "            total_pixels += label.numel()\n",
        "        for j in range(1,14):\n",
        "            class_per[j] = class_per[j] / total_pixels\n",
        "        return class_per"
      ]
    },
    {
      "cell_type": "code",
      "execution_count": 128,
      "metadata": {
        "colab": {
          "base_uri": "https://localhost:8080/",
          "height": 157
        },
        "id": "iwpueZvTChJ3",
        "outputId": "13f36504-92e1-4bbf-a045-c3da5e0a58ab"
      },
      "outputs": [
        {
          "data": {
            "application/vnd.google.colaboratory.intrinsic+json": {
              "type": "string"
            },
            "text/plain": [
              "\"# Create Training Dataset\\ntrain_dataset = DFCDataset(\\n    data_config['train_dir'],\\n    mode=data_config['train_mode'],\\n    clip_sample_values=data_config['clip_sample_values'],\\n    used_data_fraction=data_config['train_used_data_fraction'],\\n    image_px_size=data_config['image_px_size'],\\n    cover_all_parts=data_config['cover_all_parts_train'],\\n    seed=data_config['seed'],\\n)\\n\\n# Create Validation Dataset\\nval_dataset = DFCDataset(\\n    data_config['val_dir'],\\n    mode=data_config['val_mode'],\\n    clip_sample_values=data_config['clip_sample_values'],\\n    used_data_fraction=data_config['val_used_data_fraction'],\\n    image_px_size=data_config['image_px_size'],\\n    cover_all_parts=data_config['cover_all_parts_validation'],\\n    seed=data_config['seed'],\\n)\""
            ]
          },
          "execution_count": 128,
          "metadata": {},
          "output_type": "execute_result"
        }
      ],
      "source": [
        "#from dfc_dataset import DFCDataset\n",
        "size = 224\n",
        "multimodal = True\n",
        "train_dataset = Flair1Dataset_SSL(data_config['train_dir'], size, multimodal)\n",
        "val_dataset = Flair1Dataset_SSL(data_config['val_dir'], size, multimodal)\n",
        "test_dataset = Flair1Dataset_SSL(data_config['test_dir'], size, multimodal)"
      ]
    },
    {
      "cell_type": "markdown",
      "metadata": {
        "id": "wDu1b8JiChJ3"
      },
      "source": [
        "We can see how many examples are in each split by checking their length:"
      ]
    },
    {
      "cell_type": "code",
      "execution_count": 129,
      "metadata": {
        "colab": {
          "base_uri": "https://localhost:8080/"
        },
        "id": "5sTRJYtGChJ4",
        "outputId": "1266fd32-c6af-451e-9178-c8107dd43c00"
      },
      "outputs": [
        {
          "data": {
            "text/plain": [
              "(1664, 416)"
            ]
          },
          "execution_count": 129,
          "metadata": {},
          "output_type": "execute_result"
        }
      ],
      "source": [
        "len(train_dataset), len(val_dataset)"
      ]
    },
    {
      "cell_type": "code",
      "execution_count": 130,
      "metadata": {
        "colab": {
          "base_uri": "https://localhost:8080/"
        },
        "id": "FPnUbixCChJ4",
        "outputId": "6e4f0dd5-a260-4ec0-ef92-3861a8856465"
      },
      "outputs": [
        {
          "name": "stdout",
          "output_type": "stream",
          "text": [
            "torch.Size([3, 224, 224])\n",
            "torch.Size([2, 224, 224])\n"
          ]
        }
      ],
      "source": [
        "#loop on train_ds and check shape of rgb and ir_el\n",
        "rgb = train_dataset[0][0]['rgb']\n",
        "ir_el = train_dataset[0][0]['ir_el']\n",
        "print(rgb.shape)\n",
        "print(ir_el.shape)"
      ]
    },
    {
      "cell_type": "markdown",
      "metadata": {
        "id": "J0rW0IIBChJ4"
      },
      "source": [
        "We define a correspondance of label and names:"
      ]
    },
    {
      "cell_type": "code",
      "execution_count": 131,
      "metadata": {
        "id": "fGzvWHplChJ4"
      },
      "outputs": [],
      "source": [
        "dict_classes_13 = {\n",
        "1   : 'building',\n",
        "2   : 'pervious surface',\n",
        "3   : 'impervious surface',\n",
        "4   : 'bare soil',\n",
        "5   : 'water',\n",
        "6   : 'coniferous',\n",
        "7   : 'deciduous',\n",
        "8   : 'brushwood',\n",
        "9   : 'vineyard',\n",
        "10  : 'herbaceous vegetation',\n",
        "11  : 'agricultural land',\n",
        "12  : 'plowed land',\n",
        "13  : 'other'}"
      ]
    },
    {
      "cell_type": "markdown",
      "metadata": {
        "id": "v-9pqkDzChJ5"
      },
      "source": [
        "Our data is now ready to be used by the model. In the next section we load and configure the model."
      ]
    },
    {
      "cell_type": "markdown",
      "metadata": {
        "id": "sWtNgCbYChJ5"
      },
      "source": [
        "<a id='quickstart'></a>\n",
        "## 3. Quick Start\n",
        "\n",
        "#### Configure\n",
        "\n",
        "You can specify in the some hyperparameters in `train_config` (cell below), such as the `learning_rate`, the `batch_size`, number of `epochs`, or if you wish to fine-tune the model or not (with the `finetuning` argument), etc."
      ]
    },
    {
      "cell_type": "code",
      "execution_count": 132,
      "metadata": {
        "id": "YG5GPOngChJ5"
      },
      "outputs": [],
      "source": [
        "# Training configurations\n",
        "train_config = {\n",
        "    's1_input_channels': 2,\n",
        "    's2_input_channels': 13,\n",
        "    'finetuning': False, # If false, backbone layers is frozen and only the head is trained\n",
        "    'classifier_lr': 3e-6,\n",
        "    'learning_rate': 0.00001,\n",
        "    'adam_betas': (0.9, 0.999),\n",
        "    'weight_decay': 0.001,\n",
        "    'dataloader_workers': 4,\n",
        "    'batch_size': 16,\n",
        "    'epochs': 20,\n",
        "    'target': 'dfc_label'\n",
        "}"
      ]
    },
    {
      "cell_type": "markdown",
      "metadata": {
        "id": "v4rdvUUFChJ5"
      },
      "source": [
        "#### Download checkpoint\n",
        "\n",
        "You can download the pre-trained backbone model using this [link](https://drive.google.com/file/d/1e7QhC2-zoBFgb65yN1ADWBZLMShHOweY/view), save it in the `checkpoints/` directory then run the following cell.\n",
        "\n",
        "Make sure to properly modify the path to the downloaded checkpoint in the path below.\n",
        "\n",
        "In the case where you are using a uni-modal dataset (Sentinel-2 only or Sentinel-1 only), you can load the corresponding weight stream `s1_weights` or `s2_weights`, and comment the other one."
      ]
    },
    {
      "cell_type": "code",
      "execution_count": 133,
      "metadata": {
        "id": "NBf_uadVChJ5"
      },
      "outputs": [],
      "source": [
        "# path to the checkpoint\n",
        "checkpoint = torch.load(\n",
        "    \"../../drive/MyDrive/MVA/swin_t.pth\",#, map_location=torch.device('cpu') #comment map_location if using GPU\n",
        ")\n",
        "weights = checkpoint[\"state_dict\"]\n",
        "\n",
        "# Sentinel-1 stream weights\n",
        "s1_weights = {\n",
        "    k[len(\"backbone1.\"):]: v for k, v in weights.items() if \"backbone1\" in k\n",
        "}\n",
        "\n",
        "# Sentinel-2 stream weights\n",
        "s2_weights = {\n",
        "    k[len(\"backbone2.\"):]: v for k, v in weights.items() if \"backbone2\" in k\n",
        "}"
      ]
    },
    {
      "cell_type": "markdown",
      "metadata": {
        "id": "Uab4GR9aChJ6"
      },
      "source": [
        "#### Prepare model and load checkpoint\n",
        "\n",
        "We prepare the model by specifying the `input_channels`: only sentinel1, only sentinel2 or both. We also specify if we need both backbones `s1_backbone` and `s2_backbone` depending on our application. In the case where only one stream is needed, just comment the lines `s1_backbone` or `s2_backbone`."
      ]
    },
    {
      "cell_type": "code",
      "execution_count": 134,
      "metadata": {
        "id": "qi3F8OOOChJ6"
      },
      "outputs": [],
      "source": [
        "class dotdict(dict):\n",
        "    \"\"\"dot.notation access to dictionary attributes\"\"\"\n",
        "\n",
        "    __getattr__ = dict.get\n",
        "    __setattr__ = dict.__setitem__\n",
        "    __delattr__ = dict.__delitem__\n",
        "\n",
        "def dotdictify(d):\n",
        "    \"\"\"recursively wrap a dictionary and\n",
        "    all the dictionaries that it contains\n",
        "    with the dotdict class\n",
        "    \"\"\"\n",
        "    d = dotdict(d)\n",
        "    for k, v in d.items():\n",
        "        if isinstance(v, dict):\n",
        "            d[k] = dotdictify(v)\n",
        "    return d"
      ]
    },
    {
      "cell_type": "code",
      "execution_count": 135,
      "metadata": {
        "colab": {
          "base_uri": "https://localhost:8080/"
        },
        "id": "xU2D5n_xChJ6",
        "outputId": "2420633d-4c08-4a2c-bbed-5f7f0af10384"
      },
      "outputs": [
        {
          "data": {
            "text/plain": [
              "<All keys matched successfully>"
            ]
          },
          "execution_count": 135,
          "metadata": {},
          "output_type": "execute_result"
        }
      ],
      "source": [
        "#from utils_SSL import save_checkpoint_single_model, dotdictify\n",
        "\n",
        "if torch.cuda.is_available():\n",
        "    device = torch.device(\"cuda\")\n",
        "else:\n",
        "    device = torch.device(\"cpu:0\")\n",
        "\n",
        "# Input channel size\n",
        "# input_channels = 3#train_config['s1_input_channels'] + train_config['s2_input_channels']\n",
        "\n",
        "# If you are using a uni-modal dataset, you can un-comment one of these lines, and comment the one above:\n",
        "# input_channels = train_config['s1_input_channels']\n",
        "# input_channels = train_config['s2_input_channels']\n",
        "\n",
        "with open(\"configs/backbone_config.json\", \"r\") as fp:\n",
        "    swin_conf = dotdictify(json.load(fp))\n",
        "\n",
        "s1_backbone = build_model(swin_conf.model_config)\n",
        "\n",
        "swin_conf.model_config.MODEL.SWIN.IN_CHANS = 13\n",
        "s2_backbone = build_model(swin_conf.model_config)\n",
        "\n",
        "s1_backbone.load_state_dict(s1_weights)\n",
        "s2_backbone.load_state_dict(s2_weights)"
      ]
    },
    {
      "cell_type": "markdown",
      "metadata": {
        "id": "2I93RUQ4ChJ7"
      },
      "source": [
        "We create the downstream model head that will be trained. In this demo, we will train a classifier. You can find a segmentation head in the repository (/TransformerSSL/models/swin_transformer/DoubleSwinTransformerSegmentation). Our classifier takes as input the pre-trained backbone (in the form of two streams `encoder1` and `encoder2`), the `out_dim` (number of classes), and `freeze_layers` flag, specifying whether you wish to freeze the backbone weights or not."
      ]
    },
    {
      "cell_type": "code",
      "execution_count": 136,
      "metadata": {
        "id": "s1qCJdwJChJ7"
      },
      "outputs": [],
      "source": [
        "class DoubleSwinTransformerSegmentation(nn.Module):\n",
        "    def __init__(self, encoder1, encoder2, out_dim, device, freeze_layers=False):\n",
        "        super(DoubleSwinTransformerSegmentation, self).__init__()\n",
        "\n",
        "        self.device = device\n",
        "\n",
        "        self.backbone1 = encoder1\n",
        "        self.backbone2 = encoder2\n",
        "\n",
        "        self.decoder1 = SwinTransformerDecoder(self.backbone1, out_dim, device)\n",
        "        self.decoder2 = SwinTransformerDecoder(self.backbone2, out_dim, device)\n",
        "\n",
        "        # freeze all backbone layers\n",
        "        if freeze_layers:\n",
        "            for name, param in self.named_parameters():\n",
        "                if name.startswith(('backbone')):\n",
        "                    param.requires_grad = False\n",
        "\n",
        "        self.expand_channels = torch.nn.Conv2d(3, 13, kernel_size=1, stride=1, padding=0)\n",
        "\n",
        "    def forward(self, x):\n",
        "        expanded_rgb = self.expand_channels(x[\"rgb\"].to(self.device))\n",
        "        _, x2, x_seg2 = self.backbone2.forward_features(expanded_rgb)\n",
        "\n",
        "        _, x1, x_seg1 = self.backbone1.forward_features(x[\"ir_el\"].to(self.device))\n",
        "\n",
        "        x1 = self.decoder1.forward_up_features(x1, x_seg1)\n",
        "        x2 = self.decoder2.forward_up_features(x2, x_seg2)\n",
        "\n",
        "        x = torch.cat([x1, x2], dim=-1)\n",
        "\n",
        "        output = self.decoder1.up_x4(x)\n",
        "\n",
        "        return output"
      ]
    },
    {
      "cell_type": "code",
      "execution_count": 137,
      "metadata": {
        "id": "K2LOU6AaChJ7"
      },
      "outputs": [],
      "source": [
        "model = DoubleSwinTransformerSegmentation(\n",
        "        s1_backbone, s2_backbone, out_dim=data_config['num_classes'], device=device\n",
        "    )\n",
        "\n",
        "model = model.to(device)"
      ]
    },
    {
      "cell_type": "markdown",
      "metadata": {
        "id": "BFA80ExNChJ7"
      },
      "source": [
        "Define and initialise the loss for training. Here we are training for single-class classification and using a `torch.nn.CrossEntropyLoss` loss."
      ]
    },
    {
      "cell_type": "code",
      "execution_count": 138,
      "metadata": {
        "id": "fkuesPWXChJ8"
      },
      "outputs": [],
      "source": [
        "criterion = torch.nn.CrossEntropyLoss(ignore_index=255, reduction=\"mean\").to(device)"
      ]
    },
    {
      "cell_type": "markdown",
      "metadata": {
        "id": "Exy91QPfChJ8"
      },
      "source": [
        "Define the trainable parameters (needed for the optimizer):"
      ]
    },
    {
      "cell_type": "code",
      "execution_count": 139,
      "metadata": {
        "colab": {
          "base_uri": "https://localhost:8080/"
        },
        "id": "X6unpRvlChJ8",
        "outputId": "29432360-efd9-4ba6-8820-2537f5351c8f"
      },
      "outputs": [
        {
          "name": "stdout",
          "output_type": "stream",
          "text": [
            "Frozen backbone\n"
          ]
        }
      ],
      "source": [
        "if train_config['finetuning']:\n",
        "    # train all parameters (backbone + classifier head)\n",
        "    param_backbone = []\n",
        "    param_head = []\n",
        "    for p in model.parameters():\n",
        "        if p.requires_grad:\n",
        "            param_head.append(p)\n",
        "        else:\n",
        "            param_backbone.append(p)\n",
        "        p.requires_grad = True\n",
        "    # parameters = model.parameters()\n",
        "    parameters = [\n",
        "        {\"params\": param_backbone},  # train with default lr\n",
        "        {\n",
        "            \"params\": param_head,\n",
        "            \"lr\": train_config['classifier_lr'],\n",
        "        },  # train with classifier lr\n",
        "    ]\n",
        "    print(\"Finetuning\")\n",
        "\n",
        "else:\n",
        "    # train only final linear layer for SSL methods\n",
        "    print(\"Frozen backbone\")\n",
        "    parameters = list(filter(lambda p: p.requires_grad, model.parameters()))"
      ]
    },
    {
      "cell_type": "markdown",
      "metadata": {
        "id": "xa-UGs7-ChJ8"
      },
      "source": [
        "Initialise the selected optimizer. In this work we chose Adam optimizer. You can initialise any optimizer you want."
      ]
    },
    {
      "cell_type": "code",
      "execution_count": 140,
      "metadata": {
        "id": "_rnjKOr1ChJ8"
      },
      "outputs": [],
      "source": [
        "optimizer = torch.optim.Adam(\n",
        "    parameters,\n",
        "    lr=train_config['learning_rate'],\n",
        "    betas=train_config['adam_betas'],\n",
        "    weight_decay=train_config['weight_decay'],\n",
        ")"
      ]
    },
    {
      "cell_type": "markdown",
      "metadata": {
        "id": "-1fV7EhdChJ9"
      },
      "source": [
        "We load the data (training and validation) using pytorch's dataloader"
      ]
    },
    {
      "cell_type": "code",
      "execution_count": 141,
      "metadata": {
        "colab": {
          "base_uri": "https://localhost:8080/"
        },
        "id": "bVEk9Y5mChJ9",
        "outputId": "343dfa05-90da-4968-b427-3704f5406366"
      },
      "outputs": [
        {
          "name": "stderr",
          "output_type": "stream",
          "text": [
            "/usr/local/lib/python3.10/dist-packages/torch/utils/data/dataloader.py:557: UserWarning: This DataLoader will create 4 worker processes in total. Our suggested max number of worker in current system is 2, which is smaller than what this DataLoader is going to create. Please be aware that excessive worker creation might get DataLoader running slow or even freeze, lower the worker number to avoid potential slowness/freeze if necessary.\n",
            "  warnings.warn(_create_warning_msg(\n"
          ]
        }
      ],
      "source": [
        "train_loader = torch.utils.data.DataLoader(\n",
        "    train_dataset,\n",
        "    batch_size=train_config['batch_size'],\n",
        "    shuffle=True,\n",
        "    pin_memory=True,\n",
        "    num_workers=train_config['dataloader_workers'],\n",
        ")\n",
        "\n",
        "val_loader = torch.utils.data.DataLoader(\n",
        "    val_dataset,\n",
        "    batch_size=train_config['batch_size'],\n",
        "    shuffle=False,\n",
        "    num_workers=train_config['dataloader_workers'],\n",
        ")\n",
        "\n",
        "test_loader = torch.utils.data.DataLoader(\n",
        "    test_dataset,\n",
        "    batch_size=train_config['batch_size'],\n",
        "    shuffle=False,\n",
        "    num_workers=train_config['dataloader_workers'],\n",
        ")"
      ]
    },
    {
      "cell_type": "markdown",
      "metadata": {
        "id": "-Yab7_LqChJ9"
      },
      "source": [
        "Everything is set and we are now ready to train the segmentation head:"
      ]
    },
    {
      "cell_type": "code",
      "execution_count": 143,
      "metadata": {
        "colab": {
          "base_uri": "https://localhost:8080/",
          "height": 1000
        },
        "id": "fANa6SNqChJ9",
        "outputId": "54863133-5d84-4066-f81f-8924b2a11051"
      },
      "outputs": [
        {
          "name": "stderr",
          "output_type": "stream",
          "text": [
            "Epoch:0, Training Loss:2.271: 100%|██████████| 104/104 [05:00<00:00,  2.89s/it]\n"
          ]
        },
        {
          "name": "stdout",
          "output_type": "stream",
          "text": [
            "{'train_loss': 2.2857768535614014, 'train_average_accuracy': 0.09757711975563163, 'train_mIoU': 0.05196175281896828, 'train_accuracy_pixelclass_0': 0.010105386278941026, 'train_accuracy_pixelclass_1': 0.013675079444485438, 'train_accuracy_pixelclass_2': 0.03513907093094926, 'train_accuracy_pixelclass_3': 0.008048923818072623, 'train_accuracy_pixelclass_4': 0.014842444605740008, 'train_accuracy_pixelclass_5': 0.021925479651456643, 'train_accuracy_pixelclass_6': 0.28249911268712835, 'train_accuracy_pixelclass_7': 0.03097990556143217, 'train_accuracy_pixelclass_8': 0.04722418665858442, 'train_accuracy_pixelclass_9': 0.747034488737236, 'train_accuracy_pixelclass_10': 0.03470025652771606, 'train_accuracy_pixelclass_11': 0.0028283376679886867, 'train_accuracy_pixelclass_12': 0.01949988425348034, 'train_IoU_class_0': 0.008730900187975621, 'train_IoU_class_1': 0.010931729541608358, 'train_IoU_class_2': 0.026739566043352446, 'train_IoU_class_3': 0.003888811928019539, 'train_IoU_class_4': 0.010658092177736323, 'train_IoU_class_5': 0.0131552024035673, 'train_IoU_class_6': 0.21513816373611586, 'train_IoU_class_7': 0.02144818113028656, 'train_IoU_class_8': 0.03269400645749968, 'train_IoU_class_9': 0.29970014813937884, 'train_IoU_class_10': 0.027791277579388183, 'train_IoU_class_11': 0.0017341150108642245, 'train_IoU_class_12': 0.0028925923107947695}\n"
          ]
        },
        {
          "name": "stderr",
          "output_type": "stream",
          "text": [
            "Validation Loss:2.057: 100%|██████████| 26/26 [00:26<00:00,  1.02s/it]\n"
          ]
        },
        {
          "name": "stdout",
          "output_type": "stream",
          "text": [
            "Epoch:0 {'validation_loss': 2.0570240020751953, 'validation_average_accuracy': 0.11965528185053748, 'validation_mIoU': 0.059062943609428056, 'validation_accuracy_pixelclass_0': 0.00024438593993155177, 'validation_accuracy_pixelclass_1': 0.0005967899625224051, 'validation_accuracy_pixelclass_2': 0.0024325827078120654, 'validation_accuracy_pixelclass_3': 8.344354835345018e-06, 'validation_accuracy_pixelclass_4': 0.006989739371541334, 'validation_accuracy_pixelclass_5': 0.005439903804464074, 'validation_accuracy_pixelclass_6': 0.5984837267715295, 'validation_accuracy_pixelclass_7': 0.003751539276611587, 'validation_accuracy_pixelclass_8': 0.002227598532681609, 'validation_accuracy_pixelclass_9': 0.9284511367651648, 'validation_accuracy_pixelclass_10': 0.00688852322493178, 'validation_accuracy_pixelclass_11': 4.393344961052997e-06, 'validation_accuracy_pixelclass_12': 0.0, 'train_IoU_class_0': 0.00024365024309649255, 'train_IoU_class_1': 0.0005810857577467359, 'train_IoU_class_2': 0.002329246324702823, 'train_IoU_class_3': 8.283151242058528e-06, 'train_IoU_class_4': 0.006857142857142857, 'train_IoU_class_5': 0.00525143842534977, 'train_IoU_class_6': 0.3876569329422884, 'train_IoU_class_7': 0.003614643299040936, 'train_IoU_class_8': 0.0021736605439129208, 'train_IoU_class_9': 0.3525081544557418, 'train_IoU_class_10': 0.006589665044732828, 'train_IoU_class_11': 4.363877567050979e-06, 'train_IoU_class_12': 0.0}\n"
          ]
        },
        {
          "name": "stderr",
          "output_type": "stream",
          "text": [
            "Epoch:1, Training Loss:1.966: 100%|██████████| 104/104 [04:26<00:00,  2.56s/it]\n"
          ]
        },
        {
          "name": "stdout",
          "output_type": "stream",
          "text": [
            "{'train_loss': 1.9710967540740967, 'train_average_accuracy': 0.13061659644909243, 'train_mIoU': 0.06419042245749843, 'train_accuracy_pixelclass_0': 0.006631003609834687, 'train_accuracy_pixelclass_1': 0.0003741218685063173, 'train_accuracy_pixelclass_2': 0.005992764806759189, 'train_accuracy_pixelclass_3': 1.5498569611179635e-05, 'train_accuracy_pixelclass_4': 0.015535817532502452, 'train_accuracy_pixelclass_5': 0.0005527789511990355, 'train_accuracy_pixelclass_6': 0.7323420511224106, 'train_accuracy_pixelclass_7': 0.0021930993273741755, 'train_accuracy_pixelclass_8': 0.003106256003044085, 'train_accuracy_pixelclass_9': 0.9206014864286693, 'train_accuracy_pixelclass_10': 0.010665338537088379, 'train_accuracy_pixelclass_11': 9.98001999996008e-07, 'train_accuracy_pixelclass_12': 4.539079202393002e-06, 'train_IoU_class_0': 0.006587001348838404, 'train_IoU_class_1': 0.00037253127813504283, 'train_IoU_class_2': 0.005712491345991815, 'train_IoU_class_3': 1.5292312554478862e-05, 'train_IoU_class_4': 0.015426697985805277, 'train_IoU_class_5': 0.0005473920902633225, 'train_IoU_class_6': 0.4400245990300696, 'train_IoU_class_7': 0.002133316390614385, 'train_IoU_class_8': 0.0030538636808678495, 'train_IoU_class_9': 0.35039164613821616, 'train_IoU_class_10': 0.010205131413397841, 'train_IoU_class_11': 9.946695657968945e-07, 'train_IoU_class_12': 4.5342631595652545e-06}\n"
          ]
        },
        {
          "name": "stderr",
          "output_type": "stream",
          "text": [
            "Validation Loss:1.856: 100%|██████████| 26/26 [00:23<00:00,  1.10it/s]\n"
          ]
        },
        {
          "name": "stdout",
          "output_type": "stream",
          "text": [
            "Epoch:1 {'validation_loss': 1.8556004762649536, 'validation_average_accuracy': 0.13806465134946888, 'validation_mIoU': 0.06978605302433272, 'validation_accuracy_pixelclass_0': 0.0173140369426713, 'validation_accuracy_pixelclass_1': 0.000784177937102819, 'validation_accuracy_pixelclass_2': 0.009371471691261993, 'validation_accuracy_pixelclass_3': 4.172177417672509e-06, 'validation_accuracy_pixelclass_4': 0.04552341305240502, 'validation_accuracy_pixelclass_5': 0.0, 'validation_accuracy_pixelclass_6': 0.8144601599430213, 'validation_accuracy_pixelclass_7': 0.004112525076831947, 'validation_accuracy_pixelclass_8': 0.00987965456097721, 'validation_accuracy_pixelclass_9': 0.8884277546248542, 'validation_accuracy_pixelclass_10': 0.004963101536551934, 'validation_accuracy_pixelclass_11': 0.0, 'validation_accuracy_pixelclass_12': 0.0, 'train_IoU_class_0': 0.017024517489725215, 'train_IoU_class_1': 0.0007811168550815202, 'train_IoU_class_2': 0.008676243612426976, 'train_IoU_class_3': 4.138421936947003e-06, 'train_IoU_class_4': 0.04448880955166501, 'train_IoU_class_5': 0.0, 'train_IoU_class_6': 0.4525230593713032, 'train_IoU_class_7': 0.0040523410679556135, 'train_IoU_class_8': 0.009557259892918302, 'train_IoU_class_9': 0.36534805101278167, 'train_IoU_class_10': 0.004763152040530746, 'train_IoU_class_11': 0.0, 'train_IoU_class_12': 0.0}\n"
          ]
        },
        {
          "name": "stderr",
          "output_type": "stream",
          "text": [
            "Epoch:2, Training Loss:1.811: 100%|██████████| 104/104 [04:54<00:00,  2.83s/it]\n"
          ]
        },
        {
          "name": "stdout",
          "output_type": "stream",
          "text": [
            "{'train_loss': 1.8160898685455322, 'train_average_accuracy': 0.14467271520377262, 'train_mIoU': 0.07545372331214296, 'train_accuracy_pixelclass_0': 0.051999491990919335, 'train_accuracy_pixelclass_1': 0.0009784031494833485, 'train_accuracy_pixelclass_2': 0.011890395093425293, 'train_accuracy_pixelclass_3': 5.166189870393212e-06, 'train_accuracy_pixelclass_4': 0.06515573525055138, 'train_accuracy_pixelclass_5': 7.4484170517675624e-06, 'train_accuracy_pixelclass_6': 0.8145722391042292, 'train_accuracy_pixelclass_7': 0.004121706066910882, 'train_accuracy_pixelclass_8': 0.014420545960759052, 'train_accuracy_pixelclass_9': 0.9070214012048499, 'train_accuracy_pixelclass_10': 0.010572765220993884, 'train_accuracy_pixelclass_11': 0.0, 'train_accuracy_pixelclass_12': 0.0, 'train_IoU_class_0': 0.05022213813987593, 'train_IoU_class_1': 0.0009719758906939585, 'train_IoU_class_2': 0.011059081365929934, 'train_IoU_class_3': 5.121481542180522e-06, 'train_IoU_class_4': 0.06341188318976089, 'train_IoU_class_5': 7.43007897643232e-06, 'train_IoU_class_6': 0.46795494581546704, 'train_IoU_class_7': 0.004038620251192685, 'train_IoU_class_8': 0.013637636184799075, 'train_IoU_class_9': 0.359533066680453, 'train_IoU_class_10': 0.010056503979167367, 'train_IoU_class_11': 0.0, 'train_IoU_class_12': 0.0}\n"
          ]
        },
        {
          "name": "stderr",
          "output_type": "stream",
          "text": [
            "Validation Loss:1.756: 100%|██████████| 26/26 [00:22<00:00,  1.18it/s]\n"
          ]
        },
        {
          "name": "stdout",
          "output_type": "stream",
          "text": [
            "Epoch:2 {'validation_loss': 1.7561148405075073, 'validation_average_accuracy': 0.14634933141206383, 'validation_mIoU': 0.08283512508939081, 'validation_accuracy_pixelclass_0': 0.09116302460926021, 'validation_accuracy_pixelclass_1': 0.0010489652924881865, 'validation_accuracy_pixelclass_2': 0.013896217369349742, 'validation_accuracy_pixelclass_3': 0.00012099314511250277, 'validation_accuracy_pixelclass_4': 0.07765304375473867, 'validation_accuracy_pixelclass_5': 1.926993908772254e-06, 'validation_accuracy_pixelclass_6': 0.7442038728929381, 'validation_accuracy_pixelclass_7': 0.0008041165946453522, 'validation_accuracy_pixelclass_8': 0.010397414367336216, 'validation_accuracy_pixelclass_9': 0.9341783331778778, 'validation_accuracy_pixelclass_10': 0.029073400159174423, 'validation_accuracy_pixelclass_11': 0.0, 'validation_accuracy_pixelclass_12': 0.0, 'train_IoU_class_0': 0.0852747888038405, 'train_IoU_class_1': 0.0010441312726439634, 'train_IoU_class_2': 0.012792004899010143, 'train_IoU_class_3': 0.00012071161578741436, 'train_IoU_class_4': 0.07690081738589487, 'train_IoU_class_5': 1.9251872244575787e-06, 'train_IoU_class_6': 0.4882656608888573, 'train_IoU_class_7': 0.0007867460933669268, 'train_IoU_class_8': 0.009619291529305693, 'train_IoU_class_9': 0.3757759933007562, 'train_IoU_class_10': 0.026274555185392918, 'train_IoU_class_11': 0.0, 'train_IoU_class_12': 0.0}\n"
          ]
        },
        {
          "name": "stderr",
          "output_type": "stream",
          "text": [
            "Epoch:3, Training Loss:1.712: 100%|██████████| 104/104 [04:55<00:00,  2.84s/it]\n"
          ]
        },
        {
          "name": "stdout",
          "output_type": "stream",
          "text": [
            "{'train_loss': 1.7144243717193604, 'train_average_accuracy': 0.16748249508711352, 'train_mIoU': 0.09825181587713996, 'train_accuracy_pixelclass_0': 0.19343444352777484, 'train_accuracy_pixelclass_1': 0.0017952434172715684, 'train_accuracy_pixelclass_2': 0.019652496316791324, 'train_accuracy_pixelclass_3': 0.00039521352508508067, 'train_accuracy_pixelclass_4': 0.175718328306194, 'train_accuracy_pixelclass_5': 3.9902234205897655e-05, 'train_accuracy_pixelclass_6': 0.8246059341658659, 'train_accuracy_pixelclass_7': 0.00981762751584219, 'train_accuracy_pixelclass_8': 0.021428618714847022, 'train_accuracy_pixelclass_9': 0.9006463846489424, 'train_accuracy_pixelclass_10': 0.029738243759655593, 'train_accuracy_pixelclass_11': 0.0, 'train_accuracy_pixelclass_12': 0.0, 'train_IoU_class_0': 0.17746524267930944, 'train_IoU_class_1': 0.0017687538822102398, 'train_IoU_class_2': 0.018051626039720815, 'train_IoU_class_3': 0.0003942587677480867, 'train_IoU_class_4': 0.1645428895704443, 'train_IoU_class_5': 3.986191831495699e-05, 'train_IoU_class_6': 0.49271265278756415, 'train_IoU_class_7': 0.009512061975396212, 'train_IoU_class_8': 0.019840442854226616, 'train_IoU_class_9': 0.36594137622481987, 'train_IoU_class_10': 0.02700443970306482, 'train_IoU_class_11': 0.0, 'train_IoU_class_12': 0.0}\n"
          ]
        },
        {
          "name": "stderr",
          "output_type": "stream",
          "text": [
            "Epoch:4, Training Loss:1.635: 100%|██████████| 104/104 [04:51<00:00,  2.80s/it]\n"
          ]
        },
        {
          "name": "stdout",
          "output_type": "stream",
          "text": [
            "{'train_loss': 1.6335487365722656, 'train_average_accuracy': 0.20135209611707933, 'train_mIoU': 0.12830755103719083, 'train_accuracy_pixelclass_0': 0.36898845252342755, 'train_accuracy_pixelclass_1': 0.003445170499610647, 'train_accuracy_pixelclass_2': 0.04427837449183198, 'train_accuracy_pixelclass_3': 0.0009505789361523509, 'train_accuracy_pixelclass_4': 0.3584578927890807, 'train_accuracy_pixelclass_5': 0.0025149048145503765, 'train_accuracy_pixelclass_6': 0.8371662938458955, 'train_accuracy_pixelclass_7': 0.010006935304287597, 'train_accuracy_pixelclass_8': 0.057367298366078255, 'train_accuracy_pixelclass_9': 0.8679598873124397, 'train_accuracy_pixelclass_10': 0.06643692155947431, 'train_accuracy_pixelclass_11': 0.0, 'train_accuracy_pixelclass_12': 4.539079202393002e-06, 'train_IoU_class_0': 0.29991167456614604, 'train_IoU_class_1': 0.0033653446645907684, 'train_IoU_class_2': 0.03944971025091557, 'train_IoU_class_3': 0.0009503371372643202, 'train_IoU_class_4': 0.3212472512728058, 'train_IoU_class_5': 0.0025043111554956306, 'train_IoU_class_6': 0.5132815493980684, 'train_IoU_class_7': 0.009747963202173051, 'train_IoU_class_8': 0.048230340225836374, 'train_IoU_class_9': 0.37400517451345483, 'train_IoU_class_10': 0.05529997706488392, 'train_IoU_class_11': 0.0, 'train_IoU_class_12': 4.530031846123878e-06}\n"
          ]
        },
        {
          "name": "stderr",
          "output_type": "stream",
          "text": [
            "Validation Loss:1.567: 100%|██████████| 26/26 [00:24<00:00,  1.08it/s]\n"
          ]
        },
        {
          "name": "stdout",
          "output_type": "stream",
          "text": [
            "Epoch:4 {'validation_loss': 1.5673878192901611, 'validation_average_accuracy': 0.19950812054747286, 'validation_mIoU': 0.132309121582687, 'validation_accuracy_pixelclass_0': 0.3175956866891461, 'validation_accuracy_pixelclass_1': 0.004158179892455597, 'validation_accuracy_pixelclass_2': 0.03510531262824841, 'validation_accuracy_pixelclass_3': 0.00026701935473104056, 'validation_accuracy_pixelclass_4': 0.4308344049646458, 'validation_accuracy_pixelclass_5': 0.011297965287131728, 'validation_accuracy_pixelclass_6': 0.787116539431849, 'validation_accuracy_pixelclass_7': 0.02487109264900273, 'validation_accuracy_pixelclass_8': 0.015296489318785241, 'validation_accuracy_pixelclass_9': 0.9337857951674682, 'validation_accuracy_pixelclass_10': 0.033277081733683336, 'validation_accuracy_pixelclass_11': 0.0, 'validation_accuracy_pixelclass_12': 0.0, 'train_IoU_class_0': 0.26708795613743064, 'train_IoU_class_1': 0.004067069289592665, 'train_IoU_class_2': 0.03180790423142929, 'train_IoU_class_3': 0.0002667177875759521, 'train_IoU_class_4': 0.3985949526430682, 'train_IoU_class_5': 0.01113994953486958, 'train_IoU_class_6': 0.5487583245530763, 'train_IoU_class_7': 0.023968160591469303, 'train_IoU_class_8': 0.014887010630970254, 'train_IoU_class_9': 0.3883524839438633, 'train_IoU_class_10': 0.031088051231585593, 'train_IoU_class_11': 0.0, 'train_IoU_class_12': 0.0}\n"
          ]
        },
        {
          "name": "stderr",
          "output_type": "stream",
          "text": [
            "Epoch:5, Training Loss:1.551: 100%|██████████| 104/104 [04:40<00:00,  2.70s/it]\n"
          ]
        },
        {
          "name": "stdout",
          "output_type": "stream",
          "text": [
            "{'train_loss': 1.5533602237701416, 'train_average_accuracy': 0.23696864293000794, 'train_mIoU': 0.15879656465877234, 'train_accuracy_pixelclass_0': 0.4829225475631183, 'train_accuracy_pixelclass_1': 0.00828370803060037, 'train_accuracy_pixelclass_2': 0.11481352154980286, 'train_accuracy_pixelclass_3': 0.003953426798318405, 'train_accuracy_pixelclass_4': 0.5294667583526935, 'train_accuracy_pixelclass_5': 0.02051666476909375, 'train_accuracy_pixelclass_6': 0.8416815707610668, 'train_accuracy_pixelclass_7': 0.029462213357952318, 'train_accuracy_pixelclass_8': 0.1026659056454591, 'train_accuracy_pixelclass_9': 0.8454891046954344, 'train_accuracy_pixelclass_10': 0.10093355830448028, 'train_accuracy_pixelclass_11': 0.00024451048999902196, 'train_accuracy_pixelclass_12': 0.0001588677720837551, 'train_IoU_class_0': 0.371216001039233, 'train_IoU_class_1': 0.007971166485794948, 'train_IoU_class_2': 0.09667168434477456, 'train_IoU_class_3': 0.003946301422138222, 'train_IoU_class_4': 0.4513523968043332, 'train_IoU_class_5': 0.020108009571418815, 'train_IoU_class_6': 0.5347671027192371, 'train_IoU_class_7': 0.027936258282652844, 'train_IoU_class_8': 0.08520385360578628, 'train_IoU_class_9': 0.38531445169707934, 'train_IoU_class_10': 0.07947195418495233, 'train_IoU_class_11': 0.00023830436233156989, 'train_IoU_class_12': 0.00015785604430793655}\n"
          ]
        },
        {
          "name": "stderr",
          "output_type": "stream",
          "text": [
            "Validation Loss:1.538: 100%|██████████| 26/26 [00:23<00:00,  1.13it/s]\n"
          ]
        },
        {
          "name": "stdout",
          "output_type": "stream",
          "text": [
            "Epoch:5 {'validation_loss': 1.5377287864685059, 'validation_average_accuracy': 0.19816150668742338, 'validation_mIoU': 0.13385361777313756, 'validation_accuracy_pixelclass_0': 0.3427482511762336, 'validation_accuracy_pixelclass_1': 0.0022517109336809516, 'validation_accuracy_pixelclass_2': 0.025552283743633677, 'validation_accuracy_pixelclass_3': 0.0, 'validation_accuracy_pixelclass_4': 0.318209493945444, 'validation_accuracy_pixelclass_5': 0.023345531204775862, 'validation_accuracy_pixelclass_6': 0.749879321345552, 'validation_accuracy_pixelclass_7': 0.013547141429564058, 'validation_accuracy_pixelclass_8': 0.0976865577123343, 'validation_accuracy_pixelclass_9': 0.9294478248016574, 'validation_accuracy_pixelclass_10': 0.07343147064362827, 'validation_accuracy_pixelclass_11': 0.0, 'validation_accuracy_pixelclass_12': 0.0, 'train_IoU_class_0': 0.285633494159023, 'train_IoU_class_1': 0.002223844928305895, 'train_IoU_class_2': 0.023889691194223756, 'train_IoU_class_3': 0.0, 'train_IoU_class_4': 0.2957499449660704, 'train_IoU_class_5': 0.022912226221118586, 'train_IoU_class_6': 0.5619776069699802, 'train_IoU_class_7': 0.013119453735606808, 'train_IoU_class_8': 0.08497800529668366, 'train_IoU_class_9': 0.3858761860337689, 'train_IoU_class_10': 0.06373657754600709, 'train_IoU_class_11': 0.0, 'train_IoU_class_12': 0.0}\n"
          ]
        },
        {
          "name": "stderr",
          "output_type": "stream",
          "text": [
            "Epoch:6, Training Loss:1.495: 100%|██████████| 104/104 [04:58<00:00,  2.87s/it]\n"
          ]
        },
        {
          "name": "stdout",
          "output_type": "stream",
          "text": [
            "{'train_loss': 1.4960682392120361, 'train_average_accuracy': 0.2577530714266513, 'train_mIoU': 0.17573339408925695, 'train_accuracy_pixelclass_0': 0.558935966786858, 'train_accuracy_pixelclass_1': 0.011992659268621081, 'train_accuracy_pixelclass_2': 0.23363156743232996, 'train_accuracy_pixelclass_3': 0.0033102361594544503, 'train_accuracy_pixelclass_4': 0.5902551033233852, 'train_accuracy_pixelclass_5': 0.02249421949633804, 'train_accuracy_pixelclass_6': 0.8337195969578908, 'train_accuracy_pixelclass_7': 0.04735170964671219, 'train_accuracy_pixelclass_8': 0.09125404148601768, 'train_accuracy_pixelclass_9': 0.8295267975357651, 'train_accuracy_pixelclass_10': 0.12827164165907157, 'train_accuracy_pixelclass_11': 9.98001999996008e-07, 'train_accuracy_pixelclass_12': 4.5390792023930026e-05, 'train_IoU_class_0': 0.41853526118333423, 'train_IoU_class_1': 0.011506857500772384, 'train_IoU_class_2': 0.18288086228303643, 'train_IoU_class_3': 0.00328121119324452, 'train_IoU_class_4': 0.49009539858441153, 'train_IoU_class_5': 0.021877173229128723, 'train_IoU_class_6': 0.5432318867101945, 'train_IoU_class_7': 0.044637504651713525, 'train_IoU_class_8': 0.07989948615307343, 'train_IoU_class_9': 0.3943596404339634, 'train_IoU_class_10': 0.09418262685536288, 'train_IoU_class_11': 9.749296831965995e-07, 'train_IoU_class_12': 4.523945242166789e-05}\n"
          ]
        },
        {
          "name": "stderr",
          "output_type": "stream",
          "text": [
            "Validation Loss:1.433: 100%|██████████| 26/26 [00:23<00:00,  1.13it/s]\n"
          ]
        },
        {
          "name": "stdout",
          "output_type": "stream",
          "text": [
            "Epoch:6 {'validation_loss': 1.432758092880249, 'validation_average_accuracy': 0.3044824680701044, 'validation_mIoU': 0.20549218335145245, 'validation_accuracy_pixelclass_0': 0.663424008595922, 'validation_accuracy_pixelclass_1': 0.04014583672804302, 'validation_accuracy_pixelclass_2': 0.5697089789488217, 'validation_accuracy_pixelclass_3': 0.0008260911286991568, 'validation_accuracy_pixelclass_4': 0.6332137482895734, 'validation_accuracy_pixelclass_5': 0.07124289180121901, 'validation_accuracy_pixelclass_6': 0.8559900337900233, 'validation_accuracy_pixelclass_7': 0.07037188320036897, 'validation_accuracy_pixelclass_8': 0.20109016877914232, 'validation_accuracy_pixelclass_9': 0.7679883125757087, 'validation_accuracy_pixelclass_10': 0.08391427013198953, 'validation_accuracy_pixelclass_11': 0.0003558609418452927, 'validation_accuracy_pixelclass_12': 0.0, 'train_IoU_class_0': 0.41052952582826485, 'train_IoU_class_1': 0.036597559605652474, 'train_IoU_class_2': 0.3397971462177755, 'train_IoU_class_3': 0.0008256949599246032, 'train_IoU_class_4': 0.5280868962170774, 'train_IoU_class_5': 0.06803956751782839, 'train_IoU_class_6': 0.5457495718201824, 'train_IoU_class_7': 0.06674767864929199, 'train_IoU_class_8': 0.17572813544036567, 'train_IoU_class_9': 0.4276320630980212, 'train_IoU_class_10': 0.0713204768282627, 'train_IoU_class_11': 0.0003440673862347559, 'train_IoU_class_12': 0.0}\n"
          ]
        },
        {
          "name": "stderr",
          "output_type": "stream",
          "text": [
            "Epoch:7, Training Loss:1.426: 100%|██████████| 104/104 [04:34<00:00,  2.64s/it]\n"
          ]
        },
        {
          "name": "stdout",
          "output_type": "stream",
          "text": [
            "{'train_loss': 1.4266130924224854, 'train_average_accuracy': 0.2981602020158483, 'train_mIoU': 0.2070794381450357, 'train_accuracy_pixelclass_0': 0.62918512168405, 'train_accuracy_pixelclass_1': 0.017222242154328205, 'train_accuracy_pixelclass_2': 0.4513534246238193, 'train_accuracy_pixelclass_3': 0.004070957617869851, 'train_accuracy_pixelclass_4': 0.6549316189191846, 'train_accuracy_pixelclass_5': 0.07492043494499344, 'train_accuracy_pixelclass_6': 0.8378590658011611, 'train_accuracy_pixelclass_7': 0.07827024718572888, 'train_accuracy_pixelclass_8': 0.21037199372877077, 'train_accuracy_pixelclass_9': 0.7921578382241546, 'train_accuracy_pixelclass_10': 0.12531842833756382, 'train_accuracy_pixelclass_11': 0.0004121748259983513, 'train_accuracy_pixelclass_12': 9.078158404786004e-06, 'train_IoU_class_0': 0.45235155076433686, 'train_IoU_class_1': 0.016364641362550864, 'train_IoU_class_2': 0.31724115332354064, 'train_IoU_class_3': 0.004013083262565394, 'train_IoU_class_4': 0.5261070723801928, 'train_IoU_class_5': 0.07257423630072389, 'train_IoU_class_6': 0.5692724248569864, 'train_IoU_class_7': 0.07242644488843925, 'train_IoU_class_8': 0.15403667357195297, 'train_IoU_class_9': 0.4122686653440673, 'train_IoU_class_10': 0.09497967742184141, 'train_IoU_class_11': 0.000388019316409553, 'train_IoU_class_12': 9.05309185719653e-06}\n"
          ]
        },
        {
          "name": "stderr",
          "output_type": "stream",
          "text": [
            "Validation Loss:1.363: 100%|██████████| 26/26 [00:23<00:00,  1.11it/s]\n"
          ]
        },
        {
          "name": "stdout",
          "output_type": "stream",
          "text": [
            "Epoch:7 {'validation_loss': 1.3633946180343628, 'validation_average_accuracy': 0.30948828148808716, 'validation_mIoU': 0.2210559046345396, 'validation_accuracy_pixelclass_0': 0.5266335230858875, 'validation_accuracy_pixelclass_1': 0.02792080821248167, 'validation_accuracy_pixelclass_2': 0.5841319013009708, 'validation_accuracy_pixelclass_3': 0.001435229031679343, 'validation_accuracy_pixelclass_4': 0.7061812209002218, 'validation_accuracy_pixelclass_5': 0.1267923452093968, 'validation_accuracy_pixelclass_6': 0.8240232132376828, 'validation_accuracy_pixelclass_7': 0.14397229076012003, 'validation_accuracy_pixelclass_8': 0.14994863447447673, 'validation_accuracy_pixelclass_9': 0.862423630545169, 'validation_accuracy_pixelclass_10': 0.06988486258704706, 'validation_accuracy_pixelclass_11': 0.0, 'validation_accuracy_pixelclass_12': 0.0, 'train_IoU_class_0': 0.39530957800907973, 'train_IoU_class_1': 0.026331813894699636, 'train_IoU_class_2': 0.40947235847805913, 'train_IoU_class_3': 0.0014350793465382882, 'train_IoU_class_4': 0.5550525965399702, 'train_IoU_class_5': 0.11821309546267102, 'train_IoU_class_6': 0.597551365778187, 'train_IoU_class_7': 0.12552540437328302, 'train_IoU_class_8': 0.14034392565217343, 'train_IoU_class_9': 0.443641912783004, 'train_IoU_class_10': 0.06084962993134941, 'train_IoU_class_11': 0.0, 'train_IoU_class_12': 0.0}\n"
          ]
        },
        {
          "name": "stderr",
          "output_type": "stream",
          "text": [
            "Epoch:8, Training Loss:1.36: 100%|██████████| 104/104 [04:58<00:00,  2.87s/it]\n"
          ]
        },
        {
          "name": "stdout",
          "output_type": "stream",
          "text": [
            "{'train_loss': 1.3593450784683228, 'train_average_accuracy': 0.3237634305318164, 'train_mIoU': 0.22930890125758113, 'train_accuracy_pixelclass_0': 0.6349386317861077, 'train_accuracy_pixelclass_1': 0.01947825568950683, 'train_accuracy_pixelclass_2': 0.6169470078241043, 'train_accuracy_pixelclass_3': 0.008786397422071254, 'train_accuracy_pixelclass_4': 0.6847106973855163, 'train_accuracy_pixelclass_5': 0.12977430232273565, 'train_accuracy_pixelclass_6': 0.8488798383069919, 'train_accuracy_pixelclass_7': 0.0974063038596359, 'train_accuracy_pixelclass_8': 0.2524716639049426, 'train_accuracy_pixelclass_9': 0.7942652437691035, 'train_accuracy_pixelclass_10': 0.12031116672890112, 'train_accuracy_pixelclass_11': 0.0009550879139961796, 'train_accuracy_pixelclass_12': 0.0, 'train_IoU_class_0': 0.47325705515278504, 'train_IoU_class_1': 0.018401965332114523, 'train_IoU_class_2': 0.41460919470216245, 'train_IoU_class_3': 0.00878011509784866, 'train_IoU_class_4': 0.5544047778545002, 'train_IoU_class_5': 0.12286647300693256, 'train_IoU_class_6': 0.5884780121809853, 'train_IoU_class_7': 0.08887251345107058, 'train_IoU_class_8': 0.1880630496630211, 'train_IoU_class_9': 0.42767484906172054, 'train_IoU_class_10': 0.09469923438985839, 'train_IoU_class_11': 0.0009084764555558509, 'train_IoU_class_12': 0.0}\n"
          ]
        },
        {
          "name": "stderr",
          "output_type": "stream",
          "text": [
            "Validation Loss:1.312: 100%|██████████| 26/26 [00:22<00:00,  1.14it/s]\n"
          ]
        },
        {
          "name": "stdout",
          "output_type": "stream",
          "text": [
            "Epoch:8 {'validation_loss': 1.311523199081421, 'validation_average_accuracy': 0.35645105843770797, 'validation_mIoU': 0.2516005831410229, 'validation_accuracy_pixelclass_0': 0.6082705453340967, 'validation_accuracy_pixelclass_1': 0.015284340883167671, 'validation_accuracy_pixelclass_2': 0.797294230452815, 'validation_accuracy_pixelclass_3': 0.005373764513962192, 'validation_accuracy_pixelclass_4': 0.7670846350596574, 'validation_accuracy_pixelclass_5': 0.29067546917484194, 'validation_accuracy_pixelclass_6': 0.8283947955218984, 'validation_accuracy_pixelclass_7': 0.10798524706049037, 'validation_accuracy_pixelclass_8': 0.3120666766739532, 'validation_accuracy_pixelclass_9': 0.7940791778333907, 'validation_accuracy_pixelclass_10': 0.10735487718193039, 'validation_accuracy_pixelclass_11': 0.0, 'validation_accuracy_pixelclass_12': 0.0, 'train_IoU_class_0': 0.4332313906686499, 'train_IoU_class_1': 0.014870757776480859, 'train_IoU_class_2': 0.47531582613136913, 'train_IoU_class_3': 0.0053717922517735675, 'train_IoU_class_4': 0.5528202169119318, 'train_IoU_class_5': 0.2653825989352606, 'train_IoU_class_6': 0.6154780613896408, 'train_IoU_class_7': 0.09942856746338773, 'train_IoU_class_8': 0.2640197521456944, 'train_IoU_class_9': 0.4554852287217663, 'train_IoU_class_10': 0.08940338843734287, 'train_IoU_class_11': 0.0, 'train_IoU_class_12': 0.0}\n"
          ]
        },
        {
          "name": "stderr",
          "output_type": "stream",
          "text": [
            "Epoch:9, Training Loss:1.304: 100%|██████████| 104/104 [04:50<00:00,  2.79s/it]\n"
          ]
        },
        {
          "name": "stdout",
          "output_type": "stream",
          "text": [
            "{'train_loss': 1.3086694478988647, 'train_average_accuracy': 0.345679715264188, 'train_mIoU': 0.24794205887524606, 'train_accuracy_pixelclass_0': 0.667474513768224, 'train_accuracy_pixelclass_1': 0.02503051304563858, 'train_accuracy_pixelclass_2': 0.7336799038147405, 'train_accuracy_pixelclass_3': 0.017416517600563116, 'train_accuracy_pixelclass_4': 0.6857760542275543, 'train_accuracy_pixelclass_5': 0.24351163070322634, 'train_accuracy_pixelclass_6': 0.8540510250133456, 'train_accuracy_pixelclass_7': 0.12127379917404384, 'train_accuracy_pixelclass_8': 0.24451173898239031, 'train_accuracy_pixelclass_9': 0.78236047630587, 'train_accuracy_pixelclass_10': 0.11856701073082482, 'train_accuracy_pixelclass_11': 0.0001377242759994491, 'train_accuracy_pixelclass_12': 4.5390792023930026e-05, 'train_IoU_class_0': 0.4964748683194098, 'train_IoU_class_1': 0.02380238152560288, 'train_IoU_class_2': 0.4786085493553592, 'train_IoU_class_3': 0.017397508227853818, 'train_IoU_class_4': 0.5517056178780056, 'train_IoU_class_5': 0.2297108482834283, 'train_IoU_class_6': 0.6086569379173881, 'train_IoU_class_7': 0.10819378833942112, 'train_IoU_class_8': 0.18289436814773438, 'train_IoU_class_9': 0.4320308520673306, 'train_IoU_class_10': 0.09359733642903548, 'train_IoU_class_11': 0.0001286536950180255, 'train_IoU_class_12': 4.505519261094841e-05}\n"
          ]
        },
        {
          "name": "stderr",
          "output_type": "stream",
          "text": [
            "Validation Loss:1.279: 100%|██████████| 26/26 [00:22<00:00,  1.13it/s]\n"
          ]
        },
        {
          "name": "stdout",
          "output_type": "stream",
          "text": [
            "Epoch:9 {'validation_loss': 1.2786604166030884, 'validation_average_accuracy': 0.38190943487089896, 'validation_mIoU': 0.27283750319213235, 'validation_accuracy_pixelclass_0': 0.5320211222161967, 'validation_accuracy_pixelclass_1': 0.04538455271305198, 'validation_accuracy_pixelclass_2': 0.7571927853710292, 'validation_accuracy_pixelclass_3': 0.010885210882707577, 'validation_accuracy_pixelclass_4': 0.7375693985863477, 'validation_accuracy_pixelclass_5': 0.24389191105766914, 'validation_accuracy_pixelclass_6': 0.8500080347200935, 'validation_accuracy_pixelclass_7': 0.1821734811842746, 'validation_accuracy_pixelclass_8': 0.6366094296784847, 'validation_accuracy_pixelclass_9': 0.657474583011915, 'validation_accuracy_pixelclass_10': 0.30710896531483683, 'validation_accuracy_pixelclass_11': 0.004503178585079322, 'validation_accuracy_pixelclass_12': 0.0, 'train_IoU_class_0': 0.4210859912957642, 'train_IoU_class_1': 0.042023312546736837, 'train_IoU_class_2': 0.5067692003913681, 'train_IoU_class_3': 0.010878584324664656, 'train_IoU_class_4': 0.5719106674984404, 'train_IoU_class_5': 0.2200577589459427, 'train_IoU_class_6': 0.6088471332725632, 'train_IoU_class_7': 0.15066137557893347, 'train_IoU_class_8': 0.38250345179657247, 'train_IoU_class_9': 0.4333703885571653, 'train_IoU_class_10': 0.1946517560301704, 'train_IoU_class_11': 0.004127921259398572, 'train_IoU_class_12': 0.0}\n"
          ]
        },
        {
          "name": "stderr",
          "output_type": "stream",
          "text": [
            "Epoch:10, Training Loss:1.267: 100%|██████████| 104/104 [04:49<00:00,  2.78s/it]\n"
          ]
        },
        {
          "name": "stdout",
          "output_type": "stream",
          "text": [
            "{'train_loss': 1.2686936855316162, 'train_average_accuracy': 0.37368153550768424, 'train_mIoU': 0.2740018172233723, 'train_accuracy_pixelclass_0': 0.6785777384480425, 'train_accuracy_pixelclass_1': 0.035978429098828875, 'train_accuracy_pixelclass_2': 0.7612535321944564, 'train_accuracy_pixelclass_3': 0.02586711268105881, 'train_accuracy_pixelclass_4': 0.6990551481269226, 'train_accuracy_pixelclass_5': 0.32611617189669684, 'train_accuracy_pixelclass_6': 0.8529276590175422, 'train_accuracy_pixelclass_7': 0.18193465382244725, 'train_accuracy_pixelclass_8': 0.35926950598958807, 'train_accuracy_pixelclass_9': 0.7621631252199348, 'train_accuracy_pixelclass_10': 0.16269096100442462, 'train_accuracy_pixelclass_11': 0.012025924099951896, 'train_accuracy_pixelclass_12': 0.0, 'train_IoU_class_0': 0.5156880193203062, 'train_IoU_class_1': 0.034071587386892636, 'train_IoU_class_2': 0.49702653164889454, 'train_IoU_class_3': 0.025831881246606243, 'train_IoU_class_4': 0.5751551868132444, 'train_IoU_class_5': 0.3013942593255475, 'train_IoU_class_6': 0.6203509331616145, 'train_IoU_class_7': 0.1582715462754338, 'train_IoU_class_8': 0.25890822342063086, 'train_IoU_class_9': 0.44078796822191363, 'train_IoU_class_10': 0.12372394044585813, 'train_IoU_class_11': 0.010813546636897257, 'train_IoU_class_12': 0.0}\n"
          ]
        },
        {
          "name": "stderr",
          "output_type": "stream",
          "text": [
            "Validation Loss:1.253: 100%|██████████| 26/26 [00:24<00:00,  1.06it/s]\n"
          ]
        },
        {
          "name": "stdout",
          "output_type": "stream",
          "text": [
            "Epoch:10 {'validation_loss': 1.2525348663330078, 'validation_average_accuracy': 0.33554003227529516, 'validation_mIoU': 0.24851106182157792, 'validation_accuracy_pixelclass_0': 0.6420523571629821, 'validation_accuracy_pixelclass_1': 0.035428548150562164, 'validation_accuracy_pixelclass_2': 0.7336130448843424, 'validation_accuracy_pixelclass_3': 0.01707672217053358, 'validation_accuracy_pixelclass_4': 0.6270478456027073, 'validation_accuracy_pixelclass_5': 0.02435142202515498, 'validation_accuracy_pixelclass_6': 0.8257264476150457, 'validation_accuracy_pixelclass_7': 0.19604015910505668, 'validation_accuracy_pixelclass_8': 0.25177551154434324, 'validation_accuracy_pixelclass_9': 0.8412112349725847, 'validation_accuracy_pixelclass_10': 0.16768833965560187, 'validation_accuracy_pixelclass_11': 8.786689922105994e-06, 'validation_accuracy_pixelclass_12': 0.0, 'train_IoU_class_0': 0.48005363930287026, 'train_IoU_class_1': 0.03378262896208825, 'train_IoU_class_2': 0.5279465445013352, 'train_IoU_class_3': 0.017069458056175324, 'train_IoU_class_4': 0.5551106178050564, 'train_IoU_class_5': 0.023925827473521982, 'train_IoU_class_6': 0.5990319719957602, 'train_IoU_class_7': 0.17575436953617954, 'train_IoU_class_8': 0.2290004031922587, 'train_IoU_class_9': 0.46094398036733664, 'train_IoU_class_10': 0.1280161032468721, 'train_IoU_class_11': 8.25924105833915e-06, 'train_IoU_class_12': 0.0}\n"
          ]
        },
        {
          "name": "stderr",
          "output_type": "stream",
          "text": [
            "Epoch:11, Training Loss:1.23: 100%|██████████| 104/104 [04:43<00:00,  2.73s/it]\n"
          ]
        },
        {
          "name": "stdout",
          "output_type": "stream",
          "text": [
            "{'train_loss': 1.2288883924484253, 'train_average_accuracy': 0.38576568202951844, 'train_mIoU': 0.2854573593301608, 'train_accuracy_pixelclass_0': 0.7245878955570202, 'train_accuracy_pixelclass_1': 0.04881613444558998, 'train_accuracy_pixelclass_2': 0.7764529283505721, 'train_accuracy_pixelclass_3': 0.029598393314950306, 'train_accuracy_pixelclass_4': 0.7260066397060532, 'train_accuracy_pixelclass_5': 0.3054127646715195, 'train_accuracy_pixelclass_6': 0.8609137285013687, 'train_accuracy_pixelclass_7': 0.22169395480119541, 'train_accuracy_pixelclass_8': 0.36445489841201584, 'train_accuracy_pixelclass_9': 0.7787526892163185, 'train_accuracy_pixelclass_10': 0.16804474985797468, 'train_accuracy_pixelclass_11': 0.010214550469959142, 'train_accuracy_pixelclass_12': 4.539079202393002e-06, 'train_IoU_class_0': 0.5424250834961342, 'train_IoU_class_1': 0.04549607969358457, 'train_IoU_class_2': 0.516199354156096, 'train_IoU_class_3': 0.0295634180920327, 'train_IoU_class_4': 0.6079626666894054, 'train_IoU_class_5': 0.2825730722410888, 'train_IoU_class_6': 0.634111880128736, 'train_IoU_class_7': 0.18682620641119801, 'train_IoU_class_8': 0.26974819740805106, 'train_IoU_class_9': 0.45578134625644495, 'train_IoU_class_10': 0.13105970210381834, 'train_IoU_class_11': 0.009194132284115307, 'train_IoU_class_12': 4.532331385941615e-06}\n"
          ]
        },
        {
          "name": "stderr",
          "output_type": "stream",
          "text": [
            "Validation Loss:1.21: 100%|██████████| 26/26 [00:24<00:00,  1.08it/s]\n"
          ]
        },
        {
          "name": "stdout",
          "output_type": "stream",
          "text": [
            "Epoch:11 {'validation_loss': 1.2099041938781738, 'validation_average_accuracy': 0.4036126232366927, 'validation_mIoU': 0.3024613230529366, 'validation_accuracy_pixelclass_0': 0.6871041982878846, 'validation_accuracy_pixelclass_1': 0.07490936125142578, 'validation_accuracy_pixelclass_2': 0.7417032145079328, 'validation_accuracy_pixelclass_3': 0.009182962496297192, 'validation_accuracy_pixelclass_4': 0.7172232069645094, 'validation_accuracy_pixelclass_5': 0.35425085221305613, 'validation_accuracy_pixelclass_6': 0.8328721393476186, 'validation_accuracy_pixelclass_7': 0.17460709823184783, 'validation_accuracy_pixelclass_8': 0.6178099991556352, 'validation_accuracy_pixelclass_9': 0.7251503235248455, 'validation_accuracy_pixelclass_10': 0.3008686362359688, 'validation_accuracy_pixelclass_11': 0.011282109859984096, 'validation_accuracy_pixelclass_12': 0.0, 'train_IoU_class_0': 0.49122128118251895, 'train_IoU_class_1': 0.06912043993508477, 'train_IoU_class_2': 0.5345884644573569, 'train_IoU_class_3': 0.009181353634372719, 'train_IoU_class_4': 0.6272544999938082, 'train_IoU_class_5': 0.32277695353308344, 'train_IoU_class_6': 0.6584165507795302, 'train_IoU_class_7': 0.15789441403106094, 'train_IoU_class_8': 0.397096927743923, 'train_IoU_class_9': 0.4484114459160028, 'train_IoU_class_10': 0.20613147286623143, 'train_IoU_class_11': 0.009903395615202175, 'train_IoU_class_12': 0.0}\n"
          ]
        },
        {
          "name": "stderr",
          "output_type": "stream",
          "text": [
            "Epoch:12, Training Loss:1.198: 100%|██████████| 104/104 [04:43<00:00,  2.73s/it]\n"
          ]
        },
        {
          "name": "stdout",
          "output_type": "stream",
          "text": [
            "{'train_loss': 1.1960155963897705, 'train_average_accuracy': 0.40765954200776106, 'train_mIoU': 0.3050045125722933, 'train_accuracy_pixelclass_0': 0.7193298479403868, 'train_accuracy_pixelclass_1': 0.06098231585949535, 'train_accuracy_pixelclass_2': 0.7875307752481278, 'train_accuracy_pixelclass_3': 0.04512150232801431, 'train_accuracy_pixelclass_4': 0.7226536931575006, 'train_accuracy_pixelclass_5': 0.4307643033548734, 'train_accuracy_pixelclass_6': 0.8607651807438143, 'train_accuracy_pixelclass_7': 0.22543901911649786, 'train_accuracy_pixelclass_8': 0.4355571328612354, 'train_accuracy_pixelclass_9': 0.7614994492777578, 'train_accuracy_pixelclass_10': 0.22961150549327153, 'train_accuracy_pixelclass_11': 0.020319320719918724, 'train_accuracy_pixelclass_12': 0.0, 'train_IoU_class_0': 0.5395076430382261, 'train_IoU_class_1': 0.05668501241694073, 'train_IoU_class_2': 0.5271220339662293, 'train_IoU_class_3': 0.044991281458224404, 'train_IoU_class_4': 0.6019277437986826, 'train_IoU_class_5': 0.39138232069623596, 'train_IoU_class_6': 0.6472371309862374, 'train_IoU_class_7': 0.1896049926797955, 'train_IoU_class_8': 0.31673070887434845, 'train_IoU_class_9': 0.46151205779048327, 'train_IoU_class_10': 0.17138303637576568, 'train_IoU_class_11': 0.016974701358643093, 'train_IoU_class_12': 0.0}\n"
          ]
        },
        {
          "name": "stderr",
          "output_type": "stream",
          "text": [
            "Validation Loss:1.175: 100%|██████████| 26/26 [00:23<00:00,  1.12it/s]\n"
          ]
        },
        {
          "name": "stdout",
          "output_type": "stream",
          "text": [
            "Epoch:12 {'validation_loss': 1.1754205226898193, 'validation_average_accuracy': 0.43529273868076523, 'validation_mIoU': 0.32157587043072233, 'validation_accuracy_pixelclass_0': 0.7642635045953645, 'validation_accuracy_pixelclass_1': 0.13114306664494052, 'validation_accuracy_pixelclass_2': 0.8257254250045862, 'validation_accuracy_pixelclass_3': 0.014844607252078788, 'validation_accuracy_pixelclass_4': 0.7700633195726863, 'validation_accuracy_pixelclass_5': 0.4420119358002709, 'validation_accuracy_pixelclass_6': 0.8702081734413512, 'validation_accuracy_pixelclass_7': 0.3471846875701812, 'validation_accuracy_pixelclass_8': 0.5851389449192693, 'validation_accuracy_pixelclass_9': 0.7353616286803097, 'validation_accuracy_pixelclass_10': 0.17006614197367872, 'validation_accuracy_pixelclass_11': 0.002794167395229706, 'validation_accuracy_pixelclass_12': 0.0, 'train_IoU_class_0': 0.537427753155995, 'train_IoU_class_1': 0.10778325832342175, 'train_IoU_class_2': 0.5479892500615784, 'train_IoU_class_3': 0.014837240723596967, 'train_IoU_class_4': 0.5985312509379783, 'train_IoU_class_5': 0.3921350408326196, 'train_IoU_class_6': 0.652206483811058, 'train_IoU_class_7': 0.2588203369871833, 'train_IoU_class_8': 0.44797620394362353, 'train_IoU_class_9': 0.48114440792900187, 'train_IoU_class_10': 0.13891747697344312, 'train_IoU_class_11': 0.00271761191989027, 'train_IoU_class_12': 0.0}\n"
          ]
        },
        {
          "name": "stderr",
          "output_type": "stream",
          "text": [
            "Epoch:13, Training Loss:1.181: 100%|██████████| 104/104 [04:41<00:00,  2.71s/it]\n"
          ]
        },
        {
          "name": "stdout",
          "output_type": "stream",
          "text": [
            "{'train_loss': 1.1814627647399902, 'train_average_accuracy': 0.41958236574702046, 'train_mIoU': 0.3136711585821133, 'train_accuracy_pixelclass_0': 0.7329498172037889, 'train_accuracy_pixelclass_1': 0.08842837450366235, 'train_accuracy_pixelclass_2': 0.7808830731668471, 'train_accuracy_pixelclass_3': 0.029639722833913452, 'train_accuracy_pixelclass_4': 0.7451203760951489, 'train_accuracy_pixelclass_5': 0.4564911358516786, 'train_accuracy_pixelclass_6': 0.8544350340712924, 'train_accuracy_pixelclass_7': 0.25162557969902755, 'train_accuracy_pixelclass_8': 0.5376495382207359, 'train_accuracy_pixelclass_9': 0.7471709047455184, 'train_accuracy_pixelclass_10': 0.20275310136176178, 'train_accuracy_pixelclass_11': 0.027424096957890304, 'train_accuracy_pixelclass_12': 0.0, 'train_IoU_class_0': 0.5493215167029651, 'train_IoU_class_1': 0.0782892079323038, 'train_IoU_class_2': 0.5236901144860318, 'train_IoU_class_3': 0.02961214783234794, 'train_IoU_class_4': 0.6266991789236644, 'train_IoU_class_5': 0.4132005661403205, 'train_IoU_class_6': 0.6445413462442382, 'train_IoU_class_7': 0.20321364058264627, 'train_IoU_class_8': 0.36411130129409547, 'train_IoU_class_9': 0.4655447238669333, 'train_IoU_class_10': 0.15394725405758172, 'train_IoU_class_11': 0.02555406350434472, 'train_IoU_class_12': 0.0}\n"
          ]
        },
        {
          "name": "stderr",
          "output_type": "stream",
          "text": [
            "Validation Loss:1.143: 100%|██████████| 26/26 [00:23<00:00,  1.12it/s]\n"
          ]
        },
        {
          "name": "stdout",
          "output_type": "stream",
          "text": [
            "Epoch:13 {'validation_loss': 1.1433860063552856, 'validation_average_accuracy': 0.41960228374206265, 'validation_mIoU': 0.32520063083711526, 'validation_accuracy_pixelclass_0': 0.6535182991546468, 'validation_accuracy_pixelclass_1': 0.11389013361577317, 'validation_accuracy_pixelclass_2': 0.7582031700642448, 'validation_accuracy_pixelclass_3': 0.01834089192808835, 'validation_accuracy_pixelclass_4': 0.7837917855759069, 'validation_accuracy_pixelclass_5': 0.4712463603902548, 'validation_accuracy_pixelclass_6': 0.8305952669973793, 'validation_accuracy_pixelclass_7': 0.33976752213016287, 'validation_accuracy_pixelclass_8': 0.47688023623450826, 'validation_accuracy_pixelclass_9': 0.8051501473080916, 'validation_accuracy_pixelclass_10': 0.20212347841448067, 'validation_accuracy_pixelclass_11': 0.001322396833276952, 'validation_accuracy_pixelclass_12': 0.0, 'train_IoU_class_0': 0.5213498389557826, 'train_IoU_class_1': 0.09861770658342042, 'train_IoU_class_2': 0.5469732111794039, 'train_IoU_class_3': 0.01832850382538723, 'train_IoU_class_4': 0.6497242179238609, 'train_IoU_class_5': 0.42526367043152397, 'train_IoU_class_6': 0.6732203977940364, 'train_IoU_class_7': 0.27282569098252224, 'train_IoU_class_8': 0.38485031314400364, 'train_IoU_class_9': 0.4830037423571291, 'train_IoU_class_10': 0.1522500874773914, 'train_IoU_class_11': 0.0012008202280361603, 'train_IoU_class_12': 0.0}\n"
          ]
        },
        {
          "name": "stderr",
          "output_type": "stream",
          "text": [
            "Epoch:14, Training Loss:1.145: 100%|██████████| 104/104 [04:50<00:00,  2.80s/it]\n"
          ]
        },
        {
          "name": "stdout",
          "output_type": "stream",
          "text": [
            "{'train_loss': 1.1447793245315552, 'train_average_accuracy': 0.4349977802419633, 'train_mIoU': 0.32841335339946187, 'train_accuracy_pixelclass_0': 0.7433949857660157, 'train_accuracy_pixelclass_1': 0.0897806738751692, 'train_accuracy_pixelclass_2': 0.7843482652326755, 'train_accuracy_pixelclass_3': 0.04953988621466811, 'train_accuracy_pixelclass_4': 0.7385669041232937, 'train_accuracy_pixelclass_5': 0.49973983743297756, 'train_accuracy_pixelclass_6': 0.8590197234559869, 'train_accuracy_pixelclass_7': 0.27621639226009276, 'train_accuracy_pixelclass_8': 0.5575149549014342, 'train_accuracy_pixelclass_9': 0.7409961932696559, 'train_accuracy_pixelclass_10': 0.27113385499573145, 'train_accuracy_pixelclass_11': 0.044719471617821124, 'train_accuracy_pixelclass_12': 0.0, 'train_IoU_class_0': 0.5575576961596451, 'train_IoU_class_1': 0.0798840173741042, 'train_IoU_class_2': 0.5293138707114424, 'train_IoU_class_3': 0.04916826578577316, 'train_IoU_class_4': 0.62855320704643, 'train_IoU_class_5': 0.446876694862841, 'train_IoU_class_6': 0.6568801603869769, 'train_IoU_class_7': 0.22521170985720393, 'train_IoU_class_8': 0.3884834781516934, 'train_IoU_class_9': 0.47485100341059466, 'train_IoU_class_10': 0.19483565326617613, 'train_IoU_class_11': 0.03775783718012348, 'train_IoU_class_12': 0.0}\n"
          ]
        },
        {
          "name": "stderr",
          "output_type": "stream",
          "text": [
            "Validation Loss:1.127: 100%|██████████| 26/26 [00:23<00:00,  1.11it/s]\n"
          ]
        },
        {
          "name": "stdout",
          "output_type": "stream",
          "text": [
            "Epoch:14 {'validation_loss': 1.126837968826294, 'validation_average_accuracy': 0.4301130016634636, 'validation_mIoU': 0.33321427125658254, 'validation_accuracy_pixelclass_0': 0.7603573689934834, 'validation_accuracy_pixelclass_1': 0.17294891640866872, 'validation_accuracy_pixelclass_2': 0.7338243888047296, 'validation_accuracy_pixelclass_3': 0.019146122169699145, 'validation_accuracy_pixelclass_4': 0.697583712748744, 'validation_accuracy_pixelclass_5': 0.35529335591770195, 'validation_accuracy_pixelclass_6': 0.86256366608019, 'validation_accuracy_pixelclass_7': 0.2850642313564776, 'validation_accuracy_pixelclass_8': 0.6245103856870784, 'validation_accuracy_pixelclass_9': 0.8100078051869097, 'validation_accuracy_pixelclass_10': 0.19725711529770898, 'validation_accuracy_pixelclass_11': 0.07291195297363554, 'validation_accuracy_pixelclass_12': 0.0, 'train_IoU_class_0': 0.5339533313665865, 'train_IoU_class_1': 0.13624836029733275, 'train_IoU_class_2': 0.5575522898920579, 'train_IoU_class_3': 0.019143246884894397, 'train_IoU_class_4': 0.6375109404556877, 'train_IoU_class_5': 0.31242343061352096, 'train_IoU_class_6': 0.6560319543207846, 'train_IoU_class_7': 0.2412150476744364, 'train_IoU_class_8': 0.5145290176964686, 'train_IoU_class_9': 0.5010273552660943, 'train_IoU_class_10': 0.15812005674638807, 'train_IoU_class_11': 0.06403049512132074, 'train_IoU_class_12': 0.0}\n"
          ]
        },
        {
          "name": "stderr",
          "output_type": "stream",
          "text": [
            "Epoch:15, Training Loss:1.102: 100%|██████████| 104/104 [04:47<00:00,  2.76s/it]\n"
          ]
        },
        {
          "name": "stdout",
          "output_type": "stream",
          "text": [
            "{'train_loss': 1.1025696992874146, 'train_average_accuracy': 0.4563323303305377, 'train_mIoU': 0.3495622501723756, 'train_accuracy_pixelclass_0': 0.7751737191334553, 'train_accuracy_pixelclass_1': 0.1285234980349576, 'train_accuracy_pixelclass_2': 0.7917996410210111, 'train_accuracy_pixelclass_3': 0.06086159131563483, 'train_accuracy_pixelclass_4': 0.755632978840193, 'train_accuracy_pixelclass_5': 0.5365956690647022, 'train_accuracy_pixelclass_6': 0.8581572671811926, 'train_accuracy_pixelclass_7': 0.3358305811928544, 'train_accuracy_pixelclass_8': 0.6376327289777246, 'train_accuracy_pixelclass_9': 0.7631210332940661, 'train_accuracy_pixelclass_10': 0.235237202517413, 'train_accuracy_pixelclass_11': 0.05375438372378498, 'train_accuracy_pixelclass_12': 0.0, 'train_IoU_class_0': 0.583380850075317, 'train_IoU_class_1': 0.11078148169470797, 'train_IoU_class_2': 0.5501251739989287, 'train_IoU_class_3': 0.06078685064956006, 'train_IoU_class_4': 0.6571369509558772, 'train_IoU_class_5': 0.47823031709995506, 'train_IoU_class_6': 0.6655827775199276, 'train_IoU_class_7': 0.27070663590418736, 'train_IoU_class_8': 0.45084763113151094, 'train_IoU_class_9': 0.491052031592968, 'train_IoU_class_10': 0.18080469529226403, 'train_IoU_class_11': 0.044873856325679126, 'train_IoU_class_12': 0.0}\n"
          ]
        },
        {
          "name": "stderr",
          "output_type": "stream",
          "text": [
            "Validation Loss:1.102: 100%|██████████| 26/26 [00:23<00:00,  1.08it/s]\n"
          ]
        },
        {
          "name": "stdout",
          "output_type": "stream",
          "text": [
            "Epoch:15 {'validation_loss': 1.1024706363677979, 'validation_average_accuracy': 0.47263863948180607, 'validation_mIoU': 0.35503024970968716, 'validation_accuracy_pixelclass_0': 0.7025590843404155, 'validation_accuracy_pixelclass_1': 0.1940514502199772, 'validation_accuracy_pixelclass_2': 0.7565124187011474, 'validation_accuracy_pixelclass_3': 0.019776120959767694, 'validation_accuracy_pixelclass_4': 0.7651280229335538, 'validation_accuracy_pixelclass_5': 0.4997292573558175, 'validation_accuracy_pixelclass_6': 0.8160784693810866, 'validation_accuracy_pixelclass_7': 0.47425093562394777, 'validation_accuracy_pixelclass_8': 0.8431393014288528, 'validation_accuracy_pixelclass_9': 0.6955864691054052, 'validation_accuracy_pixelclass_10': 0.36399442749315236, 'validation_accuracy_pixelclass_11': 0.013496355720354807, 'validation_accuracy_pixelclass_12': 0.0, 'train_IoU_class_0': 0.5385383525696106, 'train_IoU_class_1': 0.15110503831492064, 'train_IoU_class_2': 0.5654326022287229, 'train_IoU_class_3': 0.019744405751703685, 'train_IoU_class_4': 0.6299074413586854, 'train_IoU_class_5': 0.43044347141951356, 'train_IoU_class_6': 0.6803259229782069, 'train_IoU_class_7': 0.325067695101881, 'train_IoU_class_8': 0.5132536966930543, 'train_IoU_class_9': 0.4928826063303372, 'train_IoU_class_10': 0.2569055962508708, 'train_IoU_class_11': 0.011786417228427059, 'train_IoU_class_12': 0.0}\n"
          ]
        },
        {
          "name": "stderr",
          "output_type": "stream",
          "text": [
            "Epoch:16, Training Loss:1.09: 100%|██████████| 104/104 [04:56<00:00,  2.85s/it]\n"
          ]
        },
        {
          "name": "stdout",
          "output_type": "stream",
          "text": [
            "{'train_loss': 1.0880883932113647, 'train_average_accuracy': 0.4627168044536981, 'train_mIoU': 0.35387280440813246, 'train_accuracy_pixelclass_0': 0.7756333342039134, 'train_accuracy_pixelclass_1': 0.12830665176497294, 'train_accuracy_pixelclass_2': 0.7923440613281607, 'train_accuracy_pixelclass_3': 0.06763963242559072, 'train_accuracy_pixelclass_4': 0.7712827144579552, 'train_accuracy_pixelclass_5': 0.5348942377981628, 'train_accuracy_pixelclass_6': 0.8534050916794148, 'train_accuracy_pixelclass_7': 0.3444265902975721, 'train_accuracy_pixelclass_8': 0.6163232716773753, 'train_accuracy_pixelclass_9': 0.7431230534649589, 'train_accuracy_pixelclass_10': 0.32354373975025547, 'train_accuracy_pixelclass_11': 0.06439607904974241, 'train_accuracy_pixelclass_12': 0.0, 'train_IoU_class_0': 0.5775082993710342, 'train_IoU_class_1': 0.10888838929564885, 'train_IoU_class_2': 0.556505089553571, 'train_IoU_class_3': 0.06729051937472535, 'train_IoU_class_4': 0.6677592855385583, 'train_IoU_class_5': 0.47472275919642426, 'train_IoU_class_6': 0.6665425669426994, 'train_IoU_class_7': 0.2693532478077047, 'train_IoU_class_8': 0.4276797154233248, 'train_IoU_class_9': 0.4945775254320031, 'train_IoU_class_10': 0.23394455551404933, 'train_IoU_class_11': 0.05557450385597914, 'train_IoU_class_12': 0.0}\n"
          ]
        },
        {
          "name": "stderr",
          "output_type": "stream",
          "text": [
            "Validation Loss:1.093: 100%|██████████| 26/26 [00:24<00:00,  1.05it/s]\n"
          ]
        },
        {
          "name": "stdout",
          "output_type": "stream",
          "text": [
            "Epoch:16 {'validation_loss': 1.092644453048706, 'validation_average_accuracy': 0.4843518460952672, 'validation_mIoU': 0.3665677458845869, 'validation_accuracy_pixelclass_0': 0.8207964356007703, 'validation_accuracy_pixelclass_1': 0.23968245885611864, 'validation_accuracy_pixelclass_2': 0.8055791958151067, 'validation_accuracy_pixelclass_3': 0.01915446652453449, 'validation_accuracy_pixelclass_4': 0.815978055050312, 'validation_accuracy_pixelclass_5': 0.48612660735379415, 'validation_accuracy_pixelclass_6': 0.8438656569543896, 'validation_accuracy_pixelclass_7': 0.3914525495846779, 'validation_accuracy_pixelclass_8': 0.6896068074566793, 'validation_accuracy_pixelclass_9': 0.7263902210639178, 'validation_accuracy_pixelclass_10': 0.23097255760025162, 'validation_accuracy_pixelclass_11': 0.22696898737791993, 'validation_accuracy_pixelclass_12': 0.0, 'train_IoU_class_0': 0.5401926204475956, 'train_IoU_class_1': 0.1747621190451792, 'train_IoU_class_2': 0.5754355545438642, 'train_IoU_class_3': 0.019046236179966397, 'train_IoU_class_4': 0.6801339034243011, 'train_IoU_class_5': 0.44538211247190673, 'train_IoU_class_6': 0.6818676247526172, 'train_IoU_class_7': 0.28261337952993076, 'train_IoU_class_8': 0.49417738369264047, 'train_IoU_class_9': 0.49251435668437377, 'train_IoU_class_10': 0.1872154974686685, 'train_IoU_class_11': 0.19203990825858588, 'train_IoU_class_12': 0.0}\n"
          ]
        },
        {
          "name": "stderr",
          "output_type": "stream",
          "text": [
            "Epoch:17, Training Loss:1.06: 100%|██████████| 104/104 [04:50<00:00,  2.79s/it]\n"
          ]
        },
        {
          "name": "stdout",
          "output_type": "stream",
          "text": [
            "{'train_loss': 1.0604026317596436, 'train_average_accuracy': 0.4739002113664114, 'train_mIoU': 0.3655234612427912, 'train_accuracy_pixelclass_0': 0.786006551883244, 'train_accuracy_pixelclass_1': 0.15470977236557168, 'train_accuracy_pixelclass_2': 0.7918887408887102, 'train_accuracy_pixelclass_3': 0.05406676008860015, 'train_accuracy_pixelclass_4': 0.7757907522062083, 'train_accuracy_pixelclass_5': 0.5572219319704149, 'train_accuracy_pixelclass_6': 0.8528856395323375, 'train_accuracy_pixelclass_7': 0.35469371166180835, 'train_accuracy_pixelclass_8': 0.6953998225243281, 'train_accuracy_pixelclass_9': 0.746698117832615, 'train_accuracy_pixelclass_10': 0.32091992968579247, 'train_accuracy_pixelclass_11': 0.07042101712371832, 'train_accuracy_pixelclass_12': 0.0, 'train_IoU_class_0': 0.5936413888916823, 'train_IoU_class_1': 0.12787117486743904, 'train_IoU_class_2': 0.5566882834820103, 'train_IoU_class_3': 0.05397898711065035, 'train_IoU_class_4': 0.6851357719937646, 'train_IoU_class_5': 0.4903457206743248, 'train_IoU_class_6': 0.6706805468202544, 'train_IoU_class_7': 0.27971006269079246, 'train_IoU_class_8': 0.4993118998240224, 'train_IoU_class_9': 0.4968429546642884, 'train_IoU_class_10': 0.24013710591523588, 'train_IoU_class_11': 0.05746109922182157, 'train_IoU_class_12': 0.0}\n"
          ]
        },
        {
          "name": "stderr",
          "output_type": "stream",
          "text": [
            "Validation Loss:1.06: 100%|██████████| 26/26 [00:22<00:00,  1.16it/s]\n"
          ]
        },
        {
          "name": "stdout",
          "output_type": "stream",
          "text": [
            "Epoch:17 {'validation_loss': 1.060232400894165, 'validation_average_accuracy': 0.47571449163821666, 'validation_mIoU': 0.3655337944205169, 'validation_accuracy_pixelclass_0': 0.6789192890186895, 'validation_accuracy_pixelclass_1': 0.19301776112106891, 'validation_accuracy_pixelclass_2': 0.8421610790549192, 'validation_accuracy_pixelclass_3': 0.05732571771882027, 'validation_accuracy_pixelclass_4': 0.7309555347021894, 'validation_accuracy_pixelclass_5': 0.32906311483149403, 'validation_accuracy_pixelclass_6': 0.8588759031956718, 'validation_accuracy_pixelclass_7': 0.4075748235389872, 'validation_accuracy_pixelclass_8': 0.7934542964095732, 'validation_accuracy_pixelclass_9': 0.7323744508797317, 'validation_accuracy_pixelclass_10': 0.24371398888956913, 'validation_accuracy_pixelclass_11': 0.3168524319361032, 'validation_accuracy_pixelclass_12': 0.0, 'train_IoU_class_0': 0.5129791646637092, 'train_IoU_class_1': 0.14295163970345875, 'train_IoU_class_2': 0.5572093375369058, 'train_IoU_class_3': 0.05626489545540168, 'train_IoU_class_4': 0.6716871638429573, 'train_IoU_class_5': 0.2939687895402784, 'train_IoU_class_6': 0.6631904221418737, 'train_IoU_class_7': 0.31413417935771, 'train_IoU_class_8': 0.6171117000196557, 'train_IoU_class_9': 0.5005271492505656, 'train_IoU_class_10': 0.18896441469792877, 'train_IoU_class_11': 0.23295047125627427, 'train_IoU_class_12': 0.0}\n"
          ]
        },
        {
          "name": "stderr",
          "output_type": "stream",
          "text": [
            "Epoch:18, Training Loss:1.034: 100%|██████████| 104/104 [04:47<00:00,  2.76s/it]\n"
          ]
        },
        {
          "name": "stdout",
          "output_type": "stream",
          "text": [
            "{'train_loss': 1.031813144683838, 'train_average_accuracy': 0.4879676477683344, 'train_mIoU': 0.3775785668440668, 'train_accuracy_pixelclass_0': 0.7848087361174484, 'train_accuracy_pixelclass_1': 0.16373427779925182, 'train_accuracy_pixelclass_2': 0.7870881157460529, 'train_accuracy_pixelclass_3': 0.08069459422807437, 'train_accuracy_pixelclass_4': 0.7874189884901367, 'train_accuracy_pixelclass_5': 0.5591516040166121, 'train_accuracy_pixelclass_6': 0.856861257747184, 'train_accuracy_pixelclass_7': 0.3984568275065114, 'train_accuracy_pixelclass_8': 0.724833843223299, 'train_accuracy_pixelclass_9': 0.7431077621097806, 'train_accuracy_pixelclass_10': 0.35603738882640074, 'train_accuracy_pixelclass_11': 0.10138602517759446, 'train_accuracy_pixelclass_12': 0.0, 'train_IoU_class_0': 0.5930179238931067, 'train_IoU_class_1': 0.13577677628322857, 'train_IoU_class_2': 0.5619308743365129, 'train_IoU_class_3': 0.08034892154795036, 'train_IoU_class_4': 0.6808233986116381, 'train_IoU_class_5': 0.4917175900561487, 'train_IoU_class_6': 0.6794464496342054, 'train_IoU_class_7': 0.31372897517250986, 'train_IoU_class_8': 0.525066366312018, 'train_IoU_class_9': 0.5029510727954991, 'train_IoU_class_10': 0.26448761055151554, 'train_IoU_class_11': 0.07922540977853476, 'train_IoU_class_12': 0.0}\n"
          ]
        },
        {
          "name": "stderr",
          "output_type": "stream",
          "text": [
            "Validation Loss:1.031: 100%|██████████| 26/26 [00:24<00:00,  1.07it/s]\n"
          ]
        },
        {
          "name": "stdout",
          "output_type": "stream",
          "text": [
            "Epoch:18 {'validation_loss': 1.0313575267791748, 'validation_average_accuracy': 0.5101911874004282, 'validation_mIoU': 0.38862289202802486, 'validation_accuracy_pixelclass_0': 0.8346547341696988, 'validation_accuracy_pixelclass_1': 0.2602095893759166, 'validation_accuracy_pixelclass_2': 0.7778784852834656, 'validation_accuracy_pixelclass_3': 0.02038943104016555, 'validation_accuracy_pixelclass_4': 0.8107248089406877, 'validation_accuracy_pixelclass_5': 0.584624901000688, 'validation_accuracy_pixelclass_6': 0.8279149222589529, 'validation_accuracy_pixelclass_7': 0.43579652760297893, 'validation_accuracy_pixelclass_8': 0.800383951439642, 'validation_accuracy_pixelclass_9': 0.6742286947108541, 'validation_accuracy_pixelclass_10': 0.3812629364269688, 'validation_accuracy_pixelclass_11': 0.22441645395554813, 'validation_accuracy_pixelclass_12': 0.0, 'train_IoU_class_0': 0.5497688526443922, 'train_IoU_class_1': 0.18216227739028948, 'train_IoU_class_2': 0.5803296706785265, 'train_IoU_class_3': 0.020251454524358104, 'train_IoU_class_4': 0.6604496158823172, 'train_IoU_class_5': 0.4856297690678678, 'train_IoU_class_6': 0.6886687360161347, 'train_IoU_class_7': 0.3102011564389747, 'train_IoU_class_8': 0.6614903807245217, 'train_IoU_class_9': 0.4822624091203952, 'train_IoU_class_10': 0.2445392372797021, 'train_IoU_class_11': 0.18634403659684373, 'train_IoU_class_12': 0.0}\n"
          ]
        },
        {
          "name": "stderr",
          "output_type": "stream",
          "text": [
            "Epoch:19, Training Loss:1.006: 100%|██████████| 104/104 [05:09<00:00,  2.97s/it]\n"
          ]
        },
        {
          "name": "stdout",
          "output_type": "stream",
          "text": [
            "{'train_loss': 1.0060508251190186, 'train_average_accuracy': 0.5023190672320926, 'train_mIoU': 0.3920351867812786, 'train_accuracy_pixelclass_0': 0.7939836259250553, 'train_accuracy_pixelclass_1': 0.18161157169319028, 'train_accuracy_pixelclass_2': 0.7904674027601554, 'train_accuracy_pixelclass_3': 0.0868320277941015, 'train_accuracy_pixelclass_4': 0.775084014587879, 'train_accuracy_pixelclass_5': 0.5970289328440078, 'train_accuracy_pixelclass_6': 0.8566904743264327, 'train_accuracy_pixelclass_7': 0.3763196592100931, 'train_accuracy_pixelclass_8': 0.7813818349073289, 'train_accuracy_pixelclass_9': 0.7451313570210043, 'train_accuracy_pixelclass_10': 0.40257634029452843, 'train_accuracy_pixelclass_11': 0.14304063265342784, 'train_accuracy_pixelclass_12': 0.0, 'train_IoU_class_0': 0.602406902374498, 'train_IoU_class_1': 0.1486122384768044, 'train_IoU_class_2': 0.5659718018513142, 'train_IoU_class_3': 0.08658878986141878, 'train_IoU_class_4': 0.6738069926618848, 'train_IoU_class_5': 0.5272960764753452, 'train_IoU_class_6': 0.6819526501775346, 'train_IoU_class_7': 0.29313151121289654, 'train_IoU_class_8': 0.5878749877649591, 'train_IoU_class_9': 0.5113187854107956, 'train_IoU_class_10': 0.30050069414538855, 'train_IoU_class_11': 0.11699599774378214, 'train_IoU_class_12': 0.0}\n"
          ]
        },
        {
          "name": "stderr",
          "output_type": "stream",
          "text": [
            "Validation Loss:1.044: 100%|██████████| 26/26 [00:23<00:00,  1.12it/s]\n"
          ]
        },
        {
          "name": "stdout",
          "output_type": "stream",
          "text": [
            "Epoch:19 {'validation_loss': 1.043854832649231, 'validation_average_accuracy': 0.48109765286753253, 'validation_mIoU': 0.36450957780605997, 'validation_accuracy_pixelclass_0': 0.7666649499059316, 'validation_accuracy_pixelclass_1': 0.21008228776275054, 'validation_accuracy_pixelclass_2': 0.7400356305991955, 'validation_accuracy_pixelclass_3': 0.01915863870195216, 'validation_accuracy_pixelclass_4': 0.8437876921373799, 'validation_accuracy_pixelclass_5': 0.49030625714192116, 'validation_accuracy_pixelclass_6': 0.8434555547382275, 'validation_accuracy_pixelclass_7': 0.41515703259121484, 'validation_accuracy_pixelclass_8': 0.7963867050070833, 'validation_accuracy_pixelclass_9': 0.6646616440840846, 'validation_accuracy_pixelclass_10': 0.4618184673176025, 'validation_accuracy_pixelclass_11': 0.002754627290580229, 'validation_accuracy_pixelclass_12': 0.0, 'train_IoU_class_0': 0.5761612322525219, 'train_IoU_class_1': 0.16244574222121425, 'train_IoU_class_2': 0.5617704432030063, 'train_IoU_class_3': 0.019149770219438353, 'train_IoU_class_4': 0.6508874623293962, 'train_IoU_class_5': 0.45068663727520225, 'train_IoU_class_6': 0.6736630615565079, 'train_IoU_class_7': 0.3036808446245975, 'train_IoU_class_8': 0.5855157622460527, 'train_IoU_class_9': 0.48508261015380094, 'train_IoU_class_10': 0.2670888251870199, 'train_IoU_class_11': 0.0024921202100217413, 'train_IoU_class_12': 0.0}\n"
          ]
        },
        {
          "data": {
            "image/png": "[encoded data removed]",
            "text/plain": [
              "<Figure size 640x480 with 1 Axes>"
            ]
          },
          "metadata": {},
          "output_type": "display_data"
        }
      ],
      "source": [
        "step = 0\n",
        "\n",
        "#Training loop\n",
        "train_losses = []\n",
        "val_losses = []\n",
        "\n",
        "# Restaurer les poids du modèle et l'état de l'optimiseur\n",
        "# model.load_state_dict(torch.load(\"checkpoints/segmentation-epoch-6.pth\"))\n",
        "\n",
        "# Restaurer le numéro de l'époque\n",
        "#start_epoch = 6 + 1\n",
        "for epoch in range(train_config['epochs']):\n",
        "    # Model Training\n",
        "    model.train()\n",
        "    step += 1\n",
        "\n",
        "    pbar = tqdm(train_loader)\n",
        "\n",
        "    # track performance\n",
        "    epoch_losses = torch.Tensor()\n",
        "    metrics = PixelwiseMetrics(data_config['num_classes'])\n",
        "\n",
        "    for idx, (img, y) in enumerate(pbar):\n",
        "        # load target\n",
        "        y = y.to(device)\n",
        "        # model output\n",
        "        y_hat = model(img)\n",
        "\n",
        "        # loss computation\n",
        "        loss = criterion(y_hat, y)\n",
        "\n",
        "        # backward step\n",
        "        optimizer.zero_grad()\n",
        "        loss.backward()\n",
        "        optimizer.step()\n",
        "\n",
        "        # get prediction\n",
        "        _, pred = torch.max(y_hat, dim=1)\n",
        "\n",
        "        epoch_losses = torch.cat([epoch_losses, loss[None].detach().cpu()])\n",
        "        metrics.add_batch(y, pred)\n",
        "\n",
        "        pbar.set_description(f\"Epoch:{epoch}, Training Loss:{epoch_losses[-100:].mean():.4}\")\n",
        "\n",
        "    mean_loss = epoch_losses.mean()\n",
        "    train_losses.append(mean_loss)\n",
        "    train_stats = {\n",
        "            \"train_loss\": mean_loss.item(),\n",
        "            \"train_average_accuracy\": metrics.get_average_accuracy(),\n",
        "            \"train_mIoU\": metrics.get_mIoU(),\n",
        "            **{\n",
        "                \"train_accuracy_\" + k: v\n",
        "                for k, v in metrics.get_classwise_accuracy().items()\n",
        "            },\n",
        "            **{\n",
        "                \"train_IoU_\" + k: v\n",
        "                for k, v in metrics.get_IoU().items()\n",
        "            },\n",
        "        }\n",
        "    print(train_stats)\n",
        "\n",
        "    # Model Validation\n",
        "    model.eval()\n",
        "    pbar = tqdm(val_loader)\n",
        "\n",
        "    # track performance\n",
        "    epoch_losses = torch.Tensor()\n",
        "    metrics = PixelwiseMetrics(data_config['num_classes'])\n",
        "\n",
        "    with torch.no_grad():\n",
        "        for idx, (img, y) in enumerate(pbar):\n",
        "            y = y.to(device)\n",
        "            # model output\n",
        "            y_hat = model(img)\n",
        "\n",
        "            # loss computation\n",
        "            loss = criterion(y_hat, y)\n",
        "\n",
        "            # get prediction\n",
        "            _, pred = torch.max(y_hat, dim=1)\n",
        "\n",
        "            epoch_losses = torch.cat([epoch_losses, loss[None].detach().cpu()])\n",
        "            metrics.add_batch(y, pred)\n",
        "\n",
        "\n",
        "            pbar.set_description(f\"Validation Loss:{epoch_losses[-100:].mean():.4}\")\n",
        "\n",
        "        mean_loss = epoch_losses.mean()\n",
        "        val_losses.append(mean_loss)\n",
        "        val_stats = {\n",
        "            \"validation_loss\": mean_loss.item(),\n",
        "            \"validation_average_accuracy\": metrics.get_average_accuracy(),\n",
        "            \"validation_mIoU\": metrics.get_mIoU(),\n",
        "            **{\n",
        "                \"validation_accuracy_\" + k: v\n",
        "                for k, v in metrics.get_classwise_accuracy().items()\n",
        "            },\n",
        "            **{\n",
        "            \"train_IoU_\" + k: v\n",
        "            for k, v in metrics.get_IoU().items()\n",
        "        },\n",
        "        }\n",
        "\n",
        "        print(f\"Epoch:{epoch}\", val_stats)\n",
        "\n",
        "        # Save model checkpoint every 2 epochs\n",
        "        if epoch % 2 == 0:\n",
        "            if epoch == 0:\n",
        "                continue\n",
        "\n",
        "            save_weights_path = (\n",
        "                \"checkpoints/\" + \"-\".join([\"segmentation\", \"epoch\", str(epoch)]) + \".pth\"\n",
        "            )\n",
        "            torch.save(model.state_dict(), save_weights_path)\n",
        "\n",
        "plt.plot(train_losses, label='Training loss')\n",
        "plt.plot(val_losses, label='Validation loss')\n",
        "plt.legend(frameon=False)\n",
        "plt.show()"
      ]
    },
    {
      "cell_type": "markdown",
      "metadata": {
        "id": "ahcf-TVfChJ9"
      },
      "source": [
        "You can evaluate the model on one example by creating a model's instance, loading checkpoint's weights of the classifier saved during training, running it, and displaying the results:"
      ]
    },
    {
      "cell_type": "code",
      "execution_count": 144,
      "metadata": {
        "id": "IqCN_PUlq1BD"
      },
      "outputs": [],
      "source": [
        "def test(model, test_ld):\n",
        "    model.eval()\n",
        "    pbar = tqdm(test_ld)\n",
        "\n",
        "    epoch_losses = torch.Tensor()\n",
        "    metrics = PixelwiseMetrics(data_config['num_classes'])\n",
        "    all_preds = []\n",
        "    all_gts = []\n",
        "    with torch.no_grad():\n",
        "        for idx, (img, y) in enumerate(pbar):\n",
        "            y = y.to(device)\n",
        "            # model output\n",
        "            y_hat = model(img)\n",
        "\n",
        "            # loss computation\n",
        "            loss = criterion(y_hat, y)\n",
        "\n",
        "            # get prediction\n",
        "            _, pred = torch.max(y_hat, dim=1)\n",
        "            all_gts.append(y.cpu().numpy())\n",
        "            all_preds.append(pred.cpu().numpy())\n",
        "            epoch_losses = torch.cat([epoch_losses, loss[None].detach().cpu()])\n",
        "            metrics.add_batch(y, pred)\n",
        "\n",
        "\n",
        "            pbar.set_description(f\"Validation Loss:{epoch_losses[-100:].mean():.4}\")\n",
        "\n",
        "        mean_loss = epoch_losses.mean()\n",
        "        test_stats = {\n",
        "            \"test_loss\": mean_loss.item(),\n",
        "            \"test_average_accuracy\": metrics.get_average_accuracy(),\n",
        "            \"test_mIoU\": metrics.get_mIoU(),\n",
        "            **{\n",
        "                \"test_accuracy_\" + k: v\n",
        "                for k, v in metrics.get_classwise_accuracy().items()\n",
        "            },\n",
        "            **{\n",
        "                \"train_IoU_\" + k: v\n",
        "                for k, v in metrics.get_IoU().items()\n",
        "            },\n",
        "        }\n",
        "        print(\"Test stats:\")\n",
        "\n",
        "        # Loss\n",
        "        print(f\"  Loss: {test_stats['test_loss']:.4f}\")\n",
        "\n",
        "        # Average accuracy and mIoU\n",
        "        print(f\"  Average Accuracy: {test_stats['test_average_accuracy']:.4f}\")\n",
        "        print(f\"  Mean IoU: {test_stats['test_mIoU']:.4f}\")\n",
        "\n",
        "        # Accuracy per class\n",
        "        print(\"  Accuracy by Class:\")\n",
        "        for i in range(data_config['num_classes']):\n",
        "            print(f\"    Class {i}: {test_stats[f'test_accuracy_pixelclass_{i}']:.4f}\")\n",
        "\n",
        "        # IoU per class\n",
        "        print(\"  IoU by Class:\")\n",
        "        for i in range(data_config['num_classes']):\n",
        "            print(f\"    Class {i}: {test_stats[f'train_IoU_class_{i}']:.4f}\")\n",
        "        all_preds = np.concatenate(all_preds)\n",
        "        all_gts = np.concatenate(all_gts)\n",
        "\n",
        "        # Calculer la matrice de confusion\n",
        "        conf_matrix = confusion_matrix(all_gts.flatten(), all_preds.flatten(), labels=np.arange(data_config['num_classes']))\n",
        "        # Normalisation par lignes\n",
        "        conf_matrix_normalized = conf_matrix.astype('float') / conf_matrix.sum(axis=1)[:, np.newaxis]\n",
        "\n",
        "        sns.set(font_scale=0.8)\n",
        "\n",
        "        # Tracer la matrice de confusion\n",
        "        plt.figure(figsize=(10, 10))\n",
        "        ax = sns.heatmap(conf_matrix_normalized, annot=True, fmt='.2f', cmap='Blues', xticklabels=list(dict_classes_13.values()), yticklabels=list(dict_classes_13.values()))\n",
        "        ax.set_xticklabels(ax.get_xticklabels(), rotation=90)\n",
        "        #sns.set(font_scale=1.2)\n",
        "        plt.xlabel('Predicted Labels')\n",
        "        plt.ylabel('True Labels')\n",
        "        plt.title('Confusion Matrix')\n",
        "        plt.show()\n",
        "    return"
      ]
    },
    {
      "cell_type": "code",
      "execution_count": 145,
      "metadata": {
        "id": "r7S2rzkTs2V2"
      },
      "outputs": [],
      "source": [
        "torch.save(model.state_dict(), '../../drive/MyDrive/MVA/swin-t_SSL_freeze_20.pth')"
      ]
    },
    {
      "cell_type": "code",
      "execution_count": 146,
      "metadata": {
        "colab": {
          "base_uri": "https://localhost:8080/",
          "height": 1000
        },
        "id": "YMVwzyf3ChJ-",
        "outputId": "daae3508-4ea4-4fd1-8aa3-db789381b1f7"
      },
      "outputs": [
        {
          "name": "stderr",
          "output_type": "stream",
          "text": [
            "Validation Loss:1.058: 100%|██████████| 33/33 [00:37<00:00,  1.13s/it]\n"
          ]
        },
        {
          "name": "stdout",
          "output_type": "stream",
          "text": [
            "Test stats:\n",
            "  Loss: 1.0577\n",
            "  Average Accuracy: 0.4596\n",
            "  Mean IoU: 0.3409\n",
            "  Accuracy by Class:\n",
            "    Class 0: 0.7907\n",
            "    Class 1: 0.2208\n",
            "    Class 2: 0.7236\n",
            "    Class 3: 0.0112\n",
            "    Class 4: 0.8289\n",
            "    Class 5: 0.4557\n",
            "    Class 6: 0.8298\n",
            "    Class 7: 0.3801\n",
            "    Class 8: 0.6870\n",
            "    Class 9: 0.6502\n",
            "    Class 10: 0.3933\n",
            "    Class 11: 0.0027\n",
            "    Class 12: 0.0000\n",
            "  IoU by Class:\n",
            "    Class 0: 0.5897\n",
            "    Class 1: 0.1720\n",
            "    Class 2: 0.5764\n",
            "    Class 3: 0.0112\n",
            "    Class 4: 0.5860\n",
            "    Class 5: 0.4000\n",
            "    Class 6: 0.6692\n",
            "    Class 7: 0.2622\n",
            "    Class 8: 0.4590\n",
            "    Class 9: 0.4575\n",
            "    Class 10: 0.2458\n",
            "    Class 11: 0.0024\n",
            "    Class 12: 0.0000\n"
          ]
        },
        {
          "data": {
            "image/png": "[encoded data removed]",
            "text/plain": [
              "<Figure size 1000x1000 with 2 Axes>"
            ]
          },
          "metadata": {},
          "output_type": "display_data"
        }
      ],
      "source": [
        "# create a new model's instance\n",
        "model = DoubleSwinTransformerSegmentation(\n",
        "        s1_backbone, s2_backbone, out_dim=data_config['num_classes'], device=device)\n",
        "\n",
        "model = model.to(device)\n",
        "\n",
        "# load checkpoints weights\n",
        "model.load_state_dict(torch.load(\"../../drive/MyDrive/MVA/swin-t_SSL_freeze_20.pth\"))\n",
        "\n",
        "test(model, test_loader)"
      ]
    }
  ],
  "metadata": {
    "accelerator": "GPU",
    "colab": {
      "gpuType": "T4",
      "provenance": []
    },
    "kernelspec": {
      "display_name": "Python 3",
      "name": "python3"
    },
    "language_info": {
      "codemirror_mode": {
        "name": "ipython",
        "version": 3
      },
      "file_extension": ".py",
      "mimetype": "text/x-python",
      "name": "python",
      "nbconvert_exporter": "python",
      "pygments_lexer": "ipython3",
      "version": "3.6.13"
    }
  },
  "nbformat": 4,
  "nbformat_minor": 0
}
