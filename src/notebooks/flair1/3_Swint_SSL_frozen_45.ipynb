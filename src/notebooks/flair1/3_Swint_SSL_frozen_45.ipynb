{
  "cells": [
    {
      "cell_type": "markdown",
      "metadata": {
        "id": "ZwZVnpaWChJt"
      },
      "source": [
        "# Self-supervised Vision Transformer for Land Cover Segmentation\n",
        "### Pre-trained model with Swin Transformer and Sentinel-1/2, segmentation head trained with Flair1\n"
      ]
    },
    {
      "cell_type": "code",
      "execution_count": 1,
      "metadata": {
        "colab": {
          "base_uri": "https://localhost:8080/"
        },
        "id": "j_DK22QTC9im",
        "outputId": "b59b3d38-bb20-4ebf-bd3d-d563eeb06b7d"
      },
      "outputs": [
        {
          "output_type": "stream",
          "name": "stdout",
          "text": [
            "Mounted at /content/drive\n"
          ]
        }
      ],
      "source": [
        "from google.colab import drive\n",
        "drive.mount('/content/drive')"
      ]
    },
    {
      "cell_type": "code",
      "execution_count": 2,
      "metadata": {
        "colab": {
          "base_uri": "https://localhost:8080/"
        },
        "id": "psu86KKMDIa_",
        "outputId": "ccc58a45-d90c-4357-a4c3-974ebdcfcad8"
      },
      "outputs": [
        {
          "output_type": "stream",
          "name": "stdout",
          "text": [
            "Cloning into 'LandCover_map_Transformers_SSL'...\n",
            "remote: Enumerating objects: 8729, done.\u001b[K\n",
            "remote: Counting objects: 100% (312/312), done.\u001b[K\n",
            "remote: Compressing objects: 100% (215/215), done.\u001b[K\n",
            "remote: Total 8729 (delta 129), reused 269 (delta 87), pack-reused 8417\u001b[K\n",
            "Receiving objects: 100% (8729/8729), 429.81 MiB | 19.73 MiB/s, done.\n",
            "Resolving deltas: 100% (564/564), done.\n"
          ]
        }
      ],
      "source": [
        "!git clone https://github.com/BertilleT/LandCover_map_Transformers_SSL.git"
      ]
    },
    {
      "cell_type": "code",
      "execution_count": 3,
      "metadata": {
        "colab": {
          "base_uri": "https://localhost:8080/"
        },
        "id": "K5MJ9w1sDahB",
        "outputId": "2d56b713-dc96-4389-a477-5dd4969e804b"
      },
      "outputs": [
        {
          "output_type": "stream",
          "name": "stdout",
          "text": [
            "/content/LandCover_map_Transformers_SSL/src\n"
          ]
        }
      ],
      "source": [
        "cd LandCover_map_Transformers_SSL/src"
      ]
    },
    {
      "cell_type": "markdown",
      "metadata": {
        "id": "LbFX7YbsChJx"
      },
      "source": [
        "## Content\n",
        "\n",
        "1. [Installation](#installation)\n",
        "1. [Dataset](#dataset)\n",
        "1. [Quick Start](#quickstart)"
      ]
    },
    {
      "cell_type": "code",
      "execution_count": 4,
      "metadata": {
        "colab": {
          "base_uri": "https://localhost:8080/"
        },
        "id": "Bw95MlAaD5Yp",
        "outputId": "97537509-7f13-4f0a-eb63-c0cdd9d14948"
      },
      "outputs": [
        {
          "output_type": "stream",
          "name": "stdout",
          "text": [
            "Collecting wandb\n",
            "  Downloading wandb-0.16.2-py3-none-any.whl (2.2 MB)\n",
            "\u001b[2K     \u001b[90m━━━━━━━━━━━━━━━━━━━━━━━━━━━━━━━━━━━━━━━━\u001b[0m \u001b[32m2.2/2.2 MB\u001b[0m \u001b[31m12.4 MB/s\u001b[0m eta \u001b[36m0:00:00\u001b[0m\n",
            "\u001b[?25hRequirement already satisfied: Click!=8.0.0,>=7.1 in /usr/local/lib/python3.10/dist-packages (from wandb) (8.1.7)\n",
            "Collecting GitPython!=3.1.29,>=1.0.0 (from wandb)\n",
            "  Downloading GitPython-3.1.41-py3-none-any.whl (196 kB)\n",
            "\u001b[2K     \u001b[90m━━━━━━━━━━━━━━━━━━━━━━━━━━━━━━━━━━━━━━━━\u001b[0m \u001b[32m196.4/196.4 kB\u001b[0m \u001b[31m15.0 MB/s\u001b[0m eta \u001b[36m0:00:00\u001b[0m\n",
            "\u001b[?25hRequirement already satisfied: requests<3,>=2.0.0 in /usr/local/lib/python3.10/dist-packages (from wandb) (2.31.0)\n",
            "Requirement already satisfied: psutil>=5.0.0 in /usr/local/lib/python3.10/dist-packages (from wandb) (5.9.5)\n",
            "Collecting sentry-sdk>=1.0.0 (from wandb)\n",
            "  Downloading sentry_sdk-1.39.2-py2.py3-none-any.whl (254 kB)\n",
            "\u001b[2K     \u001b[90m━━━━━━━━━━━━━━━━━━━━━━━━━━━━━━━━━━━━━━━━\u001b[0m \u001b[32m254.1/254.1 kB\u001b[0m \u001b[31m19.7 MB/s\u001b[0m eta \u001b[36m0:00:00\u001b[0m\n",
            "\u001b[?25hCollecting docker-pycreds>=0.4.0 (from wandb)\n",
            "  Downloading docker_pycreds-0.4.0-py2.py3-none-any.whl (9.0 kB)\n",
            "Requirement already satisfied: PyYAML in /usr/local/lib/python3.10/dist-packages (from wandb) (6.0.1)\n",
            "Collecting setproctitle (from wandb)\n",
            "  Downloading setproctitle-1.3.3-cp310-cp310-manylinux_2_5_x86_64.manylinux1_x86_64.manylinux_2_17_x86_64.manylinux2014_x86_64.whl (30 kB)\n",
            "Requirement already satisfied: setuptools in /usr/local/lib/python3.10/dist-packages (from wandb) (67.7.2)\n",
            "Requirement already satisfied: appdirs>=1.4.3 in /usr/local/lib/python3.10/dist-packages (from wandb) (1.4.4)\n",
            "Requirement already satisfied: protobuf!=4.21.0,<5,>=3.19.0 in /usr/local/lib/python3.10/dist-packages (from wandb) (3.20.3)\n",
            "Requirement already satisfied: six>=1.4.0 in /usr/local/lib/python3.10/dist-packages (from docker-pycreds>=0.4.0->wandb) (1.16.0)\n",
            "Collecting gitdb<5,>=4.0.1 (from GitPython!=3.1.29,>=1.0.0->wandb)\n",
            "  Downloading gitdb-4.0.11-py3-none-any.whl (62 kB)\n",
            "\u001b[2K     \u001b[90m━━━━━━━━━━━━━━━━━━━━━━━━━━━━━━━━━━━━━━━━\u001b[0m \u001b[32m62.7/62.7 kB\u001b[0m \u001b[31m9.3 MB/s\u001b[0m eta \u001b[36m0:00:00\u001b[0m\n",
            "\u001b[?25hRequirement already satisfied: charset-normalizer<4,>=2 in /usr/local/lib/python3.10/dist-packages (from requests<3,>=2.0.0->wandb) (3.3.2)\n",
            "Requirement already satisfied: idna<4,>=2.5 in /usr/local/lib/python3.10/dist-packages (from requests<3,>=2.0.0->wandb) (3.6)\n",
            "Requirement already satisfied: urllib3<3,>=1.21.1 in /usr/local/lib/python3.10/dist-packages (from requests<3,>=2.0.0->wandb) (2.0.7)\n",
            "Requirement already satisfied: certifi>=2017.4.17 in /usr/local/lib/python3.10/dist-packages (from requests<3,>=2.0.0->wandb) (2023.11.17)\n",
            "Collecting smmap<6,>=3.0.1 (from gitdb<5,>=4.0.1->GitPython!=3.1.29,>=1.0.0->wandb)\n",
            "  Downloading smmap-5.0.1-py3-none-any.whl (24 kB)\n",
            "Installing collected packages: smmap, setproctitle, sentry-sdk, docker-pycreds, gitdb, GitPython, wandb\n",
            "Successfully installed GitPython-3.1.41 docker-pycreds-0.4.0 gitdb-4.0.11 sentry-sdk-1.39.2 setproctitle-1.3.3 smmap-5.0.1 wandb-0.16.2\n",
            "Collecting rasterio\n",
            "  Downloading rasterio-1.3.9-cp310-cp310-manylinux2014_x86_64.whl (20.6 MB)\n",
            "\u001b[2K     \u001b[90m━━━━━━━━━━━━━━━━━━━━━━━━━━━━━━━━━━━━━━━━\u001b[0m \u001b[32m20.6/20.6 MB\u001b[0m \u001b[31m56.0 MB/s\u001b[0m eta \u001b[36m0:00:00\u001b[0m\n",
            "\u001b[?25hCollecting affine (from rasterio)\n",
            "  Downloading affine-2.4.0-py3-none-any.whl (15 kB)\n",
            "Requirement already satisfied: attrs in /usr/local/lib/python3.10/dist-packages (from rasterio) (23.2.0)\n",
            "Requirement already satisfied: certifi in /usr/local/lib/python3.10/dist-packages (from rasterio) (2023.11.17)\n",
            "Requirement already satisfied: click>=4.0 in /usr/local/lib/python3.10/dist-packages (from rasterio) (8.1.7)\n",
            "Requirement already satisfied: cligj>=0.5 in /usr/local/lib/python3.10/dist-packages (from rasterio) (0.7.2)\n",
            "Requirement already satisfied: numpy in /usr/local/lib/python3.10/dist-packages (from rasterio) (1.23.5)\n",
            "Collecting snuggs>=1.4.1 (from rasterio)\n",
            "  Downloading snuggs-1.4.7-py3-none-any.whl (5.4 kB)\n",
            "Requirement already satisfied: click-plugins in /usr/local/lib/python3.10/dist-packages (from rasterio) (1.1.1)\n",
            "Requirement already satisfied: setuptools in /usr/local/lib/python3.10/dist-packages (from rasterio) (67.7.2)\n",
            "Requirement already satisfied: pyparsing>=2.1.6 in /usr/local/lib/python3.10/dist-packages (from snuggs>=1.4.1->rasterio) (3.1.1)\n",
            "Installing collected packages: snuggs, affine, rasterio\n",
            "Successfully installed affine-2.4.0 rasterio-1.3.9 snuggs-1.4.7\n",
            "Collecting timm\n",
            "  Downloading timm-0.9.12-py3-none-any.whl (2.2 MB)\n",
            "\u001b[2K     \u001b[90m━━━━━━━━━━━━━━━━━━━━━━━━━━━━━━━━━━━━━━━━\u001b[0m \u001b[32m2.2/2.2 MB\u001b[0m \u001b[31m5.6 MB/s\u001b[0m eta \u001b[36m0:00:00\u001b[0m\n",
            "\u001b[?25hRequirement already satisfied: torch>=1.7 in /usr/local/lib/python3.10/dist-packages (from timm) (2.1.0+cu121)\n",
            "Requirement already satisfied: torchvision in /usr/local/lib/python3.10/dist-packages (from timm) (0.16.0+cu121)\n",
            "Requirement already satisfied: pyyaml in /usr/local/lib/python3.10/dist-packages (from timm) (6.0.1)\n",
            "Requirement already satisfied: huggingface-hub in /usr/local/lib/python3.10/dist-packages (from timm) (0.20.2)\n",
            "Requirement already satisfied: safetensors in /usr/local/lib/python3.10/dist-packages (from timm) (0.4.1)\n",
            "Requirement already satisfied: filelock in /usr/local/lib/python3.10/dist-packages (from torch>=1.7->timm) (3.13.1)\n",
            "Requirement already satisfied: typing-extensions in /usr/local/lib/python3.10/dist-packages (from torch>=1.7->timm) (4.5.0)\n",
            "Requirement already satisfied: sympy in /usr/local/lib/python3.10/dist-packages (from torch>=1.7->timm) (1.12)\n",
            "Requirement already satisfied: networkx in /usr/local/lib/python3.10/dist-packages (from torch>=1.7->timm) (3.2.1)\n",
            "Requirement already satisfied: jinja2 in /usr/local/lib/python3.10/dist-packages (from torch>=1.7->timm) (3.1.2)\n",
            "Requirement already satisfied: fsspec in /usr/local/lib/python3.10/dist-packages (from torch>=1.7->timm) (2023.6.0)\n",
            "Requirement already satisfied: triton==2.1.0 in /usr/local/lib/python3.10/dist-packages (from torch>=1.7->timm) (2.1.0)\n",
            "Requirement already satisfied: requests in /usr/local/lib/python3.10/dist-packages (from huggingface-hub->timm) (2.31.0)\n",
            "Requirement already satisfied: tqdm>=4.42.1 in /usr/local/lib/python3.10/dist-packages (from huggingface-hub->timm) (4.66.1)\n",
            "Requirement already satisfied: packaging>=20.9 in /usr/local/lib/python3.10/dist-packages (from huggingface-hub->timm) (23.2)\n",
            "Requirement already satisfied: numpy in /usr/local/lib/python3.10/dist-packages (from torchvision->timm) (1.23.5)\n",
            "Requirement already satisfied: pillow!=8.3.*,>=5.3.0 in /usr/local/lib/python3.10/dist-packages (from torchvision->timm) (9.4.0)\n",
            "Requirement already satisfied: MarkupSafe>=2.0 in /usr/local/lib/python3.10/dist-packages (from jinja2->torch>=1.7->timm) (2.1.3)\n",
            "Requirement already satisfied: charset-normalizer<4,>=2 in /usr/local/lib/python3.10/dist-packages (from requests->huggingface-hub->timm) (3.3.2)\n",
            "Requirement already satisfied: idna<4,>=2.5 in /usr/local/lib/python3.10/dist-packages (from requests->huggingface-hub->timm) (3.6)\n",
            "Requirement already satisfied: urllib3<3,>=1.21.1 in /usr/local/lib/python3.10/dist-packages (from requests->huggingface-hub->timm) (2.0.7)\n",
            "Requirement already satisfied: certifi>=2017.4.17 in /usr/local/lib/python3.10/dist-packages (from requests->huggingface-hub->timm) (2023.11.17)\n",
            "Requirement already satisfied: mpmath>=0.19 in /usr/local/lib/python3.10/dist-packages (from sympy->torch>=1.7->timm) (1.3.0)\n",
            "Installing collected packages: timm\n",
            "Successfully installed timm-0.9.12\n",
            "Collecting einops\n",
            "  Downloading einops-0.7.0-py3-none-any.whl (44 kB)\n",
            "\u001b[2K     \u001b[90m━━━━━━━━━━━━━━━━━━━━━━━━━━━━━━━━━━━━━━━━\u001b[0m \u001b[32m44.6/44.6 kB\u001b[0m \u001b[31m1.7 MB/s\u001b[0m eta \u001b[36m0:00:00\u001b[0m\n",
            "\u001b[?25hInstalling collected packages: einops\n",
            "Successfully installed einops-0.7.0\n",
            "Collecting diffdist\n",
            "  Downloading diffdist-0.1.tar.gz (4.6 kB)\n",
            "  Preparing metadata (setup.py) ... \u001b[?25l\u001b[?25hdone\n",
            "Building wheels for collected packages: diffdist\n",
            "  Building wheel for diffdist (setup.py) ... \u001b[?25l\u001b[?25hdone\n",
            "  Created wheel for diffdist: filename=diffdist-0.1-py3-none-any.whl size=6534 sha256=ecd84bb4a4af0aee4c8c7264998a846b4ac07f069464dd698bded27a12a3527c\n",
            "  Stored in directory: /root/.cache/pip/wheels/f1/29/f6/5331a14ab74e769799b76eb32460f447c7feb7375a16b07854\n",
            "Successfully built diffdist\n",
            "Installing collected packages: diffdist\n",
            "Successfully installed diffdist-0.1\n",
            "Collecting GPUtil\n",
            "  Downloading GPUtil-1.4.0.tar.gz (5.5 kB)\n",
            "  Preparing metadata (setup.py) ... \u001b[?25l\u001b[?25hdone\n",
            "Building wheels for collected packages: GPUtil\n",
            "  Building wheel for GPUtil (setup.py) ... \u001b[?25l\u001b[?25hdone\n",
            "  Created wheel for GPUtil: filename=GPUtil-1.4.0-py3-none-any.whl size=7393 sha256=3d723ccc5f5d373cfda5d642125a4165a72979c7246b6bef62688fb6f8ebee52\n",
            "  Stored in directory: /root/.cache/pip/wheels/a9/8a/bd/81082387151853ab8b6b3ef33426e98f5cbfebc3c397a9d4d0\n",
            "Successfully built GPUtil\n",
            "Installing collected packages: GPUtil\n",
            "Successfully installed GPUtil-1.4.0\n"
          ]
        }
      ],
      "source": [
        "!pip install wandb\n",
        "!pip install rasterio\n",
        "!pip install timm\n",
        "!pip install einops\n",
        "!pip install diffdist\n",
        "!pip install GPUtil"
      ]
    },
    {
      "cell_type": "code",
      "execution_count": 5,
      "metadata": {
        "id": "vLkB5HpsChJy"
      },
      "outputs": [],
      "source": [
        "# Import needed packages\n",
        "import json\n",
        "import random\n",
        "import numpy as np\n",
        "import torch\n",
        "from tqdm import tqdm\n",
        "import numpy as np\n",
        "import torch.nn as nn\n",
        "import matplotlib.pyplot as plt\n",
        "from sklearn.metrics import confusion_matrix\n",
        "import matplotlib.pyplot as plt\n",
        "import seaborn as sns\n",
        "import sys\n",
        "import psutil\n",
        "import GPUtil\n",
        "sys.path.append('../..')\n",
        "from tools.utils_Flair1 import *\n",
        "from tools.metrics import PixelwiseMetrics\n",
        "from Transformer_SSL.models import build_model\n",
        "from Transformer_SSL.models.swin_transformer import SwinTransformerDecoder\n",
        "import csv"
      ]
    },
    {
      "cell_type": "markdown",
      "metadata": {
        "id": "FB8Ln4Q6ChJ1"
      },
      "source": [
        "### Quick Start\n",
        "You can specify in the some hyperparameters in train_config (cell below), such as the learning_rate, the batch_size, number of epochs, or if you wish to fine-tune the model or not (with the finetuning argument), etc."
      ]
    },
    {
      "cell_type": "code",
      "execution_count": 6,
      "metadata": {
        "id": "tGctZOdHChJ1"
      },
      "outputs": [],
      "source": [
        "# Data configurations:\n",
        "data_config = {\n",
        "    'train_dir': '../../drive/MyDrive/MVA/flair1_fullset_13classes/train', # path to the training directory,\n",
        "    'val_dir': '../../drive/MyDrive/MVA/flair1_fullset_13classes/val', # path to the validation directory,\n",
        "    'test_dir': '../../drive/MyDrive/MVA/flair1_fullset_13classes/test', # path to the validation directory,\n",
        "    'train_mode': 'validation', # can be one of the following: 'test', 'validation'\n",
        "    'val_mode': 'test', # can be one of the following: 'test', 'validation'\n",
        "    'num_classes': 13, # number of classes in the dataset.\n",
        "    'clip_sample_values': True, # clip (limit) values\n",
        "    'train_used_data_fraction': 1, # fraction of data to use, should be in the range [0, 1]\n",
        "    'val_used_data_fraction': 1,\n",
        "    'image_px_size': 224, # image size (224x224)\n",
        "    'cover_all_parts_train': True, # if True, if image_px_size is not 224 during training, we use a random crop of the image\n",
        "    'cover_all_parts_validation': True, # if True, if image_px_size is not 224 during validation, we use a non-overlapping sliding window to cover the entire image\n",
        "    'seed': 42,\n",
        "}"
      ]
    },
    {
      "cell_type": "code",
      "execution_count": 7,
      "metadata": {
        "id": "zpgubM7VChJ2"
      },
      "outputs": [],
      "source": [
        "# Ensure deterministic behavior\n",
        "random.seed(data_config['seed'])\n",
        "np.random.seed(data_config['seed'])\n",
        "torch.manual_seed(data_config['seed'])\n",
        "torch.cuda.manual_seed_all(data_config['seed'])"
      ]
    },
    {
      "cell_type": "markdown",
      "metadata": {
        "id": "sfriqPvoChJ2"
      },
      "source": [
        "#### Prepare\n",
        "\n",
        "We create the `train_dataset` and `val_dataset` by using the `DFCDataset`, a custom class of `torch.utils.data.Dataset`"
      ]
    },
    {
      "cell_type": "code",
      "execution_count": 8,
      "metadata": {
        "id": "iwpueZvTChJ3"
      },
      "outputs": [],
      "source": [
        "#from dfc_dataset import DFCDataset\n",
        "size = 224\n",
        "multimodal = True\n",
        "train_dataset = Flair1Dataset_SSL(data_config['train_dir'], size, multimodal)\n",
        "val_dataset = Flair1Dataset_SSL(data_config['val_dir'], size, multimodal)\n",
        "test_dataset = Flair1Dataset_SSL(data_config['test_dir'], size, multimodal)"
      ]
    },
    {
      "cell_type": "markdown",
      "metadata": {
        "id": "wDu1b8JiChJ3"
      },
      "source": [
        "We can see how many examples are in each split by checking their length:"
      ]
    },
    {
      "cell_type": "code",
      "execution_count": 9,
      "metadata": {
        "colab": {
          "base_uri": "https://localhost:8080/"
        },
        "id": "5sTRJYtGChJ4",
        "outputId": "cfe33208-7b03-4bb9-b622-82b3a02d1648"
      },
      "outputs": [
        {
          "output_type": "execute_result",
          "data": {
            "text/plain": [
              "(1664, 416)"
            ]
          },
          "metadata": {},
          "execution_count": 9
        }
      ],
      "source": [
        "len(train_dataset), len(val_dataset)"
      ]
    },
    {
      "cell_type": "code",
      "execution_count": 9,
      "metadata": {
        "colab": {
          "base_uri": "https://localhost:8080/"
        },
        "id": "FPnUbixCChJ4",
        "outputId": "6d89209c-a276-45e4-fc0b-60b7fc9bd79f"
      },
      "outputs": [
        {
          "output_type": "stream",
          "name": "stdout",
          "text": [
            "torch.Size([3, 224, 224])\n",
            "torch.Size([2, 224, 224])\n"
          ]
        }
      ],
      "source": [
        "#loop on train_ds and check shape of rgb and ir_el\n",
        "rgb = train_dataset[0][0]['rgb']\n",
        "ir_el = train_dataset[0][0]['ir_el']\n",
        "print(rgb.shape)\n",
        "print(ir_el.shape)"
      ]
    },
    {
      "cell_type": "markdown",
      "metadata": {
        "id": "J0rW0IIBChJ4"
      },
      "source": [
        "We define a correspondance of label and names:"
      ]
    },
    {
      "cell_type": "code",
      "execution_count": 10,
      "metadata": {
        "id": "fGzvWHplChJ4"
      },
      "outputs": [],
      "source": [
        "dict_classes_13 = {\n",
        "1   : 'building',\n",
        "2   : 'pervious surface',\n",
        "3   : 'impervious surface',\n",
        "4   : 'bare soil',\n",
        "5   : 'water',\n",
        "6   : 'coniferous',\n",
        "7   : 'deciduous',\n",
        "8   : 'brushwood',\n",
        "9   : 'vineyard',\n",
        "10  : 'herbaceous vegetation',\n",
        "11  : 'agricultural land',\n",
        "12  : 'plowed land',\n",
        "13  : 'other'}"
      ]
    },
    {
      "cell_type": "markdown",
      "metadata": {
        "id": "v-9pqkDzChJ5"
      },
      "source": [
        "Our data is now ready to be used by the model. In the next section we load and configure the model."
      ]
    },
    {
      "cell_type": "markdown",
      "metadata": {
        "id": "sWtNgCbYChJ5"
      },
      "source": [
        "<a id='quickstart'></a>\n",
        "## 3. Quick Start\n",
        "\n",
        "#### Configure\n",
        "\n",
        "You can specify in the some hyperparameters in `train_config` (cell below), such as the `learning_rate`, the `batch_size`, number of `epochs`, or if you wish to fine-tune the model or not (with the `finetuning` argument), etc."
      ]
    },
    {
      "cell_type": "code",
      "execution_count": 11,
      "metadata": {
        "id": "YG5GPOngChJ5"
      },
      "outputs": [],
      "source": [
        "# Training configurations\n",
        "train_config = {\n",
        "    's1_input_channels': 2,\n",
        "    's2_input_channels': 13,\n",
        "    'finetuning': False, # If false, backbone layers is frozen and only the head is trained\n",
        "    'classifier_lr': 3e-6,\n",
        "    'learning_rate': 0.00001,\n",
        "    'adam_betas': (0.9, 0.999),\n",
        "    'weight_decay': 0.001,\n",
        "    'dataloader_workers': 4,\n",
        "    'batch_size': 16,\n",
        "    'epochs': 60,\n",
        "    'target': 'dfc_label'\n",
        "}"
      ]
    },
    {
      "cell_type": "markdown",
      "metadata": {
        "id": "v4rdvUUFChJ5"
      },
      "source": [
        "#### Download checkpoint\n",
        "\n",
        "You can download the pre-trained backbone model using this [link](https://drive.google.com/file/d/1e7QhC2-zoBFgb65yN1ADWBZLMShHOweY/view), save it in the `checkpoints/` directory then run the following cell.\n",
        "\n",
        "Make sure to properly modify the path to the downloaded checkpoint in the path below.\n",
        "\n",
        "In the case where you are using a uni-modal dataset (Sentinel-2 only or Sentinel-1 only), you can load the corresponding weight stream `s1_weights` or `s2_weights`, and comment the other one."
      ]
    },
    {
      "cell_type": "code",
      "execution_count": 12,
      "metadata": {
        "id": "NBf_uadVChJ5"
      },
      "outputs": [],
      "source": [
        "# path to the checkpoint\n",
        "checkpoint = torch.load(\n",
        "    \"../../drive/MyDrive/MVA/swin_t.pth\",#, map_location=torch.device('cpu') #comment map_location if using GPU\n",
        ")\n",
        "weights = checkpoint[\"state_dict\"]\n",
        "\n",
        "# Sentinel-1 stream weights\n",
        "s1_weights = {\n",
        "    k[len(\"backbone1.\"):]: v for k, v in weights.items() if \"backbone1\" in k\n",
        "}\n",
        "\n",
        "# Sentinel-2 stream weights\n",
        "s2_weights = {\n",
        "    k[len(\"backbone2.\"):]: v for k, v in weights.items() if \"backbone2\" in k\n",
        "}"
      ]
    },
    {
      "cell_type": "markdown",
      "metadata": {
        "id": "Uab4GR9aChJ6"
      },
      "source": [
        "#### Prepare model and load checkpoint\n",
        "\n",
        "We prepare the model by specifying the `input_channels`: only sentinel1, only sentinel2 or both. We also specify if we need both backbones `s1_backbone` and `s2_backbone` depending on our application. In the case where only one stream is needed, just comment the lines `s1_backbone` or `s2_backbone`."
      ]
    },
    {
      "cell_type": "code",
      "execution_count": 13,
      "metadata": {
        "id": "qi3F8OOOChJ6"
      },
      "outputs": [],
      "source": [
        "class dotdict(dict):\n",
        "    \"\"\"dot.notation access to dictionary attributes\"\"\"\n",
        "\n",
        "    __getattr__ = dict.get\n",
        "    __setattr__ = dict.__setitem__\n",
        "    __delattr__ = dict.__delitem__\n",
        "\n",
        "def dotdictify(d):\n",
        "    \"\"\"recursively wrap a dictionary and\n",
        "    all the dictionaries that it contains\n",
        "    with the dotdict class\n",
        "    \"\"\"\n",
        "    d = dotdict(d)\n",
        "    for k, v in d.items():\n",
        "        if isinstance(v, dict):\n",
        "            d[k] = dotdictify(v)\n",
        "    return d"
      ]
    },
    {
      "cell_type": "code",
      "execution_count": 14,
      "metadata": {
        "colab": {
          "base_uri": "https://localhost:8080/"
        },
        "id": "xU2D5n_xChJ6",
        "outputId": "708bc97a-734c-4ae6-ccde-1fe9243007ca"
      },
      "outputs": [
        {
          "output_type": "stream",
          "name": "stderr",
          "text": [
            "/usr/local/lib/python3.10/dist-packages/torch/functional.py:504: UserWarning: torch.meshgrid: in an upcoming release, it will be required to pass the indexing argument. (Triggered internally at ../aten/src/ATen/native/TensorShape.cpp:3526.)\n",
            "  return _VF.meshgrid(tensors, **kwargs)  # type: ignore[attr-defined]\n"
          ]
        },
        {
          "output_type": "execute_result",
          "data": {
            "text/plain": [
              "<All keys matched successfully>"
            ]
          },
          "metadata": {},
          "execution_count": 14
        }
      ],
      "source": [
        "if torch.cuda.is_available():\n",
        "    device = torch.device(\"cuda\")\n",
        "else:\n",
        "    device = torch.device(\"cpu:0\")\n",
        "\n",
        "with open(\"configs/backbone_config.json\", \"r\") as fp:\n",
        "    swin_conf = dotdictify(json.load(fp))\n",
        "\n",
        "s1_backbone = build_model(swin_conf.model_config)\n",
        "\n",
        "swin_conf.model_config.MODEL.SWIN.IN_CHANS = 13\n",
        "s2_backbone = build_model(swin_conf.model_config)\n",
        "\n",
        "s1_backbone.load_state_dict(s1_weights)\n",
        "s2_backbone.load_state_dict(s2_weights)"
      ]
    },
    {
      "cell_type": "markdown",
      "metadata": {
        "id": "2I93RUQ4ChJ7"
      },
      "source": [
        "We create the downstream model head that will be trained. In this demo, we will train a classifier. You can find a segmentation head in the repository (/TransformerSSL/models/swin_transformer/DoubleSwinTransformerSegmentation). Our classifier takes as input the pre-trained backbone (in the form of two streams `encoder1` and `encoder2`), the `out_dim` (number of classes), and `freeze_layers` flag, specifying whether you wish to freeze the backbone weights or not."
      ]
    },
    {
      "cell_type": "code",
      "execution_count": 15,
      "metadata": {
        "id": "s1qCJdwJChJ7"
      },
      "outputs": [],
      "source": [
        "class DoubleSwinTransformerSegmentation(nn.Module):\n",
        "    def __init__(self, encoder1, encoder2, out_dim, device, freeze_layers=False):\n",
        "        super(DoubleSwinTransformerSegmentation, self).__init__()\n",
        "\n",
        "        self.device = device\n",
        "\n",
        "        self.backbone1 = encoder1\n",
        "        self.backbone2 = encoder2\n",
        "\n",
        "        self.decoder1 = SwinTransformerDecoder(self.backbone1, out_dim, device)\n",
        "        self.decoder2 = SwinTransformerDecoder(self.backbone2, out_dim, device)\n",
        "\n",
        "        # freeze all backbone layers\n",
        "        if freeze_layers:\n",
        "            for name, param in self.named_parameters():\n",
        "                if name.startswith(('backbone')):\n",
        "                    param.requires_grad = False\n",
        "\n",
        "        self.expand_channels = torch.nn.Conv2d(3, 13, kernel_size=1, stride=1, padding=0)\n",
        "\n",
        "    def forward(self, x):\n",
        "        expanded_rgb = self.expand_channels(x[\"rgb\"].to(self.device))\n",
        "        _, x2, x_seg2 = self.backbone2.forward_features(expanded_rgb)\n",
        "\n",
        "        _, x1, x_seg1 = self.backbone1.forward_features(x[\"ir_el\"].to(self.device))\n",
        "\n",
        "        x1 = self.decoder1.forward_up_features(x1, x_seg1)\n",
        "        x2 = self.decoder2.forward_up_features(x2, x_seg2)\n",
        "\n",
        "        x = torch.cat([x1, x2], dim=-1)\n",
        "\n",
        "        output = self.decoder1.up_x4(x)\n",
        "\n",
        "        return output"
      ]
    },
    {
      "cell_type": "code",
      "execution_count": 16,
      "metadata": {
        "id": "K2LOU6AaChJ7"
      },
      "outputs": [],
      "source": [
        "model = DoubleSwinTransformerSegmentation(\n",
        "        s1_backbone, s2_backbone, out_dim=data_config['num_classes'], device=device\n",
        "    )\n",
        "\n",
        "model = model.to(device)"
      ]
    },
    {
      "cell_type": "markdown",
      "metadata": {
        "id": "BFA80ExNChJ7"
      },
      "source": [
        "Define and initialise the loss for training. Here we are training for single-class classification and using a `torch.nn.CrossEntropyLoss` loss."
      ]
    },
    {
      "cell_type": "code",
      "execution_count": 17,
      "metadata": {
        "id": "fkuesPWXChJ8"
      },
      "outputs": [],
      "source": [
        "criterion = torch.nn.CrossEntropyLoss(ignore_index=255, reduction=\"mean\").to(device)"
      ]
    },
    {
      "cell_type": "markdown",
      "metadata": {
        "id": "Exy91QPfChJ8"
      },
      "source": [
        "Define the trainable parameters (needed for the optimizer):"
      ]
    },
    {
      "cell_type": "code",
      "execution_count": 18,
      "metadata": {
        "colab": {
          "base_uri": "https://localhost:8080/"
        },
        "id": "X6unpRvlChJ8",
        "outputId": "24ca70b2-4e97-433b-9d61-3c5485ecd4ff"
      },
      "outputs": [
        {
          "output_type": "stream",
          "name": "stdout",
          "text": [
            "Frozen backbone\n"
          ]
        }
      ],
      "source": [
        "if train_config['finetuning']:\n",
        "    # train all parameters (backbone + classifier head)\n",
        "    param_backbone = []\n",
        "    param_head = []\n",
        "    for p in model.parameters():\n",
        "        if p.requires_grad:\n",
        "            param_head.append(p)\n",
        "        else:\n",
        "            param_backbone.append(p)\n",
        "        p.requires_grad = True\n",
        "    # parameters = model.parameters()\n",
        "    parameters = [\n",
        "        {\"params\": param_backbone},  # train with default lr\n",
        "        {\n",
        "            \"params\": param_head,\n",
        "            \"lr\": train_config['classifier_lr'],\n",
        "        },  # train with classifier lr\n",
        "    ]\n",
        "    print(\"Finetuning\")\n",
        "\n",
        "else:\n",
        "    # train only final linear layer for SSL methods\n",
        "    print(\"Frozen backbone\")\n",
        "    parameters = list(filter(lambda p: p.requires_grad, model.parameters()))"
      ]
    },
    {
      "cell_type": "markdown",
      "metadata": {
        "id": "xa-UGs7-ChJ8"
      },
      "source": [
        "Initialise the selected optimizer. In this work we chose Adam optimizer. You can initialise any optimizer you want."
      ]
    },
    {
      "cell_type": "code",
      "execution_count": 19,
      "metadata": {
        "id": "_rnjKOr1ChJ8"
      },
      "outputs": [],
      "source": [
        "optimizer = torch.optim.Adam(\n",
        "    parameters,\n",
        "    lr=train_config['learning_rate'],\n",
        "    betas=train_config['adam_betas'],\n",
        "    weight_decay=train_config['weight_decay'],\n",
        ")"
      ]
    },
    {
      "cell_type": "markdown",
      "metadata": {
        "id": "-1fV7EhdChJ9"
      },
      "source": [
        "We load the data (training and validation) using pytorch's dataloader"
      ]
    },
    {
      "cell_type": "code",
      "execution_count": 20,
      "metadata": {
        "id": "bVEk9Y5mChJ9",
        "colab": {
          "base_uri": "https://localhost:8080/"
        },
        "outputId": "e97d94dd-1b55-40e2-dc80-64ee2339db4a"
      },
      "outputs": [
        {
          "output_type": "stream",
          "name": "stderr",
          "text": [
            "/usr/local/lib/python3.10/dist-packages/torch/utils/data/dataloader.py:557: UserWarning: This DataLoader will create 4 worker processes in total. Our suggested max number of worker in current system is 2, which is smaller than what this DataLoader is going to create. Please be aware that excessive worker creation might get DataLoader running slow or even freeze, lower the worker number to avoid potential slowness/freeze if necessary.\n",
            "  warnings.warn(_create_warning_msg(\n"
          ]
        }
      ],
      "source": [
        "train_loader = torch.utils.data.DataLoader(\n",
        "    train_dataset,\n",
        "    batch_size=train_config['batch_size'],\n",
        "    shuffle=True,\n",
        "    pin_memory=True,\n",
        "    num_workers=train_config['dataloader_workers'],\n",
        ")\n",
        "\n",
        "val_loader = torch.utils.data.DataLoader(\n",
        "    val_dataset,\n",
        "    batch_size=train_config['batch_size'],\n",
        "    shuffle=False,\n",
        "    num_workers=train_config['dataloader_workers'],\n",
        ")\n",
        "\n",
        "test_loader = torch.utils.data.DataLoader(\n",
        "    test_dataset,\n",
        "    batch_size=train_config['batch_size'],\n",
        "    shuffle=False,\n",
        "    num_workers=train_config['dataloader_workers'],\n",
        ")"
      ]
    },
    {
      "cell_type": "markdown",
      "metadata": {
        "id": "-Yab7_LqChJ9"
      },
      "source": [
        "Everything is set and we are now ready to train the segmentation head:"
      ]
    },
    {
      "cell_type": "code",
      "execution_count": 27,
      "metadata": {
        "colab": {
          "base_uri": "https://localhost:8080/",
          "height": 1000
        },
        "id": "fANa6SNqChJ9",
        "outputId": "e9eddcca-8e31-444b-e274-287b16d55b36"
      },
      "outputs": [
        {
          "output_type": "stream",
          "name": "stderr",
          "text": [
            "\r  0%|          | 0/104 [00:00<?, ?it/s]/usr/local/lib/python3.10/dist-packages/torch/utils/data/dataloader.py:557: UserWarning: This DataLoader will create 4 worker processes in total. Our suggested max number of worker in current system is 2, which is smaller than what this DataLoader is going to create. Please be aware that excessive worker creation might get DataLoader running slow or even freeze, lower the worker number to avoid potential slowness/freeze if necessary.\n",
            "  warnings.warn(_create_warning_msg(\n",
            "Epoch:0, Training Loss:2.271: 100%|██████████| 104/104 [10:22<00:00,  5.98s/it]\n"
          ]
        },
        {
          "output_type": "stream",
          "name": "stdout",
          "text": [
            "{'train_loss': 2.2857770919799805, 'train_average_accuracy': 0.09757708621528634, 'train_mIoU': 0.051961727165734245, 'train_accuracy_pixelclass_0': 0.010105386278941026, 'train_accuracy_pixelclass_1': 0.013675079444485438, 'train_accuracy_pixelclass_2': 0.03513907093094926, 'train_accuracy_pixelclass_3': 0.008048923818072623, 'train_accuracy_pixelclass_4': 0.014842444605740008, 'train_accuracy_pixelclass_5': 0.021925479651456643, 'train_accuracy_pixelclass_6': 0.2824990281408804, 'train_accuracy_pixelclass_7': 0.03097990556143217, 'train_accuracy_pixelclass_8': 0.04722404274383261, 'train_accuracy_pixelclass_9': 0.747034488737236, 'train_accuracy_pixelclass_10': 0.03470004896422706, 'train_accuracy_pixelclass_11': 0.0028283376679886867, 'train_accuracy_pixelclass_12': 0.01949988425348034, 'train_IoU_class_0': 0.00873090598248244, 'train_IoU_class_1': 0.010931727569746943, 'train_IoU_class_2': 0.026739570858732745, 'train_IoU_class_3': 0.003888811928019539, 'train_IoU_class_4': 0.010658087307018676, 'train_IoU_class_5': 0.0131552024035673, 'train_IoU_class_6': 0.21513811320161874, 'train_IoU_class_7': 0.021448183794793917, 'train_IoU_class_8': 0.03269389379344179, 'train_IoU_class_9': 0.29970014813937884, 'train_IoU_class_10': 0.02779109979298558, 'train_IoU_class_11': 0.0017341160719639814, 'train_IoU_class_12': 0.0028925923107947695}\n"
          ]
        },
        {
          "output_type": "stream",
          "name": "stderr",
          "text": [
            "Validation Loss:2.057: 100%|██████████| 26/26 [00:49<00:00,  1.91s/it]\n"
          ]
        },
        {
          "output_type": "stream",
          "name": "stdout",
          "text": [
            "Epoch:0 {'validation_loss': 2.0570242404937744, 'validation_average_accuracy': 0.1196552935359986, 'validation_mIoU': 0.059062951078334654, 'validation_accuracy_pixelclass_0': 0.00024438593993155177, 'validation_accuracy_pixelclass_1': 0.0005967899625224051, 'validation_accuracy_pixelclass_2': 0.0024325827078120654, 'validation_accuracy_pixelclass_3': 8.344354835345018e-06, 'validation_accuracy_pixelclass_4': 0.006989739371541334, 'validation_accuracy_pixelclass_5': 0.005439903804464074, 'validation_accuracy_pixelclass_6': 0.5984837267715295, 'validation_accuracy_pixelclass_7': 0.003751539276611587, 'validation_accuracy_pixelclass_8': 0.002227598532681609, 'validation_accuracy_pixelclass_9': 0.9284512886761594, 'validation_accuracy_pixelclass_10': 0.00688852322493178, 'validation_accuracy_pixelclass_11': 4.393344961052997e-06, 'validation_accuracy_pixelclass_12': 0.0, 'train_IoU_class_0': 0.00024365024309649255, 'train_IoU_class_1': 0.0005810857577467359, 'train_IoU_class_2': 0.002329246324702823, 'train_IoU_class_3': 8.283151242058528e-06, 'train_IoU_class_4': 0.006857142857142857, 'train_IoU_class_5': 0.00525143842534977, 'train_IoU_class_6': 0.3876569329422884, 'train_IoU_class_7': 0.003614643299040936, 'train_IoU_class_8': 0.002173659300217881, 'train_IoU_class_9': 0.3525082527952225, 'train_IoU_class_10': 0.006589665044732828, 'train_IoU_class_11': 4.363877567050979e-06, 'train_IoU_class_12': 0.0}\n"
          ]
        },
        {
          "output_type": "stream",
          "name": "stderr",
          "text": [
            "Epoch:1, Training Loss:1.966: 100%|██████████| 104/104 [07:59<00:00,  4.61s/it]\n"
          ]
        },
        {
          "output_type": "stream",
          "name": "stdout",
          "text": [
            "{'train_loss': 1.9710967540740967, 'train_average_accuracy': 0.13061658942802365, 'train_mIoU': 0.0641904163552531, 'train_accuracy_pixelclass_0': 0.006631003609834687, 'train_accuracy_pixelclass_1': 0.0003741218685063173, 'train_accuracy_pixelclass_2': 0.005992764806759189, 'train_accuracy_pixelclass_3': 1.5498569611179635e-05, 'train_accuracy_pixelclass_4': 0.015535817532502452, 'train_accuracy_pixelclass_5': 0.0005527789511990355, 'train_accuracy_pixelclass_6': 0.7323418820299148, 'train_accuracy_pixelclass_7': 0.0021930993273741755, 'train_accuracy_pixelclass_8': 0.003106256003044085, 'train_accuracy_pixelclass_9': 0.9206015642472708, 'train_accuracy_pixelclass_10': 0.010665338537088379, 'train_accuracy_pixelclass_11': 9.98001999996008e-07, 'train_accuracy_pixelclass_12': 4.539079202393002e-06, 'train_IoU_class_0': 0.006587001348838404, 'train_IoU_class_1': 0.00037253127813504283, 'train_IoU_class_2': 0.005712490057339206, 'train_IoU_class_3': 1.5292312554478862e-05, 'train_IoU_class_4': 0.015426697985805277, 'train_IoU_class_5': 0.0005473918018726174, 'train_IoU_class_6': 0.44002447507864995, 'train_IoU_class_7': 0.002133316390614385, 'train_IoU_class_8': 0.0030538636808678495, 'train_IoU_class_9': 0.3503916913240837, 'train_IoU_class_10': 0.010205132426804066, 'train_IoU_class_11': 9.946695657968945e-07, 'train_IoU_class_12': 4.5342631595652545e-06}\n"
          ]
        },
        {
          "output_type": "stream",
          "name": "stderr",
          "text": [
            "Validation Loss:1.856: 100%|██████████| 26/26 [00:30<00:00,  1.18s/it]\n"
          ]
        },
        {
          "output_type": "stream",
          "name": "stdout",
          "text": [
            "Epoch:1 {'validation_loss': 1.8556005954742432, 'validation_average_accuracy': 0.13806462706438472, 'validation_mIoU': 0.06978603342535399, 'validation_accuracy_pixelclass_0': 0.0173140369426713, 'validation_accuracy_pixelclass_1': 0.000784177937102819, 'validation_accuracy_pixelclass_2': 0.009371471691261993, 'validation_accuracy_pixelclass_3': 4.172177417672509e-06, 'validation_accuracy_pixelclass_4': 0.04552341305240502, 'validation_accuracy_pixelclass_5': 0.0, 'validation_accuracy_pixelclass_6': 0.8144598442369273, 'validation_accuracy_pixelclass_7': 0.004112525076831947, 'validation_accuracy_pixelclass_8': 0.00987965456097721, 'validation_accuracy_pixelclass_9': 0.8884277546248542, 'validation_accuracy_pixelclass_10': 0.004963101536551934, 'validation_accuracy_pixelclass_11': 0.0, 'validation_accuracy_pixelclass_12': 0.0, 'train_IoU_class_0': 0.017024517489725215, 'train_IoU_class_1': 0.0007811168550815202, 'train_IoU_class_2': 0.008676243612426976, 'train_IoU_class_3': 4.138421936947003e-06, 'train_IoU_class_4': 0.04448880955166501, 'train_IoU_class_5': 0.0, 'train_IoU_class_6': 0.4525228045845797, 'train_IoU_class_7': 0.0040523410679556135, 'train_IoU_class_8': 0.009557259892918302, 'train_IoU_class_9': 0.36534805101278167, 'train_IoU_class_10': 0.004763152040530746, 'train_IoU_class_11': 0.0, 'train_IoU_class_12': 0.0}\n",
            "For now best val loss at epoch:  1\n"
          ]
        },
        {
          "output_type": "stream",
          "name": "stderr",
          "text": [
            "Epoch:2, Training Loss:1.811: 100%|██████████| 104/104 [08:24<00:00,  4.85s/it]\n"
          ]
        },
        {
          "output_type": "stream",
          "name": "stdout",
          "text": [
            "{'train_loss': 1.8160898685455322, 'train_average_accuracy': 0.14467271254621664, 'train_mIoU': 0.07545371094606361, 'train_accuracy_pixelclass_0': 0.051999491990919335, 'train_accuracy_pixelclass_1': 0.0009784031494833485, 'train_accuracy_pixelclass_2': 0.011890395093425293, 'train_accuracy_pixelclass_3': 5.166189870393212e-06, 'train_accuracy_pixelclass_4': 0.0651554170436093, 'train_accuracy_pixelclass_5': 7.4484170517675624e-06, 'train_accuracy_pixelclass_6': 0.8145724081967249, 'train_accuracy_pixelclass_7': 0.0041218855055729165, 'train_accuracy_pixelclass_8': 0.014420545960759052, 'train_accuracy_pixelclass_9': 0.9070214401141505, 'train_accuracy_pixelclass_10': 0.010572661439249384, 'train_accuracy_pixelclass_11': 0.0, 'train_accuracy_pixelclass_12': 0.0, 'train_IoU_class_0': 0.05022213813987593, 'train_IoU_class_1': 0.0009719758906939585, 'train_IoU_class_2': 0.011059083800117251, 'train_IoU_class_3': 5.121481542180522e-06, 'train_IoU_class_4': 0.06341157349942646, 'train_IoU_class_5': 7.43007897643232e-06, 'train_IoU_class_6': 0.46795499749839853, 'train_IoU_class_7': 0.00403879749292494, 'train_IoU_class_8': 0.01363763804090121, 'train_IoU_class_9': 0.35953308210366147, 'train_IoU_class_10': 0.010056404272308483, 'train_IoU_class_11': 0.0, 'train_IoU_class_12': 0.0}\n"
          ]
        },
        {
          "output_type": "stream",
          "name": "stderr",
          "text": [
            "Validation Loss:1.756: 100%|██████████| 26/26 [00:29<00:00,  1.13s/it]\n"
          ]
        },
        {
          "output_type": "stream",
          "name": "stdout",
          "text": [
            "Epoch:2 {'validation_loss': 1.7561147212982178, 'validation_average_accuracy': 0.14634952462349968, 'validation_mIoU': 0.08283532137672599, 'validation_accuracy_pixelclass_0': 0.0911620147500043, 'validation_accuracy_pixelclass_1': 0.0010489652924881865, 'validation_accuracy_pixelclass_2': 0.013896217369349742, 'validation_accuracy_pixelclass_3': 0.00012099314511250277, 'validation_accuracy_pixelclass_4': 0.07765561824437828, 'validation_accuracy_pixelclass_5': 1.926993908772254e-06, 'validation_accuracy_pixelclass_6': 0.7442048200112202, 'validation_accuracy_pixelclass_7': 0.0008041165946453522, 'validation_accuracy_pixelclass_8': 0.010397414367336216, 'validation_accuracy_pixelclass_9': 0.9341783331778778, 'validation_accuracy_pixelclass_10': 0.029073400159174423, 'validation_accuracy_pixelclass_11': 0.0, 'validation_accuracy_pixelclass_12': 0.0, 'train_IoU_class_0': 0.08527408582953118, 'train_IoU_class_1': 0.0010441312726439634, 'train_IoU_class_2': 0.01279201603408767, 'train_IoU_class_3': 0.00012071161578741436, 'train_IoU_class_4': 0.07690326890202473, 'train_IoU_class_5': 1.9251872244575787e-06, 'train_IoU_class_6': 0.4882665856918089, 'train_IoU_class_7': 0.0007867466734698994, 'train_IoU_class_8': 0.009619296747601414, 'train_IoU_class_9': 0.3757758325639501, 'train_IoU_class_10': 0.02627457737930825, 'train_IoU_class_11': 0.0, 'train_IoU_class_12': 0.0}\n",
            "For now best val loss at epoch:  2\n"
          ]
        },
        {
          "output_type": "stream",
          "name": "stderr",
          "text": [
            "Epoch:3, Training Loss:1.712: 100%|██████████| 104/104 [08:03<00:00,  4.65s/it]\n"
          ]
        },
        {
          "output_type": "stream",
          "name": "stdout",
          "text": [
            "{'train_loss': 1.7144242525100708, 'train_average_accuracy': 0.16748247208317973, 'train_mIoU': 0.0982517887599229, 'train_accuracy_pixelclass_0': 0.19343418747481078, 'train_accuracy_pixelclass_1': 0.0017952434172715684, 'train_accuracy_pixelclass_2': 0.019652377990273796, 'train_accuracy_pixelclass_3': 0.00039521352508508067, 'train_accuracy_pixelclass_4': 0.17571801009925192, 'train_accuracy_pixelclass_5': 3.9902234205897655e-05, 'train_accuracy_pixelclass_6': 0.8246065259896012, 'train_accuracy_pixelclass_7': 0.00981762751584219, 'train_accuracy_pixelclass_8': 0.021428186970591595, 'train_accuracy_pixelclass_9': 0.9006466181047467, 'train_accuracy_pixelclass_10': 0.029738243759655593, 'train_accuracy_pixelclass_11': 0.0, 'train_accuracy_pixelclass_12': 0.0, 'train_IoU_class_0': 0.17746496607604548, 'train_IoU_class_1': 0.0017687546686586276, 'train_IoU_class_2': 0.018051533047795814, 'train_IoU_class_3': 0.0003942587677480867, 'train_IoU_class_4': 0.164542640629693, 'train_IoU_class_5': 3.986191831495699e-05, 'train_IoU_class_6': 0.4927133299880642, 'train_IoU_class_7': 0.009512060321688552, 'train_IoU_class_8': 0.01984006425785008, 'train_IoU_class_9': 0.36594134958993485, 'train_IoU_class_10': 0.02700443461320402, 'train_IoU_class_11': 0.0, 'train_IoU_class_12': 0.0}\n"
          ]
        },
        {
          "output_type": "stream",
          "name": "stderr",
          "text": [
            "Validation Loss:1.655: 100%|██████████| 26/26 [00:34<00:00,  1.33s/it]\n"
          ]
        },
        {
          "output_type": "stream",
          "name": "stdout",
          "text": [
            "Epoch:3 {'validation_loss': 1.6545878648757935, 'validation_average_accuracy': 0.18577455909256718, 'validation_mIoU': 0.11549338806493573, 'validation_accuracy_pixelclass_0': 0.32077068418974447, 'validation_accuracy_pixelclass_1': 0.004252892292651133, 'validation_accuracy_pixelclass_2': 0.04322905142040136, 'validation_accuracy_pixelclass_3': 1.6688709670690035e-05, 'validation_accuracy_pixelclass_4': 0.2444130356708412, 'validation_accuracy_pixelclass_5': 0.0011099484914528185, 'validation_accuracy_pixelclass_6': 0.8149902304749198, 'validation_accuracy_pixelclass_7': 0.018896363162265756, 'validation_accuracy_pixelclass_8': 0.026548823049282758, 'validation_accuracy_pixelclass_9': 0.8943281295715715, 'validation_accuracy_pixelclass_10': 0.046513421170572264, 'validation_accuracy_pixelclass_11': 0.0, 'validation_accuracy_pixelclass_12': 0.0, 'train_IoU_class_0': 0.26315445004490307, 'train_IoU_class_1': 0.00417071570320404, 'train_IoU_class_2': 0.03853311923937643, 'train_IoU_class_3': 1.6685020188874427e-05, 'train_IoU_class_4': 0.22624398265096993, 'train_IoU_class_5': 0.0011063455447503328, 'train_IoU_class_6': 0.4965030123100429, 'train_IoU_class_7': 0.018086850641739118, 'train_IoU_class_8': 0.025039458563254815, 'train_IoU_class_9': 0.3866656368167154, 'train_IoU_class_10': 0.04189378830901957, 'train_IoU_class_11': 0.0, 'train_IoU_class_12': 0.0}\n",
            "For now best val loss at epoch:  3\n"
          ]
        },
        {
          "output_type": "stream",
          "name": "stderr",
          "text": [
            "Epoch:4, Training Loss:1.635: 100%|██████████| 104/104 [08:40<00:00,  5.00s/it]\n"
          ]
        },
        {
          "output_type": "stream",
          "name": "stdout",
          "text": [
            "{'train_loss': 1.6335484981536865, 'train_average_accuracy': 0.2013522564900539, 'train_mIoU': 0.1283077076594633, 'train_accuracy_pixelclass_0': 0.3689887085763916, 'train_accuracy_pixelclass_1': 0.003445170499610647, 'train_accuracy_pixelclass_2': 0.04427849281834951, 'train_accuracy_pixelclass_3': 0.0009505789361523509, 'train_accuracy_pixelclass_4': 0.3584578927890807, 'train_accuracy_pixelclass_5': 0.0025149048145503765, 'train_accuracy_pixelclass_6': 0.8371665474846393, 'train_accuracy_pixelclass_7': 0.01000711474294963, 'train_accuracy_pixelclass_8': 0.0573680179398373, 'train_accuracy_pixelclass_9': 0.8679599262217403, 'train_accuracy_pixelclass_10': 0.06643744046819682, 'train_accuracy_pixelclass_11': 0.0, 'train_accuracy_pixelclass_12': 4.539079202393002e-06, 'train_IoU_class_0': 0.29991213235340025, 'train_IoU_class_1': 0.0033653454063740543, 'train_IoU_class_2': 0.03944981567363908, 'train_IoU_class_3': 0.0009503371372643202, 'train_IoU_class_4': 0.32124706804976294, 'train_IoU_class_5': 0.0025043098287405976, 'train_IoU_class_6': 0.5132819177636679, 'train_IoU_class_7': 0.00974813458924606, 'train_IoU_class_8': 0.04823093352098579, 'train_IoU_class_9': 0.37400528533853394, 'train_IoU_class_10': 0.05530038987956174, 'train_IoU_class_11': 0.0, 'train_IoU_class_12': 4.530031846123878e-06}\n"
          ]
        },
        {
          "output_type": "stream",
          "name": "stderr",
          "text": [
            "Validation Loss:1.567: 100%|██████████| 26/26 [00:33<00:00,  1.29s/it]\n"
          ]
        },
        {
          "output_type": "stream",
          "name": "stdout",
          "text": [
            "Epoch:4 {'validation_loss': 1.567387342453003, 'validation_average_accuracy': 0.19950856518871088, 'validation_mIoU': 0.13230949504887873, 'validation_accuracy_pixelclass_0': 0.31759669654840206, 'validation_accuracy_pixelclass_1': 0.004158179892455597, 'validation_accuracy_pixelclass_2': 0.03510625823863046, 'validation_accuracy_pixelclass_3': 0.00026701935473104056, 'validation_accuracy_pixelclass_4': 0.43083697945428545, 'validation_accuracy_pixelclass_5': 0.011297965287131728, 'validation_accuracy_pixelclass_6': 0.787116855137943, 'validation_accuracy_pixelclass_7': 0.02487109264900273, 'validation_accuracy_pixelclass_8': 0.015296489318785241, 'validation_accuracy_pixelclass_9': 0.9337857951674682, 'validation_accuracy_pixelclass_10': 0.03327801640440585, 'validation_accuracy_pixelclass_11': 0.0, 'validation_accuracy_pixelclass_12': 0.0, 'train_IoU_class_0': 0.2670885785696269, 'train_IoU_class_1': 0.004067073340797437, 'train_IoU_class_2': 0.03180867926144883, 'train_IoU_class_3': 0.0002667177875759521, 'train_IoU_class_4': 0.3985963850901941, 'train_IoU_class_5': 0.01113994953486958, 'train_IoU_class_6': 0.5487591485720172, 'train_IoU_class_7': 0.023968160591469303, 'train_IoU_class_8': 0.014886993639914742, 'train_IoU_class_9': 0.38835285197603947, 'train_IoU_class_10': 0.031088897271469886, 'train_IoU_class_11': 0.0, 'train_IoU_class_12': 0.0}\n",
            "For now best val loss at epoch:  4\n"
          ]
        },
        {
          "output_type": "stream",
          "name": "stderr",
          "text": [
            "Epoch:5, Training Loss:1.551: 100%|██████████| 104/104 [08:17<00:00,  4.78s/it]\n"
          ]
        },
        {
          "output_type": "stream",
          "name": "stdout",
          "text": [
            "{'train_loss': 1.5533599853515625, 'train_average_accuracy': 0.23696860099306447, 'train_mIoU': 0.15879650287895114, 'train_accuracy_pixelclass_0': 0.4829230596690464, 'train_accuracy_pixelclass_1': 0.008283933677083185, 'train_accuracy_pixelclass_2': 0.11481316657025027, 'train_accuracy_pixelclass_3': 0.003953426798318405, 'train_accuracy_pixelclass_4': 0.5294661219388095, 'train_accuracy_pixelclass_5': 0.02051666476909375, 'train_accuracy_pixelclass_6': 0.8416813171223231, 'train_accuracy_pixelclass_7': 0.029462033919290285, 'train_accuracy_pixelclass_8': 0.1026657617307073, 'train_accuracy_pixelclass_9': 0.8454888712396301, 'train_accuracy_pixelclass_10': 0.10093407721320279, 'train_accuracy_pixelclass_11': 0.00024451048999902196, 'train_accuracy_pixelclass_12': 0.0001588677720837551, 'train_IoU_class_0': 0.37121632162365953, 'train_IoU_class_1': 0.00797138188786173, 'train_IoU_class_2': 0.0966713276680663, 'train_IoU_class_3': 0.003946301422138222, 'train_IoU_class_4': 0.4513517318492128, 'train_IoU_class_5': 0.02010799908645037, 'train_IoU_class_6': 0.534766683034208, 'train_IoU_class_7': 0.027936097644139138, 'train_IoU_class_8': 0.0852038257572274, 'train_IoU_class_9': 0.3853143248070262, 'train_IoU_class_10': 0.07947238223973528, 'train_IoU_class_11': 0.00023830436233156989, 'train_IoU_class_12': 0.00015785604430793655}\n"
          ]
        },
        {
          "output_type": "stream",
          "name": "stderr",
          "text": [
            "Validation Loss:1.538: 100%|██████████| 26/26 [00:32<00:00,  1.25s/it]\n"
          ]
        },
        {
          "output_type": "stream",
          "name": "stdout",
          "text": [
            "Epoch:5 {'validation_loss': 1.5377275943756104, 'validation_average_accuracy': 0.1981620413271562, 'validation_mIoU': 0.133854072436598, 'validation_accuracy_pixelclass_0': 0.34274926103548947, 'validation_accuracy_pixelclass_1': 0.0022517109336809516, 'validation_accuracy_pixelclass_2': 0.025555120574779815, 'validation_accuracy_pixelclass_3': 0.0, 'validation_accuracy_pixelclass_4': 0.3182107811902638, 'validation_accuracy_pixelclass_5': 0.023343604210867088, 'validation_accuracy_pixelclass_6': 0.7498796370516461, 'validation_accuracy_pixelclass_7': 0.013550155924764228, 'validation_accuracy_pixelclass_8': 0.09768773044122751, 'validation_accuracy_pixelclass_9': 0.9294470652466837, 'validation_accuracy_pixelclass_10': 0.07343147064362827, 'validation_accuracy_pixelclass_11': 0.0, 'validation_accuracy_pixelclass_12': 0.0, 'train_IoU_class_0': 0.28563409535415285, 'train_IoU_class_1': 0.002223844928305895, 'train_IoU_class_2': 0.023892332881861808, 'train_IoU_class_3': 0.0, 'train_IoU_class_4': 0.2957507875226267, 'train_IoU_class_5': 0.022910334993201036, 'train_IoU_class_6': 0.5619775776424702, 'train_IoU_class_7': 0.01312235390798734, 'train_IoU_class_8': 0.08497846196221853, 'train_IoU_class_9': 0.3858766007907033, 'train_IoU_class_10': 0.06373655169224667, 'train_IoU_class_11': 0.0, 'train_IoU_class_12': 0.0}\n",
            "For now best val loss at epoch:  5\n"
          ]
        },
        {
          "output_type": "stream",
          "name": "stderr",
          "text": [
            "Epoch:6, Training Loss:1.495: 100%|██████████| 104/104 [07:57<00:00,  4.59s/it]\n"
          ]
        },
        {
          "output_type": "stream",
          "name": "stdout",
          "text": [
            "{'train_loss': 1.4960676431655884, 'train_average_accuracy': 0.2577535759380574, 'train_mIoU': 0.17573397632878815, 'train_accuracy_pixelclass_0': 0.5589354546809299, 'train_accuracy_pixelclass_1': 0.011992884915103896, 'train_accuracy_pixelclass_2': 0.23363310567705783, 'train_accuracy_pixelclass_3': 0.0033102361594544503, 'train_accuracy_pixelclass_4': 0.5902570125650375, 'train_accuracy_pixelclass_5': 0.022495283555916862, 'train_accuracy_pixelclass_6': 0.8337197660503866, 'train_accuracy_pixelclass_7': 0.04735188908537422, 'train_accuracy_pixelclass_8': 0.09125562454828758, 'train_accuracy_pixelclass_9': 0.8295276146310799, 'train_accuracy_pixelclass_10': 0.12827122653209358, 'train_accuracy_pixelclass_11': 9.98001999996008e-07, 'train_accuracy_pixelclass_12': 4.5390792023930026e-05, 'train_IoU_class_0': 0.4185355196956482, 'train_IoU_class_1': 0.011507066532664013, 'train_IoU_class_2': 0.18288220189475296, 'train_IoU_class_3': 0.003281206992568316, 'train_IoU_class_4': 0.49009737231607875, 'train_IoU_class_5': 0.021878162817989332, 'train_IoU_class_6': 0.5432330143639776, 'train_IoU_class_7': 0.04463768890615004, 'train_IoU_class_8': 0.07990089237437561, 'train_IoU_class_9': 0.39436009453608817, 'train_IoU_class_10': 0.09418225745994703, 'train_IoU_class_11': 9.749315841760803e-07, 'train_IoU_class_12': 4.523945242166789e-05}\n"
          ]
        },
        {
          "output_type": "stream",
          "name": "stderr",
          "text": [
            "Validation Loss:1.433: 100%|██████████| 26/26 [00:31<00:00,  1.20s/it]\n"
          ]
        },
        {
          "output_type": "stream",
          "name": "stdout",
          "text": [
            "Epoch:6 {'validation_loss': 1.4327585697174072, 'validation_average_accuracy': 0.30448145096352824, 'validation_mIoU': 0.20549159374989434, 'validation_accuracy_pixelclass_0': 0.663424008595922, 'validation_accuracy_pixelclass_1': 0.04014787355385367, 'validation_accuracy_pixelclass_2': 0.5697070877280576, 'validation_accuracy_pixelclass_3': 0.0008260911286991568, 'validation_accuracy_pixelclass_4': 0.6332021630861951, 'validation_accuracy_pixelclass_5': 0.07124096480731025, 'validation_accuracy_pixelclass_6': 0.855988455259553, 'validation_accuracy_pixelclass_7': 0.07037489769556915, 'validation_accuracy_pixelclass_8': 0.20108840968580247, 'validation_accuracy_pixelclass_9': 0.7679883125757087, 'validation_accuracy_pixelclass_10': 0.08391473746735079, 'validation_accuracy_pixelclass_11': 0.0003558609418452927, 'validation_accuracy_pixelclass_12': 0.0, 'train_IoU_class_0': 0.41052824312231606, 'train_IoU_class_1': 0.03659941640725601, 'train_IoU_class_2': 0.33979429342331713, 'train_IoU_class_3': 0.0008256949599246032, 'train_IoU_class_4': 0.5280806358803473, 'train_IoU_class_5': 0.06803772716816195, 'train_IoU_class_6': 0.5457516412226416, 'train_IoU_class_7': 0.0667507287525215, 'train_IoU_class_8': 0.17572614798892172, 'train_IoU_class_9': 0.4276314481712307, 'train_IoU_class_10': 0.0713206757272576, 'train_IoU_class_11': 0.0003440659247302693, 'train_IoU_class_12': 0.0}\n",
            "For now best val loss at epoch:  6\n"
          ]
        },
        {
          "output_type": "stream",
          "name": "stderr",
          "text": [
            "Epoch:7, Training Loss:1.426: 100%|██████████| 104/104 [07:34<00:00,  4.37s/it]\n"
          ]
        },
        {
          "output_type": "stream",
          "name": "stdout",
          "text": [
            "{'train_loss': 1.4266126155853271, 'train_average_accuracy': 0.2981604254941478, 'train_mIoU': 0.2070796875850025, 'train_accuracy_pixelclass_0': 0.62918512168405, 'train_accuracy_pixelclass_1': 0.01722201650784539, 'train_accuracy_pixelclass_2': 0.45135295131774916, 'train_accuracy_pixelclass_3': 0.004070957617869851, 'train_accuracy_pixelclass_4': 0.6549344827816632, 'train_accuracy_pixelclass_5': 0.07492149900457226, 'train_accuracy_pixelclass_6': 0.8378584739774259, 'train_accuracy_pixelclass_7': 0.07827006774706685, 'train_accuracy_pixelclass_8': 0.2103742963647997, 'train_accuracy_pixelclass_9': 0.7921579549520568, 'train_accuracy_pixelclass_10': 0.1253164564844183, 'train_accuracy_pixelclass_11': 0.0004121748259983513, 'train_accuracy_pixelclass_12': 9.078158404786004e-06, 'train_IoU_class_0': 0.45235088458236195, 'train_IoU_class_1': 0.01636443046108701, 'train_IoU_class_2': 0.31724089980522946, 'train_IoU_class_3': 0.004013083262565394, 'train_IoU_class_4': 0.5261116591255394, 'train_IoU_class_5': 0.07257511742654206, 'train_IoU_class_6': 0.5692714014284201, 'train_IoU_class_7': 0.07242621871823422, 'train_IoU_class_8': 0.1540379375579632, 'train_IoU_class_9': 0.41226897654532196, 'train_IoU_class_10': 0.09497825764805046, 'train_IoU_class_11': 0.0003880189518602831, 'train_IoU_class_12': 9.05309185719653e-06}\n"
          ]
        },
        {
          "output_type": "stream",
          "name": "stderr",
          "text": [
            "Validation Loss:1.363: 100%|██████████| 26/26 [00:28<00:00,  1.09s/it]\n"
          ]
        },
        {
          "output_type": "stream",
          "name": "stdout",
          "text": [
            "Epoch:7 {'validation_loss': 1.3633952140808105, 'validation_average_accuracy': 0.309488477105187, 'validation_mIoU': 0.22105570417814213, 'validation_accuracy_pixelclass_0': 0.5266234244933283, 'validation_accuracy_pixelclass_1': 0.027921826625386996, 'validation_accuracy_pixelclass_2': 0.5841328469113528, 'validation_accuracy_pixelclass_3': 0.001435229031679343, 'validation_accuracy_pixelclass_4': 0.7061889443691406, 'validation_accuracy_pixelclass_5': 0.12680198017894065, 'validation_accuracy_pixelclass_6': 0.8240232132376828, 'validation_accuracy_pixelclass_7': 0.1439700298887199, 'validation_accuracy_pixelclass_8': 0.14994452992335044, 'validation_accuracy_pixelclass_9': 0.8624237824561638, 'validation_accuracy_pixelclass_10': 0.0698843952516858, 'validation_accuracy_pixelclass_11': 0.0, 'validation_accuracy_pixelclass_12': 0.0, 'train_IoU_class_0': 0.3953016979987871, 'train_IoU_class_1': 0.026332774348956083, 'train_IoU_class_2': 0.4094711213722328, 'train_IoU_class_3': 0.0014350793465382882, 'train_IoU_class_4': 0.5550524897205944, 'train_IoU_class_5': 0.11822314049586777, 'train_IoU_class_6': 0.5975527338062298, 'train_IoU_class_7': 0.12552351565980385, 'train_IoU_class_8': 0.1403405461294791, 'train_IoU_class_9': 0.4436416095759411, 'train_IoU_class_10': 0.060849445861417335, 'train_IoU_class_11': 0.0, 'train_IoU_class_12': 0.0}\n",
            "For now best val loss at epoch:  7\n"
          ]
        },
        {
          "output_type": "stream",
          "name": "stderr",
          "text": [
            "Epoch:8, Training Loss:1.36: 100%|██████████| 104/104 [07:05<00:00,  4.09s/it]\n"
          ]
        },
        {
          "output_type": "stream",
          "name": "stdout",
          "text": [
            "{'train_loss': 1.359344720840454, 'train_average_accuracy': 0.3237636574714316, 'train_mIoU': 0.22930909933855076, 'train_accuracy_pixelclass_0': 0.6349406802098201, 'train_accuracy_pixelclass_1': 0.019478030043024015, 'train_accuracy_pixelclass_2': 0.6169474811301744, 'train_accuracy_pixelclass_3': 0.008786397422071254, 'train_accuracy_pixelclass_4': 0.6847103791785742, 'train_accuracy_pixelclass_5': 0.12977323826315684, 'train_accuracy_pixelclass_6': 0.8488792464832565, 'train_accuracy_pixelclass_7': 0.0974063038596359, 'train_accuracy_pixelclass_8': 0.2524741104557233, 'train_accuracy_pixelclass_9': 0.7942650103132992, 'train_accuracy_pixelclass_10': 0.12031158185587912, 'train_accuracy_pixelclass_11': 0.0009550879139961796, 'train_accuracy_pixelclass_12': 0.0, 'train_IoU_class_0': 0.47325939486288454, 'train_IoU_class_1': 0.018401756076804696, 'train_IoU_class_2': 0.4146098095055503, 'train_IoU_class_3': 0.00878011509784866, 'train_IoU_class_4': 0.5544043773628075, 'train_IoU_class_5': 0.12286546558677942, 'train_IoU_class_6': 0.5884772914840816, 'train_IoU_class_7': 0.0888725280011028, 'train_IoU_class_8': 0.1880646099810663, 'train_IoU_class_9': 0.4276749832010772, 'train_IoU_class_10': 0.09469948378560059, 'train_IoU_class_11': 0.0009084764555558509, 'train_IoU_class_12': 0.0}\n"
          ]
        },
        {
          "output_type": "stream",
          "name": "stderr",
          "text": [
            "Validation Loss:1.312: 100%|██████████| 26/26 [01:01<00:00,  2.38s/it]\n"
          ]
        },
        {
          "output_type": "stream",
          "name": "stdout",
          "text": [
            "Epoch:8 {'validation_loss': 1.3115222454071045, 'validation_average_accuracy': 0.3564520073359646, 'validation_mIoU': 0.2516018068699545, 'validation_accuracy_pixelclass_0': 0.6082675157563291, 'validation_accuracy_pixelclass_1': 0.015283322470262343, 'validation_accuracy_pixelclass_2': 0.7972923392320509, 'validation_accuracy_pixelclass_3': 0.005373764513962192, 'validation_accuracy_pixelclass_4': 0.7670859223044771, 'validation_accuracy_pixelclass_5': 0.2906696881931156, 'validation_accuracy_pixelclass_6': 0.828398583995027, 'validation_accuracy_pixelclass_7': 0.10798600068429041, 'validation_accuracy_pixelclass_8': 0.31208250851401176, 'validation_accuracy_pixelclass_9': 0.7940768991684696, 'validation_accuracy_pixelclass_10': 0.10735955053554296, 'validation_accuracy_pixelclass_11': 0.0, 'validation_accuracy_pixelclass_12': 0.0, 'train_IoU_class_0': 0.43322829809102464, 'train_IoU_class_1': 0.014869737453566132, 'train_IoU_class_2': 0.4753201917401552, 'train_IoU_class_3': 0.0053717922517735675, 'train_IoU_class_4': 0.552825760246396, 'train_IoU_class_5': 0.26538012230909436, 'train_IoU_class_6': 0.6154775556771624, 'train_IoU_class_7': 0.09942919237590866, 'train_IoU_class_8': 0.26402816919574623, 'train_IoU_class_9': 0.4554856680086307, 'train_IoU_class_10': 0.089407001959951, 'train_IoU_class_11': 0.0, 'train_IoU_class_12': 0.0}\n",
            "For now best val loss at epoch:  8\n"
          ]
        },
        {
          "output_type": "stream",
          "name": "stderr",
          "text": [
            "Epoch:9, Training Loss:1.304: 100%|██████████| 104/104 [08:15<00:00,  4.76s/it]\n"
          ]
        },
        {
          "output_type": "stream",
          "name": "stdout",
          "text": [
            "{'train_loss': 1.3086700439453125, 'train_average_accuracy': 0.3456781883314796, 'train_mIoU': 0.2479402892173178, 'train_accuracy_pixelclass_0': 0.6674734895563678, 'train_accuracy_pixelclass_1': 0.025030287399155766, 'train_accuracy_pixelclass_2': 0.7336807321003631, 'train_accuracy_pixelclass_3': 0.017410059863225122, 'train_accuracy_pixelclass_4': 0.6857763724344963, 'train_accuracy_pixelclass_5': 0.24350418228617457, 'train_accuracy_pixelclass_6': 0.8540501795508667, 'train_accuracy_pixelclass_7': 0.12127397861270588, 'train_accuracy_pixelclass_8': 0.2445088606873541, 'train_accuracy_pixelclass_9': 0.7823609821267793, 'train_accuracy_pixelclass_10': 0.1185642086237233, 'train_accuracy_pixelclass_11': 0.0001377242759994491, 'train_accuracy_pixelclass_12': 4.5390792023930026e-05, 'train_IoU_class_0': 0.49647372827576647, 'train_IoU_class_1': 0.023802156735851357, 'train_IoU_class_2': 0.47860927439604534, 'train_IoU_class_3': 0.017391057538855725, 'train_IoU_class_4': 0.5517048852316666, 'train_IoU_class_5': 0.22970243860820164, 'train_IoU_class_6': 0.6086539515972568, 'train_IoU_class_7': 0.1081939137841856, 'train_IoU_class_8': 0.1828921561239846, 'train_IoU_class_9': 0.43203123349920247, 'train_IoU_class_10': 0.09359525478666374, 'train_IoU_class_11': 0.0001286540548401893, 'train_IoU_class_12': 4.505519261094841e-05}\n"
          ]
        },
        {
          "output_type": "stream",
          "name": "stderr",
          "text": [
            "Validation Loss:1.279: 100%|██████████| 26/26 [00:31<00:00,  1.21s/it]\n"
          ]
        },
        {
          "output_type": "stream",
          "name": "stdout",
          "text": [
            "Epoch:9 {'validation_loss': 1.2786577939987183, 'validation_average_accuracy': 0.38191308873066315, 'validation_mIoU': 0.2728400170138563, 'validation_accuracy_pixelclass_0': 0.532018092638429, 'validation_accuracy_pixelclass_1': 0.04539168160338928, 'validation_accuracy_pixelclass_2': 0.757189002929501, 'validation_accuracy_pixelclass_3': 0.01088938306012525, 'validation_accuracy_pixelclass_4': 0.7375784093000863, 'validation_accuracy_pixelclass_5': 0.24393815891147969, 'validation_accuracy_pixelclass_6': 0.8500067718957173, 'validation_accuracy_pixelclass_7': 0.18217122031287444, 'validation_accuracy_pixelclass_8': 0.6366041523984651, 'validation_accuracy_pixelclass_9': 0.6574753425668887, 'validation_accuracy_pixelclass_10': 0.3071047592965855, 'validation_accuracy_pixelclass_11': 0.004503178585079322, 'validation_accuracy_pixelclass_12': 0.0, 'train_IoU_class_0': 0.42108056435653063, 'train_IoU_class_1': 0.04202971529443715, 'train_IoU_class_2': 0.5067676310601578, 'train_IoU_class_3': 0.010882753962198066, 'train_IoU_class_4': 0.5718982462479127, 'train_IoU_class_5': 0.22009872190085733, 'train_IoU_class_6': 0.6088554535368762, 'train_IoU_class_7': 0.1506594118893584, 'train_IoU_class_8': 0.38250001145019746, 'train_IoU_class_9': 0.43336911006848244, 'train_IoU_class_10': 0.1946506469051957, 'train_IoU_class_11': 0.0041279545079276865, 'train_IoU_class_12': 0.0}\n",
            "For now best val loss at epoch:  9\n"
          ]
        },
        {
          "output_type": "stream",
          "name": "stderr",
          "text": [
            "Epoch:10, Training Loss:1.267: 100%|██████████| 104/104 [07:14<00:00,  4.18s/it]\n"
          ]
        },
        {
          "output_type": "stream",
          "name": "stdout",
          "text": [
            "{'train_loss': 1.26869535446167, 'train_average_accuracy': 0.37368183346154776, 'train_mIoU': 0.27400186055537, 'train_accuracy_pixelclass_0': 0.6785795308187909, 'train_accuracy_pixelclass_1': 0.035978880391794504, 'train_accuracy_pixelclass_2': 0.7612534138679389, 'train_accuracy_pixelclass_3': 0.025880028155734792, 'train_accuracy_pixelclass_4': 0.6990443290908923, 'train_accuracy_pixelclass_5': 0.3261103195690133, 'train_accuracy_pixelclass_6': 0.8529255453613448, 'train_accuracy_pixelclass_7': 0.18193537157709538, 'train_accuracy_pixelclass_8': 0.3592787165337038, 'train_accuracy_pixelclass_9': 0.762162035759515, 'train_accuracy_pixelclass_10': 0.16268774377034512, 'train_accuracy_pixelclass_11': 0.012027920103951888, 'train_accuracy_pixelclass_12': 0.0, 'train_IoU_class_0': 0.5156897828293, 'train_IoU_class_1': 0.03407192011193765, 'train_IoU_class_2': 0.49702910388873345, 'train_IoU_class_3': 0.025844779130192525, 'train_IoU_class_4': 0.5751446289808805, 'train_IoU_class_5': 0.301386035017433, 'train_IoU_class_6': 0.6203477174119308, 'train_IoU_class_7': 0.1582711083117331, 'train_IoU_class_8': 0.258914726752638, 'train_IoU_class_9': 0.44078777457831136, 'train_IoU_class_10': 0.12372120085083459, 'train_IoU_class_11': 0.010815409355885477, 'train_IoU_class_12': 0.0}\n"
          ]
        },
        {
          "output_type": "stream",
          "name": "stderr",
          "text": [
            "Validation Loss:1.253: 100%|██████████| 26/26 [00:29<00:00,  1.15s/it]\n"
          ]
        },
        {
          "output_type": "stream",
          "name": "stdout",
          "text": [
            "Epoch:10 {'validation_loss': 1.2525418996810913, 'validation_average_accuracy': 0.3355302801729414, 'validation_mIoU': 0.2485006230281104, 'validation_accuracy_pixelclass_0': 0.6420361994148875, 'validation_accuracy_pixelclass_1': 0.03542549291184618, 'validation_accuracy_pixelclass_2': 0.7336381035594666, 'validation_accuracy_pixelclass_3': 0.01707672217053358, 'validation_accuracy_pixelclass_4': 0.6270079410132934, 'validation_accuracy_pixelclass_5': 0.02424158337235496, 'validation_accuracy_pixelclass_6': 0.8257349716795849, 'validation_accuracy_pixelclass_7': 0.1960341301146563, 'validation_accuracy_pixelclass_8': 0.2517907570199552, 'validation_accuracy_pixelclass_9': 0.8412050066218003, 'validation_accuracy_pixelclass_10': 0.16769394767993698, 'validation_accuracy_pixelclass_11': 8.786689922105994e-06, 'validation_accuracy_pixelclass_12': 0.0, 'train_IoU_class_0': 0.4800426457585667, 'train_IoU_class_1': 0.0337799780918124, 'train_IoU_class_2': 0.527960985209875, 'train_IoU_class_3': 0.017069458056175324, 'train_IoU_class_4': 0.5550790865165466, 'train_IoU_class_5': 0.023818179064237138, 'train_IoU_class_6': 0.5990215552375148, 'train_IoU_class_7': 0.17575157679951084, 'train_IoU_class_8': 0.22901317035057825, 'train_IoU_class_9': 0.46094432769008414, 'train_IoU_class_10': 0.1280188772812605, 'train_IoU_class_11': 8.259309273965418e-06, 'train_IoU_class_12': 0.0}\n",
            "For now best val loss at epoch:  10\n"
          ]
        },
        {
          "output_type": "stream",
          "name": "stderr",
          "text": [
            "Epoch:11, Training Loss:1.23: 100%|██████████| 104/104 [07:54<00:00,  4.56s/it]\n"
          ]
        },
        {
          "output_type": "stream",
          "name": "stdout",
          "text": [
            "{'train_loss': 1.2288892269134521, 'train_average_accuracy': 0.3857630635649167, 'train_mIoU': 0.2854544522379742, 'train_accuracy_pixelclass_0': 0.7245866152921999, 'train_accuracy_pixelclass_1': 0.04881432927372746, 'train_accuracy_pixelclass_2': 0.7764537566361949, 'train_accuracy_pixelclass_3': 0.029600976409885505, 'train_accuracy_pixelclass_4': 0.7259996391533277, 'train_accuracy_pixelclass_5': 0.3053686061989983, 'train_accuracy_pixelclass_6': 0.8609123757614023, 'train_accuracy_pixelclass_7': 0.22170095290901473, 'train_accuracy_pixelclass_8': 0.36446612376265697, 'train_accuracy_pixelclass_9': 0.7787519888489057, 'train_accuracy_pixelclass_10': 0.16804537254844168, 'train_accuracy_pixelclass_11': 0.010214550469959142, 'train_accuracy_pixelclass_12': 4.539079202393002e-06, 'train_IoU_class_0': 0.5424258926266118, 'train_IoU_class_1': 0.04549442599645434, 'train_IoU_class_2': 0.5161981181070562, 'train_IoU_class_3': 0.0295660362754457, 'train_IoU_class_4': 0.6079532403718814, 'train_IoU_class_5': 0.28253527574520243, 'train_IoU_class_6': 0.6341073693409853, 'train_IoU_class_7': 0.18683207561321416, 'train_IoU_class_8': 0.26975360368051593, 'train_IoU_class_9': 0.4557818185908956, 'train_IoU_class_10': 0.13106140768433996, 'train_IoU_class_11': 0.0091940827296769, 'train_IoU_class_12': 4.532331385941615e-06}\n"
          ]
        },
        {
          "output_type": "stream",
          "name": "stderr",
          "text": [
            "Validation Loss:1.21: 100%|██████████| 26/26 [00:32<00:00,  1.23s/it]\n"
          ]
        },
        {
          "output_type": "stream",
          "name": "stdout",
          "text": [
            "Epoch:11 {'validation_loss': 1.209908127784729, 'validation_average_accuracy': 0.40361480275545486, 'validation_mIoU': 0.3024645434646718, 'validation_accuracy_pixelclass_0': 0.6870981391323491, 'validation_accuracy_pixelclass_1': 0.07490936125142578, 'validation_accuracy_pixelclass_2': 0.7416984864560225, 'validation_accuracy_pixelclass_3': 0.009191306851132537, 'validation_accuracy_pixelclass_4': 0.7172013238025727, 'validation_accuracy_pixelclass_5': 0.35429517307295794, 'validation_accuracy_pixelclass_6': 0.8328610896343271, 'validation_accuracy_pixelclass_7': 0.17462292433164872, 'validation_accuracy_pixelclass_8': 0.6178287628179268, 'validation_accuracy_pixelclass_9': 0.725146525749977, 'validation_accuracy_pixelclass_10': 0.30086162620554996, 'validation_accuracy_pixelclass_11': 0.011277716515023043, 'validation_accuracy_pixelclass_12': 0.0, 'train_IoU_class_0': 0.4912176586824575, 'train_IoU_class_1': 0.06912043993508477, 'train_IoU_class_2': 0.5345846923270118, 'train_IoU_class_3': 0.009189696527270832, 'train_IoU_class_4': 0.627244541612535, 'train_IoU_class_5': 0.32281903705082327, 'train_IoU_class_6': 0.6584196470911223, 'train_IoU_class_7': 0.15790678830659313, 'train_IoU_class_8': 0.39710449818852117, 'train_IoU_class_9': 0.44840669652540177, 'train_IoU_class_10': 0.20612594417145522, 'train_IoU_class_11': 0.009899424622456693, 'train_IoU_class_12': 0.0}\n",
            "For now best val loss at epoch:  11\n"
          ]
        },
        {
          "output_type": "stream",
          "name": "stderr",
          "text": [
            "Epoch:12, Training Loss:1.198: 100%|██████████| 104/104 [08:05<00:00,  4.67s/it]\n"
          ]
        },
        {
          "output_type": "stream",
          "name": "stdout",
          "text": [
            "{'train_loss': 1.1960173845291138, 'train_average_accuracy': 0.4076607298203765, 'train_mIoU': 0.30500540278859484, 'train_accuracy_pixelclass_0': 0.7193316403111351, 'train_accuracy_pixelclass_1': 0.06098028504115002, 'train_accuracy_pixelclass_2': 0.7875297103094699, 'train_accuracy_pixelclass_3': 0.0451292516128199, 'train_accuracy_pixelclass_4': 0.7226416012937021, 'train_accuracy_pixelclass_5': 0.4307829243975029, 'train_accuracy_pixelclass_6': 0.8607595161452052, 'train_accuracy_pixelclass_7': 0.2254424284510765, 'train_accuracy_pixelclass_8': 0.4355571328612354, 'train_accuracy_pixelclass_9': 0.7615008500125833, 'train_accuracy_pixelclass_10': 0.22961482650909554, 'train_accuracy_pixelclass_11': 0.020319320719918724, 'train_accuracy_pixelclass_12': 0.0, 'train_IoU_class_0': 0.5395101270446421, 'train_IoU_class_1': 0.05668298203826925, 'train_IoU_class_2': 0.5271213629134107, 'train_IoU_class_3': 0.04499900837855728, 'train_IoU_class_4': 0.6019191078266342, 'train_IoU_class_5': 0.39139015802611404, 'train_IoU_class_6': 0.6472352169546388, 'train_IoU_class_7': 0.18960783147821778, 'train_IoU_class_8': 0.31673163698516094, 'train_IoU_class_9': 0.46151242786177843, 'train_IoU_class_10': 0.17138566123337087, 'train_IoU_class_11': 0.016974715510938102, 'train_IoU_class_12': 0.0}\n"
          ]
        },
        {
          "output_type": "stream",
          "name": "stderr",
          "text": [
            "Validation Loss:1.175: 100%|██████████| 26/26 [00:32<00:00,  1.24s/it]\n"
          ]
        },
        {
          "output_type": "stream",
          "name": "stdout",
          "text": [
            "Epoch:12 {'validation_loss': 1.1754239797592163, 'validation_average_accuracy': 0.4352965710875942, 'validation_mIoU': 0.32157752984149435, 'validation_accuracy_pixelclass_0': 0.7642685538916442, 'validation_accuracy_pixelclass_1': 0.1311491771223725, 'validation_accuracy_pixelclass_2': 0.8257339354980247, 'validation_accuracy_pixelclass_3': 0.01484877942949646, 'validation_accuracy_pixelclass_4': 0.770064606817506, 'validation_accuracy_pixelclass_5': 0.44201771678199725, 'validation_accuracy_pixelclass_6': 0.8702084891474452, 'validation_accuracy_pixelclass_7': 0.3471861948177813, 'validation_accuracy_pixelclass_8': 0.5851536040304347, 'validation_accuracy_pixelclass_9': 0.7353482605127726, 'validation_accuracy_pixelclass_10': 0.1700731520040976, 'validation_accuracy_pixelclass_11': 0.002802954085151812, 'validation_accuracy_pixelclass_12': 0.0, 'train_IoU_class_0': 0.5374278690131103, 'train_IoU_class_1': 0.10778809993529935, 'train_IoU_class_2': 0.5479806267684695, 'train_IoU_class_3': 0.014841410830601913, 'train_IoU_class_4': 0.5985316526111791, 'train_IoU_class_5': 0.3921421806457348, 'train_IoU_class_6': 0.6522053315249566, 'train_IoU_class_7': 0.25881724380863136, 'train_IoU_class_8': 0.44798119254255764, 'train_IoU_class_9': 0.4811437911290228, 'train_IoU_class_10': 0.13892235455794777, 'train_IoU_class_11': 0.0027261345719156865, 'train_IoU_class_12': 0.0}\n",
            "For now best val loss at epoch:  12\n"
          ]
        },
        {
          "output_type": "stream",
          "name": "stderr",
          "text": [
            "Epoch:13, Training Loss:1.181: 100%|██████████| 104/104 [07:46<00:00,  4.49s/it]\n"
          ]
        },
        {
          "output_type": "stream",
          "name": "stdout",
          "text": [
            "{'train_loss': 1.181461215019226, 'train_average_accuracy': 0.41958205648999514, 'train_mIoU': 0.31367128325476923, 'train_accuracy_pixelclass_0': 0.7329487929919328, 'train_accuracy_pixelclass_1': 0.08842972838255925, 'train_accuracy_pixelclass_2': 0.7808811799425667, 'train_accuracy_pixelclass_3': 0.029639722833913452, 'train_accuracy_pixelclass_4': 0.7451187850604386, 'train_accuracy_pixelclass_5': 0.4564953920899939, 'train_accuracy_pixelclass_6': 0.8544346113400529, 'train_accuracy_pixelclass_7': 0.2516221703644489, 'train_accuracy_pixelclass_8': 0.5376515530272612, 'train_accuracy_pixelclass_9': 0.7471721109338403, 'train_accuracy_pixelclass_10': 0.2027525824530393, 'train_accuracy_pixelclass_11': 0.02742010494989032, 'train_accuracy_pixelclass_12': 0.0, 'train_IoU_class_0': 0.5493227520091377, 'train_IoU_class_1': 0.07829059426096052, 'train_IoU_class_2': 0.5236887617033683, 'train_IoU_class_3': 0.02961214783234794, 'train_IoU_class_4': 0.626702537115182, 'train_IoU_class_5': 0.41320342380191494, 'train_IoU_class_6': 0.6445393419718599, 'train_IoU_class_7': 0.20321132891920524, 'train_IoU_class_8': 0.3641141562604895, 'train_IoU_class_9': 0.46554510296244367, 'train_IoU_class_10': 0.15394671448657493, 'train_IoU_class_11': 0.025549820988515368, 'train_IoU_class_12': 0.0}\n"
          ]
        },
        {
          "output_type": "stream",
          "name": "stderr",
          "text": [
            "Validation Loss:1.143: 100%|██████████| 26/26 [00:32<00:00,  1.27s/it]\n"
          ]
        },
        {
          "output_type": "stream",
          "name": "stdout",
          "text": [
            "Epoch:13 {'validation_loss': 1.1433894634246826, 'validation_average_accuracy': 0.4196012045607815, 'validation_mIoU': 0.3252004948901889, 'validation_accuracy_pixelclass_0': 0.6534991118287844, 'validation_accuracy_pixelclass_1': 0.11388911520286785, 'validation_accuracy_pixelclass_2': 0.7581927683500422, 'validation_accuracy_pixelclass_3': 0.01834089192808835, 'validation_accuracy_pixelclass_4': 0.7837853493518079, 'validation_accuracy_pixelclass_5': 0.4712559953597987, 'validation_accuracy_pixelclass_6': 0.8305864272267461, 'validation_accuracy_pixelclass_7': 0.339769783001563, 'validation_accuracy_pixelclass_8': 0.4768872726078676, 'validation_accuracy_pixelclass_9': 0.8051504511300811, 'validation_accuracy_pixelclass_10': 0.2021360964692346, 'validation_accuracy_pixelclass_11': 0.001322396833276952, 'validation_accuracy_pixelclass_12': 0.0, 'train_IoU_class_0': 0.5213370521112282, 'train_IoU_class_1': 0.09861647687940536, 'train_IoU_class_2': 0.5469666401188342, 'train_IoU_class_3': 0.01832850382538723, 'train_IoU_class_4': 0.6497244289837751, 'train_IoU_class_5': 0.4252731047866809, 'train_IoU_class_6': 0.6732192623333607, 'train_IoU_class_7': 0.27282552523004344, 'train_IoU_class_8': 0.3848538062336952, 'train_IoU_class_9': 0.48300396863403955, 'train_IoU_class_10': 0.15225685857958277, 'train_IoU_class_11': 0.0012008058564219176, 'train_IoU_class_12': 0.0}\n",
            "For now best val loss at epoch:  13\n"
          ]
        },
        {
          "output_type": "stream",
          "name": "stderr",
          "text": [
            "Epoch:14, Training Loss:1.145: 100%|██████████| 104/104 [07:35<00:00,  4.38s/it]\n"
          ]
        },
        {
          "output_type": "stream",
          "name": "stdout",
          "text": [
            "{'train_loss': 1.144779920578003, 'train_average_accuracy': 0.43499859114526507, 'train_mIoU': 0.32841434338725745, 'train_accuracy_pixelclass_0': 0.7433939615541596, 'train_accuracy_pixelclass_1': 0.0897806738751692, 'train_accuracy_pixelclass_2': 0.7843496851508859, 'train_accuracy_pixelclass_3': 0.04954763549947369, 'train_accuracy_pixelclass_4': 0.7385662677094096, 'train_accuracy_pixelclass_5': 0.49973558119466227, 'train_accuracy_pixelclass_6': 0.8590206534647137, 'train_accuracy_pixelclass_7': 0.27621585394410664, 'train_accuracy_pixelclass_8': 0.5575189845144849, 'train_accuracy_pixelclass_9': 0.7409951816278375, 'train_accuracy_pixelclass_10': 0.271138732737723, 'train_accuracy_pixelclass_11': 0.044718473615821125, 'train_accuracy_pixelclass_12': 0.0, 'train_IoU_class_0': 0.5575567138344941, 'train_IoU_class_1': 0.0798840173741042, 'train_IoU_class_2': 0.5293144485349104, 'train_IoU_class_3': 0.049175893903230024, 'train_IoU_class_4': 0.6285531760820896, 'train_IoU_class_5': 0.44687544007216234, 'train_IoU_class_6': 0.6568809564878506, 'train_IoU_class_7': 0.22521127094384805, 'train_IoU_class_8': 0.3884877664480285, 'train_IoU_class_9': 0.4748508524027109, 'train_IoU_class_10': 0.19483867888435874, 'train_IoU_class_11': 0.03775724906655971, 'train_IoU_class_12': 0.0}\n"
          ]
        },
        {
          "output_type": "stream",
          "name": "stderr",
          "text": [
            "Validation Loss:1.127: 100%|██████████| 26/26 [00:28<00:00,  1.10s/it]\n"
          ]
        },
        {
          "output_type": "stream",
          "name": "stdout",
          "text": [
            "Epoch:14 {'validation_loss': 1.1268445253372192, 'validation_average_accuracy': 0.4301077417894944, 'validation_mIoU': 0.3332088047775463, 'validation_accuracy_pixelclass_0': 0.760338181667621, 'validation_accuracy_pixelclass_1': 0.17294687958285807, 'validation_accuracy_pixelclass_2': 0.7338272256358757, 'validation_accuracy_pixelclass_3': 0.019146122169699145, 'validation_accuracy_pixelclass_4': 0.6975785637694647, 'validation_accuracy_pixelclass_5': 0.35524518106998265, 'validation_accuracy_pixelclass_6': 0.8625627189619078, 'validation_accuracy_pixelclass_7': 0.2850634777326776, 'validation_accuracy_pixelclass_8': 0.6245226993404572, 'validation_accuracy_pixelclass_9': 0.810000057726178, 'validation_accuracy_pixelclass_10': 0.19725758263307025, 'validation_accuracy_pixelclass_11': 0.07291195297363554, 'validation_accuracy_pixelclass_12': 0.0, 'train_IoU_class_0': 0.5339478090421115, 'train_IoU_class_1': 0.1362464277633988, 'train_IoU_class_2': 0.5575512406384532, 'train_IoU_class_3': 0.019143246884894397, 'train_IoU_class_4': 0.6375077348027302, 'train_IoU_class_5': 0.31238053925090487, 'train_IoU_class_6': 0.656027926033852, 'train_IoU_class_7': 0.24121456379712206, 'train_IoU_class_8': 0.51452002330392, 'train_IoU_class_9': 0.5010229868057535, 'train_IoU_class_10': 0.15812072752991665, 'train_IoU_class_11': 0.06403123625504464, 'train_IoU_class_12': 0.0}\n",
            "For now best val loss at epoch:  14\n"
          ]
        },
        {
          "output_type": "stream",
          "name": "stderr",
          "text": [
            "Epoch:15, Training Loss:1.102: 100%|██████████| 104/104 [06:54<00:00,  3.98s/it]\n"
          ]
        },
        {
          "output_type": "stream",
          "name": "stdout",
          "text": [
            "{'train_loss': 1.1025692224502563, 'train_average_accuracy': 0.45633271630281497, 'train_mIoU': 0.34956273387478193, 'train_accuracy_pixelclass_0': 0.7751744872923475, 'train_accuracy_pixelclass_1': 0.12852394932792324, 'train_accuracy_pixelclass_2': 0.791799167714941, 'train_accuracy_pixelclass_3': 0.06086546595803762, 'train_accuracy_pixelclass_4': 0.755633297047135, 'train_accuracy_pixelclass_5': 0.5365962010944917, 'train_accuracy_pixelclass_6': 0.8581570980886968, 'train_accuracy_pixelclass_7': 0.33583578491405336, 'train_accuracy_pixelclass_8': 0.6376322972334691, 'train_accuracy_pixelclass_9': 0.7631192823755342, 'train_accuracy_pixelclass_10': 0.23523689117217952, 'train_accuracy_pixelclass_11': 0.053751389717784995, 'train_accuracy_pixelclass_12': 0.0, 'train_IoU_class_0': 0.5833819902670716, 'train_IoU_class_1': 0.11078159058185032, 'train_IoU_class_2': 0.5501240310867761, 'train_IoU_class_3': 0.060790642116153135, 'train_IoU_class_4': 0.657138500629698, 'train_IoU_class_5': 0.4782310180195516, 'train_IoU_class_6': 0.6655829082408832, 'train_IoU_class_7': 0.2707107522124086, 'train_IoU_class_8': 0.45084746349108595, 'train_IoU_class_9': 0.49105111392252304, 'train_IoU_class_10': 0.18080402332325238, 'train_IoU_class_11': 0.04487150648091218, 'train_IoU_class_12': 0.0}\n"
          ]
        },
        {
          "output_type": "stream",
          "name": "stderr",
          "text": [
            "Validation Loss:1.102: 100%|██████████| 26/26 [00:30<00:00,  1.18s/it]\n"
          ]
        },
        {
          "output_type": "stream",
          "name": "stdout",
          "text": [
            "Epoch:15 {'validation_loss': 1.102468729019165, 'validation_average_accuracy': 0.4726411737102124, 'validation_mIoU': 0.3550326754606497, 'validation_accuracy_pixelclass_0': 0.7025469660293445, 'validation_accuracy_pixelclass_1': 0.1940585791103145, 'validation_accuracy_pixelclass_2': 0.7565138371167205, 'validation_accuracy_pixelclass_3': 0.01977194878235002, 'validation_accuracy_pixelclass_4': 0.7651344591576528, 'validation_accuracy_pixelclass_5': 0.49973696533145257, 'validation_accuracy_pixelclass_6': 0.8160734180835819, 'validation_accuracy_pixelclass_7': 0.47424942837634765, 'validation_accuracy_pixelclass_8': 0.8431469241666588, 'validation_accuracy_pixelclass_9': 0.6955768987127366, 'validation_accuracy_pixelclass_10': 0.3640294776452467, 'validation_accuracy_pixelclass_11': 0.013496355720354807, 'validation_accuracy_pixelclass_12': 0.0, 'train_IoU_class_0': 0.538534899707079, 'train_IoU_class_1': 0.15110927131310825, 'train_IoU_class_2': 0.5654300657290268, 'train_IoU_class_3': 0.019740240265258176, 'train_IoU_class_4': 0.6299127401130542, 'train_IoU_class_5': 0.430452968612545, 'train_IoU_class_6': 0.680324934926162, 'train_IoU_class_7': 0.3250686769903413, 'train_IoU_class_8': 0.5132634667485267, 'train_IoU_class_9': 0.4928795387033869, 'train_IoU_class_10': 0.25692160587259183, 'train_IoU_class_11': 0.011786372007366482, 'train_IoU_class_12': 0.0}\n",
            "For now best val loss at epoch:  15\n"
          ]
        },
        {
          "output_type": "stream",
          "name": "stderr",
          "text": [
            "Epoch:16, Training Loss:1.09: 100%|██████████| 104/104 [07:15<00:00,  4.19s/it]\n"
          ]
        },
        {
          "output_type": "stream",
          "name": "stdout",
          "text": [
            "{'train_loss': 1.0880887508392334, 'train_average_accuracy': 0.46271588225025106, 'train_mIoU': 0.3538717908604572, 'train_accuracy_pixelclass_0': 0.775630517621309, 'train_accuracy_pixelclass_1': 0.1283062004720073, 'train_accuracy_pixelclass_2': 0.7923432330425381, 'train_accuracy_pixelclass_3': 0.06763575778318792, 'train_accuracy_pixelclass_4': 0.771282078044071, 'train_accuracy_pixelclass_5': 0.5348931737385839, 'train_accuracy_pixelclass_6': 0.8534039080319443, 'train_accuracy_pixelclass_7': 0.34442838468419246, 'train_accuracy_pixelclass_8': 0.6163219764446091, 'train_accuracy_pixelclass_9': 0.7431235203765674, 'train_accuracy_pixelclass_10': 0.32354363596851093, 'train_accuracy_pixelclass_11': 0.06439408304574243, 'train_accuracy_pixelclass_12': 0.0, 'train_IoU_class_0': 0.5775059820459503, 'train_IoU_class_1': 0.10888781863775329, 'train_IoU_class_2': 0.5565046928024857, 'train_IoU_class_3': 0.06728666473077882, 'train_IoU_class_4': 0.6677561590434801, 'train_IoU_class_5': 0.47472405638995496, 'train_IoU_class_6': 0.6665406301394938, 'train_IoU_class_7': 0.2693543108993609, 'train_IoU_class_8': 0.4276773644869968, 'train_IoU_class_9': 0.4945782460178261, 'train_IoU_class_10': 0.23394481402801853, 'train_IoU_class_11': 0.055572541963845076, 'train_IoU_class_12': 0.0}\n"
          ]
        },
        {
          "output_type": "stream",
          "name": "stderr",
          "text": [
            "Validation Loss:1.093: 100%|██████████| 26/26 [00:29<00:00,  1.13s/it]\n"
          ]
        },
        {
          "output_type": "stream",
          "name": "stdout",
          "text": [
            "Epoch:16 {'validation_loss': 1.0926480293273926, 'validation_average_accuracy': 0.484348487165571, 'validation_mIoU': 0.3665656225112374, 'validation_accuracy_pixelclass_0': 0.8208014848970498, 'validation_accuracy_pixelclass_1': 0.23968755092064525, 'validation_accuracy_pixelclass_2': 0.8055763589839605, 'validation_accuracy_pixelclass_3': 0.019150294347116816, 'validation_accuracy_pixelclass_4': 0.8159703315813931, 'validation_accuracy_pixelclass_5': 0.48612660735379415, 'validation_accuracy_pixelclass_6': 0.8438675511909539, 'validation_accuracy_pixelclass_7': 0.39145104233707784, 'validation_accuracy_pixelclass_8': 0.6895704528609894, 'validation_accuracy_pixelclass_9': 0.72639477839376, 'validation_accuracy_pixelclass_10': 0.2309692862527228, 'validation_accuracy_pixelclass_11': 0.22696459403295888, 'validation_accuracy_pixelclass_12': 0.0, 'train_IoU_class_0': 0.5401945074540366, 'train_IoU_class_1': 0.1747655723243166, 'train_IoU_class_2': 0.5754368319857234, 'train_IoU_class_3': 0.019042087577008444, 'train_IoU_class_4': 0.6801281954992092, 'train_IoU_class_5': 0.44537975353977616, 'train_IoU_class_6': 0.6818655025345282, 'train_IoU_class_7': 0.2826122913563105, 'train_IoU_class_8': 0.4941650362720776, 'train_IoU_class_9': 0.49251206943292, 'train_IoU_class_10': 0.18721362595003455, 'train_IoU_class_11': 0.19203761872014571, 'train_IoU_class_12': 0.0}\n",
            "For now best val loss at epoch:  16\n"
          ]
        },
        {
          "output_type": "stream",
          "name": "stderr",
          "text": [
            "Epoch:17, Training Loss:1.06: 100%|██████████| 104/104 [07:01<00:00,  4.05s/it]\n"
          ]
        },
        {
          "output_type": "stream",
          "name": "stdout",
          "text": [
            "{'train_loss': 1.0604006052017212, 'train_average_accuracy': 0.47390262265631083, 'train_mIoU': 0.3655255015051407, 'train_accuracy_pixelclass_0': 0.7860037353006395, 'train_accuracy_pixelclass_1': 0.15470593637536384, 'train_accuracy_pixelclass_2': 0.7918914623986134, 'train_accuracy_pixelclass_3': 0.05406546854113256, 'train_accuracy_pixelclass_4': 0.7757910704131503, 'train_accuracy_pixelclass_5': 0.5572331045959925, 'train_accuracy_pixelclass_6': 0.8528846249773627, 'train_accuracy_pixelclass_7': 0.3547017864015999, 'train_accuracy_pixelclass_8': 0.6954110478749692, 'train_accuracy_pixelclass_9': 0.7466950829071598, 'train_accuracy_pixelclass_10': 0.32092376961033897, 'train_accuracy_pixelclass_11': 0.0704270051357183, 'train_accuracy_pixelclass_12': 0.0, 'train_IoU_class_0': 0.5936404096568492, 'train_IoU_class_1': 0.12786879131044568, 'train_IoU_class_2': 0.5566888537805725, 'train_IoU_class_3': 0.05397769765990479, 'train_IoU_class_4': 0.6851366306338814, 'train_IoU_class_5': 0.49035509324673937, 'train_IoU_class_6': 0.6706805070339495, 'train_IoU_class_7': 0.279714807580302, 'train_IoU_class_8': 0.49932109499420707, 'train_IoU_class_9': 0.4968420157662579, 'train_IoU_class_10': 0.24014005383842632, 'train_IoU_class_11': 0.05746556406529289, 'train_IoU_class_12': 0.0}\n"
          ]
        },
        {
          "output_type": "stream",
          "name": "stderr",
          "text": [
            "Validation Loss:1.06: 100%|██████████| 26/26 [00:30<00:00,  1.17s/it]\n"
          ]
        },
        {
          "output_type": "stream",
          "name": "stdout",
          "text": [
            "Epoch:17 {'validation_loss': 1.060230016708374, 'validation_average_accuracy': 0.47571742883283297, 'validation_mIoU': 0.36553903949961986, 'validation_accuracy_pixelclass_0': 0.6789223185964572, 'validation_accuracy_pixelclass_1': 0.19301776112106891, 'validation_accuracy_pixelclass_2': 0.8421615518601102, 'validation_accuracy_pixelclass_3': 0.05733406207365562, 'validation_accuracy_pixelclass_4': 0.7309658326607479, 'validation_accuracy_pixelclass_5': 0.3290900927462168, 'validation_accuracy_pixelclass_6': 0.8588755874895777, 'validation_accuracy_pixelclass_7': 0.4075763307865873, 'validation_accuracy_pixelclass_8': 0.7934185281783298, 'validation_accuracy_pixelclass_9': 0.7323797677645477, 'validation_accuracy_pixelclass_10': 0.24371912957854294, 'validation_accuracy_pixelclass_11': 0.31686561197098634, 'validation_accuracy_pixelclass_12': 0.0, 'train_IoU_class_0': 0.5129779309934372, 'train_IoU_class_1': 0.14294894421968196, 'train_IoU_class_2': 0.5572098246755582, 'train_IoU_class_3': 0.05627216366510241, 'train_IoU_class_4': 0.6716974213390111, 'train_IoU_class_5': 0.29399744528186256, 'train_IoU_class_6': 0.6631903400357911, 'train_IoU_class_7': 0.3141335164155385, 'train_IoU_class_8': 0.6171269412990216, 'train_IoU_class_9': 0.500527093454905, 'train_IoU_class_10': 0.18896648333152763, 'train_IoU_class_11': 0.2329594087836201, 'train_IoU_class_12': 0.0}\n",
            "For now best val loss at epoch:  17\n"
          ]
        },
        {
          "output_type": "stream",
          "name": "stderr",
          "text": [
            "Epoch:18, Training Loss:1.034: 100%|██████████| 104/104 [08:04<00:00,  4.66s/it]\n"
          ]
        },
        {
          "output_type": "stream",
          "name": "stdout",
          "text": [
            "{'train_loss': 1.0318118333816528, 'train_average_accuracy': 0.48796783235652924, 'train_mIoU': 0.37757924196271825, 'train_accuracy_pixelclass_0': 0.7848089921704124, 'train_accuracy_pixelclass_1': 0.16373833943594246, 'train_accuracy_pixelclass_2': 0.7870887073786405, 'train_accuracy_pixelclass_3': 0.08069717732300956, 'train_accuracy_pixelclass_4': 0.7874151700068319, 'train_accuracy_pixelclass_5': 0.559146283718718, 'train_accuracy_pixelclass_6': 0.8568621877559109, 'train_accuracy_pixelclass_7': 0.39844875276671987, 'train_accuracy_pixelclass_8': 0.724838304580605, 'train_accuracy_pixelclass_9': 0.74310717847027, 'train_accuracy_pixelclass_10': 0.35604070984222475, 'train_accuracy_pixelclass_11': 0.10139001718559444, 'train_accuracy_pixelclass_12': 0.0, 'train_IoU_class_0': 0.59301892052898, 'train_IoU_class_1': 0.1357803476536457, 'train_IoU_class_2': 0.5619315340777334, 'train_IoU_class_3': 0.08035139024456113, 'train_IoU_class_4': 0.6808253418862795, 'train_IoU_class_5': 0.49171291138932544, 'train_IoU_class_6': 0.679445228409629, 'train_IoU_class_7': 0.31372540985806885, 'train_IoU_class_8': 0.5250715687153493, 'train_IoU_class_9': 0.5029511678422988, 'train_IoU_class_10': 0.26448761032016277, 'train_IoU_class_11': 0.07922871458930417, 'train_IoU_class_12': 0.0}\n"
          ]
        },
        {
          "output_type": "stream",
          "name": "stderr",
          "text": [
            "Validation Loss:1.031: 100%|██████████| 26/26 [00:38<00:00,  1.48s/it]\n"
          ]
        },
        {
          "output_type": "stream",
          "name": "stdout",
          "text": [
            "Epoch:18 {'validation_loss': 1.0313588380813599, 'validation_average_accuracy': 0.5101902224345295, 'validation_mIoU': 0.3886218024954226, 'validation_accuracy_pixelclass_0': 0.8346719017770493, 'validation_accuracy_pixelclass_1': 0.2602116262017272, 'validation_accuracy_pixelclass_2': 0.7778747028419375, 'validation_accuracy_pixelclass_3': 0.02038943104016555, 'validation_accuracy_pixelclass_4': 0.8107106492476698, 'validation_accuracy_pixelclass_5': 0.5846017770737827, 'validation_accuracy_pixelclass_6': 0.8279073453126958, 'validation_accuracy_pixelclass_7': 0.43581612182178003, 'validation_accuracy_pixelclass_8': 0.8003827787107488, 'validation_accuracy_pixelclass_9': 0.6742458606532599, 'validation_accuracy_pixelclass_10': 0.3812442430125185, 'validation_accuracy_pixelclass_11': 0.22441645395554813, 'validation_accuracy_pixelclass_12': 0.0, 'train_IoU_class_0': 0.5497669957416692, 'train_IoU_class_1': 0.1821634435433562, 'train_IoU_class_2': 0.5803286911261438, 'train_IoU_class_3': 0.020251454524358104, 'train_IoU_class_4': 0.6604463916812255, 'train_IoU_class_5': 0.4856152246675727, 'train_IoU_class_6': 0.6886647844625988, 'train_IoU_class_7': 0.3102047866334305, 'train_IoU_class_8': 0.6614820385978243, 'train_IoU_class_9': 0.48227301067396333, 'train_IoU_class_10': 0.24453985501164271, 'train_IoU_class_11': 0.1863467557767093, 'train_IoU_class_12': 0.0}\n",
            "For now best val loss at epoch:  18\n"
          ]
        },
        {
          "output_type": "stream",
          "name": "stderr",
          "text": [
            "Epoch:19, Training Loss:1.006: 100%|██████████| 104/104 [07:55<00:00,  4.57s/it]\n"
          ]
        },
        {
          "output_type": "stream",
          "name": "stdout",
          "text": [
            "{'train_loss': 1.0060492753982544, 'train_average_accuracy': 0.5023203835663883, 'train_mIoU': 0.3920369389996094, 'train_accuracy_pixelclass_0': 0.7939805532894868, 'train_accuracy_pixelclass_1': 0.18161269992560436, 'train_accuracy_pixelclass_2': 0.7904670477806027, 'train_accuracy_pixelclass_3': 0.0868346108890367, 'train_accuracy_pixelclass_4': 0.7750856056225894, 'train_accuracy_pixelclass_5': 0.5970315929929548, 'train_accuracy_pixelclass_6': 0.8566902206876891, 'train_accuracy_pixelclass_7': 0.37631517324354224, 'train_accuracy_pixelclass_8': 0.7813890306449194, 'train_accuracy_pixelclass_9': 0.7451357148626836, 'train_accuracy_pixelclass_10': 0.4025860957785115, 'train_accuracy_pixelclass_11': 0.14303664064542784, 'train_accuracy_pixelclass_12': 0.0, 'train_IoU_class_0': 0.6024058584518308, 'train_IoU_class_1': 0.14861423190545028, 'train_IoU_class_2': 0.5659724107863671, 'train_IoU_class_3': 0.08659181181707185, 'train_IoU_class_4': 0.6738107989381866, 'train_IoU_class_5': 0.5272989214631788, 'train_IoU_class_6': 0.6819518516202852, 'train_IoU_class_7': 0.2931271155371013, 'train_IoU_class_8': 0.5878820564714778, 'train_IoU_class_9': 0.5113224720877131, 'train_IoU_class_10': 0.3005103273187798, 'train_IoU_class_11': 0.11699235059747948, 'train_IoU_class_12': 0.0}\n"
          ]
        },
        {
          "output_type": "stream",
          "name": "stderr",
          "text": [
            "Validation Loss:1.044: 100%|██████████| 26/26 [00:32<00:00,  1.26s/it]\n"
          ]
        },
        {
          "output_type": "stream",
          "name": "stdout",
          "text": [
            "Epoch:19 {'validation_loss': 1.0438580513000488, 'validation_average_accuracy': 0.481090257555378, 'validation_mIoU': 0.3645062999510185, 'validation_accuracy_pixelclass_0': 0.7666457625800692, 'validation_accuracy_pixelclass_1': 0.21006497474335994, 'validation_accuracy_pixelclass_2': 0.7400115175344533, 'validation_accuracy_pixelclass_3': 0.01915863870195216, 'validation_accuracy_pixelclass_4': 0.843767096220263, 'validation_accuracy_pixelclass_5': 0.4903197460992826, 'validation_accuracy_pixelclass_6': 0.843451450559005, 'validation_accuracy_pixelclass_7': 0.4151510036008145, 'validation_accuracy_pixelclass_8': 0.7963638367936654, 'validation_accuracy_pixelclass_9': 0.6646774428275376, 'validation_accuracy_pixelclass_10': 0.46180725126893235, 'validation_accuracy_pixelclass_11': 0.002754627290580229, 'validation_accuracy_pixelclass_12': 0.0, 'train_IoU_class_0': 0.5761533715279702, 'train_IoU_class_1': 0.16243273870132244, 'train_IoU_class_2': 0.5617610100816502, 'train_IoU_class_3': 0.019149770219438353, 'train_IoU_class_4': 0.6508980739669766, 'train_IoU_class_5': 0.45068865839143, 'train_IoU_class_6': 0.6736635206249385, 'train_IoU_class_7': 0.30368078712802243, 'train_IoU_class_8': 0.5854959202668348, 'train_IoU_class_9': 0.4850823625825028, 'train_IoU_class_10': 0.26708356566213237, 'train_IoU_class_11': 0.0024921202100217413, 'train_IoU_class_12': 0.0}\n"
          ]
        },
        {
          "output_type": "stream",
          "name": "stderr",
          "text": [
            "Epoch:20, Training Loss:0.9762: 100%|██████████| 104/104 [08:16<00:00,  4.77s/it]\n"
          ]
        },
        {
          "output_type": "stream",
          "name": "stdout",
          "text": [
            "{'train_loss': 0.9806451201438904, 'train_average_accuracy': 0.5089232626944582, 'train_mIoU': 0.39777644226492703, 'train_accuracy_pixelclass_0': 0.8037707383696903, 'train_accuracy_pixelclass_1': 0.205956119431073, 'train_accuracy_pixelclass_2': 0.7892005990634929, 'train_accuracy_pixelclass_3': 0.08627020464569624, 'train_accuracy_pixelclass_4': 0.7930156121871986, 'train_accuracy_pixelclass_5': 0.5998103845830536, 'train_accuracy_pixelclass_6': 0.8547327214101367, 'train_accuracy_pixelclass_7': 0.39831166162892623, 'train_accuracy_pixelclass_8': 0.7936124300898114, 'train_accuracy_pixelclass_9': 0.7351602650750584, 'train_accuracy_pixelclass_10': 0.44375371927826857, 'train_accuracy_pixelclass_11': 0.11240795926555038, 'train_accuracy_pixelclass_12': 0.0, 'train_IoU_class_0': 0.6075994645363741, 'train_IoU_class_1': 0.16804987045582756, 'train_IoU_class_2': 0.5613808466325996, 'train_IoU_class_3': 0.08585714469337652, 'train_IoU_class_4': 0.7031517908357761, 'train_IoU_class_5': 0.5210810421066205, 'train_IoU_class_6': 0.6817769034783301, 'train_IoU_class_7': 0.31156433080967577, 'train_IoU_class_8': 0.6002402719206765, 'train_IoU_class_9': 0.513831138429085, 'train_IoU_class_10': 0.3261670205490816, 'train_IoU_class_11': 0.09039392499662928, 'train_IoU_class_12': 0.0}\n"
          ]
        },
        {
          "output_type": "stream",
          "name": "stderr",
          "text": [
            "Validation Loss:0.9884: 100%|██████████| 26/26 [00:29<00:00,  1.14s/it]\n"
          ]
        },
        {
          "output_type": "stream",
          "name": "stdout",
          "text": [
            "Epoch:20 {'validation_loss': 0.9884440302848816, 'validation_average_accuracy': 0.5221871833495115, 'validation_mIoU': 0.4037279320396297, 'validation_accuracy_pixelclass_0': 0.8022564295214176, 'validation_accuracy_pixelclass_1': 0.2701452256802998, 'validation_accuracy_pixelclass_2': 0.7898158707464081, 'validation_accuracy_pixelclass_3': 0.03750787498487586, 'validation_accuracy_pixelclass_4': 0.7990842540351907, 'validation_accuracy_pixelclass_5': 0.5188855038029225, 'validation_accuracy_pixelclass_6': 0.8749939621209514, 'validation_accuracy_pixelclass_7': 0.4160538449132654, 'validation_accuracy_pixelclass_8': 0.7778957021831521, 'validation_accuracy_pixelclass_9': 0.669129194528409, 'validation_accuracy_pixelclass_10': 0.4237329720519434, 'validation_accuracy_pixelclass_11': 0.40893254897481296, 'validation_accuracy_pixelclass_12': 0.0, 'train_IoU_class_0': 0.5730145975819284, 'train_IoU_class_1': 0.18924896425715104, 'train_IoU_class_2': 0.5866471830389893, 'train_IoU_class_3': 0.037465358087974826, 'train_IoU_class_4': 0.6719391676137901, 'train_IoU_class_5': 0.4590346144339036, 'train_IoU_class_6': 0.6817385409438509, 'train_IoU_class_7': 0.3234604646802577, 'train_IoU_class_8': 0.6787534784630758, 'train_IoU_class_9': 0.48523083342917334, 'train_IoU_class_10': 0.2619486064172353, 'train_IoU_class_11': 0.29998130756785674, 'train_IoU_class_12': 0.0}\n",
            "For now best val loss at epoch:  20\n"
          ]
        },
        {
          "output_type": "stream",
          "name": "stderr",
          "text": [
            "Epoch:21, Training Loss:0.9662: 100%|██████████| 104/104 [07:12<00:00,  4.16s/it]\n"
          ]
        },
        {
          "output_type": "stream",
          "name": "stdout",
          "text": [
            "{'train_loss': 0.9660249948501587, 'train_average_accuracy': 0.5208780776251727, 'train_mIoU': 0.4073742057681446, 'train_accuracy_pixelclass_0': 0.8120991170781694, 'train_accuracy_pixelclass_1': 0.201757515325345, 'train_accuracy_pixelclass_2': 0.7877628135490016, 'train_accuracy_pixelclass_3': 0.1363086281828573, 'train_accuracy_pixelclass_4': 0.7906958835795354, 'train_accuracy_pixelclass_5': 0.5706338709317013, 'train_accuracy_pixelclass_6': 0.8502733295648253, 'train_accuracy_pixelclass_7': 0.40552491640401334, 'train_accuracy_pixelclass_8': 0.7938658639677469, 'train_accuracy_pixelclass_9': 0.7419514166020383, 'train_accuracy_pixelclass_10': 0.471785583594846, 'train_accuracy_pixelclass_11': 0.20875607034716498, 'train_accuracy_pixelclass_12': 0.0, 'train_IoU_class_0': 0.6055530692295003, 'train_IoU_class_1': 0.1655736211349131, 'train_IoU_class_2': 0.5728717546539838, 'train_IoU_class_3': 0.13495828708510868, 'train_IoU_class_4': 0.6987791005867573, 'train_IoU_class_5': 0.4888509477708504, 'train_IoU_class_6': 0.6780605593470922, 'train_IoU_class_7': 0.3191061496688162, 'train_IoU_class_8': 0.5957621380818423, 'train_IoU_class_9': 0.5243843103433531, 'train_IoU_class_10': 0.34616390353763465, 'train_IoU_class_11': 0.16580083354602654, 'train_IoU_class_12': 0.0}\n"
          ]
        },
        {
          "output_type": "stream",
          "name": "stderr",
          "text": [
            "Validation Loss:0.9997: 100%|██████████| 26/26 [00:29<00:00,  1.14s/it]\n"
          ]
        },
        {
          "output_type": "stream",
          "name": "stdout",
          "text": [
            "Epoch:21 {'validation_loss': 0.9997084736824036, 'validation_average_accuracy': 0.472002421241489, 'validation_mIoU': 0.37510817165812654, 'validation_accuracy_pixelclass_0': 0.6745758843589968, 'validation_accuracy_pixelclass_1': 0.19037294280593123, 'validation_accuracy_pixelclass_2': 0.7648328444527658, 'validation_accuracy_pixelclass_3': 7.927137093577768e-05, 'validation_accuracy_pixelclass_4': 0.7821093565964217, 'validation_accuracy_pixelclass_5': 0.4259022667229349, 'validation_accuracy_pixelclass_6': 0.8358423022803767, 'validation_accuracy_pixelclass_7': 0.36950476365604007, 'validation_accuracy_pixelclass_8': 0.8140767339969415, 'validation_accuracy_pixelclass_9': 0.719165182243063, 'validation_accuracy_pixelclass_10': 0.3812484490307698, 'validation_accuracy_pixelclass_11': 0.1783214786241801, 'validation_accuracy_pixelclass_12': 0.0, 'train_IoU_class_0': 0.5569544474478931, 'train_IoU_class_1': 0.14300030523092364, 'train_IoU_class_2': 0.5706679357199579, 'train_IoU_class_3': 7.927104020293386e-05, 'train_IoU_class_4': 0.6910402385721158, 'train_IoU_class_5': 0.3876390601350131, 'train_IoU_class_6': 0.6821961520751517, 'train_IoU_class_7': 0.30662876833550656, 'train_IoU_class_8': 0.6780191927331332, 'train_IoU_class_9': 0.4798891194788705, 'train_IoU_class_10': 0.23087246194868682, 'train_IoU_class_11': 0.14941927883818956, 'train_IoU_class_12': 0.0}\n"
          ]
        },
        {
          "output_type": "stream",
          "name": "stderr",
          "text": [
            "Epoch:22, Training Loss:0.9461: 100%|██████████| 104/104 [06:35<00:00,  3.80s/it]\n"
          ]
        },
        {
          "output_type": "stream",
          "name": "stdout",
          "text": [
            "{'train_loss': 0.9443098306655884, 'train_average_accuracy': 0.5338370769353334, 'train_mIoU': 0.424378708121532, 'train_accuracy_pixelclass_0': 0.8021104909508322, 'train_accuracy_pixelclass_1': 0.22724225474088902, 'train_accuracy_pixelclass_2': 0.7902813934746002, 'train_accuracy_pixelclass_3': 0.1708458990139035, 'train_accuracy_pixelclass_4': 0.7922315502819472, 'train_accuracy_pixelclass_5': 0.5953700639606213, 'train_accuracy_pixelclass_6': 0.8593375328018306, 'train_accuracy_pixelclass_7': 0.44865963805427483, 'train_accuracy_pixelclass_8': 0.7949504055373792, 'train_accuracy_pixelclass_9': 0.7509564684300051, 'train_accuracy_pixelclass_10': 0.48717818059393464, 'train_accuracy_pixelclass_11': 0.22071812231911714, 'train_accuracy_pixelclass_12': 0.0, 'train_IoU_class_0': 0.6254553005337921, 'train_IoU_class_1': 0.18048063197755534, 'train_IoU_class_2': 0.5774809527284575, 'train_IoU_class_3': 0.16965630106169857, 'train_IoU_class_4': 0.7079512194705821, 'train_IoU_class_5': 0.5310197364674798, 'train_IoU_class_6': 0.6889696323237888, 'train_IoU_class_7': 0.35336484716854577, 'train_IoU_class_8': 0.6112204116689325, 'train_IoU_class_9': 0.5333134323607057, 'train_IoU_class_10': 0.3632120673271957, 'train_IoU_class_11': 0.17479867249118142, 'train_IoU_class_12': 0.0}\n"
          ]
        },
        {
          "output_type": "stream",
          "name": "stderr",
          "text": [
            "Validation Loss:1.0: 100%|██████████| 26/26 [00:27<00:00,  1.07s/it]\n"
          ]
        },
        {
          "output_type": "stream",
          "name": "stdout",
          "text": [
            "Epoch:22 {'validation_loss': 0.9999788999557495, 'validation_average_accuracy': 0.4759963760690473, 'validation_mIoU': 0.37399495025316065, 'validation_accuracy_pixelclass_0': 0.7754537550101642, 'validation_accuracy_pixelclass_1': 0.17601535766661236, 'validation_accuracy_pixelclass_2': 0.7155793092883526, 'validation_accuracy_pixelclass_3': 0.00916210160920883, 'validation_accuracy_pixelclass_4': 0.8002105932525201, 'validation_accuracy_pixelclass_5': 0.549713552355461, 'validation_accuracy_pixelclass_6': 0.8841232352423976, 'validation_accuracy_pixelclass_7': 0.3522128655640648, 'validation_accuracy_pixelclass_8': 0.7329895674037659, 'validation_accuracy_pixelclass_9': 0.7177408647563758, 'validation_accuracy_pixelclass_10': 0.4633158098150707, 'validation_accuracy_pixelclass_11': 0.01143587693362095, 'validation_accuracy_pixelclass_12': 0.0, 'train_IoU_class_0': 0.5761020756339214, 'train_IoU_class_1': 0.1465354543003505, 'train_IoU_class_2': 0.5760650044571048, 'train_IoU_class_3': 0.009161337154728976, 'train_IoU_class_4': 0.7111035359225989, 'train_IoU_class_5': 0.46872766408425826, 'train_IoU_class_6': 0.6773062758739615, 'train_IoU_class_7': 0.2872512913305683, 'train_IoU_class_8': 0.6316898536619383, 'train_IoU_class_9': 0.4931223734603448, 'train_IoU_class_10': 0.27443578531094404, 'train_IoU_class_11': 0.010433702100368767, 'train_IoU_class_12': 0.0}\n"
          ]
        },
        {
          "output_type": "stream",
          "name": "stderr",
          "text": [
            "Epoch:23, Training Loss:0.9209: 100%|██████████| 104/104 [06:43<00:00,  3.88s/it]\n"
          ]
        },
        {
          "output_type": "stream",
          "name": "stdout",
          "text": [
            "{'train_loss': 0.921281099319458, 'train_average_accuracy': 0.5420156587813587, 'train_mIoU': 0.4318625864047544, 'train_accuracy_pixelclass_0': 0.8053224193317939, 'train_accuracy_pixelclass_1': 0.21362629467490096, 'train_accuracy_pixelclass_2': 0.8014640776666863, 'train_accuracy_pixelclass_3': 0.2066282216037145, 'train_accuracy_pixelclass_4': 0.8055886048821218, 'train_accuracy_pixelclass_5': 0.6281830012226045, 'train_accuracy_pixelclass_6': 0.8601534040940337, 'train_accuracy_pixelclass_7': 0.4496454740634872, 'train_accuracy_pixelclass_8': 0.8214780678235686, 'train_accuracy_pixelclass_9': 0.7423094599871537, 'train_accuracy_pixelclass_10': 0.5517963270810368, 'train_accuracy_pixelclass_11': 0.16000367264735998, 'train_accuracy_pixelclass_12': 4.539079202393002e-06, 'train_IoU_class_0': 0.6232475040494422, 'train_IoU_class_1': 0.17331977868056697, 'train_IoU_class_2': 0.5803111356372795, 'train_IoU_class_3': 0.20599183423312994, 'train_IoU_class_4': 0.7225131637152357, 'train_IoU_class_5': 0.5505444460349603, 'train_IoU_class_6': 0.6930348504412291, 'train_IoU_class_7': 0.35015098225801267, 'train_IoU_class_8': 0.6411266042659871, 'train_IoU_class_9': 0.5395130867374043, 'train_IoU_class_10': 0.40450021526360874, 'train_IoU_class_11': 0.12995548292755682, 'train_IoU_class_12': 4.539017393514652e-06}\n"
          ]
        },
        {
          "output_type": "stream",
          "name": "stderr",
          "text": [
            "Validation Loss:0.9707: 100%|██████████| 26/26 [00:26<00:00,  1.03s/it]\n"
          ]
        },
        {
          "output_type": "stream",
          "name": "stdout",
          "text": [
            "Epoch:23 {'validation_loss': 0.9706500172615051, 'validation_average_accuracy': 0.5353630189339355, 'validation_mIoU': 0.4052486556261761, 'validation_accuracy_pixelclass_0': 0.8573371829168169, 'validation_accuracy_pixelclass_1': 0.2847543588072348, 'validation_accuracy_pixelclass_2': 0.7656725464720222, 'validation_accuracy_pixelclass_3': 0.023935781845187184, 'validation_accuracy_pixelclass_4': 0.762029624652283, 'validation_accuracy_pixelclass_5': 0.5771019167808411, 'validation_accuracy_pixelclass_6': 0.8215199796180146, 'validation_accuracy_pixelclass_7': 0.44605410114535743, 'validation_accuracy_pixelclass_8': 0.7933094643912599, 'validation_accuracy_pixelclass_9': 0.7136843854638192, 'validation_accuracy_pixelclass_10': 0.35416402816910625, 'validation_accuracy_pixelclass_11': 0.5601558758792181, 'validation_accuracy_pixelclass_12': 0.0, 'train_IoU_class_0': 0.5865713468450355, 'train_IoU_class_1': 0.19523758983110495, 'train_IoU_class_2': 0.5857646979672535, 'train_IoU_class_3': 0.023891723060905777, 'train_IoU_class_4': 0.6373173856406171, 'train_IoU_class_5': 0.45416743123787745, 'train_IoU_class_6': 0.6755083704964564, 'train_IoU_class_7': 0.31573834663315176, 'train_IoU_class_8': 0.6915531524568804, 'train_IoU_class_9': 0.5075158213746467, 'train_IoU_class_10': 0.2449747553847044, 'train_IoU_class_11': 0.349991902211657, 'train_IoU_class_12': 0.0}\n",
            "For now best val loss at epoch:  23\n"
          ]
        },
        {
          "output_type": "stream",
          "name": "stderr",
          "text": [
            "Epoch:24, Training Loss:0.9153: 100%|██████████| 104/104 [06:07<00:00,  3.53s/it]\n"
          ]
        },
        {
          "output_type": "stream",
          "name": "stdout",
          "text": [
            "{'train_loss': 0.9135912656784058, 'train_average_accuracy': 0.5521831322270734, 'train_mIoU': 0.44103939051169794, 'train_accuracy_pixelclass_0': 0.8161427054863445, 'train_accuracy_pixelclass_1': 0.2297430947099213, 'train_accuracy_pixelclass_2': 0.7939244302962742, 'train_accuracy_pixelclass_3': 0.22628428251309307, 'train_accuracy_pixelclass_4': 0.80696198604408, 'train_accuracy_pixelclass_5': 0.6481447589213415, 'train_accuracy_pixelclass_6': 0.8566381401989847, 'train_accuracy_pixelclass_7': 0.44804254849554137, 'train_accuracy_pixelclass_8': 0.7987221233527877, 'train_accuracy_pixelclass_9': 0.7613629943601746, 'train_accuracy_pixelclass_10': 0.5236507179724866, 'train_accuracy_pixelclass_11': 0.26876293660092493, 'train_accuracy_pixelclass_12': 0.0, 'train_IoU_class_0': 0.6313700842428159, 'train_IoU_class_1': 0.18591497602007137, 'train_IoU_class_2': 0.5842147424036751, 'train_IoU_class_3': 0.2244858213277162, 'train_IoU_class_4': 0.7228708161794112, 'train_IoU_class_5': 0.566731298665895, 'train_IoU_class_6': 0.6964838651980372, 'train_IoU_class_7': 0.3510643727403037, 'train_IoU_class_8': 0.6123229231565468, 'train_IoU_class_9': 0.5480911629743396, 'train_IoU_class_10': 0.39654542738158494, 'train_IoU_class_11': 0.21341658636167676, 'train_IoU_class_12': 0.0}\n"
          ]
        },
        {
          "output_type": "stream",
          "name": "stderr",
          "text": [
            "Validation Loss:0.9738: 100%|██████████| 26/26 [00:29<00:00,  1.15s/it]\n"
          ]
        },
        {
          "output_type": "stream",
          "name": "stdout",
          "text": [
            "Epoch:24 {'validation_loss': 0.9737598896026611, 'validation_average_accuracy': 0.5220583316278871, 'validation_mIoU': 0.3992071041320321, 'validation_accuracy_pixelclass_0': 0.7921497580882152, 'validation_accuracy_pixelclass_1': 0.18576971647384716, 'validation_accuracy_pixelclass_2': 0.8204678312804132, 'validation_accuracy_pixelclass_3': 0.00040470120951423337, 'validation_accuracy_pixelclass_4': 0.8235612142837834, 'validation_accuracy_pixelclass_5': 0.535947107871192, 'validation_accuracy_pixelclass_6': 0.8794640447065085, 'validation_accuracy_pixelclass_7': 0.4556319060200976, 'validation_accuracy_pixelclass_8': 0.8519552908836747, 'validation_accuracy_pixelclass_9': 0.6175617920757757, 'validation_accuracy_pixelclass_10': 0.4618904369632361, 'validation_accuracy_pixelclass_11': 0.36195451130627326, 'validation_accuracy_pixelclass_12': 0.0, 'train_IoU_class_0': 0.5990633906723976, 'train_IoU_class_1': 0.14040774289690505, 'train_IoU_class_2': 0.5810190036970793, 'train_IoU_class_3': 0.00040376122310513196, 'train_IoU_class_4': 0.7304051793915745, 'train_IoU_class_5': 0.48456286271305443, 'train_IoU_class_6': 0.6811006343513027, 'train_IoU_class_7': 0.3186652688547799, 'train_IoU_class_8': 0.6564286130579572, 'train_IoU_class_9': 0.46829072015839435, 'train_IoU_class_10': 0.2783168340530502, 'train_IoU_class_11': 0.25102834264681684, 'train_IoU_class_12': 0.0}\n"
          ]
        },
        {
          "output_type": "stream",
          "name": "stderr",
          "text": [
            "Epoch:25, Training Loss:0.899: 100%|██████████| 104/104 [06:15<00:00,  3.61s/it]\n"
          ]
        },
        {
          "output_type": "stream",
          "name": "stdout",
          "text": [
            "{'train_loss': 0.9006687998771667, 'train_average_accuracy': 0.5509202411322648, 'train_mIoU': 0.4388894138735639, 'train_accuracy_pixelclass_0': 0.8112159904051833, 'train_accuracy_pixelclass_1': 0.2363849989315639, 'train_accuracy_pixelclass_2': 0.7906103411933301, 'train_accuracy_pixelclass_3': 0.21097944502205318, 'train_accuracy_pixelclass_4': 0.7913583904329173, 'train_accuracy_pixelclass_5': 0.6294635969257191, 'train_accuracy_pixelclass_6': 0.8552163259481058, 'train_accuracy_pixelclass_7': 0.46372961464650136, 'train_accuracy_pixelclass_8': 0.8350400183750355, 'train_accuracy_pixelclass_9': 0.7566223240712078, 'train_accuracy_pixelclass_10': 0.5331839014588184, 'train_accuracy_pixelclass_11': 0.24815818730900738, 'train_accuracy_pixelclass_12': 0.0, 'train_IoU_class_0': 0.629937446811895, 'train_IoU_class_1': 0.18792031786748944, 'train_IoU_class_2': 0.5752489659404108, 'train_IoU_class_3': 0.20919112185676747, 'train_IoU_class_4': 0.7075328911057169, 'train_IoU_class_5': 0.5394530583882832, 'train_IoU_class_6': 0.6939964181067284, 'train_IoU_class_7': 0.36004806520149074, 'train_IoU_class_8': 0.6605242028986992, 'train_IoU_class_9': 0.5519052054975853, 'train_IoU_class_10': 0.39737778847238947, 'train_IoU_class_11': 0.1924268982088755, 'train_IoU_class_12': 0.0}\n"
          ]
        },
        {
          "output_type": "stream",
          "name": "stderr",
          "text": [
            "Validation Loss:0.9868: 100%|██████████| 26/26 [00:27<00:00,  1.04s/it]\n"
          ]
        },
        {
          "output_type": "stream",
          "name": "stdout",
          "text": [
            "Epoch:25 {'validation_loss': 0.9867879152297974, 'validation_average_accuracy': 0.5452782555698671, 'validation_mIoU': 0.40830494290354324, 'validation_accuracy_pixelclass_0': 0.8841731827835154, 'validation_accuracy_pixelclass_1': 0.2826839253707023, 'validation_accuracy_pixelclass_2': 0.7424294432813436, 'validation_accuracy_pixelclass_3': 0.00680064919080619, 'validation_accuracy_pixelclass_4': 0.7879071072648236, 'validation_accuracy_pixelclass_5': 0.6029294161401155, 'validation_accuracy_pixelclass_6': 0.8917813179656026, 'validation_accuracy_pixelclass_7': 0.43899942875315956, 'validation_accuracy_pixelclass_8': 0.8491976188912552, 'validation_accuracy_pixelclass_9': 0.636098579297995, 'validation_accuracy_pixelclass_10': 0.4173711357791485, 'validation_accuracy_pixelclass_11': 0.5482455176898035, 'validation_accuracy_pixelclass_12': 0.0, 'train_IoU_class_0': 0.5942651852927782, 'train_IoU_class_1': 0.2001201125857226, 'train_IoU_class_2': 0.5903442742885672, 'train_IoU_class_3': 0.006788555245512473, 'train_IoU_class_4': 0.6826219620998537, 'train_IoU_class_5': 0.472130385643214, 'train_IoU_class_6': 0.6711437779992706, 'train_IoU_class_7': 0.31284095925620803, 'train_IoU_class_8': 0.685836898489422, 'train_IoU_class_9': 0.47938181625848014, 'train_IoU_class_10': 0.2676856112468558, 'train_IoU_class_11': 0.34480471934017654, 'train_IoU_class_12': 0.0}\n",
            "An error occurred: Parent directory intermediate_model../../drive/MyDrive/MVA/epoch../../drive/MyDrive/MVA does not exist.\n",
            "Memory usage: svmem(total=13609451520, available=9401348096, percent=30.9, used=3671769088, free=825823232, active=4286877696, inactive=7762386944, buffers=174551040, cached=8937308160, shared=203194368, slab=452497408)\n",
            "GPU usage: [<GPUtil.GPUtil.GPU object at 0x7a6d35f77f10>]\n"
          ]
        },
        {
          "output_type": "stream",
          "name": "stderr",
          "text": [
            "\r  0%|          | 0/104 [00:00<?, ?it/s]/usr/local/lib/python3.10/dist-packages/torch/utils/data/dataloader.py:557: UserWarning: This DataLoader will create 4 worker processes in total. Our suggested max number of worker in current system is 2, which is smaller than what this DataLoader is going to create. Please be aware that excessive worker creation might get DataLoader running slow or even freeze, lower the worker number to avoid potential slowness/freeze if necessary.\n",
            "  warnings.warn(_create_warning_msg(\n",
            "Epoch:27, Training Loss:0.8667: 100%|██████████| 104/104 [06:21<00:00,  3.67s/it]\n"
          ]
        },
        {
          "output_type": "stream",
          "name": "stdout",
          "text": [
            "{'train_loss': 0.8693429231643677, 'train_average_accuracy': 0.5713348791720378, 'train_mIoU': 0.45939486358361664, 'train_accuracy_pixelclass_0': 0.808029667320626, 'train_accuracy_pixelclass_1': 0.25653319902854677, 'train_accuracy_pixelclass_2': 0.7986722818121138, 'train_accuracy_pixelclass_3': 0.1974879401755213, 'train_accuracy_pixelclass_4': 0.8085450655808597, 'train_accuracy_pixelclass_5': 0.6441119731175988, 'train_accuracy_pixelclass_6': 0.8577336059329822, 'train_accuracy_pixelclass_7': 0.4671145455671024, 'train_accuracy_pixelclass_8': 0.8610685843019515, 'train_accuracy_pixelclass_9': 0.760463372418504, 'train_accuracy_pixelclass_10': 0.6064741542981313, 'train_accuracy_pixelclass_11': 0.36111903968255554, 'train_accuracy_pixelclass_12': 0.0, 'train_IoU_class_0': 0.6348190912852695, 'train_IoU_class_1': 0.20431907808483563, 'train_IoU_class_2': 0.5915860675335894, 'train_IoU_class_3': 0.19636064773792555, 'train_IoU_class_4': 0.7289453685648852, 'train_IoU_class_5': 0.5634244537221079, 'train_IoU_class_6': 0.6955157374616435, 'train_IoU_class_7': 0.37058365809715355, 'train_IoU_class_8': 0.7011158212679832, 'train_IoU_class_9': 0.5626461545352927, 'train_IoU_class_10': 0.4592602570617477, 'train_IoU_class_11': 0.2635568912345821, 'train_IoU_class_12': 0.0}\n"
          ]
        },
        {
          "output_type": "stream",
          "name": "stderr",
          "text": [
            "Validation Loss:0.9833: 100%|██████████| 26/26 [00:28<00:00,  1.11s/it]\n"
          ]
        },
        {
          "output_type": "stream",
          "name": "stdout",
          "text": [
            "Epoch:27 {'validation_loss': 0.9833313822746277, 'validation_average_accuracy': 0.5273381569643293, 'validation_mIoU': 0.4160683470860178, 'validation_accuracy_pixelclass_0': 0.7835689839907012, 'validation_accuracy_pixelclass_1': 0.3421714599967411, 'validation_accuracy_pixelclass_2': 0.7824136326757559, 'validation_accuracy_pixelclass_3': 0.10056616447557816, 'validation_accuracy_pixelclass_4': 0.8392553031268464, 'validation_accuracy_pixelclass_5': 0.500037576381221, 'validation_accuracy_pixelclass_6': 0.8220412103792798, 'validation_accuracy_pixelclass_7': 0.45322407797896186, 'validation_accuracy_pixelclass_8': 0.8210456754449333, 'validation_accuracy_pixelclass_9': 0.6762255647367185, 'validation_accuracy_pixelclass_10': 0.46029308469845887, 'validation_accuracy_pixelclass_11': 0.27455330665108496, 'validation_accuracy_pixelclass_12': 0.0, 'train_IoU_class_0': 0.6177576083278598, 'train_IoU_class_1': 0.22693914989932504, 'train_IoU_class_2': 0.5867012081237423, 'train_IoU_class_3': 0.09980497782709691, 'train_IoU_class_4': 0.707957625351819, 'train_IoU_class_5': 0.47033096498223737, 'train_IoU_class_6': 0.6898428378366563, 'train_IoU_class_7': 0.314640913316832, 'train_IoU_class_8': 0.6812851199277568, 'train_IoU_class_9': 0.4864058076831081, 'train_IoU_class_10': 0.28855546922699216, 'train_IoU_class_11': 0.23866682961480587, 'train_IoU_class_12': 0.0}\n"
          ]
        },
        {
          "output_type": "stream",
          "name": "stderr",
          "text": [
            "Epoch:28, Training Loss:0.8634: 100%|██████████| 104/104 [07:37<00:00,  4.40s/it]\n"
          ]
        },
        {
          "output_type": "stream",
          "name": "stdout",
          "text": [
            "{'train_loss': 0.8623502254486084, 'train_average_accuracy': 0.5730051015467427, 'train_mIoU': 0.4630081886145023, 'train_accuracy_pixelclass_0': 0.8324041171268195, 'train_accuracy_pixelclass_1': 0.26753233683333594, 'train_accuracy_pixelclass_2': 0.799217293751851, 'train_accuracy_pixelclass_3': 0.29567267020981186, 'train_accuracy_pixelclass_4': 0.815506797059386, 'train_accuracy_pixelclass_5': 0.6426419748094535, 'train_accuracy_pixelclass_6': 0.8594575039275959, 'train_accuracy_pixelclass_7': 0.47450508574027866, 'train_accuracy_pixelclass_8': 0.8442833750542199, 'train_accuracy_pixelclass_9': 0.7491105333858142, 'train_accuracy_pixelclass_10': 0.6089746716501276, 'train_accuracy_pixelclass_11': 0.25975996055896095, 'train_accuracy_pixelclass_12': 0.0, 'train_IoU_class_0': 0.6453811134307474, 'train_IoU_class_1': 0.211262714285027, 'train_IoU_class_2': 0.5916794964055561, 'train_IoU_class_3': 0.2938630327598446, 'train_IoU_class_4': 0.7320934380598925, 'train_IoU_class_5': 0.5652603628991877, 'train_IoU_class_6': 0.7008940431117298, 'train_IoU_class_7': 0.37477210832677627, 'train_IoU_class_8': 0.6841986671860458, 'train_IoU_class_9': 0.5540830967926718, 'train_IoU_class_10': 0.45398109258000746, 'train_IoU_class_11': 0.21163728615104405, 'train_IoU_class_12': 0.0}\n"
          ]
        },
        {
          "output_type": "stream",
          "name": "stderr",
          "text": [
            "Validation Loss:0.9517: 100%|██████████| 26/26 [00:30<00:00,  1.17s/it]\n"
          ]
        },
        {
          "output_type": "stream",
          "name": "stdout",
          "text": [
            "Epoch:28 {'validation_loss': 0.951654314994812, 'validation_average_accuracy': 0.530379224890468, 'validation_mIoU': 0.41187310049830955, 'validation_accuracy_pixelclass_0': 0.7802657343646016, 'validation_accuracy_pixelclass_1': 0.2990080658302102, 'validation_accuracy_pixelclass_2': 0.7557039218244985, 'validation_accuracy_pixelclass_3': 0.005252771368849689, 'validation_accuracy_pixelclass_4': 0.8537458180633917, 'validation_accuracy_pixelclass_5': 0.5888527256365342, 'validation_accuracy_pixelclass_6': 0.8000854300690481, 'validation_accuracy_pixelclass_7': 0.4525782223823254, 'validation_accuracy_pixelclass_8': 0.8554652684610983, 'validation_accuracy_pixelclass_9': 0.7468518725004945, 'validation_accuracy_pixelclass_10': 0.33786757678670487, 'validation_accuracy_pixelclass_11': 0.41925251628832644, 'validation_accuracy_pixelclass_12': 0.0, 'train_IoU_class_0': 0.6063327466045985, 'train_IoU_class_1': 0.2090311373110207, 'train_IoU_class_2': 0.5852315125702732, 'train_IoU_class_3': 0.0052391534127321, 'train_IoU_class_4': 0.6640557729353481, 'train_IoU_class_5': 0.501549385005761, 'train_IoU_class_6': 0.6885339122118739, 'train_IoU_class_7': 0.32178616247056946, 'train_IoU_class_8': 0.6939016525057741, 'train_IoU_class_9': 0.5181230044945506, 'train_IoU_class_10': 0.24207639660876204, 'train_IoU_class_11': 0.318489470346761, 'train_IoU_class_12': 0.0}\n",
            "For now best val loss at epoch:  28\n"
          ]
        },
        {
          "output_type": "stream",
          "name": "stderr",
          "text": [
            "Epoch:29, Training Loss:0.8448: 100%|██████████| 104/104 [07:03<00:00,  4.07s/it]\n"
          ]
        },
        {
          "output_type": "stream",
          "name": "stdout",
          "text": [
            "{'train_loss': 0.843551516532898, 'train_average_accuracy': 0.5765134524510788, 'train_mIoU': 0.46353406262823577, 'train_accuracy_pixelclass_0': 0.8245627511559511, 'train_accuracy_pixelclass_1': 0.2641401932571867, 'train_accuracy_pixelclass_2': 0.801553295860903, 'train_accuracy_pixelclass_3': 0.19451608945257762, 'train_accuracy_pixelclass_4': 0.8156805380497542, 'train_accuracy_pixelclass_5': 0.6634975425544027, 'train_accuracy_pixelclass_6': 0.86228278589356, 'train_accuracy_pixelclass_7': 0.4880692130807196, 'train_accuracy_pixelclass_8': 0.8702156620121758, 'train_accuracy_pixelclass_9': 0.7603032217367898, 'train_accuracy_pixelclass_10': 0.6411575981832383, 'train_accuracy_pixelclass_11': 0.3086959906267652, 'train_accuracy_pixelclass_12': 0.0, 'train_IoU_class_0': 0.6551809799306342, 'train_IoU_class_1': 0.21238930506587628, 'train_IoU_class_2': 0.5942282295427243, 'train_IoU_class_3': 0.19074607886844452, 'train_IoU_class_4': 0.7347095831123978, 'train_IoU_class_5': 0.5760805095315437, 'train_IoU_class_6': 0.7051422757454295, 'train_IoU_class_7': 0.3901003770809585, 'train_IoU_class_8': 0.6961672797196976, 'train_IoU_class_9': 0.5742264219763554, 'train_IoU_class_10': 0.48356361394636227, 'train_IoU_class_11': 0.21340815964664023, 'train_IoU_class_12': 0.0}\n"
          ]
        },
        {
          "output_type": "stream",
          "name": "stderr",
          "text": [
            "Validation Loss:0.9463: 100%|██████████| 26/26 [00:53<00:00,  2.07s/it]\n"
          ]
        },
        {
          "output_type": "stream",
          "name": "stdout",
          "text": [
            "Epoch:29 {'validation_loss': 0.9463196992874146, 'validation_average_accuracy': 0.5091521139350256, 'validation_mIoU': 0.40482209602187097, 'validation_accuracy_pixelclass_0': 0.7594121407299464, 'validation_accuracy_pixelclass_1': 0.2632077969692032, 'validation_accuracy_pixelclass_2': 0.8010506676954907, 'validation_accuracy_pixelclass_3': 0.013859973381508075, 'validation_accuracy_pixelclass_4': 0.7282806399666346, 'validation_accuracy_pixelclass_5': 0.5060093305045062, 'validation_accuracy_pixelclass_6': 0.8406340893757638, 'validation_accuracy_pixelclass_7': 0.4572680232899899, 'validation_accuracy_pixelclass_8': 0.7849238664402518, 'validation_accuracy_pixelclass_9': 0.7525350147247327, 'validation_accuracy_pixelclass_10': 0.33134544448499875, 'validation_accuracy_pixelclass_11': 0.38045049359230637, 'validation_accuracy_pixelclass_12': 0.0, 'train_IoU_class_0': 0.6185557343230251, 'train_IoU_class_1': 0.18759072908440563, 'train_IoU_class_2': 0.5955684181775424, 'train_IoU_class_3': 0.013848360040686332, 'train_IoU_class_4': 0.6967453763112459, 'train_IoU_class_5': 0.42901745380044537, 'train_IoU_class_6': 0.6864773265161117, 'train_IoU_class_7': 0.32739701783106945, 'train_IoU_class_8': 0.6997755809254764, 'train_IoU_class_9': 0.5138705310602013, 'train_IoU_class_10': 0.23387320226942868, 'train_IoU_class_11': 0.2599675179446844, 'train_IoU_class_12': 0.0}\n",
            "For now best val loss at epoch:  29\n"
          ]
        },
        {
          "output_type": "stream",
          "name": "stderr",
          "text": [
            "Epoch:30, Training Loss:0.8302: 100%|██████████| 104/104 [06:53<00:00,  3.98s/it]\n"
          ]
        },
        {
          "output_type": "stream",
          "name": "stdout",
          "text": [
            "{'train_loss': 0.8318223357200623, 'train_average_accuracy': 0.578984171906577, 'train_mIoU': 0.47010048942914184, 'train_accuracy_pixelclass_0': 0.8198726290135662, 'train_accuracy_pixelclass_1': 0.27219216234993665, 'train_accuracy_pixelclass_2': 0.8040724674190892, 'train_accuracy_pixelclass_3': 0.24168081987433243, 'train_accuracy_pixelclass_4': 0.8115518029764441, 'train_accuracy_pixelclass_5': 0.6353904087797684, 'train_accuracy_pixelclass_6': 0.8603275693647009, 'train_accuracy_pixelclass_7': 0.4938340389758718, 'train_accuracy_pixelclass_8': 0.8560956100531938, 'train_accuracy_pixelclass_9': 0.7704959410595688, 'train_accuracy_pixelclass_10': 0.6237225764523788, 'train_accuracy_pixelclass_11': 0.33755820846664975, 'train_accuracy_pixelclass_12': 0.0, 'train_IoU_class_0': 0.6445368563568897, 'train_IoU_class_1': 0.21580376313980693, 'train_IoU_class_2': 0.5991933242476059, 'train_IoU_class_3': 0.23993922180834354, 'train_IoU_class_4': 0.7386673177530222, 'train_IoU_class_5': 0.5527712014440934, 'train_IoU_class_6': 0.6990330491927697, 'train_IoU_class_7': 0.3905095884750714, 'train_IoU_class_8': 0.7170998384646913, 'train_IoU_class_9': 0.5735282664633181, 'train_IoU_class_10': 0.4770070194487304, 'train_IoU_class_11': 0.26321691578450135, 'train_IoU_class_12': 0.0}\n"
          ]
        },
        {
          "output_type": "stream",
          "name": "stderr",
          "text": [
            "Validation Loss:1.005: 100%|██████████| 26/26 [00:29<00:00,  1.12s/it]\n"
          ]
        },
        {
          "output_type": "stream",
          "name": "stdout",
          "text": [
            "Epoch:30 {'validation_loss': 1.0052924156188965, 'validation_average_accuracy': 0.5069622844585491, 'validation_mIoU': 0.39838154642156515, 'validation_accuracy_pixelclass_0': 0.7753053056995447, 'validation_accuracy_pixelclass_1': 0.3530094101352452, 'validation_accuracy_pixelclass_2': 0.7907260207391269, 'validation_accuracy_pixelclass_3': 0.001981784273394442, 'validation_accuracy_pixelclass_4': 0.8563164459685423, 'validation_accuracy_pixelclass_5': 0.6150598427958369, 'validation_accuracy_pixelclass_6': 0.8381469567668918, 'validation_accuracy_pixelclass_7': 0.31792524353353097, 'validation_accuracy_pixelclass_8': 0.6294604743453828, 'validation_accuracy_pixelclass_9': 0.7139493182386467, 'validation_accuracy_pixelclass_10': 0.36378132256841905, 'validation_accuracy_pixelclass_11': 0.33484757289657624, 'validation_accuracy_pixelclass_12': 0.0, 'train_IoU_class_0': 0.6355898737572553, 'train_IoU_class_1': 0.2334885086931657, 'train_IoU_class_2': 0.5888841822680584, 'train_IoU_class_3': 0.0019801567450391864, 'train_IoU_class_4': 0.6642721267768075, 'train_IoU_class_5': 0.5259159176477373, 'train_IoU_class_6': 0.6903493491455381, 'train_IoU_class_7': 0.2591157821806382, 'train_IoU_class_8': 0.6094860941966656, 'train_IoU_class_9': 0.4806300384071485, 'train_IoU_class_10': 0.22309194959555384, 'train_IoU_class_11': 0.2661561240667407, 'train_IoU_class_12': 0.0}\n"
          ]
        },
        {
          "output_type": "stream",
          "name": "stderr",
          "text": [
            "Epoch:31, Training Loss:0.8212: 100%|██████████| 104/104 [07:36<00:00,  4.39s/it]\n"
          ]
        },
        {
          "output_type": "stream",
          "name": "stdout",
          "text": [
            "{'train_loss': 0.8219813108444214, 'train_average_accuracy': 0.5828423777366922, 'train_mIoU': 0.47534583670091923, 'train_accuracy_pixelclass_0': 0.8079231492875838, 'train_accuracy_pixelclass_1': 0.2815790560350167, 'train_accuracy_pixelclass_2': 0.7932915017540131, 'train_accuracy_pixelclass_3': 0.2954363170232414, 'train_accuracy_pixelclass_4': 0.8285857387921947, 'train_accuracy_pixelclass_5': 0.6323775240823284, 'train_accuracy_pixelclass_6': 0.8631128609554098, 'train_accuracy_pixelclass_7': 0.5110133170403028, 'train_accuracy_pixelclass_8': 0.8762815248861706, 'train_accuracy_pixelclass_9': 0.7673192301125615, 'train_accuracy_pixelclass_10': 0.6444404223252798, 'train_accuracy_pixelclass_11': 0.2755902682828976, 'train_accuracy_pixelclass_12': 0.0, 'train_IoU_class_0': 0.6443562057914717, 'train_IoU_class_1': 0.2243371558903207, 'train_IoU_class_2': 0.5896839709324433, 'train_IoU_class_3': 0.29363528768417513, 'train_IoU_class_4': 0.7491581784431537, 'train_IoU_class_5': 0.5538517812668184, 'train_IoU_class_6': 0.7003874344773875, 'train_IoU_class_7': 0.4096352996089696, 'train_IoU_class_8': 0.7336277293744452, 'train_IoU_class_9': 0.5771918049462139, 'train_IoU_class_10': 0.48526100275867534, 'train_IoU_class_11': 0.21837002593787563, 'train_IoU_class_12': 0.0}\n"
          ]
        },
        {
          "output_type": "stream",
          "name": "stderr",
          "text": [
            "Validation Loss:0.9625: 100%|██████████| 26/26 [00:29<00:00,  1.12s/it]\n"
          ]
        },
        {
          "output_type": "stream",
          "name": "stdout",
          "text": [
            "Epoch:31 {'validation_loss': 0.9624556303024292, 'validation_average_accuracy': 0.5365649414541781, 'validation_mIoU': 0.427526306506384, 'validation_accuracy_pixelclass_0': 0.8148574533167312, 'validation_accuracy_pixelclass_1': 0.3405318152191625, 'validation_accuracy_pixelclass_2': 0.7703963431355305, 'validation_accuracy_pixelclass_3': 0.05690015562221768, 'validation_accuracy_pixelclass_4': 0.8165148361401706, 'validation_accuracy_pixelclass_5': 0.4786016961400385, 'validation_accuracy_pixelclass_6': 0.8444645514147895, 'validation_accuracy_pixelclass_7': 0.48344062424166606, 'validation_accuracy_pixelclass_8': 0.7477495332539005, 'validation_accuracy_pixelclass_9': 0.6710185115699971, 'validation_accuracy_pixelclass_10': 0.5223813914536514, 'validation_accuracy_pixelclass_11': 0.42848732739645984, 'validation_accuracy_pixelclass_12': 0.0, 'train_IoU_class_0': 0.6447705712386212, 'train_IoU_class_1': 0.22398957673924766, 'train_IoU_class_2': 0.5977384914276324, 'train_IoU_class_3': 0.05644727366042234, 'train_IoU_class_4': 0.7258878311092496, 'train_IoU_class_5': 0.445834821741105, 'train_IoU_class_6': 0.6912241712578688, 'train_IoU_class_7': 0.33241337140310606, 'train_IoU_class_8': 0.7108036038767761, 'train_IoU_class_9': 0.48594337172278146, 'train_IoU_class_10': 0.30725839747681244, 'train_IoU_class_11': 0.3355305029293683, 'train_IoU_class_12': 0.0}\n"
          ]
        },
        {
          "output_type": "stream",
          "name": "stderr",
          "text": [
            "Epoch:32, Training Loss:0.8097: 100%|██████████| 104/104 [06:46<00:00,  3.91s/it]\n"
          ]
        },
        {
          "output_type": "stream",
          "name": "stdout",
          "text": [
            "{'train_loss': 0.8110132813453674, 'train_average_accuracy': 0.5991122631417659, 'train_mIoU': 0.4907170514795603, 'train_accuracy_pixelclass_0': 0.8380242236346104, 'train_accuracy_pixelclass_1': 0.30433730899871403, 'train_accuracy_pixelclass_2': 0.7997359188781794, 'train_accuracy_pixelclass_3': 0.3461850916675815, 'train_accuracy_pixelclass_4': 0.8165311052058974, 'train_accuracy_pixelclass_5': 0.6686513151244364, 'train_accuracy_pixelclass_6': 0.8594199653935298, 'train_accuracy_pixelclass_7': 0.5038217743433218, 'train_accuracy_pixelclass_8': 0.851329729132289, 'train_accuracy_pixelclass_9': 0.7744422001559796, 'train_accuracy_pixelclass_10': 0.6722180213678309, 'train_accuracy_pixelclass_11': 0.35376276694058495, 'train_accuracy_pixelclass_12': 0.0, 'train_IoU_class_0': 0.6714949559733795, 'train_IoU_class_1': 0.2390730650863828, 'train_IoU_class_2': 0.6020587357081978, 'train_IoU_class_3': 0.34313691603201973, 'train_IoU_class_4': 0.7529374689703981, 'train_IoU_class_5': 0.5769082996212527, 'train_IoU_class_6': 0.706475815347081, 'train_IoU_class_7': 0.39869515851725296, 'train_IoU_class_8': 0.7106875842554149, 'train_IoU_class_9': 0.5836017538035543, 'train_IoU_class_10': 0.5224660562275326, 'train_IoU_class_11': 0.2717858596918179, 'train_IoU_class_12': 0.0}\n"
          ]
        },
        {
          "output_type": "stream",
          "name": "stderr",
          "text": [
            "Validation Loss:0.9779: 100%|██████████| 26/26 [00:28<00:00,  1.09s/it]\n"
          ]
        },
        {
          "output_type": "stream",
          "name": "stdout",
          "text": [
            "Epoch:32 {'validation_loss': 0.9778932332992554, 'validation_average_accuracy': 0.532788758717652, 'validation_mIoU': 0.4042872846210272, 'validation_accuracy_pixelclass_0': 0.7987431291700876, 'validation_accuracy_pixelclass_1': 0.21846688121231872, 'validation_accuracy_pixelclass_2': 0.7811838663739057, 'validation_accuracy_pixelclass_3': 0.06358398384532904, 'validation_accuracy_pixelclass_4': 0.8167735723489514, 'validation_accuracy_pixelclass_5': 0.5959845300929004, 'validation_accuracy_pixelclass_6': 0.8467073275068722, 'validation_accuracy_pixelclass_7': 0.45424900634701965, 'validation_accuracy_pixelclass_8': 0.9043844815131017, 'validation_accuracy_pixelclass_9': 0.6155553516572426, 'validation_accuracy_pixelclass_10': 0.45975751837445805, 'validation_accuracy_pixelclass_11': 0.3708642148872887, 'validation_accuracy_pixelclass_12': 0.0, 'train_IoU_class_0': 0.6355815413000033, 'train_IoU_class_1': 0.1579575970846799, 'train_IoU_class_2': 0.5960426449754924, 'train_IoU_class_3': 0.0631631299734748, 'train_IoU_class_4': 0.6997978403214262, 'train_IoU_class_5': 0.4916081592947643, 'train_IoU_class_6': 0.6987842689720221, 'train_IoU_class_7': 0.31816008057024137, 'train_IoU_class_8': 0.6136290214775867, 'train_IoU_class_9': 0.46243596978704055, 'train_IoU_class_10': 0.27518992674264203, 'train_IoU_class_11': 0.24338451957397977, 'train_IoU_class_12': 0.0}\n"
          ]
        },
        {
          "output_type": "stream",
          "name": "stderr",
          "text": [
            "Epoch:33, Training Loss:0.7969: 100%|██████████| 104/104 [07:16<00:00,  4.20s/it]\n"
          ]
        },
        {
          "output_type": "stream",
          "name": "stdout",
          "text": [
            "{'train_loss': 0.7977085113525391, 'train_average_accuracy': 0.6005337950449076, 'train_mIoU': 0.49027559238898216, 'train_accuracy_pixelclass_0': 0.8306496422171934, 'train_accuracy_pixelclass_1': 0.2864151114546955, 'train_accuracy_pixelclass_2': 0.7990721071148433, 'train_accuracy_pixelclass_3': 0.30659657869075835, 'train_accuracy_pixelclass_4': 0.8352038067732893, 'train_accuracy_pixelclass_5': 0.6517503248041865, 'train_accuracy_pixelclass_6': 0.8581641154272722, 'train_accuracy_pixelclass_7': 0.5206312293253017, 'train_accuracy_pixelclass_8': 0.8891457767208678, 'train_accuracy_pixelclass_9': 0.771311908004717, 'train_accuracy_pixelclass_10': 0.6386995275647427, 'train_accuracy_pixelclass_11': 0.41928559024832285, 'train_accuracy_pixelclass_12': 1.3617237607179007e-05, 'train_IoU_class_0': 0.6589400260809158, 'train_IoU_class_1': 0.2285855010503549, 'train_IoU_class_2': 0.5970786860382346, 'train_IoU_class_3': 0.3011757153314954, 'train_IoU_class_4': 0.7561338382063334, 'train_IoU_class_5': 0.5605951609537512, 'train_IoU_class_6': 0.7059883899222784, 'train_IoU_class_7': 0.4126005799983476, 'train_IoU_class_8': 0.7571432072833423, 'train_IoU_class_9': 0.5795582736099261, 'train_IoU_class_10': 0.49325035040631743, 'train_IoU_class_11': 0.3225193549996737, 'train_IoU_class_12': 1.3617175797739549e-05}\n"
          ]
        },
        {
          "output_type": "stream",
          "name": "stderr",
          "text": [
            "Validation Loss:0.9709: 100%|██████████| 26/26 [00:34<00:00,  1.31s/it]\n"
          ]
        },
        {
          "output_type": "stream",
          "name": "stdout",
          "text": [
            "Epoch:33 {'validation_loss': 0.9709348082542419, 'validation_average_accuracy': 0.5201963350897661, 'validation_mIoU': 0.3979604582192616, 'validation_accuracy_pixelclass_0': 0.8561293912467419, 'validation_accuracy_pixelclass_1': 0.3235090435065993, 'validation_accuracy_pixelclass_2': 0.7251318653677763, 'validation_accuracy_pixelclass_3': 0.04339898949862944, 'validation_accuracy_pixelclass_4': 0.860009551356563, 'validation_accuracy_pixelclass_5': 0.5460484099409761, 'validation_accuracy_pixelclass_6': 0.8488677043084095, 'validation_accuracy_pixelclass_7': 0.3966932494901735, 'validation_accuracy_pixelclass_8': 0.7912894388726792, 'validation_accuracy_pixelclass_9': 0.637817604114479, 'validation_accuracy_pixelclass_10': 0.5376436296815904, 'validation_accuracy_pixelclass_11': 0.19601347878234052, 'validation_accuracy_pixelclass_12': 0.0, 'train_IoU_class_0': 0.6044208789712373, 'train_IoU_class_1': 0.21152993289055394, 'train_IoU_class_2': 0.5750811899840002, 'train_IoU_class_3': 0.043068005382465586, 'train_IoU_class_4': 0.6544030356576148, 'train_IoU_class_5': 0.4638411827485284, 'train_IoU_class_6': 0.6896013927491587, 'train_IoU_class_7': 0.29523269483593356, 'train_IoU_class_8': 0.6944297786546376, 'train_IoU_class_9': 0.4780787837706585, 'train_IoU_class_10': 0.2941190757291204, 'train_IoU_class_11': 0.16968000547649292, 'train_IoU_class_12': 0.0}\n"
          ]
        },
        {
          "output_type": "stream",
          "name": "stderr",
          "text": [
            "Epoch:34, Training Loss:0.7693: 100%|██████████| 104/104 [06:42<00:00,  3.87s/it]\n"
          ]
        },
        {
          "output_type": "stream",
          "name": "stdout",
          "text": [
            "{'train_loss': 0.7693513631820679, 'train_average_accuracy': 0.6095762665541427, 'train_mIoU': 0.5035676454097321, 'train_accuracy_pixelclass_0': 0.8371421211734805, 'train_accuracy_pixelclass_1': 0.3167282343095026, 'train_accuracy_pixelclass_2': 0.8073359127725311, 'train_accuracy_pixelclass_3': 0.3729562875759591, 'train_accuracy_pixelclass_4': 0.8401586070682036, 'train_accuracy_pixelclass_5': 0.6602915310434062, 'train_accuracy_pixelclass_6': 0.8617718729175202, 'train_accuracy_pixelclass_7': 0.5251907657275744, 'train_accuracy_pixelclass_8': 0.8977481370954952, 'train_accuracy_pixelclass_9': 0.7758390829606989, 'train_accuracy_pixelclass_10': 0.7164629811555184, 'train_accuracy_pixelclass_11': 0.31283869692874866, 'train_accuracy_pixelclass_12': 2.7234475214358015e-05, 'train_IoU_class_0': 0.6678165260696644, 'train_IoU_class_1': 0.24994551103526183, 'train_IoU_class_2': 0.6060477129947335, 'train_IoU_class_3': 0.36663611016591924, 'train_IoU_class_4': 0.7665552670643606, 'train_IoU_class_5': 0.5714306762522089, 'train_IoU_class_6': 0.7100278064889052, 'train_IoU_class_7': 0.4189554820060595, 'train_IoU_class_8': 0.7781394149585817, 'train_IoU_class_9': 0.5990627312805082, 'train_IoU_class_10': 0.5489837777719285, 'train_IoU_class_11': 0.26275113976317066, 'train_IoU_class_12': 2.7234475214358015e-05}\n"
          ]
        },
        {
          "output_type": "stream",
          "name": "stderr",
          "text": [
            "Validation Loss:0.9257: 100%|██████████| 26/26 [00:28<00:00,  1.09s/it]\n"
          ]
        },
        {
          "output_type": "stream",
          "name": "stdout",
          "text": [
            "Epoch:34 {'validation_loss': 0.9256850481033325, 'validation_average_accuracy': 0.546472800937559, 'validation_mIoU': 0.42769737046932543, 'validation_accuracy_pixelclass_0': 0.7910035678327512, 'validation_accuracy_pixelclass_1': 0.21922967247840966, 'validation_accuracy_pixelclass_2': 0.8067621544030457, 'validation_accuracy_pixelclass_3': 0.09215922697896806, 'validation_accuracy_pixelclass_4': 0.7777018303334092, 'validation_accuracy_pixelclass_5': 0.5630618391615264, 'validation_accuracy_pixelclass_6': 0.8433690512684597, 'validation_accuracy_pixelclass_7': 0.44649723193978247, 'validation_accuracy_pixelclass_8': 0.8496045558172044, 'validation_accuracy_pixelclass_9': 0.6660464647121394, 'validation_accuracy_pixelclass_10': 0.5248176106918854, 'validation_accuracy_pixelclass_11': 0.5238932065706867, 'validation_accuracy_pixelclass_12': 0.0, 'train_IoU_class_0': 0.6322105062649521, 'train_IoU_class_1': 0.16192377473620234, 'train_IoU_class_2': 0.598670829650842, 'train_IoU_class_3': 0.09011173708537137, 'train_IoU_class_4': 0.7382894794726783, 'train_IoU_class_5': 0.47134706308404806, 'train_IoU_class_6': 0.695633175833061, 'train_IoU_class_7': 0.32866246066232085, 'train_IoU_class_8': 0.7300345131628668, 'train_IoU_class_9': 0.4893814940446492, 'train_IoU_class_10': 0.31078366744653163, 'train_IoU_class_11': 0.3130171146577068, 'train_IoU_class_12': 0.0}\n",
            "For now best val loss at epoch:  34\n"
          ]
        },
        {
          "output_type": "stream",
          "name": "stderr",
          "text": [
            "Epoch:35, Training Loss:0.76: 100%|██████████| 104/104 [06:45<00:00,  3.90s/it]\n"
          ]
        },
        {
          "output_type": "stream",
          "name": "stdout",
          "text": [
            "{'train_loss': 0.7594003677368164, 'train_average_accuracy': 0.6066191881186431, 'train_mIoU': 0.49783213501017365, 'train_accuracy_pixelclass_0': 0.8368845318916527, 'train_accuracy_pixelclass_1': 0.31673929098716047, 'train_accuracy_pixelclass_2': 0.8048512925574632, 'train_accuracy_pixelclass_3': 0.31594609080870245, 'train_accuracy_pixelclass_4': 0.8342752789163399, 'train_accuracy_pixelclass_5': 0.6580814792981888, 'train_accuracy_pixelclass_6': 0.8570530086374137, 'train_accuracy_pixelclass_7': 0.5330403099982325, 'train_accuracy_pixelclass_8': 0.9007258772251739, 'train_accuracy_pixelclass_9': 0.7864884029272867, 'train_accuracy_pixelclass_10': 0.7011255960445041, 'train_accuracy_pixelclass_11': 0.3408246690126367, 'train_accuracy_pixelclass_12': 1.3617237607179007e-05, 'train_IoU_class_0': 0.6634251891786561, 'train_IoU_class_1': 0.25454332794760065, 'train_IoU_class_2': 0.6097910433417287, 'train_IoU_class_3': 0.30924019189563307, 'train_IoU_class_4': 0.7714880285219174, 'train_IoU_class_5': 0.5555053559848168, 'train_IoU_class_6': 0.7044259539406709, 'train_IoU_class_7': 0.42721894410183536, 'train_IoU_class_8': 0.7805806014293972, 'train_IoU_class_9': 0.605312528037068, 'train_IoU_class_10': 0.5476275030229565, 'train_IoU_class_11': 0.24264547061598712, 'train_IoU_class_12': 1.36171139888612e-05}\n"
          ]
        },
        {
          "output_type": "stream",
          "name": "stderr",
          "text": [
            "Validation Loss:0.9818: 100%|██████████| 26/26 [00:29<00:00,  1.14s/it]\n"
          ]
        },
        {
          "output_type": "stream",
          "name": "stdout",
          "text": [
            "Epoch:35 {'validation_loss': 0.9817788600921631, 'validation_average_accuracy': 0.5296264663296716, 'validation_mIoU': 0.4225321676448847, 'validation_accuracy_pixelclass_0': 0.8051032227638434, 'validation_accuracy_pixelclass_1': 0.3593001466514584, 'validation_accuracy_pixelclass_2': 0.7863071834238282, 'validation_accuracy_pixelclass_3': 0.05115923949550031, 'validation_accuracy_pixelclass_4': 0.7901829561062389, 'validation_accuracy_pixelclass_5': 0.5487288584680784, 'validation_accuracy_pixelclass_6': 0.8285810621173839, 'validation_accuracy_pixelclass_7': 0.45328286063536516, 'validation_accuracy_pixelclass_8': 0.723062417322613, 'validation_accuracy_pixelclass_9': 0.7514626750128592, 'validation_accuracy_pixelclass_10': 0.3179118895256593, 'validation_accuracy_pixelclass_11': 0.47006155076290435, 'validation_accuracy_pixelclass_12': 0.0, 'train_IoU_class_0': 0.6518690347020591, 'train_IoU_class_1': 0.24023903785628584, 'train_IoU_class_2': 0.6006911096655302, 'train_IoU_class_3': 0.050669421487603304, 'train_IoU_class_4': 0.6980800569512219, 'train_IoU_class_5': 0.4566350707100511, 'train_IoU_class_6': 0.6893059253300262, 'train_IoU_class_7': 0.31239047627951233, 'train_IoU_class_8': 0.6997967792259677, 'train_IoU_class_9': 0.5092734103280355, 'train_IoU_class_10': 0.22548095743020022, 'train_IoU_class_11': 0.3584868994170073, 'train_IoU_class_12': 0.0}\n"
          ]
        },
        {
          "output_type": "stream",
          "name": "stderr",
          "text": [
            "Epoch:36, Training Loss:0.7569: 100%|██████████| 104/104 [07:02<00:00,  4.06s/it]\n"
          ]
        },
        {
          "output_type": "stream",
          "name": "stdout",
          "text": [
            "{'train_loss': 0.7550364136695862, 'train_average_accuracy': 0.6156030869265356, 'train_mIoU': 0.5087168597489201, 'train_accuracy_pixelclass_0': 0.8364331105160441, 'train_accuracy_pixelclass_1': 0.329783237219214, 'train_accuracy_pixelclass_2': 0.809237064929665, 'train_accuracy_pixelclass_3': 0.3263288409007252, 'train_accuracy_pixelclass_4': 0.8368995315675606, 'train_accuracy_pixelclass_5': 0.6602878068348803, 'train_accuracy_pixelclass_6': 0.8619278607448897, 'train_accuracy_pixelclass_7': 0.5241747840231404, 'train_accuracy_pixelclass_8': 0.8865194764151065, 'train_accuracy_pixelclass_9': 0.7863038172047279, 'train_accuracy_pixelclass_10': 0.7305711752846681, 'train_accuracy_pixelclass_11': 0.4143734244043425, 'train_accuracy_pixelclass_12': 0.0, 'train_IoU_class_0': 0.6761918699846696, 'train_IoU_class_1': 0.2635644711376504, 'train_IoU_class_2': 0.6118010666549298, 'train_IoU_class_3': 0.3204403843788087, 'train_IoU_class_4': 0.7631990398376824, 'train_IoU_class_5': 0.5692068493433409, 'train_IoU_class_6': 0.7097318915943057, 'train_IoU_class_7': 0.4121617684344907, 'train_IoU_class_8': 0.7703479603643026, 'train_IoU_class_9': 0.608921590546825, 'train_IoU_class_10': 0.5727598685291808, 'train_IoU_class_11': 0.33499241592977475, 'train_IoU_class_12': 0.0}\n"
          ]
        },
        {
          "output_type": "stream",
          "name": "stderr",
          "text": [
            "Validation Loss:0.9601: 100%|██████████| 26/26 [00:27<00:00,  1.06s/it]\n"
          ]
        },
        {
          "output_type": "stream",
          "name": "stdout",
          "text": [
            "Epoch:36 {'validation_loss': 0.9600884318351746, 'validation_average_accuracy': 0.515563963663137, 'validation_mIoU': 0.4061146756283626, 'validation_accuracy_pixelclass_0': 0.8018231999006299, 'validation_accuracy_pixelclass_1': 0.21617748900114062, 'validation_accuracy_pixelclass_2': 0.785554004754529, 'validation_accuracy_pixelclass_3': 0.02913014273018946, 'validation_accuracy_pixelclass_4': 0.8348593620672122, 'validation_accuracy_pixelclass_5': 0.5157907515854342, 'validation_accuracy_pixelclass_6': 0.841337166847198, 'validation_accuracy_pixelclass_7': 0.17632762136734487, 'validation_accuracy_pixelclass_8': 0.7624965990862096, 'validation_accuracy_pixelclass_9': 0.7707410917114019, 'validation_accuracy_pixelclass_10': 0.4145414201667359, 'validation_accuracy_pixelclass_11': 0.5535526784027555, 'validation_accuracy_pixelclass_12': 0.0, 'train_IoU_class_0': 0.6508961355052961, 'train_IoU_class_1': 0.16678334562980318, 'train_IoU_class_2': 0.6090421856494086, 'train_IoU_class_3': 0.02879519612654709, 'train_IoU_class_4': 0.7227955484131248, 'train_IoU_class_5': 0.46877610601955555, 'train_IoU_class_6': 0.6977346007176491, 'train_IoU_class_7': 0.15109049556943796, 'train_IoU_class_8': 0.7146990979285829, 'train_IoU_class_9': 0.5153946338022976, 'train_IoU_class_10': 0.26303831206071665, 'train_IoU_class_11': 0.29044512574629444, 'train_IoU_class_12': 0.0}\n"
          ]
        },
        {
          "output_type": "stream",
          "name": "stderr",
          "text": [
            "Epoch:37, Training Loss:0.7321: 100%|██████████| 104/104 [06:24<00:00,  3.69s/it]\n"
          ]
        },
        {
          "output_type": "stream",
          "name": "stdout",
          "text": [
            "{'train_loss': 0.7323718667030334, 'train_average_accuracy': 0.6265171119904941, 'train_mIoU': 0.5217607398567068, 'train_accuracy_pixelclass_0': 0.8376575557901, 'train_accuracy_pixelclass_1': 0.34816462535575987, 'train_accuracy_pixelclass_2': 0.8047567496699578, 'train_accuracy_pixelclass_3': 0.3763866376499002, 'train_accuracy_pixelclass_4': 0.8482763843672566, 'train_accuracy_pixelclass_5': 0.6932630131826342, 'train_accuracy_pixelclass_6': 0.8667559587772786, 'train_accuracy_pixelclass_7': 0.5437432878725483, 'train_accuracy_pixelclass_8': 0.8952771208069358, 'train_accuracy_pixelclass_9': 0.7964310910837159, 'train_accuracy_pixelclass_10': 0.7391190548887118, 'train_accuracy_pixelclass_11': 0.39488643735242046, 'train_accuracy_pixelclass_12': 4.539079202393002e-06, 'train_IoU_class_0': 0.6833556423965783, 'train_IoU_class_1': 0.27728766615173495, 'train_IoU_class_2': 0.6143988877651912, 'train_IoU_class_3': 0.3640589494092941, 'train_IoU_class_4': 0.7827029696487644, 'train_IoU_class_5': 0.6012907614024872, 'train_IoU_class_6': 0.718048377052695, 'train_IoU_class_7': 0.4362801883540787, 'train_IoU_class_8': 0.7826907773265853, 'train_IoU_class_9': 0.6189209183278536, 'train_IoU_class_10': 0.5881491156613595, 'train_IoU_class_11': 0.315700825561365, 'train_IoU_class_12': 4.539079202393002e-06}\n"
          ]
        },
        {
          "output_type": "stream",
          "name": "stderr",
          "text": [
            "Validation Loss:0.9184: 100%|██████████| 26/26 [00:28<00:00,  1.10s/it]\n"
          ]
        },
        {
          "output_type": "stream",
          "name": "stdout",
          "text": [
            "Epoch:37 {'validation_loss': 0.9183769226074219, 'validation_average_accuracy': 0.5498799651596642, 'validation_mIoU': 0.422777409652627, 'validation_accuracy_pixelclass_0': 0.8417550545980407, 'validation_accuracy_pixelclass_1': 0.20976046928466677, 'validation_accuracy_pixelclass_2': 0.8358878997804293, 'validation_accuracy_pixelclass_3': 0.09261816649491203, 'validation_accuracy_pixelclass_4': 0.7649864260033752, 'validation_accuracy_pixelclass_5': 0.6305143339441904, 'validation_accuracy_pixelclass_6': 0.85972609970693, 'validation_accuracy_pixelclass_7': 0.4418782716693219, 'validation_accuracy_pixelclass_8': 0.9098664027244837, 'validation_accuracy_pixelclass_9': 0.6420650355274243, 'validation_accuracy_pixelclass_10': 0.499830123596183, 'validation_accuracy_pixelclass_11': 0.419551263745678, 'validation_accuracy_pixelclass_12': 0.0, 'train_IoU_class_0': 0.633733019788167, 'train_IoU_class_1': 0.1615003359885709, 'train_IoU_class_2': 0.599862786366448, 'train_IoU_class_3': 0.0912637724058543, 'train_IoU_class_4': 0.7054981373715213, 'train_IoU_class_5': 0.4817610136974603, 'train_IoU_class_6': 0.6946992664188403, 'train_IoU_class_7': 0.32224146373768175, 'train_IoU_class_8': 0.7251795414152168, 'train_IoU_class_9': 0.48987850590884585, 'train_IoU_class_10': 0.3058654632600651, 'train_IoU_class_11': 0.2846230191254795, 'train_IoU_class_12': 0.0}\n",
            "For now best val loss at epoch:  37\n"
          ]
        },
        {
          "output_type": "stream",
          "name": "stderr",
          "text": [
            "Epoch:38, Training Loss:0.7368: 100%|██████████| 104/104 [06:40<00:00,  3.85s/it]\n"
          ]
        },
        {
          "output_type": "stream",
          "name": "stdout",
          "text": [
            "{'train_loss': 0.7340002059936523, 'train_average_accuracy': 0.6287103459794344, 'train_mIoU': 0.5208461040761906, 'train_accuracy_pixelclass_0': 0.8433204231428862, 'train_accuracy_pixelclass_1': 0.34547852962433695, 'train_accuracy_pixelclass_2': 0.8058926842382335, 'train_accuracy_pixelclass_3': 0.34751926020161056, 'train_accuracy_pixelclass_4': 0.8577210846147262, 'train_accuracy_pixelclass_5': 0.6869595242376811, 'train_accuracy_pixelclass_6': 0.8581413724865881, 'train_accuracy_pixelclass_7': 0.5432744146486547, 'train_accuracy_pixelclass_8': 0.8974913931782681, 'train_accuracy_pixelclass_9': 0.7859451512708011, 'train_accuracy_pixelclass_10': 0.7301592655407454, 'train_accuracy_pixelclass_11': 0.4713313945481147, 'train_accuracy_pixelclass_12': 0.0, 'train_IoU_class_0': 0.6882688076341241, 'train_IoU_class_1': 0.27364690482114107, 'train_IoU_class_2': 0.606937680273311, 'train_IoU_class_3': 0.33806412704794453, 'train_IoU_class_4': 0.7988395633159042, 'train_IoU_class_5': 0.5960454898383686, 'train_IoU_class_6': 0.7089263220387816, 'train_IoU_class_7': 0.42899395665814005, 'train_IoU_class_8': 0.7856166098034797, 'train_IoU_class_9': 0.6147332134406599, 'train_IoU_class_10': 0.5704636918341909, 'train_IoU_class_11': 0.360462986284432, 'train_IoU_class_12': 0.0}\n"
          ]
        },
        {
          "output_type": "stream",
          "name": "stderr",
          "text": [
            "Validation Loss:0.9168: 100%|██████████| 26/26 [00:29<00:00,  1.13s/it]\n"
          ]
        },
        {
          "output_type": "stream",
          "name": "stdout",
          "text": [
            "Epoch:38 {'validation_loss': 0.9167563915252686, 'validation_average_accuracy': 0.5507836500127425, 'validation_mIoU': 0.4321249140668512, 'validation_accuracy_pixelclass_0': 0.8199017003000292, 'validation_accuracy_pixelclass_1': 0.27919178751833146, 'validation_accuracy_pixelclass_2': 0.7857331979219266, 'validation_accuracy_pixelclass_3': 0.0612225314269264, 'validation_accuracy_pixelclass_4': 0.781348594907917, 'validation_accuracy_pixelclass_5': 0.6707692366984428, 'validation_accuracy_pixelclass_6': 0.8304314155345709, 'validation_accuracy_pixelclass_7': 0.4484626828102933, 'validation_accuracy_pixelclass_8': 0.868250945219488, 'validation_accuracy_pixelclass_9': 0.7185067999918576, 'validation_accuracy_pixelclass_10': 0.4195236824530994, 'validation_accuracy_pixelclass_11': 0.4768448753827702, 'validation_accuracy_pixelclass_12': 0.0, 'train_IoU_class_0': 0.6517601764150087, 'train_IoU_class_1': 0.2087675931383524, 'train_IoU_class_2': 0.6161006964551449, 'train_IoU_class_3': 0.05888892010225499, 'train_IoU_class_4': 0.706902334551502, 'train_IoU_class_5': 0.4764695173448423, 'train_IoU_class_6': 0.6916590784010922, 'train_IoU_class_7': 0.3207074939625666, 'train_IoU_class_8': 0.7747113411069413, 'train_IoU_class_9': 0.5121140985050687, 'train_IoU_class_10': 0.2762068567648439, 'train_IoU_class_11': 0.32333577612144826, 'train_IoU_class_12': 0.0}\n",
            "For now best val loss at epoch:  38\n"
          ]
        },
        {
          "output_type": "stream",
          "name": "stderr",
          "text": [
            "Epoch:39, Training Loss:0.7113: 100%|██████████| 104/104 [06:17<00:00,  3.63s/it]\n"
          ]
        },
        {
          "output_type": "stream",
          "name": "stdout",
          "text": [
            "{'train_loss': 0.7127463817596436, 'train_average_accuracy': 0.6411262418175665, 'train_mIoU': 0.5355545777007646, 'train_accuracy_pixelclass_0': 0.84416667818905, 'train_accuracy_pixelclass_1': 0.3434255979236913, 'train_accuracy_pixelclass_2': 0.805930430397325, 'train_accuracy_pixelclass_3': 0.41047057531981945, 'train_accuracy_pixelclass_4': 0.8385090222805319, 'train_accuracy_pixelclass_5': 0.7055789707777318, 'train_accuracy_pixelclass_6': 0.8626749113913049, 'train_accuracy_pixelclass_7': 0.5720719872024346, 'train_accuracy_pixelclass_8': 0.9045931544357837, 'train_accuracy_pixelclass_9': 0.802888245173418, 'train_accuracy_pixelclass_10': 0.7450670980112719, 'train_accuracy_pixelclass_11': 0.4992644725260029, 'train_accuracy_pixelclass_12': 0.0, 'train_IoU_class_0': 0.6885795854583991, 'train_IoU_class_1': 0.2719300283085684, 'train_IoU_class_2': 0.6158386492670052, 'train_IoU_class_3': 0.39918082101278257, 'train_IoU_class_4': 0.7770886329039416, 'train_IoU_class_5': 0.6091587723875387, 'train_IoU_class_6': 0.7195944042283176, 'train_IoU_class_7': 0.45403670865398704, 'train_IoU_class_8': 0.8014218388355702, 'train_IoU_class_9': 0.6271068159276615, 'train_IoU_class_10': 0.6069540770284705, 'train_IoU_class_11': 0.39131917609769684, 'train_IoU_class_12': 0.0}\n"
          ]
        },
        {
          "output_type": "stream",
          "name": "stderr",
          "text": [
            "Validation Loss:0.9344: 100%|██████████| 26/26 [00:31<00:00,  1.21s/it]\n"
          ]
        },
        {
          "output_type": "stream",
          "name": "stdout",
          "text": [
            "Epoch:39 {'validation_loss': 0.9344314336776733, 'validation_average_accuracy': 0.5455392640326839, 'validation_mIoU': 0.42568909939994176, 'validation_accuracy_pixelclass_0': 0.8506478752056326, 'validation_accuracy_pixelclass_1': 0.2526122291021672, 'validation_accuracy_pixelclass_2': 0.8202621610223183, 'validation_accuracy_pixelclass_3': 0.031153648777760626, 'validation_accuracy_pixelclass_4': 0.798184469906147, 'validation_accuracy_pixelclass_5': 0.5244949830713586, 'validation_accuracy_pixelclass_6': 0.8685816556448408, 'validation_accuracy_pixelclass_7': 0.4019942392996725, 'validation_accuracy_pixelclass_8': 0.884121485331507, 'validation_accuracy_pixelclass_9': 0.6977882670631746, 'validation_accuracy_pixelclass_10': 0.4085025126285698, 'validation_accuracy_pixelclass_11': 0.5536669053717429, 'validation_accuracy_pixelclass_12': 0.0, 'train_IoU_class_0': 0.6428337577717251, 'train_IoU_class_1': 0.1827180119172408, 'train_IoU_class_2': 0.6060353277595315, 'train_IoU_class_3': 0.02671508559775317, 'train_IoU_class_4': 0.7039641065405431, 'train_IoU_class_5': 0.44092999596625915, 'train_IoU_class_6': 0.6955569061561262, 'train_IoU_class_7': 0.3031700671456778, 'train_IoU_class_8': 0.7472919499942509, 'train_IoU_class_9': 0.5102301466419509, 'train_IoU_class_10': 0.2752277112500441, 'train_IoU_class_11': 0.39928522545814005, 'train_IoU_class_12': 0.0}\n"
          ]
        },
        {
          "output_type": "stream",
          "name": "stderr",
          "text": [
            "Epoch:40, Training Loss:0.7107: 100%|██████████| 104/104 [06:36<00:00,  3.81s/it]\n"
          ]
        },
        {
          "output_type": "stream",
          "name": "stdout",
          "text": [
            "{'train_loss': 0.7110050916671753, 'train_average_accuracy': 0.6266870863290982, 'train_mIoU': 0.5213127818786794, 'train_accuracy_pixelclass_0': 0.8461423828596097, 'train_accuracy_pixelclass_1': 0.36254688087738574, 'train_accuracy_pixelclass_2': 0.8106720106077356, 'train_accuracy_pixelclass_3': 0.3399766229908365, 'train_accuracy_pixelclass_4': 0.8403517586820377, 'train_accuracy_pixelclass_5': 0.6989520077208163, 'train_accuracy_pixelclass_6': 0.8664296948066452, 'train_accuracy_pixelclass_7': 0.5368031387410763, 'train_accuracy_pixelclass_8': 0.9050662022249796, 'train_accuracy_pixelclass_9': 0.7987554548894128, 'train_accuracy_pixelclass_10': 0.7796353441599833, 'train_accuracy_pixelclass_11': 0.36159608463855364, 'train_accuracy_pixelclass_12': 4.539079202393002e-06, 'train_IoU_class_0': 0.688557300179278, 'train_IoU_class_1': 0.2872410129414644, 'train_IoU_class_2': 0.6137978424800817, 'train_IoU_class_3': 0.32300782879721207, 'train_IoU_class_4': 0.7708674304418985, 'train_IoU_class_5': 0.6037968423684442, 'train_IoU_class_6': 0.7217564633246826, 'train_IoU_class_7': 0.4302436087682244, 'train_IoU_class_8': 0.7986518593604771, 'train_IoU_class_9': 0.6315138683621432, 'train_IoU_class_10': 0.6218220047870036, 'train_IoU_class_11': 0.2858055635533223, 'train_IoU_class_12': 4.539058599246516e-06}\n"
          ]
        },
        {
          "output_type": "stream",
          "name": "stderr",
          "text": [
            "Validation Loss:0.9133: 100%|██████████| 26/26 [00:28<00:00,  1.10s/it]\n"
          ]
        },
        {
          "output_type": "stream",
          "name": "stdout",
          "text": [
            "Epoch:40 {'validation_loss': 0.9133285880088806, 'validation_average_accuracy': 0.5699959456537792, 'validation_mIoU': 0.4295722072804945, 'validation_accuracy_pixelclass_0': 0.8321108987040476, 'validation_accuracy_pixelclass_1': 0.30300329965781325, 'validation_accuracy_pixelclass_2': 0.7965793490039886, 'validation_accuracy_pixelclass_3': 0.07749402335584918, 'validation_accuracy_pixelclass_4': 0.8533184527832164, 'validation_accuracy_pixelclass_5': 0.5816496224055436, 'validation_accuracy_pixelclass_6': 0.8677816564025354, 'validation_accuracy_pixelclass_7': 0.4357053391231738, 'validation_accuracy_pixelclass_8': 0.8771232256611845, 'validation_accuracy_pixelclass_9': 0.6709721787166012, 'validation_accuracy_pixelclass_10': 0.3970527962777673, 'validation_accuracy_pixelclass_11': 0.717156451407408, 'validation_accuracy_pixelclass_12': 0.0, 'train_IoU_class_0': 0.6502222548390635, 'train_IoU_class_1': 0.2039629236845154, 'train_IoU_class_2': 0.616361740657411, 'train_IoU_class_3': 0.07415984252911655, 'train_IoU_class_4': 0.6990184892664398, 'train_IoU_class_5': 0.48375221567980103, 'train_IoU_class_6': 0.6937478168165198, 'train_IoU_class_7': 0.3207474733689173, 'train_IoU_class_8': 0.7453924571136994, 'train_IoU_class_9': 0.5018790593454142, 'train_IoU_class_10': 0.2604605277881073, 'train_IoU_class_11': 0.33473389355742295, 'train_IoU_class_12': 0.0}\n",
            "For now best val loss at epoch:  40\n"
          ]
        },
        {
          "output_type": "stream",
          "name": "stderr",
          "text": [
            "Epoch:41, Training Loss:0.7062: 100%|██████████| 104/104 [06:45<00:00,  3.90s/it]\n"
          ]
        },
        {
          "output_type": "stream",
          "name": "stdout",
          "text": [
            "{'train_loss': 0.7067595720291138, 'train_average_accuracy': 0.6327759958837126, 'train_mIoU': 0.5277649975421013, 'train_accuracy_pixelclass_0': 0.8453698710670905, 'train_accuracy_pixelclass_1': 0.3594383749301342, 'train_accuracy_pixelclass_2': 0.8101939714769196, 'train_accuracy_pixelclass_3': 0.41716854048678426, 'train_accuracy_pixelclass_4': 0.8633301183825287, 'train_accuracy_pixelclass_5': 0.6789487516985051, 'train_accuracy_pixelclass_6': 0.8704432742867975, 'train_accuracy_pixelclass_7': 0.555253201410029, 'train_accuracy_pixelclass_8': 0.9010672430164647, 'train_accuracy_pixelclass_9': 0.7970673748781945, 'train_accuracy_pixelclass_10': 0.7500519427631225, 'train_accuracy_pixelclass_11': 0.377750743012489, 'train_accuracy_pixelclass_12': 4.539079202393002e-06, 'train_IoU_class_0': 0.6884394761881031, 'train_IoU_class_1': 0.2853970353897792, 'train_IoU_class_2': 0.6247305223350315, 'train_IoU_class_3': 0.40411902405579114, 'train_IoU_class_4': 0.7894920013676606, 'train_IoU_class_5': 0.5931753699014216, 'train_IoU_class_6': 0.7225816952110281, 'train_IoU_class_7': 0.44692115334453913, 'train_IoU_class_8': 0.7925619318956431, 'train_IoU_class_9': 0.6266343710714458, 'train_IoU_class_10': 0.5925664738727987, 'train_IoU_class_11': 0.2943213743348732, 'train_IoU_class_12': 4.539079202393002e-06}\n"
          ]
        },
        {
          "output_type": "stream",
          "name": "stderr",
          "text": [
            "Validation Loss:0.9401: 100%|██████████| 26/26 [00:28<00:00,  1.08s/it]\n"
          ]
        },
        {
          "output_type": "stream",
          "name": "stdout",
          "text": [
            "Epoch:41 {'validation_loss': 0.9400513172149658, 'validation_average_accuracy': 0.5553086005655957, 'validation_mIoU': 0.4298829389360457, 'validation_accuracy_pixelclass_0': 0.8195532988567383, 'validation_accuracy_pixelclass_1': 0.3281051409483461, 'validation_accuracy_pixelclass_2': 0.7541450831096965, 'validation_accuracy_pixelclass_3': 0.14583011727990722, 'validation_accuracy_pixelclass_4': 0.8138528138528138, 'validation_accuracy_pixelclass_5': 0.569064425187352, 'validation_accuracy_pixelclass_6': 0.8293371782126173, 'validation_accuracy_pixelclass_7': 0.5133082426849506, 'validation_accuracy_pixelclass_8': 0.8530066423364512, 'validation_accuracy_pixelclass_9': 0.6987269250996764, 'validation_accuracy_pixelclass_10': 0.3517806178266943, 'validation_accuracy_pixelclass_11': 0.5423013219574988, 'validation_accuracy_pixelclass_12': 0.0, 'train_IoU_class_0': 0.6622816609922735, 'train_IoU_class_1': 0.2222710526678901, 'train_IoU_class_2': 0.6051531829989654, 'train_IoU_class_3': 0.14015285173542055, 'train_IoU_class_4': 0.7016614746739144, 'train_IoU_class_5': 0.4753252940684132, 'train_IoU_class_6': 0.6910537003164939, 'train_IoU_class_7': 0.3301940529972314, 'train_IoU_class_8': 0.7161240619177367, 'train_IoU_class_9': 0.5033152345843206, 'train_IoU_class_10': 0.2355642247886379, 'train_IoU_class_11': 0.305381414427297, 'train_IoU_class_12': 0.0}\n"
          ]
        },
        {
          "output_type": "stream",
          "name": "stderr",
          "text": [
            "Epoch:42, Training Loss:0.7031: 100%|██████████| 104/104 [06:36<00:00,  3.82s/it]\n"
          ]
        },
        {
          "output_type": "stream",
          "name": "stdout",
          "text": [
            "{'train_loss': 0.7038341164588928, 'train_average_accuracy': 0.6364440476523774, 'train_mIoU': 0.5316213212113954, 'train_accuracy_pixelclass_0': 0.8359752878163342, 'train_accuracy_pixelclass_1': 0.3609177132714656, 'train_accuracy_pixelclass_2': 0.8022757975769332, 'train_accuracy_pixelclass_3': 0.3503206266588313, 'train_accuracy_pixelclass_4': 0.8493885176297783, 'train_accuracy_pixelclass_5': 0.7229901776660279, 'train_accuracy_pixelclass_6': 0.8658266264203981, 'train_accuracy_pixelclass_7': 0.5795185122381653, 'train_accuracy_pixelclass_8': 0.8951619890054886, 'train_accuracy_pixelclass_9': 0.7989573941600875, 'train_accuracy_pixelclass_10': 0.7703330750551652, 'train_accuracy_pixelclass_11': 0.44210690198223157, 'train_accuracy_pixelclass_12': 0.0, 'train_IoU_class_0': 0.681973429620202, 'train_IoU_class_1': 0.28780216849857976, 'train_IoU_class_2': 0.606119385079252, 'train_IoU_class_3': 0.3369126966579636, 'train_IoU_class_4': 0.7927449752847804, 'train_IoU_class_5': 0.6297712683032628, 'train_IoU_class_6': 0.7265057814410885, 'train_IoU_class_7': 0.4606469129949276, 'train_IoU_class_8': 0.7925189526661145, 'train_IoU_class_9': 0.6306380101192786, 'train_IoU_class_10': 0.6137077114196479, 'train_IoU_class_11': 0.35173588366304204, 'train_IoU_class_12': 0.0}\n"
          ]
        },
        {
          "output_type": "stream",
          "name": "stderr",
          "text": [
            "Validation Loss:0.9441: 100%|██████████| 26/26 [00:28<00:00,  1.11s/it]\n"
          ]
        },
        {
          "output_type": "stream",
          "name": "stdout",
          "text": [
            "Epoch:42 {'validation_loss': 0.9440791606903076, 'validation_average_accuracy': 0.5898168712255204, 'validation_mIoU': 0.4456775607575499, 'validation_accuracy_pixelclass_0': 0.8249429177055594, 'validation_accuracy_pixelclass_1': 0.4414239449242301, 'validation_accuracy_pixelclass_2': 0.720449675561078, 'validation_accuracy_pixelclass_3': 0.20358974145016542, 'validation_accuracy_pixelclass_4': 0.8185860130552369, 'validation_accuracy_pixelclass_5': 0.6212821061272625, 'validation_accuracy_pixelclass_6': 0.837255718463408, 'validation_accuracy_pixelclass_7': 0.4736563264457142, 'validation_accuracy_pixelclass_8': 0.8073622747187796, 'validation_accuracy_pixelclass_9': 0.685573711620067, 'validation_accuracy_pixelclass_10': 0.3906292717372865, 'validation_accuracy_pixelclass_11': 0.8428676241229786, 'validation_accuracy_pixelclass_12': 0.0, 'train_IoU_class_0': 0.6453238472847291, 'train_IoU_class_1': 0.24217723335210664, 'train_IoU_class_2': 0.5993053490717274, 'train_IoU_class_3': 0.15660493014926521, 'train_IoU_class_4': 0.7059968337215318, 'train_IoU_class_5': 0.5025884685712683, 'train_IoU_class_6': 0.7053351273388407, 'train_IoU_class_7': 0.32898907199647404, 'train_IoU_class_8': 0.7532479113145698, 'train_IoU_class_9': 0.5024700997737491, 'train_IoU_class_10': 0.25732755422684134, 'train_IoU_class_11': 0.3944418630470449, 'train_IoU_class_12': 0.0}\n"
          ]
        },
        {
          "output_type": "stream",
          "name": "stderr",
          "text": [
            "Epoch:43, Training Loss:0.6998: 100%|██████████| 104/104 [06:55<00:00,  3.99s/it]\n"
          ]
        },
        {
          "output_type": "stream",
          "name": "stdout",
          "text": [
            "{'train_loss': 0.699451208114624, 'train_average_accuracy': 0.6452957145473783, 'train_mIoU': 0.5364248647344483, 'train_accuracy_pixelclass_0': 0.8468068403013026, 'train_accuracy_pixelclass_1': 0.3616864908384143, 'train_accuracy_pixelclass_2': 0.8073135490607182, 'train_accuracy_pixelclass_3': 0.44441502586323806, 'train_accuracy_pixelclass_4': 0.8507367604433131, 'train_accuracy_pixelclass_5': 0.7061019560607238, 'train_accuracy_pixelclass_6': 0.8689684495384874, 'train_accuracy_pixelclass_7': 0.5669642656876493, 'train_accuracy_pixelclass_8': 0.8869789962176325, 'train_accuracy_pixelclass_9': 0.7992495251898034, 'train_accuracy_pixelclass_10': 0.7405993976922676, 'train_accuracy_pixelclass_11': 0.509013954063964, 'train_accuracy_pixelclass_12': 9.078158404786004e-06, 'train_IoU_class_0': 0.6861683288922251, 'train_IoU_class_1': 0.2885016897315868, 'train_IoU_class_2': 0.6187576004060744, 'train_IoU_class_3': 0.4184136287361074, 'train_IoU_class_4': 0.7875801600003771, 'train_IoU_class_5': 0.610083312800862, 'train_IoU_class_6': 0.7276893625002151, 'train_IoU_class_7': 0.4481616133764183, 'train_IoU_class_8': 0.7805263567150045, 'train_IoU_class_9': 0.6279954393527094, 'train_IoU_class_10': 0.5946898353889472, 'train_IoU_class_11': 0.38494683548889613, 'train_IoU_class_12': 9.078158404786004e-06}\n"
          ]
        },
        {
          "output_type": "stream",
          "name": "stderr",
          "text": [
            "Validation Loss:0.9438: 100%|██████████| 26/26 [00:28<00:00,  1.11s/it]\n"
          ]
        },
        {
          "output_type": "stream",
          "name": "stdout",
          "text": [
            "Epoch:43 {'validation_loss': 0.943796694278717, 'validation_average_accuracy': 0.5292039433292216, 'validation_mIoU': 0.42126373491564234, 'validation_accuracy_pixelclass_0': 0.8411198531260698, 'validation_accuracy_pixelclass_1': 0.27673028352615286, 'validation_accuracy_pixelclass_2': 0.8342496297935355, 'validation_accuracy_pixelclass_3': 0.0028537693536879963, 'validation_accuracy_pixelclass_4': 0.8271526273310394, 'validation_accuracy_pixelclass_5': 0.5157059638534482, 'validation_accuracy_pixelclass_6': 0.8839789575574198, 'validation_accuracy_pixelclass_7': 0.39465318986345843, 'validation_accuracy_pixelclass_8': 0.799764750584019, 'validation_accuracy_pixelclass_9': 0.7193239292325669, 'validation_accuracy_pixelclass_10': 0.35472155925508614, 'validation_accuracy_pixelclass_11': 0.4293967498033978, 'validation_accuracy_pixelclass_12': 0.0, 'train_IoU_class_0': 0.6664026364616112, 'train_IoU_class_1': 0.19714719998258717, 'train_IoU_class_2': 0.6124060549644836, 'train_IoU_class_3': 0.0028247187670350365, 'train_IoU_class_4': 0.7509273001367286, 'train_IoU_class_5': 0.46605854161442223, 'train_IoU_class_6': 0.6702582858707702, 'train_IoU_class_7': 0.292521315958816, 'train_IoU_class_8': 0.757142666817658, 'train_IoU_class_9': 0.513331457869549, 'train_IoU_class_10': 0.24585305370462263, 'train_IoU_class_11': 0.3015553217550669, 'train_IoU_class_12': 0.0}\n"
          ]
        },
        {
          "output_type": "stream",
          "name": "stderr",
          "text": [
            "Epoch:44, Training Loss:0.6659: 100%|██████████| 104/104 [06:53<00:00,  3.97s/it]\n"
          ]
        },
        {
          "output_type": "stream",
          "name": "stdout",
          "text": [
            "{'train_loss': 0.6695851683616638, 'train_average_accuracy': 0.6489420488702637, 'train_mIoU': 0.5457136821908318, 'train_accuracy_pixelclass_0': 0.8445886534737937, 'train_accuracy_pixelclass_1': 0.3696175134163758, 'train_accuracy_pixelclass_2': 0.8047187668578311, 'train_accuracy_pixelclass_3': 0.4014568655434509, 'train_accuracy_pixelclass_4': 0.8679110255205149, 'train_accuracy_pixelclass_5': 0.7149139654627542, 'train_accuracy_pixelclass_6': 0.86339101811099, 'train_accuracy_pixelclass_7': 0.548634068044935, 'train_accuracy_pixelclass_8': 0.9138116138629051, 'train_accuracy_pixelclass_9': 0.8186235943820572, 'train_accuracy_pixelclass_10': 0.7916643748198089, 'train_accuracy_pixelclass_11': 0.49691517581801237, 'train_accuracy_pixelclass_12': 0.0, 'train_IoU_class_0': 0.6951136039868028, 'train_IoU_class_1': 0.288860030987367, 'train_IoU_class_2': 0.6185912688883747, 'train_IoU_class_3': 0.38190029904879386, 'train_IoU_class_4': 0.8075775058321645, 'train_IoU_class_5': 0.6277342392340206, 'train_IoU_class_6': 0.7195407365486359, 'train_IoU_class_7': 0.4401117991197194, 'train_IoU_class_8': 0.8194871166119239, 'train_IoU_class_9': 0.6502855837649273, 'train_IoU_class_10': 0.658118047657822, 'train_IoU_class_11': 0.38695763680026113, 'train_IoU_class_12': 0.0}\n"
          ]
        },
        {
          "output_type": "stream",
          "name": "stderr",
          "text": [
            "Validation Loss:0.9411: 100%|██████████| 26/26 [00:27<00:00,  1.07s/it]\n"
          ]
        },
        {
          "output_type": "stream",
          "name": "stdout",
          "text": [
            "Epoch:44 {'validation_loss': 0.9411337971687317, 'validation_average_accuracy': 0.5694753289691946, 'validation_mIoU': 0.43445608716415113, 'validation_accuracy_pixelclass_0': 0.8818979698799378, 'validation_accuracy_pixelclass_1': 0.3048802346423334, 'validation_accuracy_pixelclass_2': 0.805917724331879, 'validation_accuracy_pixelclass_3': 0.12136029672525794, 'validation_accuracy_pixelclass_4': 0.736616837419692, 'validation_accuracy_pixelclass_5': 0.7378074277907207, 'validation_accuracy_pixelclass_6': 0.8320355181984043, 'validation_accuracy_pixelclass_7': 0.49861408583172184, 'validation_accuracy_pixelclass_8': 0.8685394365272214, 'validation_accuracy_pixelclass_9': 0.6254183249017667, 'validation_accuracy_pixelclass_10': 0.5229865907464795, 'validation_accuracy_pixelclass_11': 0.4671048296041157, 'validation_accuracy_pixelclass_12': 0.0, 'train_IoU_class_0': 0.6400218107303517, 'train_IoU_class_1': 0.21778696354042767, 'train_IoU_class_2': 0.6219673279646205, 'train_IoU_class_3': 0.09237922229703122, 'train_IoU_class_4': 0.6671147183220096, 'train_IoU_class_5': 0.44928736883855086, 'train_IoU_class_6': 0.6850929075899552, 'train_IoU_class_7': 0.33282492361278093, 'train_IoU_class_8': 0.7928161891589841, 'train_IoU_class_9': 0.48369723761865224, 'train_IoU_class_10': 0.30678002715037317, 'train_IoU_class_11': 0.35816043631022765, 'train_IoU_class_12': 0.0}\n"
          ]
        },
        {
          "output_type": "stream",
          "name": "stderr",
          "text": [
            "Epoch:45, Training Loss:0.6539: 100%|██████████| 104/104 [06:51<00:00,  3.96s/it]\n"
          ]
        },
        {
          "output_type": "stream",
          "name": "stdout",
          "text": [
            "{'train_loss': 0.6536039710044861, 'train_average_accuracy': 0.6581692232550621, 'train_mIoU': 0.553298284772713, 'train_accuracy_pixelclass_0': 0.8498328742303688, 'train_accuracy_pixelclass_1': 0.41485827934177116, 'train_accuracy_pixelclass_2': 0.8156723709119815, 'train_accuracy_pixelclass_3': 0.3873079630359115, 'train_accuracy_pixelclass_4': 0.8618189536146559, 'train_accuracy_pixelclass_5': 0.7120069546934072, 'train_accuracy_pixelclass_6': 0.8698561005951548, 'train_accuracy_pixelclass_7': 0.5774314611600531, 'train_accuracy_pixelclass_8': 0.9278818713177612, 'train_accuracy_pixelclass_9': 0.8195310370931702, 'train_accuracy_pixelclass_10': 0.8068158868264228, 'train_accuracy_pixelclass_11': 0.5131816104159472, 'train_accuracy_pixelclass_12': 4.539079202393002e-06, 'train_IoU_class_0': 0.6990792257618793, 'train_IoU_class_1': 0.331567289585127, 'train_IoU_class_2': 0.6353052973604253, 'train_IoU_class_3': 0.3693609693971814, 'train_IoU_class_4': 0.8009863717330798, 'train_IoU_class_5': 0.603208587002036, 'train_IoU_class_6': 0.7287466564216678, 'train_IoU_class_7': 0.4701920781252329, 'train_IoU_class_8': 0.8323874562484241, 'train_IoU_class_9': 0.6581127774195821, 'train_IoU_class_10': 0.6782178261009908, 'train_IoU_class_11': 0.3857086278104405, 'train_IoU_class_12': 4.539079202393002e-06}\n"
          ]
        },
        {
          "output_type": "stream",
          "name": "stderr",
          "text": [
            "Validation Loss:0.9356: 100%|██████████| 26/26 [00:29<00:00,  1.13s/it]\n"
          ]
        },
        {
          "output_type": "stream",
          "name": "stdout",
          "text": [
            "Epoch:45 {'validation_loss': 0.9356297850608826, 'validation_average_accuracy': 0.5500795581576253, 'validation_mIoU': 0.43415642537206645, 'validation_accuracy_pixelclass_0': 0.8012697970283882, 'validation_accuracy_pixelclass_1': 0.3179149014176308, 'validation_accuracy_pixelclass_2': 0.780650069313241, 'validation_accuracy_pixelclass_3': 0.06713450682776835, 'validation_accuracy_pixelclass_4': 0.8268578482673041, 'validation_accuracy_pixelclass_5': 0.5431020362544634, 'validation_accuracy_pixelclass_6': 0.8494599689408344, 'validation_accuracy_pixelclass_7': 0.4141268288565568, 'validation_accuracy_pixelclass_8': 0.8226030594151367, 'validation_accuracy_pixelclass_9': 0.7250837865091492, 'validation_accuracy_pixelclass_10': 0.42480784338283506, 'validation_accuracy_pixelclass_11': 0.5780236098358207, 'validation_accuracy_pixelclass_12': 0.0, 'train_IoU_class_0': 0.6648408506844505, 'train_IoU_class_1': 0.22493237624889575, 'train_IoU_class_2': 0.622464632755582, 'train_IoU_class_3': 0.055934842912463416, 'train_IoU_class_4': 0.7142045479815163, 'train_IoU_class_5': 0.46982328220669695, 'train_IoU_class_6': 0.6877058452774499, 'train_IoU_class_7': 0.30444258785673445, 'train_IoU_class_8': 0.7743441279233432, 'train_IoU_class_9': 0.5152216585790255, 'train_IoU_class_10': 0.2768504590265889, 'train_IoU_class_11': 0.33326831838411675, 'train_IoU_class_12': 0.0}\n",
            "Early stopping triggered after 45 epochs.\n",
            "Best model from validation saved to ../../drive/MyDrive/MVA/swin-t_SSL_freeze_3\n"
          ]
        },
        {
          "output_type": "display_data",
          "data": {
            "text/plain": [
              "<Figure size 640x480 with 1 Axes>"
            ],
            "image/png": "[encoded data removed]"
          },
          "metadata": {}
        }
      ],
      "source": [
        "step = 0\n",
        "\n",
        "#Training loop\n",
        "train_losses = []\n",
        "val_losses = []\n",
        "patience = 5\n",
        "best_loss = float('inf')\n",
        "patience_counter = 0\n",
        "best_val_loss = float('inf')\n",
        "best_model_wts = None\n",
        "\n",
        "for epoch in range(train_config['epochs']):\n",
        "    try:\n",
        "        if epoch == 26:\n",
        "            save_weights_path = (\n",
        "                \"../../drive/MyDrive/MVA/\".join([\"intermediate_model\", \"epoch\", str(epoch)]) + \".pth\"\n",
        "            )\n",
        "            save_opt_path = (\n",
        "                \"../../drive/MyDrive/MVA/\".join([\"intermediate_optimizer\", \"epoch\", str(epoch)]) + \".pth\"\n",
        "            )\n",
        "            torch.save(model.state_dict(), save_weights_path)\n",
        "            torch.save(optimizer.state_dict(), save_opt_path)\n",
        "            print(\"Saved model and optimizer state at epoch 26.\")\n",
        "            train_losses_path = 'train_losses.csv'\n",
        "            val_losses_path = 'val_losses.csv'\n",
        "            with open(train_losses_path, 'w', newline='') as tr_csv_file:\n",
        "                writer = csv.writer(tr_csv_file)\n",
        "                writer.writerow(train_losses)\n",
        "            with open(val_losses_path, 'w', newline='') as val_csv_file:\n",
        "                writer = csv.writer(val_csv_file)\n",
        "                writer.writerow(val_losses)\n",
        "\n",
        "        # Model Training\n",
        "        model.train()\n",
        "        step += 1\n",
        "\n",
        "        pbar = tqdm(train_loader)\n",
        "\n",
        "        # track performance\n",
        "        epoch_losses = torch.Tensor()\n",
        "        metrics = PixelwiseMetrics(data_config['num_classes'])\n",
        "\n",
        "        for idx, (img, y) in enumerate(pbar):\n",
        "            # load target\n",
        "            y = y.to(device)\n",
        "            # model output\n",
        "            y_hat = model(img)\n",
        "\n",
        "            # loss computation\n",
        "            loss = criterion(y_hat, y)\n",
        "\n",
        "            # backward step\n",
        "            optimizer.zero_grad()\n",
        "            loss.backward()\n",
        "            optimizer.step()\n",
        "\n",
        "            # get prediction\n",
        "            _, pred = torch.max(y_hat, dim=1)\n",
        "\n",
        "            epoch_losses = torch.cat([epoch_losses, loss[None].detach().cpu()])\n",
        "            metrics.add_batch(y, pred)\n",
        "\n",
        "            pbar.set_description(f\"Epoch:{epoch}, Training Loss:{epoch_losses[-100:].mean():.4}\")\n",
        "\n",
        "        mean_loss = epoch_losses.mean()\n",
        "        train_losses.append(mean_loss)\n",
        "        train_stats = {\n",
        "                \"train_loss\": mean_loss.item(),\n",
        "                \"train_average_accuracy\": metrics.get_average_accuracy(),\n",
        "                \"train_mIoU\": metrics.get_mIoU(),\n",
        "                **{\n",
        "                    \"train_accuracy_\" + k: v\n",
        "                    for k, v in metrics.get_classwise_accuracy().items()\n",
        "                },\n",
        "                **{\n",
        "                    \"train_IoU_\" + k: v\n",
        "                    for k, v in metrics.get_IoU().items()\n",
        "                },\n",
        "            }\n",
        "        print(train_stats)\n",
        "\n",
        "        # Model Validation\n",
        "        model.eval()\n",
        "        pbar = tqdm(val_loader)\n",
        "\n",
        "        # track performance\n",
        "        epoch_losses = torch.Tensor()\n",
        "        metrics = PixelwiseMetrics(data_config['num_classes'])\n",
        "\n",
        "        with torch.no_grad():\n",
        "            for idx, (img, y) in enumerate(pbar):\n",
        "                y = y.to(device)\n",
        "                # model output\n",
        "                y_hat = model(img)\n",
        "\n",
        "                # loss computation\n",
        "                loss = criterion(y_hat, y)\n",
        "\n",
        "                # get prediction\n",
        "                _, pred = torch.max(y_hat, dim=1)\n",
        "\n",
        "                epoch_losses = torch.cat([epoch_losses, loss[None].detach().cpu()])\n",
        "                metrics.add_batch(y, pred)\n",
        "\n",
        "\n",
        "                pbar.set_description(f\"Validation Loss:{epoch_losses[-100:].mean():.4}\")\n",
        "\n",
        "            mean_loss = epoch_losses.mean()\n",
        "            val_losses.append(mean_loss)\n",
        "            val_stats = {\n",
        "                \"validation_loss\": mean_loss.item(),\n",
        "                \"validation_average_accuracy\": metrics.get_average_accuracy(),\n",
        "                \"validation_mIoU\": metrics.get_mIoU(),\n",
        "                **{\n",
        "                    \"validation_accuracy_\" + k: v\n",
        "                    for k, v in metrics.get_classwise_accuracy().items()\n",
        "                },\n",
        "                **{\n",
        "                \"train_IoU_\" + k: v\n",
        "                for k, v in metrics.get_IoU().items()\n",
        "            },\n",
        "            }\n",
        "\n",
        "            print(f\"Epoch:{epoch}\", val_stats)\n",
        "\n",
        "            # Save model checkpoint every 2 epochs\n",
        "            if epoch % 2 == 0:\n",
        "                if epoch == 0:\n",
        "                    continue\n",
        "\n",
        "                save_weights_path = (\n",
        "                    \"checkpoints/\" + \"-\".join([\"segmentation\", \"epoch\", str(epoch)]) + \".pth\"\n",
        "                )\n",
        "                save_opt_path = (\n",
        "                    \"checkpoints/\" + \"-\".join([\"optimizer\", \"epoch\", str(epoch)]) + \".pth\"\n",
        "                )\n",
        "                torch.save(model.state_dict(), save_weights_path)\n",
        "                torch.save(optimizer.state_dict(), save_opt_path)\n",
        "            val_loss = val_stats[\"validation_loss\"]\n",
        "            if val_loss < best_loss:\n",
        "                best_loss = val_loss\n",
        "                patience_counter = 0\n",
        "                best_model = model.state_dict()\n",
        "                best_epoch = epoch\n",
        "                print(\"For now best val loss at epoch: \", epoch)\n",
        "                # Enregistrez les meilleurs poids ici si désiré\n",
        "            else:\n",
        "                patience_counter += 1\n",
        "                if patience_counter >= patience:\n",
        "                    print(f\"Early stopping triggered after {epoch} epochs.\")\n",
        "                    torch.save(model.state_dict(), '../../drive/MyDrive/MVA/swin-t_SSL_freeze_3_earlyStopped_'+str(epoch)+'.pth')\n",
        "                    break\n",
        "    except Exception as e:\n",
        "        print(f\"An error occurred: {e}\")\n",
        "        print(f\"Memory usage: {psutil.virtual_memory()}\")\n",
        "        print(f\"GPU usage: {GPUtil.getGPUs()}\")\n",
        "\n",
        "torch.save(best_model, \"../../drive/MyDrive/MVA/swin-t_SSL_freeze_3_\"+str(best_epoch))\n",
        "print(f\"Best model from validation saved to ../../drive/MyDrive/MVA/swin-t_SSL_freeze_3\")\n",
        "plt.plot(train_losses, label='Training loss')\n",
        "plt.plot(val_losses, label='Validation loss')\n",
        "plt.legend(frameon=False)\n",
        "plt.show()"
      ]
    },
    {
      "cell_type": "markdown",
      "metadata": {
        "id": "ahcf-TVfChJ9"
      },
      "source": [
        "You can evaluate the model on one example by creating a model's instance, loading checkpoint's weights of the classifier saved during training, running it, and displaying the results:"
      ]
    },
    {
      "cell_type": "code",
      "execution_count": 21,
      "metadata": {
        "id": "IqCN_PUlq1BD"
      },
      "outputs": [],
      "source": [
        "def test(model, test_ld):\n",
        "    model.eval()\n",
        "    pbar = tqdm(test_ld)\n",
        "\n",
        "    epoch_losses = torch.Tensor()\n",
        "    metrics = PixelwiseMetrics(data_config['num_classes'])\n",
        "    all_preds = []\n",
        "    all_gts = []\n",
        "    with torch.no_grad():\n",
        "        for idx, (img, y) in enumerate(pbar):\n",
        "            y = y.to(device)\n",
        "            # model output\n",
        "            y_hat = model(img)\n",
        "\n",
        "            # loss computation\n",
        "            loss = criterion(y_hat, y)\n",
        "\n",
        "            # get prediction\n",
        "            _, pred = torch.max(y_hat, dim=1)\n",
        "            all_gts.append(y.cpu().numpy())\n",
        "            all_preds.append(pred.cpu().numpy())\n",
        "            epoch_losses = torch.cat([epoch_losses, loss[None].detach().cpu()])\n",
        "            metrics.add_batch(y, pred)\n",
        "\n",
        "\n",
        "            pbar.set_description(f\"Validation Loss:{epoch_losses[-100:].mean():.4}\")\n",
        "\n",
        "        mean_loss = epoch_losses.mean()\n",
        "        test_stats = {\n",
        "            \"test_loss\": mean_loss.item(),\n",
        "            \"test_average_accuracy\": metrics.get_average_accuracy(),\n",
        "            \"test_mIoU\": metrics.get_mIoU(),\n",
        "            **{\n",
        "                \"test_accuracy_\" + k: v\n",
        "                for k, v in metrics.get_classwise_accuracy().items()\n",
        "            },\n",
        "            **{\n",
        "                \"train_IoU_\" + k: v\n",
        "                for k, v in metrics.get_IoU().items()\n",
        "            },\n",
        "        }\n",
        "        print(\"Test stats:\")\n",
        "\n",
        "        # Loss\n",
        "        print(f\"  Loss: {test_stats['test_loss']:.4f}\")\n",
        "\n",
        "        # Average accuracy and mIoU\n",
        "        print(f\"  Average Accuracy: {test_stats['test_average_accuracy']:.4f}\")\n",
        "        print(f\"  Mean IoU: {test_stats['test_mIoU']:.4f}\")\n",
        "\n",
        "        # Accuracy per class\n",
        "        print(\"  Accuracy by Class:\")\n",
        "        for i in range(data_config['num_classes']):\n",
        "            print(f\"    Class {i}: {test_stats[f'test_accuracy_pixelclass_{i}']:.4f}\")\n",
        "\n",
        "        # IoU per class\n",
        "        print(\"  IoU by Class:\")\n",
        "        for i in range(data_config['num_classes']):\n",
        "            print(f\"    Class {i}: {test_stats[f'train_IoU_class_{i}']:.4f}\")\n",
        "        all_preds = np.concatenate(all_preds)\n",
        "        all_gts = np.concatenate(all_gts)\n",
        "\n",
        "        # Calculer la matrice de confusion\n",
        "        conf_matrix = confusion_matrix(all_gts.flatten(), all_preds.flatten(), labels=np.arange(data_config['num_classes']))\n",
        "        # Normalisation par lignes\n",
        "        conf_matrix_normalized = conf_matrix.astype('float') / conf_matrix.sum(axis=1)[:, np.newaxis]\n",
        "\n",
        "        sns.set(font_scale=0.8)\n",
        "\n",
        "        # Tracer la matrice de confusion\n",
        "        plt.figure(figsize=(10, 10))\n",
        "        ax = sns.heatmap(conf_matrix_normalized, annot=True, fmt='.2f', cmap='Blues', xticklabels=list(dict_classes_13.values()), yticklabels=list(dict_classes_13.values()))\n",
        "        ax.set_xticklabels(ax.get_xticklabels(), rotation=90)\n",
        "        #sns.set(font_scale=1.2)\n",
        "        plt.xlabel('Predicted Labels')\n",
        "        plt.ylabel('True Labels')\n",
        "        plt.title('Confusion Matrix')\n",
        "        plt.show()\n",
        "    return"
      ]
    },
    {
      "cell_type": "code",
      "execution_count": null,
      "metadata": {
        "id": "r7S2rzkTs2V2"
      },
      "outputs": [],
      "source": [
        "torch.save(model.state_dict(), '../../drive/MyDrive/MVA/swin-t_SSL_freeze_60epochs.pth')\n",
        "# torch.save(model.state_dict(), 'checkpoints/segmentation-epoch-28.pth')"
      ]
    },
    {
      "cell_type": "code",
      "execution_count": 22,
      "metadata": {
        "colab": {
          "base_uri": "https://localhost:8080/",
          "height": 1000
        },
        "id": "YMVwzyf3ChJ-",
        "outputId": "33669f6c-3381-4ac6-835f-5779202edb97"
      },
      "outputs": [
        {
          "output_type": "stream",
          "name": "stderr",
          "text": [
            "Validation Loss:0.9284: 100%|██████████| 33/33 [01:15<00:00,  2.29s/it]\n"
          ]
        },
        {
          "output_type": "stream",
          "name": "stdout",
          "text": [
            "Test stats:\n",
            "  Loss: 0.9284\n",
            "  Average Accuracy: 0.5517\n",
            "  Mean IoU: 0.4360\n",
            "  Accuracy by Class:\n",
            "    Class 0: 0.8222\n",
            "    Class 1: 0.3325\n",
            "    Class 2: 0.7813\n",
            "    Class 3: 0.1861\n",
            "    Class 4: 0.8341\n",
            "    Class 5: 0.5970\n",
            "    Class 6: 0.8369\n",
            "    Class 7: 0.3823\n",
            "    Class 8: 0.7786\n",
            "    Class 9: 0.7124\n",
            "    Class 10: 0.4509\n",
            "    Class 11: 0.4572\n",
            "    Class 12: 0.0000\n",
            "  IoU by Class:\n",
            "    Class 0: 0.6522\n",
            "    Class 1: 0.2302\n",
            "    Class 2: 0.6367\n",
            "    Class 3: 0.1666\n",
            "    Class 4: 0.7156\n",
            "    Class 5: 0.4715\n",
            "    Class 6: 0.6943\n",
            "    Class 7: 0.2648\n",
            "    Class 8: 0.7195\n",
            "    Class 9: 0.4963\n",
            "    Class 10: 0.3104\n",
            "    Class 11: 0.3101\n",
            "    Class 12: 0.0000\n"
          ]
        },
        {
          "output_type": "display_data",
          "data": {
            "text/plain": [
              "<Figure size 1000x1000 with 2 Axes>"
            ],
            "image/png": "[encoded data removed]"
          },
          "metadata": {}
        }
      ],
      "source": [
        "# create a new model's instance\n",
        "model = DoubleSwinTransformerSegmentation(\n",
        "        s1_backbone, s2_backbone, out_dim=data_config['num_classes'], device=device)\n",
        "\n",
        "model = model.to(device)\n",
        "\n",
        "# load checkpoints weights\n",
        "model.load_state_dict(torch.load('../../drive/MyDrive/MVA/swin-t_SSL_freeze_3_earlyStopped_45.pth'))#\"checkpoints/segmentation-epoch-20.pth\"))\n",
        "\n",
        "test(model, test_loader)"
      ]
    }
  ],
  "metadata": {
    "accelerator": "GPU",
    "colab": {
      "gpuType": "T4",
      "provenance": []
    },
    "kernelspec": {
      "display_name": "Python 3",
      "name": "python3"
    },
    "language_info": {
      "codemirror_mode": {
        "name": "ipython",
        "version": 3
      },
      "file_extension": ".py",
      "mimetype": "text/x-python",
      "name": "python",
      "nbconvert_exporter": "python",
      "pygments_lexer": "ipython3",
      "version": "3.6.13"
    }
  },
  "nbformat": 4,
  "nbformat_minor": 0
}