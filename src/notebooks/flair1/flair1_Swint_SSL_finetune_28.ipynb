{
  "cells": [
    {
      "cell_type": "markdown",
      "metadata": {
        "id": "ZwZVnpaWChJt"
      },
      "source": [
        "# Self-supervised Vision Transformer for Land Cover Segmentation\n",
        "### Pre-trained model with Swin Transformer and Sentinel-1/2, segmentation head trained with Flair1\n"
      ]
    },
    {
      "cell_type": "code",
      "execution_count": 1,
      "metadata": {
        "colab": {
          "base_uri": "https://localhost:8080/"
        },
        "id": "j_DK22QTC9im",
        "outputId": "50d9267e-cf52-4dfd-884d-a93f3fc68861"
      },
      "outputs": [
        {
          "name": "stdout",
          "output_type": "stream",
          "text": [
            "Mounted at /content/drive\n"
          ]
        }
      ],
      "source": [
        "from google.colab import drive\n",
        "drive.mount('/content/drive')"
      ]
    },
    {
      "cell_type": "code",
      "execution_count": 2,
      "metadata": {
        "colab": {
          "base_uri": "https://localhost:8080/"
        },
        "id": "psu86KKMDIa_",
        "outputId": "30fdefca-31ca-4f76-b65e-281355c6ebe2"
      },
      "outputs": [
        {
          "name": "stdout",
          "output_type": "stream",
          "text": [
            "Cloning into 'LandCover_map_Transformers_SSL'...\n",
            "remote: Enumerating objects: 8612, done.\u001b[K\n",
            "remote: Counting objects: 100% (195/195), done.\u001b[K\n",
            "remote: Compressing objects: 100% (139/139), done.\u001b[K\n",
            "remote: Total 8612 (delta 64), reused 179 (delta 49), pack-reused 8417\u001b[K\n",
            "Receiving objects: 100% (8612/8612), 423.77 MiB | 21.77 MiB/s, done.\n",
            "Resolving deltas: 100% (499/499), done.\n"
          ]
        }
      ],
      "source": [
        "!git clone https://github.com/BertilleT/LandCover_map_Transformers_SSL.git"
      ]
    },
    {
      "cell_type": "code",
      "execution_count": 3,
      "metadata": {
        "colab": {
          "base_uri": "https://localhost:8080/"
        },
        "id": "K5MJ9w1sDahB",
        "outputId": "3a1e253e-db6c-447a-d6fa-8ac6f06dcde9"
      },
      "outputs": [
        {
          "name": "stdout",
          "output_type": "stream",
          "text": [
            "/content/LandCover_map_Transformers_SSL/src\n"
          ]
        }
      ],
      "source": [
        "cd LandCover_map_Transformers_SSL/src"
      ]
    },
    {
      "cell_type": "markdown",
      "metadata": {
        "id": "LbFX7YbsChJx"
      },
      "source": [
        "## Content\n",
        "\n",
        "1. [Installation](#installation)\n",
        "1. [Dataset](#dataset)\n",
        "1. [Quick Start](#quickstart)"
      ]
    },
    {
      "cell_type": "code",
      "execution_count": 4,
      "metadata": {
        "colab": {
          "base_uri": "https://localhost:8080/"
        },
        "id": "Bw95MlAaD5Yp",
        "outputId": "1acbefb0-761e-451a-ab50-e3d9efeaf4a7"
      },
      "outputs": [
        {
          "name": "stdout",
          "output_type": "stream",
          "text": [
            "Collecting wandb\n",
            "  Downloading wandb-0.16.1-py3-none-any.whl (2.1 MB)\n",
            "\u001b[2K     \u001b[90m━━━━━━━━━━━━━━━━━━━━━━━━━━━━━━━━━━━━━━━━\u001b[0m \u001b[32m2.1/2.1 MB\u001b[0m \u001b[31m9.5 MB/s\u001b[0m eta \u001b[36m0:00:00\u001b[0m\n",
            "\u001b[?25hRequirement already satisfied: Click!=8.0.0,>=7.1 in /usr/local/lib/python3.10/dist-packages (from wandb) (8.1.7)\n",
            "Collecting GitPython!=3.1.29,>=1.0.0 (from wandb)\n",
            "  Downloading GitPython-3.1.40-py3-none-any.whl (190 kB)\n",
            "\u001b[2K     \u001b[90m━━━━━━━━━━━━━━━━━━━━━━━━━━━━━━━━━━━━━━━━\u001b[0m \u001b[32m190.6/190.6 kB\u001b[0m \u001b[31m27.3 MB/s\u001b[0m eta \u001b[36m0:00:00\u001b[0m\n",
            "\u001b[?25hRequirement already satisfied: requests<3,>=2.0.0 in /usr/local/lib/python3.10/dist-packages (from wandb) (2.31.0)\n",
            "Requirement already satisfied: psutil>=5.0.0 in /usr/local/lib/python3.10/dist-packages (from wandb) (5.9.5)\n",
            "Collecting sentry-sdk>=1.0.0 (from wandb)\n",
            "  Downloading sentry_sdk-1.39.1-py2.py3-none-any.whl (254 kB)\n",
            "\u001b[2K     \u001b[90m━━━━━━━━━━━━━━━━━━━━━━━━━━━━━━━━━━━━━━━━\u001b[0m \u001b[32m254.1/254.1 kB\u001b[0m \u001b[31m33.9 MB/s\u001b[0m eta \u001b[36m0:00:00\u001b[0m\n",
            "\u001b[?25hCollecting docker-pycreds>=0.4.0 (from wandb)\n",
            "  Downloading docker_pycreds-0.4.0-py2.py3-none-any.whl (9.0 kB)\n",
            "Requirement already satisfied: PyYAML in /usr/local/lib/python3.10/dist-packages (from wandb) (6.0.1)\n",
            "Collecting setproctitle (from wandb)\n",
            "  Downloading setproctitle-1.3.3-cp310-cp310-manylinux_2_5_x86_64.manylinux1_x86_64.manylinux_2_17_x86_64.manylinux2014_x86_64.whl (30 kB)\n",
            "Requirement already satisfied: setuptools in /usr/local/lib/python3.10/dist-packages (from wandb) (67.7.2)\n",
            "Requirement already satisfied: appdirs>=1.4.3 in /usr/local/lib/python3.10/dist-packages (from wandb) (1.4.4)\n",
            "Requirement already satisfied: protobuf!=4.21.0,<5,>=3.19.0 in /usr/local/lib/python3.10/dist-packages (from wandb) (3.20.3)\n",
            "Requirement already satisfied: six>=1.4.0 in /usr/local/lib/python3.10/dist-packages (from docker-pycreds>=0.4.0->wandb) (1.16.0)\n",
            "Collecting gitdb<5,>=4.0.1 (from GitPython!=3.1.29,>=1.0.0->wandb)\n",
            "  Downloading gitdb-4.0.11-py3-none-any.whl (62 kB)\n",
            "\u001b[2K     \u001b[90m━━━━━━━━━━━━━━━━━━━━━━━━━━━━━━━━━━━━━━━━\u001b[0m \u001b[32m62.7/62.7 kB\u001b[0m \u001b[31m9.0 MB/s\u001b[0m eta \u001b[36m0:00:00\u001b[0m\n",
            "\u001b[?25hRequirement already satisfied: charset-normalizer<4,>=2 in /usr/local/lib/python3.10/dist-packages (from requests<3,>=2.0.0->wandb) (3.3.2)\n",
            "Requirement already satisfied: idna<4,>=2.5 in /usr/local/lib/python3.10/dist-packages (from requests<3,>=2.0.0->wandb) (3.6)\n",
            "Requirement already satisfied: urllib3<3,>=1.21.1 in /usr/local/lib/python3.10/dist-packages (from requests<3,>=2.0.0->wandb) (2.0.7)\n",
            "Requirement already satisfied: certifi>=2017.4.17 in /usr/local/lib/python3.10/dist-packages (from requests<3,>=2.0.0->wandb) (2023.11.17)\n",
            "Collecting smmap<6,>=3.0.1 (from gitdb<5,>=4.0.1->GitPython!=3.1.29,>=1.0.0->wandb)\n",
            "  Downloading smmap-5.0.1-py3-none-any.whl (24 kB)\n",
            "Installing collected packages: smmap, setproctitle, sentry-sdk, docker-pycreds, gitdb, GitPython, wandb\n",
            "Successfully installed GitPython-3.1.40 docker-pycreds-0.4.0 gitdb-4.0.11 sentry-sdk-1.39.1 setproctitle-1.3.3 smmap-5.0.1 wandb-0.16.1\n",
            "Collecting rasterio\n",
            "  Downloading rasterio-1.3.9-cp310-cp310-manylinux2014_x86_64.whl (20.6 MB)\n",
            "\u001b[2K     \u001b[90m━━━━━━━━━━━━━━━━━━━━━━━━━━━━━━━━━━━━━━━━\u001b[0m \u001b[32m20.6/20.6 MB\u001b[0m \u001b[31m41.2 MB/s\u001b[0m eta \u001b[36m0:00:00\u001b[0m\n",
            "\u001b[?25hCollecting affine (from rasterio)\n",
            "  Downloading affine-2.4.0-py3-none-any.whl (15 kB)\n",
            "Requirement already satisfied: attrs in /usr/local/lib/python3.10/dist-packages (from rasterio) (23.1.0)\n",
            "Requirement already satisfied: certifi in /usr/local/lib/python3.10/dist-packages (from rasterio) (2023.11.17)\n",
            "Requirement already satisfied: click>=4.0 in /usr/local/lib/python3.10/dist-packages (from rasterio) (8.1.7)\n",
            "Requirement already satisfied: cligj>=0.5 in /usr/local/lib/python3.10/dist-packages (from rasterio) (0.7.2)\n",
            "Requirement already satisfied: numpy in /usr/local/lib/python3.10/dist-packages (from rasterio) (1.23.5)\n",
            "Collecting snuggs>=1.4.1 (from rasterio)\n",
            "  Downloading snuggs-1.4.7-py3-none-any.whl (5.4 kB)\n",
            "Requirement already satisfied: click-plugins in /usr/local/lib/python3.10/dist-packages (from rasterio) (1.1.1)\n",
            "Requirement already satisfied: setuptools in /usr/local/lib/python3.10/dist-packages (from rasterio) (67.7.2)\n",
            "Requirement already satisfied: pyparsing>=2.1.6 in /usr/local/lib/python3.10/dist-packages (from snuggs>=1.4.1->rasterio) (3.1.1)\n",
            "Installing collected packages: snuggs, affine, rasterio\n",
            "Successfully installed affine-2.4.0 rasterio-1.3.9 snuggs-1.4.7\n",
            "Collecting timm\n",
            "  Downloading timm-0.9.12-py3-none-any.whl (2.2 MB)\n",
            "\u001b[2K     \u001b[90m━━━━━━━━━━━━━━━━━━━━━━━━━━━━━━━━━━━━━━━━\u001b[0m \u001b[32m2.2/2.2 MB\u001b[0m \u001b[31m11.0 MB/s\u001b[0m eta \u001b[36m0:00:00\u001b[0m\n",
            "\u001b[?25hRequirement already satisfied: torch>=1.7 in /usr/local/lib/python3.10/dist-packages (from timm) (2.1.0+cu121)\n",
            "Requirement already satisfied: torchvision in /usr/local/lib/python3.10/dist-packages (from timm) (0.16.0+cu121)\n",
            "Requirement already satisfied: pyyaml in /usr/local/lib/python3.10/dist-packages (from timm) (6.0.1)\n",
            "Requirement already satisfied: huggingface-hub in /usr/local/lib/python3.10/dist-packages (from timm) (0.20.1)\n",
            "Requirement already satisfied: safetensors in /usr/local/lib/python3.10/dist-packages (from timm) (0.4.1)\n",
            "Requirement already satisfied: filelock in /usr/local/lib/python3.10/dist-packages (from torch>=1.7->timm) (3.13.1)\n",
            "Requirement already satisfied: typing-extensions in /usr/local/lib/python3.10/dist-packages (from torch>=1.7->timm) (4.5.0)\n",
            "Requirement already satisfied: sympy in /usr/local/lib/python3.10/dist-packages (from torch>=1.7->timm) (1.12)\n",
            "Requirement already satisfied: networkx in /usr/local/lib/python3.10/dist-packages (from torch>=1.7->timm) (3.2.1)\n",
            "Requirement already satisfied: jinja2 in /usr/local/lib/python3.10/dist-packages (from torch>=1.7->timm) (3.1.2)\n",
            "Requirement already satisfied: fsspec in /usr/local/lib/python3.10/dist-packages (from torch>=1.7->timm) (2023.6.0)\n",
            "Requirement already satisfied: triton==2.1.0 in /usr/local/lib/python3.10/dist-packages (from torch>=1.7->timm) (2.1.0)\n",
            "Requirement already satisfied: requests in /usr/local/lib/python3.10/dist-packages (from huggingface-hub->timm) (2.31.0)\n",
            "Requirement already satisfied: tqdm>=4.42.1 in /usr/local/lib/python3.10/dist-packages (from huggingface-hub->timm) (4.66.1)\n",
            "Requirement already satisfied: packaging>=20.9 in /usr/local/lib/python3.10/dist-packages (from huggingface-hub->timm) (23.2)\n",
            "Requirement already satisfied: numpy in /usr/local/lib/python3.10/dist-packages (from torchvision->timm) (1.23.5)\n",
            "Requirement already satisfied: pillow!=8.3.*,>=5.3.0 in /usr/local/lib/python3.10/dist-packages (from torchvision->timm) (9.4.0)\n",
            "Requirement already satisfied: MarkupSafe>=2.0 in /usr/local/lib/python3.10/dist-packages (from jinja2->torch>=1.7->timm) (2.1.3)\n",
            "Requirement already satisfied: charset-normalizer<4,>=2 in /usr/local/lib/python3.10/dist-packages (from requests->huggingface-hub->timm) (3.3.2)\n",
            "Requirement already satisfied: idna<4,>=2.5 in /usr/local/lib/python3.10/dist-packages (from requests->huggingface-hub->timm) (3.6)\n",
            "Requirement already satisfied: urllib3<3,>=1.21.1 in /usr/local/lib/python3.10/dist-packages (from requests->huggingface-hub->timm) (2.0.7)\n",
            "Requirement already satisfied: certifi>=2017.4.17 in /usr/local/lib/python3.10/dist-packages (from requests->huggingface-hub->timm) (2023.11.17)\n",
            "Requirement already satisfied: mpmath>=0.19 in /usr/local/lib/python3.10/dist-packages (from sympy->torch>=1.7->timm) (1.3.0)\n",
            "Installing collected packages: timm\n",
            "Successfully installed timm-0.9.12\n",
            "Collecting einops\n",
            "  Downloading einops-0.7.0-py3-none-any.whl (44 kB)\n",
            "\u001b[2K     \u001b[90m━━━━━━━━━━━━━━━━━━━━━━━━━━━━━━━━━━━━━━━━\u001b[0m \u001b[32m44.6/44.6 kB\u001b[0m \u001b[31m862.8 kB/s\u001b[0m eta \u001b[36m0:00:00\u001b[0m\n",
            "\u001b[?25hInstalling collected packages: einops\n",
            "Successfully installed einops-0.7.0\n",
            "Collecting diffdist\n",
            "  Downloading diffdist-0.1.tar.gz (4.6 kB)\n",
            "  Preparing metadata (setup.py) ... \u001b[?25l\u001b[?25hdone\n",
            "Building wheels for collected packages: diffdist\n",
            "  Building wheel for diffdist (setup.py) ... \u001b[?25l\u001b[?25hdone\n",
            "  Created wheel for diffdist: filename=diffdist-0.1-py3-none-any.whl size=6534 sha256=1f67c5e8238934d332a32d118dbdfa423f9b28764992924442498f4b568af01e\n",
            "  Stored in directory: /root/.cache/pip/wheels/f1/29/f6/5331a14ab74e769799b76eb32460f447c7feb7375a16b07854\n",
            "Successfully built diffdist\n",
            "Installing collected packages: diffdist\n",
            "Successfully installed diffdist-0.1\n"
          ]
        }
      ],
      "source": [
        "!pip install wandb\n",
        "!pip install rasterio\n",
        "!pip install timm\n",
        "!pip install einops\n",
        "!pip install diffdist"
      ]
    },
    {
      "cell_type": "code",
      "execution_count": 16,
      "metadata": {
        "id": "vLkB5HpsChJy"
      },
      "outputs": [],
      "source": [
        "# Import needed packages\n",
        "import argparse\n",
        "import json\n",
        "import os\n",
        "import random\n",
        "import numpy as np\n",
        "import torch\n",
        "import wandb\n",
        "import torch.nn.functional as F\n",
        "from distutils.util import strtobool\n",
        "from tqdm import tqdm\n",
        "from torchvision.models import resnet18, resnet50\n",
        "from utils_B import *\n",
        "import rasterio\n",
        "from pathlib import Path\n",
        "import numpy as np\n",
        "from torchvision import transforms\n",
        "from Transformer_SSL.models.swin_transformer import DoubleSwinTransformerDownstream\n",
        "from Transformer_SSL.models import build_model\n",
        "import torch.nn as nn\n",
        "from Transformer_SSL.models.swin_transformer import SwinTransformerDecoder\n",
        "import matplotlib.pyplot as plt\n",
        "from metrics import PixelwiseMetrics\n",
        "#from validation_utils import validate_all\n",
        "from sklearn.metrics import confusion_matrix\n",
        "import matplotlib.pyplot as plt\n",
        "import seaborn as sns"
      ]
    },
    {
      "cell_type": "code",
      "execution_count": 59,
      "metadata": {
        "id": "tGctZOdHChJ1"
      },
      "outputs": [],
      "source": [
        "# Data configurations:\n",
        "data_config = {\n",
        "    'train_dir': '../../drive/MyDrive/MVA/flair1_fullset_13classes/train', # path to the training directory,\n",
        "    'val_dir': '../../drive/MyDrive/MVA/flair1_fullset_13classes/val', # path to the validation directory,\n",
        "    'test_dir': '../../drive/MyDrive/MVA/flair1_fullset_13classes/test', # path to the validation directory,\n",
        "    'train_mode': 'validation', # can be one of the following: 'test', 'validation'\n",
        "    'val_mode': 'test', # can be one of the following: 'test', 'validation'\n",
        "    'num_classes': 13, # number of classes in the dataset.\n",
        "    'clip_sample_values': True, # clip (limit) values\n",
        "    'train_used_data_fraction': 1, # fraction of data to use, should be in the range [0, 1]\n",
        "    'val_used_data_fraction': 1,\n",
        "    'image_px_size': 224, # image size (224x224)\n",
        "    'cover_all_parts_train': True, # if True, if image_px_size is not 224 during training, we use a random crop of the image\n",
        "    'cover_all_parts_validation': True, # if True, if image_px_size is not 224 during validation, we use a non-overlapping sliding window to cover the entire image\n",
        "    'seed': 42,\n",
        "}"
      ]
    },
    {
      "cell_type": "code",
      "execution_count": 60,
      "metadata": {
        "id": "zpgubM7VChJ2"
      },
      "outputs": [],
      "source": [
        "# Ensure deterministic behavior\n",
        "random.seed(data_config['seed'])\n",
        "np.random.seed(data_config['seed'])\n",
        "torch.manual_seed(data_config['seed'])\n",
        "torch.cuda.manual_seed_all(data_config['seed'])"
      ]
    },
    {
      "cell_type": "code",
      "execution_count": 61,
      "metadata": {
        "id": "iwpueZvTChJ3"
      },
      "outputs": [],
      "source": [
        "#from dfc_dataset import DFCDataset\n",
        "size = 224\n",
        "multimodal = True\n",
        "train_dataset = Flair1Dataset_SSL(data_config['train_dir'], size, multimodal)\n",
        "val_dataset = Flair1Dataset_SSL(data_config['val_dir'], size, multimodal)\n",
        "test_dataset = Flair1Dataset_SSL(data_config['test_dir'], size, multimodal)"
      ]
    },
    {
      "cell_type": "code",
      "execution_count": 62,
      "metadata": {
        "colab": {
          "base_uri": "https://localhost:8080/"
        },
        "id": "5sTRJYtGChJ4",
        "outputId": "9cee64e7-c20f-44cb-e446-894fa0901eb9"
      },
      "outputs": [
        {
          "data": {
            "text/plain": [
              "(1664, 416)"
            ]
          },
          "execution_count": 62,
          "metadata": {},
          "output_type": "execute_result"
        }
      ],
      "source": [
        "len(train_dataset), len(val_dataset)"
      ]
    },
    {
      "cell_type": "code",
      "execution_count": 63,
      "metadata": {
        "colab": {
          "base_uri": "https://localhost:8080/"
        },
        "id": "FPnUbixCChJ4",
        "outputId": "3059086e-0979-43a7-a0dc-c6fec448082c"
      },
      "outputs": [
        {
          "name": "stdout",
          "output_type": "stream",
          "text": [
            "torch.Size([3, 224, 224])\n",
            "torch.Size([2, 224, 224])\n"
          ]
        }
      ],
      "source": [
        "#loop on train_ds and check shape of rgb and ir_el\n",
        "rgb = train_dataset[0][0]['rgb']\n",
        "ir_el = train_dataset[0][0]['ir_el']\n",
        "print(rgb.shape)\n",
        "print(ir_el.shape)"
      ]
    },
    {
      "cell_type": "code",
      "execution_count": 64,
      "metadata": {
        "id": "fGzvWHplChJ4"
      },
      "outputs": [],
      "source": [
        "dict_classes_13 = {\n",
        "1   : 'building',\n",
        "2   : 'pervious surface',\n",
        "3   : 'impervious surface',\n",
        "4   : 'bare soil',\n",
        "5   : 'water',\n",
        "6   : 'coniferous',\n",
        "7   : 'deciduous',\n",
        "8   : 'brushwood',\n",
        "9   : 'vineyard',\n",
        "10  : 'herbaceous vegetation',\n",
        "11  : 'agricultural land',\n",
        "12  : 'plowed land',\n",
        "13  : 'other'}"
      ]
    },
    {
      "cell_type": "code",
      "execution_count": 65,
      "metadata": {
        "id": "YG5GPOngChJ5"
      },
      "outputs": [],
      "source": [
        "# Training configurations\n",
        "train_config = {\n",
        "    's1_input_channels': 2,\n",
        "    's2_input_channels': 13,\n",
        "    'finetuning': True, # If false, backbone layers is frozen and only the head is trained\n",
        "    'classifier_lr': 3e-6,\n",
        "    'learning_rate': 0.00001,\n",
        "    'adam_betas': (0.9, 0.999),\n",
        "    'weight_decay': 0.001,\n",
        "    'dataloader_workers': 4,\n",
        "    'batch_size': 16,\n",
        "    'epochs': 60,\n",
        "    'target': 'dfc_label'\n",
        "}"
      ]
    },
    {
      "cell_type": "markdown",
      "metadata": {
        "id": "v4rdvUUFChJ5"
      },
      "source": [
        "#### Download checkpoint\n",
        "\n",
        "You can download the pre-trained backbone model using this [link](https://drive.google.com/file/d/1e7QhC2-zoBFgb65yN1ADWBZLMShHOweY/view), save it in the `checkpoints/` directory then run the following cell."
      ]
    },
    {
      "cell_type": "code",
      "execution_count": 66,
      "metadata": {
        "id": "NBf_uadVChJ5"
      },
      "outputs": [],
      "source": [
        "# path to the checkpoint\n",
        "checkpoint = torch.load(\n",
        "    \"../../drive/MyDrive/MVA/swin_t.pth\",#, map_location=torch.device('cpu') #comment map_location if using GPU\n",
        ")\n",
        "weights = checkpoint[\"state_dict\"]\n",
        "\n",
        "# Sentinel-1 stream weights\n",
        "s1_weights = {\n",
        "    k[len(\"backbone1.\"):]: v for k, v in weights.items() if \"backbone1\" in k\n",
        "}\n",
        "\n",
        "# Sentinel-2 stream weights\n",
        "s2_weights = {\n",
        "    k[len(\"backbone2.\"):]: v for k, v in weights.items() if \"backbone2\" in k\n",
        "}"
      ]
    },
    {
      "cell_type": "markdown",
      "metadata": {
        "id": "Uab4GR9aChJ6"
      },
      "source": [
        "#### Prepare model and load checkpoint"
      ]
    },
    {
      "cell_type": "code",
      "execution_count": 67,
      "metadata": {
        "id": "qi3F8OOOChJ6"
      },
      "outputs": [],
      "source": [
        "class dotdict(dict):\n",
        "    \"\"\"dot.notation access to dictionary attributes\"\"\"\n",
        "\n",
        "    __getattr__ = dict.get\n",
        "    __setattr__ = dict.__setitem__\n",
        "    __delattr__ = dict.__delitem__\n",
        "\n",
        "def dotdictify(d):\n",
        "    \"\"\"recursively wrap a dictionary and\n",
        "    all the dictionaries that it contains\n",
        "    with the dotdict class\n",
        "    \"\"\"\n",
        "    d = dotdict(d)\n",
        "    for k, v in d.items():\n",
        "        if isinstance(v, dict):\n",
        "            d[k] = dotdictify(v)\n",
        "    return d"
      ]
    },
    {
      "cell_type": "code",
      "execution_count": 68,
      "metadata": {
        "colab": {
          "base_uri": "https://localhost:8080/"
        },
        "id": "xU2D5n_xChJ6",
        "outputId": "ed506ba6-0f85-46bf-a6ab-ade49bb2e902"
      },
      "outputs": [
        {
          "data": {
            "text/plain": [
              "<All keys matched successfully>"
            ]
          },
          "execution_count": 68,
          "metadata": {},
          "output_type": "execute_result"
        }
      ],
      "source": [
        "\n",
        "if torch.cuda.is_available():\n",
        "    device = torch.device(\"cuda\")\n",
        "else:\n",
        "    device = torch.device(\"cpu:0\")\n",
        "\n",
        "with open(\"configs/backbone_config.json\", \"r\") as fp:\n",
        "    swin_conf = dotdictify(json.load(fp))\n",
        "\n",
        "s1_backbone = build_model(swin_conf.model_config)\n",
        "\n",
        "swin_conf.model_config.MODEL.SWIN.IN_CHANS = 13\n",
        "s2_backbone = build_model(swin_conf.model_config)\n",
        "\n",
        "s1_backbone.load_state_dict(s1_weights)\n",
        "s2_backbone.load_state_dict(s2_weights)"
      ]
    },
    {
      "cell_type": "markdown",
      "metadata": {
        "id": "2I93RUQ4ChJ7"
      },
      "source": [
        "We create the downstream model head that will be trained. In this demo, we will train a segmentation head. You can find a segmentation head in the repository (/TransformerSSL/models/swin_transformer/DoubleSwinTransformerSegmentation). Our classifier takes as input the pre-trained backbone (in the form of two streams `encoder1` and `encoder2`), the `out_dim` (number of classes), and `freeze_layers` flag, specifying whether you wish to freeze the backbone weights or not."
      ]
    },
    {
      "cell_type": "code",
      "execution_count": 69,
      "metadata": {
        "id": "s1qCJdwJChJ7"
      },
      "outputs": [],
      "source": [
        "class DoubleSwinTransformerSegmentation(nn.Module):\n",
        "    def __init__(self, encoder1, encoder2, out_dim, device, freeze_layers=False):\n",
        "        super(DoubleSwinTransformerSegmentation, self).__init__()\n",
        "\n",
        "        self.device = device\n",
        "\n",
        "        self.backbone1 = encoder1\n",
        "        self.backbone2 = encoder2\n",
        "\n",
        "        self.decoder1 = SwinTransformerDecoder(self.backbone1, out_dim, device)\n",
        "        self.decoder2 = SwinTransformerDecoder(self.backbone2, out_dim, device)\n",
        "\n",
        "        # freeze all backbone layers\n",
        "        if freeze_layers:\n",
        "            for name, param in self.named_parameters():\n",
        "                if name.startswith(('backbone')):\n",
        "                    param.requires_grad = False\n",
        "\n",
        "        self.expand_channels = torch.nn.Conv2d(3, 13, kernel_size=1, stride=1, padding=0)\n",
        "\n",
        "    def forward(self, x):\n",
        "        expanded_rgb = self.expand_channels(x[\"rgb\"].to(self.device))\n",
        "        _, x2, x_seg2 = self.backbone2.forward_features(expanded_rgb)\n",
        "\n",
        "        _, x1, x_seg1 = self.backbone1.forward_features(x[\"ir_el\"].to(self.device))\n",
        "\n",
        "        x1 = self.decoder1.forward_up_features(x1, x_seg1)\n",
        "        x2 = self.decoder2.forward_up_features(x2, x_seg2)\n",
        "\n",
        "        x = torch.cat([x1, x2], dim=-1)\n",
        "\n",
        "        output = self.decoder1.up_x4(x)\n",
        "\n",
        "        return output"
      ]
    },
    {
      "cell_type": "code",
      "execution_count": 70,
      "metadata": {
        "id": "K2LOU6AaChJ7"
      },
      "outputs": [],
      "source": [
        "model = DoubleSwinTransformerSegmentation(\n",
        "        s1_backbone, s2_backbone, out_dim=data_config['num_classes'], device=device\n",
        "    )\n",
        "\n",
        "model = model.to(device)\n",
        "criterion = torch.nn.CrossEntropyLoss(ignore_index=255, reduction=\"mean\").to(device)"
      ]
    },
    {
      "cell_type": "markdown",
      "metadata": {
        "id": "Exy91QPfChJ8"
      },
      "source": [
        "Define the trainable parameters (needed for the optimizer):"
      ]
    },
    {
      "cell_type": "code",
      "execution_count": 72,
      "metadata": {
        "colab": {
          "base_uri": "https://localhost:8080/"
        },
        "id": "X6unpRvlChJ8",
        "outputId": "ee587066-0cf7-4785-a11c-d053c8358be3"
      },
      "outputs": [
        {
          "name": "stdout",
          "output_type": "stream",
          "text": [
            "Finetuning\n"
          ]
        }
      ],
      "source": [
        "if train_config['finetuning']:\n",
        "    # train all parameters (backbone + classifier head)\n",
        "    param_backbone = []\n",
        "    param_head = []\n",
        "    for p in model.parameters():\n",
        "        if p.requires_grad:\n",
        "            param_head.append(p)\n",
        "        else:\n",
        "            param_backbone.append(p)\n",
        "        p.requires_grad = True\n",
        "    # parameters = model.parameters()\n",
        "    parameters = [\n",
        "        {\"params\": param_backbone},  # train with default lr\n",
        "        {\n",
        "            \"params\": param_head,\n",
        "            \"lr\": train_config['classifier_lr'],\n",
        "        },  # train with classifier lr\n",
        "    ]\n",
        "    print(\"Finetuning\")\n",
        "\n",
        "else:\n",
        "    # train only final linear layer for SSL methods\n",
        "    print(\"Frozen backbone\")\n",
        "    parameters = list(filter(lambda p: p.requires_grad, model.parameters()))"
      ]
    },
    {
      "cell_type": "markdown",
      "metadata": {
        "id": "xa-UGs7-ChJ8"
      },
      "source": [
        "Initialise the selected optimizer. In this work we chose Adam optimizer. You can initialise any optimizer you want."
      ]
    },
    {
      "cell_type": "code",
      "execution_count": 73,
      "metadata": {
        "id": "_rnjKOr1ChJ8"
      },
      "outputs": [],
      "source": [
        "optimizer = torch.optim.Adam(\n",
        "    parameters,\n",
        "    lr=train_config['learning_rate'],\n",
        "    betas=train_config['adam_betas'],\n",
        "    weight_decay=train_config['weight_decay'],\n",
        ")"
      ]
    },
    {
      "cell_type": "markdown",
      "metadata": {
        "id": "-1fV7EhdChJ9"
      },
      "source": [
        "We load the data (training and validation) using pytorch's dataloader"
      ]
    },
    {
      "cell_type": "code",
      "execution_count": 74,
      "metadata": {
        "id": "bVEk9Y5mChJ9"
      },
      "outputs": [],
      "source": [
        "train_loader = torch.utils.data.DataLoader(\n",
        "    train_dataset,\n",
        "    batch_size=train_config['batch_size'],\n",
        "    shuffle=True,\n",
        "    pin_memory=True,\n",
        "    num_workers=train_config['dataloader_workers'],\n",
        ")\n",
        "\n",
        "val_loader = torch.utils.data.DataLoader(\n",
        "    val_dataset,\n",
        "    batch_size=train_config['batch_size'],\n",
        "    shuffle=False,\n",
        "    num_workers=train_config['dataloader_workers'],\n",
        ")\n",
        "\n",
        "test_loader = torch.utils.data.DataLoader(\n",
        "    test_dataset,\n",
        "    batch_size=train_config['batch_size'],\n",
        "    shuffle=False,\n",
        "    num_workers=train_config['dataloader_workers'],\n",
        ")"
      ]
    },
    {
      "cell_type": "markdown",
      "metadata": {
        "id": "-Yab7_LqChJ9"
      },
      "source": [
        "Everything is set and we are now ready to train the segmentation head:"
      ]
    },
    {
      "cell_type": "code",
      "execution_count": 75,
      "metadata": {
        "colab": {
          "base_uri": "https://localhost:8080/",
          "height": 1000
        },
        "id": "fANa6SNqChJ9",
        "outputId": "0c942d52-cb2a-4702-dc9e-b7b439639d08"
      },
      "outputs": [
        {
          "name": "stderr",
          "output_type": "stream",
          "text": [
            "Epoch:0, Training Loss:2.459: 100%|██████████| 104/104 [05:03<00:00,  2.92s/it]\n"
          ]
        },
        {
          "name": "stdout",
          "output_type": "stream",
          "text": [
            "{'train_loss': 2.468355894088745, 'train_average_accuracy': 0.08514640966850277, 'train_mIoU': 0.04566974839685131, 'train_accuracy_pixelclass_0': 0.03384328841652238, 'train_accuracy_pixelclass_1': 0.03865121168776574, 'train_accuracy_pixelclass_2': 0.07463125611526233, 'train_accuracy_pixelclass_3': 0.028496703325088954, 'train_accuracy_pixelclass_4': 0.045492455472507076, 'train_accuracy_pixelclass_5': 0.03502884133488402, 'train_accuracy_pixelclass_6': 0.12325388747875142, 'train_accuracy_pixelclass_7': 0.054412082681746694, 'train_accuracy_pixelclass_8': 0.11130669125881945, 'train_accuracy_pixelclass_9': 0.4039250379638047, 'train_accuracy_pixelclass_10': 0.08597933539416203, 'train_accuracy_pixelclass_11': 0.013319334691946723, 'train_accuracy_pixelclass_12': 0.05856319986927452, 'train_IoU_class_0': 0.023030290146841992, 'train_IoU_class_1': 0.023508923429622963, 'train_IoU_class_2': 0.04559630373274586, 'train_IoU_class_3': 0.006696342535644883, 'train_IoU_class_4': 0.02098780764941839, 'train_IoU_class_5': 0.01223489360436918, 'train_IoU_class_6': 0.10010438727307511, 'train_IoU_class_7': 0.028387543351069754, 'train_IoU_class_8': 0.0530775022353504, 'train_IoU_class_9': 0.2194959439366172, 'train_IoU_class_10': 0.052671934180093416, 'train_IoU_class_11': 0.004715904392865295, 'train_IoU_class_12': 0.003198952691352637}\n"
          ]
        },
        {
          "name": "stderr",
          "output_type": "stream",
          "text": [
            "Validation Loss:2.317: 100%|██████████| 26/26 [00:24<00:00,  1.05it/s]\n"
          ]
        },
        {
          "name": "stdout",
          "output_type": "stream",
          "text": [
            "Epoch:0 {'validation_loss': 2.3169445991516113, 'validation_average_accuracy': 0.09563832559478101, 'validation_mIoU': 0.05144535809628599, 'validation_accuracy_pixelclass_0': 0.009572455886823053, 'validation_accuracy_pixelclass_1': 0.017153128564445168, 'validation_accuracy_pixelclass_2': 0.06597145391378681, 'validation_accuracy_pixelclass_3': 0.010555608866711448, 'validation_accuracy_pixelclass_4': 0.010201415196954894, 'validation_accuracy_pixelclass_5': 0.01776302985106264, 'validation_accuracy_pixelclass_6': 0.23001398893702704, 'validation_accuracy_pixelclass_7': 0.031062112166351904, 'validation_accuracy_pixelclass_8': 0.0615665078009926, 'validation_accuracy_pixelclass_9': 0.7393521786011489, 'validation_accuracy_pixelclass_10': 0.04616946234468693, 'validation_accuracy_pixelclass_11': 0.0022449992750980816, 'validation_accuracy_pixelclass_12': 0.001671891327063741, 'train_IoU_class_0': 0.00825779585934131, 'train_IoU_class_1': 0.012778309269528023, 'train_IoU_class_2': 0.04373247380336058, 'train_IoU_class_3': 0.004597208240813761, 'train_IoU_class_4': 0.008654675709028165, 'train_IoU_class_5': 0.014557939588814803, 'train_IoU_class_6': 0.16966491778387907, 'train_IoU_class_7': 0.021020555437972863, 'train_IoU_class_8': 0.04084871266466878, 'train_IoU_class_9': 0.30661855109993136, 'train_IoU_class_10': 0.03535555427515799, 'train_IoU_class_11': 0.0016106054111298823, 'train_IoU_class_12': 0.0010923561080912378}\n"
          ]
        },
        {
          "name": "stderr",
          "output_type": "stream",
          "text": [
            "Epoch:1, Training Loss:2.249: 100%|██████████| 104/104 [04:51<00:00,  2.80s/it]\n"
          ]
        },
        {
          "name": "stdout",
          "output_type": "stream",
          "text": [
            "{'train_loss': 2.251753330230713, 'train_average_accuracy': 0.10235364265360908, 'train_mIoU': 0.05283915799458576, 'train_accuracy_pixelclass_0': 0.005254206822172753, 'train_accuracy_pixelclass_1': 0.00866459929359112, 'train_accuracy_pixelclass_2': 0.03487390120516742, 'train_accuracy_pixelclass_3': 0.005902371926924244, 'train_accuracy_pixelclass_4': 0.009186316210511712, 'train_accuracy_pixelclass_5': 0.02209998542238377, 'train_accuracy_pixelclass_6': 0.3039457902985886, 'train_accuracy_pixelclass_7': 0.020672051620914293, 'train_accuracy_pixelclass_8': 0.032505017587821816, 'train_accuracy_pixelclass_9': 0.8481222138022495, 'train_accuracy_pixelclass_10': 0.036567912801748016, 'train_accuracy_pixelclass_11': 0.0011916143879952335, 'train_accuracy_pixelclass_12': 0.0016113731168495159, 'train_IoU_class_0': 0.0047356723985534505, 'train_IoU_class_1': 0.007222524631519392, 'train_IoU_class_2': 0.027350306473655682, 'train_IoU_class_3': 0.003669928111167503, 'train_IoU_class_4': 0.008183001726511605, 'train_IoU_class_5': 0.018965215751643744, 'train_IoU_class_6': 0.22102520334490364, 'train_IoU_class_7': 0.016374589849954553, 'train_IoU_class_8': 0.025604093154311867, 'train_IoU_class_9': 0.321141295849128, 'train_IoU_class_10': 0.030479482182529327, 'train_IoU_class_11': 0.0009764546844064112, 'train_IoU_class_12': 0.0011812857713296952}\n"
          ]
        },
        {
          "name": "stderr",
          "output_type": "stream",
          "text": [
            "Validation Loss:2.158: 100%|██████████| 26/26 [00:22<00:00,  1.16it/s]\n"
          ]
        },
        {
          "name": "stdout",
          "output_type": "stream",
          "text": [
            "Epoch:1 {'validation_loss': 2.157782793045044, 'validation_average_accuracy': 0.11020635181063494, 'validation_mIoU': 0.056368734390599126, 'validation_accuracy_pixelclass_0': 0.0013037282993869144, 'validation_accuracy_pixelclass_1': 0.004367972950953235, 'validation_accuracy_pixelclass_2': 0.017832793389805184, 'validation_accuracy_pixelclass_3': 0.000934567741558642, 'validation_accuracy_pixelclass_4': 0.016246316870759333, 'validation_accuracy_pixelclass_5': 0.024919885228242792, 'validation_accuracy_pixelclass_6': 0.40960340053348016, 'validation_accuracy_pixelclass_7': 0.013963141767187522, 'validation_accuracy_pixelclass_8': 0.008252493221626998, 'validation_accuracy_pixelclass_9': 0.9194899071854205, 'validation_accuracy_pixelclass_10': 0.015724432900222497, 'validation_accuracy_pixelclass_11': 4.393344961052997e-05, 'validation_accuracy_pixelclass_12': 0.0, 'train_IoU_class_0': 0.0012492887473049812, 'train_IoU_class_1': 0.0038033873114600874, 'train_IoU_class_2': 0.015521578026413473, 'train_IoU_class_3': 0.0008664338125795359, 'train_IoU_class_4': 0.014499846626295491, 'train_IoU_class_5': 0.021937495440997604, 'train_IoU_class_6': 0.2938971855938686, 'train_IoU_class_7': 0.012078675674389465, 'train_IoU_class_8': 0.007620662749665506, 'train_IoU_class_9': 0.3469588919730596, 'train_IoU_class_10': 0.014321169256411794, 'train_IoU_class_11': 3.893186534246415e-05, 'train_IoU_class_12': 0.0}\n"
          ]
        },
        {
          "name": "stderr",
          "output_type": "stream",
          "text": [
            "Epoch:2, Training Loss:2.119: 100%|██████████| 104/104 [04:48<00:00,  2.77s/it]\n"
          ]
        },
        {
          "name": "stdout",
          "output_type": "stream",
          "text": [
            "{'train_loss': 2.1237025260925293, 'train_average_accuracy': 0.11720059410725162, 'train_mIoU': 0.05951184117197848, 'train_accuracy_pixelclass_0': 0.0021231911778487557, 'train_accuracy_pixelclass_1': 0.002324835712437025, 'train_accuracy_pixelclass_2': 0.015284236269183835, 'train_accuracy_pixelclass_3': 0.00039521352508508067, 'train_accuracy_pixelclass_4': 0.019285886344753676, 'train_accuracy_pixelclass_5': 0.020723624357175008, 'train_accuracy_pixelclass_6': 0.5073386143174337, 'train_accuracy_pixelclass_7': 0.012294598806553458, 'train_accuracy_pixelclass_8': 0.011616654851265543, 'train_accuracy_pixelclass_9': 0.917044981797451, 'train_accuracy_pixelclass_10': 0.015073675698238387, 'train_accuracy_pixelclass_11': 1.5968031999936128e-05, 'train_accuracy_pixelclass_12': 8.624250484546704e-05, 'train_IoU_class_0': 0.00203989354766812, 'train_IoU_class_1': 0.002151666262215504, 'train_IoU_class_2': 0.01364968506498104, 'train_IoU_class_3': 0.00036908513925727044, 'train_IoU_class_4': 0.017522556590965337, 'train_IoU_class_5': 0.018504187812375745, 'train_IoU_class_6': 0.3434998173659795, 'train_IoU_class_7': 0.011078113171793618, 'train_IoU_class_8': 0.01083643056550302, 'train_IoU_class_9': 0.34003127006100275, 'train_IoU_class_10': 0.013873348716750585, 'train_IoU_class_11': 1.5257872346918244e-05, 'train_IoU_class_12': 8.262306488084885e-05}\n"
          ]
        },
        {
          "name": "stderr",
          "output_type": "stream",
          "text": [
            "Validation Loss:2.046: 100%|██████████| 26/26 [00:23<00:00,  1.09it/s]\n"
          ]
        },
        {
          "name": "stdout",
          "output_type": "stream",
          "text": [
            "Epoch:2 {'validation_loss': 2.04587459564209, 'validation_average_accuracy': 0.12579110212440586, 'validation_mIoU': 0.06425168609879418, 'validation_accuracy_pixelclass_0': 0.0018591508901404411, 'validation_accuracy_pixelclass_1': 0.0010744256151213947, 'validation_accuracy_pixelclass_2': 0.016886710202568656, 'validation_accuracy_pixelclass_3': 0.0005173499997913911, 'validation_accuracy_pixelclass_4': 0.02207367417001672, 'validation_accuracy_pixelclass_5': 0.01474535738992529, 'validation_accuracy_pixelclass_6': 0.6415529835330859, 'validation_accuracy_pixelclass_7': 0.011383487499642029, 'validation_accuracy_pixelclass_8': 0.0071964508532775424, 'validation_accuracy_pixelclass_9': 0.9067299912711942, 'validation_accuracy_pixelclass_10': 0.011251566157629414, 'validation_accuracy_pixelclass_11': 1.3180034883158991e-05, 'validation_accuracy_pixelclass_12': 0.0, 'train_IoU_class_0': 0.0018062477924728228, 'train_IoU_class_1': 0.0010460759262729653, 'train_IoU_class_2': 0.015188460920204021, 'train_IoU_class_3': 0.000502286619327503, 'train_IoU_class_4': 0.02069190206701821, 'train_IoU_class_5': 0.013461711002468214, 'train_IoU_class_6': 0.3966163535171452, 'train_IoU_class_7': 0.01038815454657992, 'train_IoU_class_8': 0.006956528639495035, 'train_IoU_class_9': 0.3578880516669117, 'train_IoU_class_10': 0.010713524467427566, 'train_IoU_class_11': 1.2622119001337945e-05, 'train_IoU_class_12': 0.0}\n"
          ]
        },
        {
          "name": "stderr",
          "output_type": "stream",
          "text": [
            "Epoch:3, Training Loss:2.023: 100%|██████████| 104/104 [05:18<00:00,  3.07s/it]\n"
          ]
        },
        {
          "name": "stdout",
          "output_type": "stream",
          "text": [
            "{'train_loss': 2.0262484550476074, 'train_average_accuracy': 0.12840189237049493, 'train_mIoU': 0.0649159234807103, 'train_accuracy_pixelclass_0': 0.0036464502609435756, 'train_accuracy_pixelclass_1': 0.0008908523141513514, 'train_accuracy_pixelclass_2': 0.01169764119637102, 'train_accuracy_pixelclass_3': 0.0003603417434599265, 'train_accuracy_pixelclass_4': 0.021286453389524437, 'train_accuracy_pixelclass_5': 0.004447769039484059, 'train_accuracy_pixelclass_6': 0.6733436502301433, 'train_accuracy_pixelclass_7': 0.007992556884298847, 'train_accuracy_pixelclass_8': 0.009864492747991742, 'train_accuracy_pixelclass_9': 0.9263873772625564, 'train_accuracy_pixelclass_10': 0.00930247666830711, 'train_accuracy_pixelclass_11': 0.0, 'train_accuracy_pixelclass_12': 4.539079202393002e-06, 'train_IoU_class_0': 0.0035942325703949415, 'train_IoU_class_1': 0.0008813326249335875, 'train_IoU_class_2': 0.010819639189948205, 'train_IoU_class_3': 0.0003489026449071469, 'train_IoU_class_4': 0.02054513480028575, 'train_IoU_class_5': 0.004266941057517446, 'train_IoU_class_6': 0.42789278757023863, 'train_IoU_class_7': 0.007541312396944399, 'train_IoU_class_8': 0.009515266155087843, 'train_IoU_class_9': 0.3496807505705084, 'train_IoU_class_10': 0.008816214556378234, 'train_IoU_class_11': 0.0, 'train_IoU_class_12': 4.4911120891755215e-06}\n"
          ]
        },
        {
          "name": "stderr",
          "output_type": "stream",
          "text": [
            "Validation Loss:1.957: 100%|██████████| 26/26 [00:24<00:00,  1.05it/s]\n"
          ]
        },
        {
          "name": "stdout",
          "output_type": "stream",
          "text": [
            "Epoch:3 {'validation_loss': 1.9573376178741455, 'validation_average_accuracy': 0.13286916634501675, 'validation_mIoU': 0.06844514704458887, 'validation_accuracy_pixelclass_0': 0.005718832966249494, 'validation_accuracy_pixelclass_1': 0.0009725843245885612, 'validation_accuracy_pixelclass_2': 0.015351984552508798, 'validation_accuracy_pixelclass_3': 0.0005131778223737186, 'validation_accuracy_pixelclass_4': 0.02102199515223601, 'validation_accuracy_pixelclass_5': 0.0010791165889124624, 'validation_accuracy_pixelclass_6': 0.7259787914960144, 'validation_accuracy_pixelclass_7': 0.007668122165432482, 'validation_accuracy_pixelclass_8': 0.012117807653697849, 'validation_accuracy_pixelclass_9': 0.9224720719231719, 'validation_accuracy_pixelclass_10': 0.01440467784003204, 'validation_accuracy_pixelclass_11': 0.0, 'validation_accuracy_pixelclass_12': 0.0, 'train_IoU_class_0': 0.005655280542060088, 'train_IoU_class_1': 0.0009655720483574659, 'train_IoU_class_2': 0.013976303558254112, 'train_IoU_class_3': 0.0005007266643055166, 'train_IoU_class_4': 0.020668201394417017, 'train_IoU_class_5': 0.0010519770593859835, 'train_IoU_class_6': 0.4460964956184561, 'train_IoU_class_7': 0.007279519973786574, 'train_IoU_class_8': 0.011765630195072851, 'train_IoU_class_9': 0.36801085090795027, 'train_IoU_class_10': 0.01381635361760934, 'train_IoU_class_11': 0.0, 'train_IoU_class_12': 0.0}\n"
          ]
        },
        {
          "name": "stderr",
          "output_type": "stream",
          "text": [
            "Epoch:4, Training Loss:1.952: 100%|██████████| 104/104 [05:23<00:00,  3.11s/it]\n"
          ]
        },
        {
          "name": "stdout",
          "output_type": "stream",
          "text": [
            "{'train_loss': 1.950380802154541, 'train_average_accuracy': 0.1359049554030589, 'train_mIoU': 0.069419484439561, 'train_accuracy_pixelclass_0': 0.007892832616641088, 'train_accuracy_pixelclass_1': 0.0006850627218245955, 'train_accuracy_pixelclass_2': 0.01444352636214233, 'train_accuracy_pixelclass_3': 0.0022330855714774657, 'train_accuracy_pixelclass_4': 0.027071773803231645, 'train_accuracy_pixelclass_5': 0.00041072699742603986, 'train_accuracy_pixelclass_6': 0.7570768168608215, 'train_accuracy_pixelclass_7': 0.007119946670829644, 'train_accuracy_pixelclass_8': 0.017555872743668544, 'train_accuracy_pixelclass_9': 0.9190767476618233, 'train_accuracy_pixelclass_10': 0.013198028229879885, 'train_accuracy_pixelclass_11': 0.0, 'train_accuracy_pixelclass_12': 0.0, 'train_IoU_class_0': 0.007791248626895112, 'train_IoU_class_1': 0.0006805487249126114, 'train_IoU_class_2': 0.013235415941094293, 'train_IoU_class_3': 0.002167266874660777, 'train_IoU_class_4': 0.026655470926061114, 'train_IoU_class_5': 0.0004032416028331379, 'train_IoU_class_6': 0.45932385955871796, 'train_IoU_class_7': 0.00681023558894318, 'train_IoU_class_8': 0.01674060474933762, 'train_IoU_class_9': 0.3561304688976001, 'train_IoU_class_10': 0.012514936223237074, 'train_IoU_class_11': 0.0, 'train_IoU_class_12': 0.0}\n"
          ]
        },
        {
          "name": "stderr",
          "output_type": "stream",
          "text": [
            "Validation Loss:1.893: 100%|██████████| 26/26 [00:23<00:00,  1.09it/s]\n"
          ]
        },
        {
          "name": "stdout",
          "output_type": "stream",
          "text": [
            "Epoch:4 {'validation_loss': 1.8925138711929321, 'validation_average_accuracy': 0.1330063372102646, 'validation_mIoU': 0.0694791381248639, 'validation_accuracy_pixelclass_0': 0.004400966637279762, 'validation_accuracy_pixelclass_1': 0.0008768535114876976, 'validation_accuracy_pixelclass_2': 0.006276961716018072, 'validation_accuracy_pixelclass_3': 2.9205241923707564e-05, 'validation_accuracy_pixelclass_4': 0.026644680525144397, 'validation_accuracy_pixelclass_5': 5.7809817263167634e-06, 'validation_accuracy_pixelclass_6': 0.7241521160358806, 'validation_accuracy_pixelclass_7': 0.0056099755675164025, 'validation_accuracy_pixelclass_8': 0.00977234986724709, 'validation_accuracy_pixelclass_9': 0.9462386989613237, 'validation_accuracy_pixelclass_10': 0.005074794687892415, 'validation_accuracy_pixelclass_11': 0.0, 'validation_accuracy_pixelclass_12': 0.0, 'train_IoU_class_0': 0.004362545772695148, 'train_IoU_class_1': 0.0008731906141643484, 'train_IoU_class_2': 0.005887434522468571, 'train_IoU_class_3': 2.8825326755668295e-05, 'train_IoU_class_4': 0.026545551545743912, 'train_IoU_class_5': 5.751004508787535e-06, 'train_IoU_class_6': 0.4776782265116524, 'train_IoU_class_7': 0.005462035040965263, 'train_IoU_class_8': 0.009593085334483015, 'train_IoU_class_9': 0.3678581090661826, 'train_IoU_class_10': 0.004934040883610887, 'train_IoU_class_11': 0.0, 'train_IoU_class_12': 0.0}\n"
          ]
        },
        {
          "name": "stderr",
          "output_type": "stream",
          "text": [
            "Epoch:5, Training Loss:1.884: 100%|██████████| 104/104 [04:52<00:00,  2.82s/it]\n"
          ]
        },
        {
          "name": "stdout",
          "output_type": "stream",
          "text": [
            "{'train_loss': 1.885422945022583, 'train_average_accuracy': 0.1406745216892392, 'train_mIoU': 0.07313899896938274, 'train_accuracy_pixelclass_0': 0.012678718567578266, 'train_accuracy_pixelclass_1': 0.0012448916456871848, 'train_accuracy_pixelclass_2': 0.02388811233824913, 'train_accuracy_pixelclass_3': 0.00857716673232033, 'train_accuracy_pixelclass_4': 0.033397091397625346, 'train_accuracy_pixelclass_5': 4.4690502310605376e-05, 'train_accuracy_pixelclass_6': 0.7863243231269667, 'train_accuracy_pixelclass_7': 0.007644984195939841, 'train_accuracy_pixelclass_8': 0.029088337465125857, 'train_accuracy_pixelclass_9': 0.9092367800592636, 'train_accuracy_pixelclass_10': 0.01664368592904276, 'train_accuracy_pixelclass_11': 0.0, 'train_accuracy_pixelclass_12': 0.0, 'train_IoU_class_0': 0.012441875015390274, 'train_IoU_class_1': 0.001232826296182663, 'train_IoU_class_2': 0.0211288331024909, 'train_IoU_class_3': 0.008306670102241712, 'train_IoU_class_4': 0.03294584593671876, 'train_IoU_class_5': 4.4095205748754965e-05, 'train_IoU_class_6': 0.4643941791812612, 'train_IoU_class_7': 0.0073628934365261725, 'train_IoU_class_8': 0.02721237722777929, 'train_IoU_class_9': 0.3601257549325155, 'train_IoU_class_10': 0.015611636165120514, 'train_IoU_class_11': 0.0, 'train_IoU_class_12': 0.0}\n"
          ]
        },
        {
          "name": "stderr",
          "output_type": "stream",
          "text": [
            "Validation Loss:1.826: 100%|██████████| 26/26 [00:22<00:00,  1.15it/s]\n"
          ]
        },
        {
          "name": "stdout",
          "output_type": "stream",
          "text": [
            "Epoch:5 {'validation_loss': 1.8262381553649902, 'validation_average_accuracy': 0.1400245860556366, 'validation_mIoU': 0.07321464606153844, 'validation_accuracy_pixelclass_0': 0.012516195617816745, 'validation_accuracy_pixelclass_1': 0.0013066237575362555, 'validation_accuracy_pixelclass_2': 0.028502115330424637, 'validation_accuracy_pixelclass_3': 1.2516532253017527e-05, 'validation_accuracy_pixelclass_4': 0.03034808387172348, 'validation_accuracy_pixelclass_5': 1.926993908772254e-06, 'validation_accuracy_pixelclass_6': 0.7964320791487806, 'validation_accuracy_pixelclass_7': 0.0035540898410004506, 'validation_accuracy_pixelclass_8': 0.01943094503185132, 'validation_accuracy_pixelclass_9': 0.9184809143583538, 'validation_accuracy_pixelclass_10': 0.009734128239627141, 'validation_accuracy_pixelclass_11': 0.0, 'validation_accuracy_pixelclass_12': 0.0, 'train_IoU_class_0': 0.012305730991597272, 'train_IoU_class_1': 0.0012962332452002494, 'train_IoU_class_2': 0.024871132850953083, 'train_IoU_class_3': 1.2329797421428367e-05, 'train_IoU_class_4': 0.03025675117235927, 'train_IoU_class_5': 1.8998584605446895e-06, 'train_IoU_class_6': 0.47576857141240614, 'train_IoU_class_7': 0.0034810311115310265, 'train_IoU_class_8': 0.01885186681154391, 'train_IoU_class_9': 0.37549786470600366, 'train_IoU_class_10': 0.009446986842523005, 'train_IoU_class_11': 0.0, 'train_IoU_class_12': 0.0}\n"
          ]
        },
        {
          "name": "stderr",
          "output_type": "stream",
          "text": [
            "Epoch:6, Training Loss:1.823: 100%|██████████| 104/104 [05:03<00:00,  2.92s/it]\n"
          ]
        },
        {
          "name": "stdout",
          "output_type": "stream",
          "text": [
            "{'train_loss': 1.8244379758834839, 'train_average_accuracy': 0.1453850125320824, 'train_mIoU': 0.07733138360858537, 'train_accuracy_pixelclass_0': 0.027691615955377138, 'train_accuracy_pixelclass_1': 0.0017153645623552618, 'train_accuracy_pixelclass_2': 0.04829011674212546, 'train_accuracy_pixelclass_3': 0.0048019734845304906, 'train_accuracy_pixelclass_4': 0.03873374002301909, 'train_accuracy_pixelclass_5': 2.7133519260010406e-05, 'train_accuracy_pixelclass_6': 0.8039185664067658, 'train_accuracy_pixelclass_7': 0.009280747039037779, 'train_accuracy_pixelclass_8': 0.03066693837771808, 'train_accuracy_pixelclass_9': 0.906857865413974, 'train_accuracy_pixelclass_10': 0.018019105388908597, 'train_accuracy_pixelclass_11': 1.996003999992016e-06, 'train_accuracy_pixelclass_12': 0.0, 'train_IoU_class_0': 0.02705157403551163, 'train_IoU_class_1': 0.0016920296766246834, 'train_IoU_class_2': 0.04091305170750329, 'train_IoU_class_3': 0.004675200563337777, 'train_IoU_class_4': 0.03795985688611606, 'train_IoU_class_5': 2.686921488680948e-05, 'train_IoU_class_6': 0.47364345908152383, 'train_IoU_class_7': 0.008989148749981534, 'train_IoU_class_8': 0.028688433549409937, 'train_IoU_class_9': 0.36487743987357535, 'train_IoU_class_10': 0.016788965436149522, 'train_IoU_class_11': 1.9581369893056347e-06, 'train_IoU_class_12': 0.0}\n"
          ]
        },
        {
          "name": "stderr",
          "output_type": "stream",
          "text": [
            "Validation Loss:1.778: 100%|██████████| 26/26 [00:22<00:00,  1.14it/s]\n"
          ]
        },
        {
          "name": "stdout",
          "output_type": "stream",
          "text": [
            "Epoch:6 {'validation_loss': 1.7777085304260254, 'validation_average_accuracy': 0.14939993576040675, 'validation_mIoU': 0.08077621509996115, 'validation_accuracy_pixelclass_0': 0.030784549557328195, 'validation_accuracy_pixelclass_1': 0.0035736108847971323, 'validation_accuracy_pixelclass_2': 0.085341809784798, 'validation_accuracy_pixelclass_3': 0.00017940362895991788, 'validation_accuracy_pixelclass_4': 0.04682867929968733, 'validation_accuracy_pixelclass_5': 1.1561963452633527e-05, 'validation_accuracy_pixelclass_6': 0.816461420873161, 'validation_accuracy_pixelclass_7': 0.01512447604305302, 'validation_accuracy_pixelclass_8': 0.0437955605175018, 'validation_accuracy_pixelclass_9': 0.8818117269819143, 'validation_accuracy_pixelclass_10': 0.01828636535063471, 'validation_accuracy_pixelclass_11': 0.0, 'validation_accuracy_pixelclass_12': 0.0, 'train_IoU_class_0': 0.030080975095668237, 'train_IoU_class_1': 0.0034911740652229717, 'train_IoU_class_2': 0.068434062913493, 'train_IoU_class_3': 0.0001781054549973077, 'train_IoU_class_4': 0.045528839896274494, 'train_IoU_class_5': 1.1492073342412072e-05, 'train_IoU_class_6': 0.44775348820539973, 'train_IoU_class_7': 0.014658256435127227, 'train_IoU_class_8': 0.04143719205741844, 'train_IoU_class_9': 0.3810499592449019, 'train_IoU_class_10': 0.017467250857649205, 'train_IoU_class_11': 0.0, 'train_IoU_class_12': 0.0}\n"
          ]
        },
        {
          "name": "stderr",
          "output_type": "stream",
          "text": [
            "Epoch:7, Training Loss:1.773: 100%|██████████| 104/104 [05:04<00:00,  2.93s/it]\n"
          ]
        },
        {
          "name": "stdout",
          "output_type": "stream",
          "text": [
            "{'train_loss': 1.773164987564087, 'train_average_accuracy': 0.15344150656951605, 'train_mIoU': 0.08516834008215926, 'train_accuracy_pixelclass_0': 0.05097143934028466, 'train_accuracy_pixelclass_1': 0.003443590974230946, 'train_accuracy_pixelclass_2': 0.07833605937908633, 'train_accuracy_pixelclass_3': 0.006112894164142768, 'train_accuracy_pixelclass_4': 0.052702388365845065, 'train_accuracy_pixelclass_5': 5.426703852002081e-05, 'train_accuracy_pixelclass_6': 0.8211934785082592, 'train_accuracy_pixelclass_7': 0.012955291960161028, 'train_accuracy_pixelclass_8': 0.04846962492073895, 'train_accuracy_pixelclass_9': 0.8906998055624425, 'train_accuracy_pixelclass_10': 0.02971292101399746, 'train_accuracy_pixelclass_11': 8.78241759996487e-05, 'train_accuracy_pixelclass_12': 0.0, 'train_IoU_class_0': 0.049172848493351885, 'train_IoU_class_1': 0.0033517926083539823, 'train_IoU_class_2': 0.06346077289259627, 'train_IoU_class_3': 0.005988281541593442, 'train_IoU_class_4': 0.0510402474738432, 'train_IoU_class_5': 5.3827874289749116e-05, 'train_IoU_class_6': 0.48271646973161314, 'train_IoU_class_7': 0.012487358968287723, 'train_IoU_class_8': 0.04314912207652444, 'train_IoU_class_9': 0.36879219762409393, 'train_IoU_class_10': 0.026889785521881728, 'train_IoU_class_11': 8.571626164109627e-05, 'train_IoU_class_12': 0.0}\n"
          ]
        },
        {
          "name": "stderr",
          "output_type": "stream",
          "text": [
            "Validation Loss:1.724: 100%|██████████| 26/26 [00:24<00:00,  1.07it/s]\n"
          ]
        },
        {
          "name": "stdout",
          "output_type": "stream",
          "text": [
            "Epoch:7 {'validation_loss': 1.7241103649139404, 'validation_average_accuracy': 0.1482864584764633, 'validation_mIoU': 0.08351811439146302, 'validation_accuracy_pixelclass_0': 0.03565914018563233, 'validation_accuracy_pixelclass_1': 0.0035664819944598337, 'validation_accuracy_pixelclass_2': 0.0648679265979397, 'validation_accuracy_pixelclass_3': 0.000696753628751309, 'validation_accuracy_pixelclass_4': 0.05359572531740239, 'validation_accuracy_pixelclass_5': 1.926993908772254e-06, 'validation_accuracy_pixelclass_6': 0.7711629633815659, 'validation_accuracy_pixelclass_7': 0.012321749130694946, 'validation_accuracy_pixelclass_8': 0.043376896302620344, 'validation_accuracy_pixelclass_9': 0.9224574884676768, 'validation_accuracy_pixelclass_10': 0.02001690819337029, 'validation_accuracy_pixelclass_11': 0.0, 'validation_accuracy_pixelclass_12': 0.0, 'train_IoU_class_0': 0.03475971098379698, 'train_IoU_class_1': 0.003480815755313164, 'train_IoU_class_2': 0.053092735631472224, 'train_IoU_class_3': 0.0006900712384919258, 'train_IoU_class_4': 0.05289280555707293, 'train_IoU_class_5': 1.922895727133405e-06, 'train_IoU_class_6': 0.48817983179740865, 'train_IoU_class_7': 0.01198072532117137, 'train_IoU_class_8': 0.04069402522417855, 'train_IoU_class_9': 0.3811460363663114, 'train_IoU_class_10': 0.018816806318074846, 'train_IoU_class_11': 0.0, 'train_IoU_class_12': 0.0}\n"
          ]
        },
        {
          "name": "stderr",
          "output_type": "stream",
          "text": [
            "Epoch:8, Training Loss:1.719: 100%|██████████| 104/104 [04:59<00:00,  2.88s/it]\n"
          ]
        },
        {
          "name": "stdout",
          "output_type": "stream",
          "text": [
            "{'train_loss': 1.7219706773757935, 'train_average_accuracy': 0.16201163341649566, 'train_mIoU': 0.09293082711710625, 'train_accuracy_pixelclass_0': 0.08460194774368689, 'train_accuracy_pixelclass_1': 0.006059285003015765, 'train_accuracy_pixelclass_2': 0.11457781512688567, 'train_accuracy_pixelclass_3': 0.006390576869676403, 'train_accuracy_pixelclass_4': 0.08305646677649049, 'train_accuracy_pixelclass_5': 6.597169388708413e-05, 'train_accuracy_pixelclass_6': 0.8263880845252805, 'train_accuracy_pixelclass_7': 0.012896615517676053, 'train_accuracy_pixelclass_8': 0.05041391321767768, 'train_accuracy_pixelclass_9': 0.8950179208457201, 'train_accuracy_pixelclass_10': 0.026293416314448724, 'train_accuracy_pixelclass_11': 0.00038922077999844313, 'train_accuracy_pixelclass_12': 0.0, 'train_IoU_class_0': 0.08080845631215179, 'train_IoU_class_1': 0.0058226040980482036, 'train_IoU_class_2': 0.08892550653621331, 'train_IoU_class_3': 0.006350306413835146, 'train_IoU_class_4': 0.08066464099052102, 'train_IoU_class_5': 6.569696533001599e-05, 'train_IoU_class_6': 0.4869625647183679, 'train_IoU_class_7': 0.012448763082572303, 'train_IoU_class_8': 0.04589698962160768, 'train_IoU_class_9': 0.37562440095890665, 'train_IoU_class_10': 0.024148723492717152, 'train_IoU_class_11': 0.0003820993321099623, 'train_IoU_class_12': 0.0}\n"
          ]
        },
        {
          "name": "stderr",
          "output_type": "stream",
          "text": [
            "Validation Loss:1.684: 100%|██████████| 26/26 [00:24<00:00,  1.05it/s]\n"
          ]
        },
        {
          "name": "stdout",
          "output_type": "stream",
          "text": [
            "Epoch:8 {'validation_loss': 1.6842702627182007, 'validation_average_accuracy': 0.17424183508020066, 'validation_mIoU': 0.10449554929034723, 'validation_accuracy_pixelclass_0': 0.11835146535627329, 'validation_accuracy_pixelclass_1': 0.01096932540329151, 'validation_accuracy_pixelclass_2': 0.23250431671139404, 'validation_accuracy_pixelclass_3': 0.0016480100799806411, 'validation_accuracy_pixelclass_4': 0.09589201560655619, 'validation_accuracy_pixelclass_5': 7.322576853334566e-05, 'validation_accuracy_pixelclass_6': 0.8159101980329616, 'validation_accuracy_pixelclass_7': 0.027779326893366756, 'validation_accuracy_pixelclass_8': 0.05834678062464232, 'validation_accuracy_pixelclass_9': 0.8557117470645479, 'validation_accuracy_pixelclass_10': 0.04425385469889349, 'validation_accuracy_pixelclass_11': 0.0037035898021676762, 'validation_accuracy_pixelclass_12': 0.0, 'train_IoU_class_0': 0.10952109053834444, 'train_IoU_class_1': 0.010184649366662506, 'train_IoU_class_2': 0.15630482930128717, 'train_IoU_class_3': 0.0016378827773516058, 'train_IoU_class_4': 0.09150338037026846, 'train_IoU_class_5': 7.278340997937164e-05, 'train_IoU_class_6': 0.4722366169676407, 'train_IoU_class_7': 0.026562504503829337, 'train_IoU_class_8': 0.052955680098858836, 'train_IoU_class_9': 0.3942060266347848, 'train_IoU_class_10': 0.03965151355271598, 'train_IoU_class_11': 0.0036051832527904887, 'train_IoU_class_12': 0.0}\n"
          ]
        },
        {
          "name": "stderr",
          "output_type": "stream",
          "text": [
            "Epoch:9, Training Loss:1.671: 100%|██████████| 104/104 [04:55<00:00,  2.84s/it]\n"
          ]
        },
        {
          "name": "stdout",
          "output_type": "stream",
          "text": [
            "{'train_loss': 1.6749848127365112, 'train_average_accuracy': 0.17574170978954745, 'train_mIoU': 0.10583963124260577, 'train_accuracy_pixelclass_0': 0.14157219592558282, 'train_accuracy_pixelclass_1': 0.008248507179281321, 'train_accuracy_pixelclass_2': 0.1783390057093728, 'train_accuracy_pixelclass_3': 0.01005340548778519, 'train_accuracy_pixelclass_4': 0.12640516208029698, 'train_accuracy_pixelclass_5': 0.0005043642403625464, 'train_accuracy_pixelclass_6': 0.834913559070688, 'train_accuracy_pixelclass_7': 0.012643607004208733, 'train_accuracy_pixelclass_8': 0.05648841097678108, 'train_accuracy_pixelclass_9': 0.882873355362223, 'train_accuracy_pixelclass_10': 0.03155120705433576, 'train_accuracy_pixelclass_11': 0.0010449080939958205, 'train_accuracy_pixelclass_12': 4.539079202393002e-06, 'train_IoU_class_0': 0.13106567696516613, 'train_IoU_class_1': 0.007802111724617792, 'train_IoU_class_2': 0.13146399587389346, 'train_IoU_class_3': 0.00997786257878525, 'train_IoU_class_4': 0.12166263260268946, 'train_IoU_class_5': 0.0005017683629754229, 'train_IoU_class_6': 0.5007148521155865, 'train_IoU_class_7': 0.012149305659129403, 'train_IoU_class_8': 0.05052186391572537, 'train_IoU_class_9': 0.3805893134745541, 'train_IoU_class_10': 0.028440193177964614, 'train_IoU_class_11': 0.0010211007993258978, 'train_IoU_class_12': 4.528903461893807e-06}\n"
          ]
        },
        {
          "name": "stderr",
          "output_type": "stream",
          "text": [
            "Validation Loss:1.644: 100%|██████████| 26/26 [00:22<00:00,  1.18it/s]\n"
          ]
        },
        {
          "name": "stdout",
          "output_type": "stream",
          "text": [
            "Epoch:9 {'validation_loss': 1.6444288492202759, 'validation_average_accuracy': 0.1851825611625219, 'validation_mIoU': 0.11525325804189737, 'validation_accuracy_pixelclass_0': 0.10783479106516924, 'validation_accuracy_pixelclass_1': 0.008786866547172886, 'validation_accuracy_pixelclass_2': 0.151234305231684, 'validation_accuracy_pixelclass_3': 0.002728604031157821, 'validation_accuracy_pixelclass_4': 0.20383779170576674, 'validation_accuracy_pixelclass_5': 0.000901833149305415, 'validation_accuracy_pixelclass_6': 0.8407657388169798, 'validation_accuracy_pixelclass_7': 0.037082059081091426, 'validation_accuracy_pixelclass_8': 0.1502529576222687, 'validation_accuracy_pixelclass_9': 0.849649586908432, 'validation_accuracy_pixelclass_10': 0.0542987609537567, 'validation_accuracy_pixelclass_11': 0.0, 'validation_accuracy_pixelclass_12': 0.0, 'train_IoU_class_0': 0.10179932999410837, 'train_IoU_class_1': 0.008355469646538842, 'train_IoU_class_2': 0.11743235265611095, 'train_IoU_class_3': 0.0026976859299591635, 'train_IoU_class_4': 0.17544061795088833, 'train_IoU_class_5': 0.0008960590633119339, 'train_IoU_class_6': 0.4933951588459666, 'train_IoU_class_7': 0.035049217064385, 'train_IoU_class_8': 0.12566856983679686, 'train_IoU_class_9': 0.3923570323951522, 'train_IoU_class_10': 0.045200861161447545, 'train_IoU_class_11': 0.0, 'train_IoU_class_12': 0.0}\n"
          ]
        },
        {
          "name": "stderr",
          "output_type": "stream",
          "text": [
            "Epoch:10, Training Loss:1.628: 100%|██████████| 104/104 [04:56<00:00,  2.85s/it]\n"
          ]
        },
        {
          "name": "stdout",
          "output_type": "stream",
          "text": [
            "{'train_loss': 1.6300911903381348, 'train_average_accuracy': 0.1930927864941062, 'train_mIoU': 0.12214404958215727, 'train_accuracy_pixelclass_0': 0.1807554689072325, 'train_accuracy_pixelclass_1': 0.008543427132319774, 'train_accuracy_pixelclass_2': 0.25116424418759437, 'train_accuracy_pixelclass_3': 0.015077525136742587, 'train_accuracy_pixelclass_4': 0.2000153375746076, 'train_accuracy_pixelclass_5': 0.0015051122742464596, 'train_accuracy_pixelclass_6': 0.8340086605794496, 'train_accuracy_pixelclass_7': 0.021818664671308746, 'train_accuracy_pixelclass_8': 0.08234068133273119, 'train_accuracy_pixelclass_9': 0.8710500250653715, 'train_accuracy_pixelclass_10': 0.0437661108185619, 'train_accuracy_pixelclass_11': 0.00013373226799946508, 'train_accuracy_pixelclass_12': 2.7234475214358015e-05, 'train_IoU_class_0': 0.16587913261518875, 'train_IoU_class_1': 0.008027064151426615, 'train_IoU_class_2': 0.17757202224455287, 'train_IoU_class_3': 0.014967952375396347, 'train_IoU_class_4': 0.18905418468521848, 'train_IoU_class_5': 0.0014949539359722169, 'train_IoU_class_6': 0.5132783662883591, 'train_IoU_class_7': 0.020874947230645386, 'train_IoU_class_8': 0.07142709118264944, 'train_IoU_class_9': 0.3868071188113408, 'train_IoU_class_10': 0.038333130174915304, 'train_IoU_class_11': 0.0001297170039631449, 'train_IoU_class_12': 2.696386841632213e-05}\n"
          ]
        },
        {
          "name": "stderr",
          "output_type": "stream",
          "text": [
            "Validation Loss:1.588: 100%|██████████| 26/26 [00:23<00:00,  1.09it/s]\n"
          ]
        },
        {
          "name": "stdout",
          "output_type": "stream",
          "text": [
            "Epoch:10 {'validation_loss': 1.5880036354064941, 'validation_average_accuracy': 0.18782454115999742, 'validation_mIoU': 0.12146720262518304, 'validation_accuracy_pixelclass_0': 0.1564251790227996, 'validation_accuracy_pixelclass_1': 0.008002688610070067, 'validation_accuracy_pixelclass_2': 0.22468742848821485, 'validation_accuracy_pixelclass_3': 0.003350258466391025, 'validation_accuracy_pixelclass_4': 0.19185096794374226, 'validation_accuracy_pixelclass_5': 0.004150744879495436, 'validation_accuracy_pixelclass_6': 0.7869930983490782, 'validation_accuracy_pixelclass_7': 0.029098168543441136, 'validation_accuracy_pixelclass_8': 0.07699023820469279, 'validation_accuracy_pixelclass_9': 0.9026852091252326, 'validation_accuracy_pixelclass_10': 0.05748505344680859, 'validation_accuracy_pixelclass_11': 0.0, 'validation_accuracy_pixelclass_12': 0.0, 'train_IoU_class_0': 0.14526490320862334, 'train_IoU_class_1': 0.007630148505333724, 'train_IoU_class_2': 0.16588110659078098, 'train_IoU_class_3': 0.0033235792009337476, 'train_IoU_class_4': 0.18419101290226902, 'train_IoU_class_5': 0.004128224097022849, 'train_IoU_class_6': 0.5209535813112307, 'train_IoU_class_7': 0.02819654844043022, 'train_IoU_class_8': 0.069489407576881, 'train_IoU_class_9': 0.39992561712146873, 'train_IoU_class_10': 0.05008950517240537, 'train_IoU_class_11': 0.0, 'train_IoU_class_12': 0.0}\n"
          ]
        },
        {
          "name": "stderr",
          "output_type": "stream",
          "text": [
            "Epoch:11, Training Loss:1.589: 100%|██████████| 104/104 [05:19<00:00,  3.07s/it]\n"
          ]
        },
        {
          "name": "stdout",
          "output_type": "stream",
          "text": [
            "{'train_loss': 1.5868226289749146, 'train_average_accuracy': 0.2123145767473945, 'train_mIoU': 0.1386037791195404, 'train_accuracy_pixelclass_0': 0.23834152446765308, 'train_accuracy_pixelclass_1': 0.009170273061578249, 'train_accuracy_pixelclass_2': 0.3446058667943962, 'train_accuracy_pixelclass_3': 0.01751209211316539, 'train_accuracy_pixelclass_4': 0.26290862146706767, 'train_accuracy_pixelclass_5': 0.004339766992233429, 'train_accuracy_pixelclass_6': 0.8419850917910159, 'train_accuracy_pixelclass_7': 0.027043380193739922, 'train_accuracy_pixelclass_8': 0.08688349438833208, 'train_accuracy_pixelclass_9': 0.8717491473804936, 'train_accuracy_pixelclass_10': 0.05550185426842899, 'train_accuracy_pixelclass_11': 2.994005999988024e-06, 'train_accuracy_pixelclass_12': 4.5390792023930026e-05, 'train_IoU_class_0': 0.21528708058720566, 'train_IoU_class_1': 0.008634136537481798, 'train_IoU_class_2': 0.23493984019286118, 'train_IoU_class_3': 0.017337899146339594, 'train_IoU_class_4': 0.2432584339133676, 'train_IoU_class_5': 0.0042907212167405985, 'train_IoU_class_6': 0.5284604809716456, 'train_IoU_class_7': 0.02581316673437775, 'train_IoU_class_8': 0.07722232185136588, 'train_IoU_class_9': 0.39824370072256465, 'train_IoU_class_10': 0.04831402662812101, 'train_IoU_class_11': 2.882520014297299e-06, 'train_IoU_class_12': 4.4437531939476084e-05}\n"
          ]
        },
        {
          "name": "stderr",
          "output_type": "stream",
          "text": [
            "Validation Loss:1.547: 100%|██████████| 26/26 [00:23<00:00,  1.10it/s]\n"
          ]
        },
        {
          "name": "stdout",
          "output_type": "stream",
          "text": [
            "Epoch:11 {'validation_loss': 1.547310709953308, 'validation_average_accuracy': 0.22723209392979743, 'validation_mIoU': 0.15535236959520532, 'validation_accuracy_pixelclass_0': 0.21591901736654961, 'validation_accuracy_pixelclass_1': 0.013102900439954376, 'validation_accuracy_pixelclass_2': 0.3725298292795016, 'validation_accuracy_pixelclass_3': 0.007176145158396716, 'validation_accuracy_pixelclass_4': 0.29825462474882636, 'validation_accuracy_pixelclass_5': 0.014169186211202386, 'validation_accuracy_pixelclass_6': 0.8142278002578056, 'validation_accuracy_pixelclass_7': 0.046252907103808666, 'validation_accuracy_pixelclass_8': 0.20732615466886828, 'validation_accuracy_pixelclass_9': 0.8462302223278172, 'validation_accuracy_pixelclass_10': 0.11876253335021972, 'validation_accuracy_pixelclass_11': 6.590017441579496e-05, 'validation_accuracy_pixelclass_12': 0.0, 'train_IoU_class_0': 0.19199585497066782, 'train_IoU_class_1': 0.01233444700626501, 'train_IoU_class_2': 0.25852715963464945, 'train_IoU_class_3': 0.007038103967526516, 'train_IoU_class_4': 0.28287040823925685, 'train_IoU_class_5': 0.013841123553628001, 'train_IoU_class_6': 0.5390158448445005, 'train_IoU_class_7': 0.044639921796128794, 'train_IoU_class_8': 0.16261447731931405, 'train_IoU_class_9': 0.4149200209330834, 'train_IoU_class_10': 0.09172074523759682, 'train_IoU_class_11': 6.269723505193421e-05, 'train_IoU_class_12': 0.0}\n"
          ]
        },
        {
          "name": "stderr",
          "output_type": "stream",
          "text": [
            "Epoch:12, Training Loss:1.549: 100%|██████████| 104/104 [05:08<00:00,  2.96s/it]\n"
          ]
        },
        {
          "name": "stdout",
          "output_type": "stream",
          "text": [
            "{'train_loss': 1.5463101863861084, 'train_average_accuracy': 0.22949086870990387, 'train_mIoU': 0.15356809183489945, 'train_accuracy_pixelclass_0': 0.23999409029758986, 'train_accuracy_pixelclass_1': 0.008338765772407091, 'train_accuracy_pixelclass_2': 0.44049649333448976, 'train_accuracy_pixelclass_3': 0.02041290772539118, 'train_accuracy_pixelclass_4': 0.3228183970707142, 'train_accuracy_pixelclass_5': 0.016199243028015623, 'train_accuracy_pixelclass_6': 0.8443180609554775, 'train_accuracy_pixelclass_7': 0.0237576788532434, 'train_accuracy_pixelclass_8': 0.11429594456864288, 'train_accuracy_pixelclass_9': 0.8566707817143095, 'train_accuracy_pixelclass_10': 0.09581784477281449, 'train_accuracy_pixelclass_11': 0.00015668631399937325, 'train_accuracy_pixelclass_12': 0.00010439882165503906, 'train_IoU_class_0': 0.21636200076038553, 'train_IoU_class_1': 0.00792284132320776, 'train_IoU_class_2': 0.2909334171109538, 'train_IoU_class_3': 0.02015985020102451, 'train_IoU_class_4': 0.30078664704298747, 'train_IoU_class_5': 0.015906400487305912, 'train_IoU_class_6': 0.5366254864520988, 'train_IoU_class_7': 0.02273635071954368, 'train_IoU_class_8': 0.09809716509677095, 'train_IoU_class_9': 0.40792608420717574, 'train_IoU_class_10': 0.0786776277211999, 'train_IoU_class_11': 0.0001498849609058016, 'train_IoU_class_12': 0.0001014377701331922}\n"
          ]
        },
        {
          "name": "stderr",
          "output_type": "stream",
          "text": [
            "Validation Loss:1.508: 100%|██████████| 26/26 [00:24<00:00,  1.07it/s]\n"
          ]
        },
        {
          "name": "stdout",
          "output_type": "stream",
          "text": [
            "Epoch:12 {'validation_loss': 1.5082805156707764, 'validation_average_accuracy': 0.2554305982608623, 'validation_mIoU': 0.1739862642263152, 'validation_accuracy_pixelclass_0': 0.28278179870071507, 'validation_accuracy_pixelclass_1': 0.015901499103796644, 'validation_accuracy_pixelclass_2': 0.5854306971607103, 'validation_accuracy_pixelclass_3': 0.0059119754008419454, 'validation_accuracy_pixelclass_4': 0.40781203136243277, 'validation_accuracy_pixelclass_5': 0.032059397660243995, 'validation_accuracy_pixelclass_6': 0.8511960367519779, 'validation_accuracy_pixelclass_7': 0.05873517810391266, 'validation_accuracy_pixelclass_8': 0.19062590886489225, 'validation_accuracy_pixelclass_9': 0.8270651312313511, 'validation_accuracy_pixelclass_10': 0.06307812305033529, 'validation_accuracy_pixelclass_11': 0.0, 'validation_accuracy_pixelclass_12': 0.0, 'train_IoU_class_0': 0.24892835490254298, 'train_IoU_class_1': 0.014846495565258402, 'train_IoU_class_2': 0.3552377184468666, 'train_IoU_class_3': 0.005758453792167365, 'train_IoU_class_4': 0.36772182165126027, 'train_IoU_class_5': 0.030776544931868717, 'train_IoU_class_6': 0.5334070086077807, 'train_IoU_class_7': 0.05617247068201655, 'train_IoU_class_8': 0.16319713743130845, 'train_IoU_class_9': 0.4319495028071847, 'train_IoU_class_10': 0.05382592612384262, 'train_IoU_class_11': 0.0, 'train_IoU_class_12': 0.0}\n"
          ]
        },
        {
          "name": "stderr",
          "output_type": "stream",
          "text": [
            "Epoch:13, Training Loss:1.509: 100%|██████████| 104/104 [04:58<00:00,  2.87s/it]\n"
          ]
        },
        {
          "name": "stdout",
          "output_type": "stream",
          "text": [
            "{'train_loss': 1.5113847255706787, 'train_average_accuracy': 0.25443962672990195, 'train_mIoU': 0.17381768250003043, 'train_accuracy_pixelclass_0': 0.2867378391485522, 'train_accuracy_pixelclass_1': 0.010178687193275915, 'train_accuracy_pixelclass_2': 0.531795104382329, 'train_accuracy_pixelclass_3': 0.017760069226944262, 'train_accuracy_pixelclass_4': 0.4150901368894444, 'train_accuracy_pixelclass_5': 0.02852105295079682, 'train_accuracy_pixelclass_6': 0.8512988755518123, 'train_accuracy_pixelclass_7': 0.04047597899491022, 'train_accuracy_pixelclass_8': 0.20884016511051645, 'train_accuracy_pixelclass_9': 0.8356625997109195, 'train_accuracy_pixelclass_10': 0.08108644126793893, 'train_accuracy_pixelclass_11': 0.00010479020999958084, 'train_accuracy_pixelclass_12': 0.0001634068512861481, 'train_IoU_class_0': 0.2523688922963618, 'train_IoU_class_1': 0.00966928428347429, 'train_IoU_class_2': 0.33968284944376703, 'train_IoU_class_3': 0.017618396624688816, 'train_IoU_class_4': 0.3749016019306283, 'train_IoU_class_5': 0.027877999947996567, 'train_IoU_class_6': 0.5496818199088893, 'train_IoU_class_7': 0.03840918510274632, 'train_IoU_class_8': 0.166022622692894, 'train_IoU_class_9': 0.41548511032203334, 'train_IoU_class_10': 0.06765333498660298, 'train_IoU_class_11': 0.00010166576942590793, 'train_IoU_class_12': 0.00015710919088766692}\n"
          ]
        },
        {
          "name": "stderr",
          "output_type": "stream",
          "text": [
            "Validation Loss:1.473: 100%|██████████| 26/26 [00:22<00:00,  1.13it/s]\n"
          ]
        },
        {
          "name": "stdout",
          "output_type": "stream",
          "text": [
            "Epoch:13 {'validation_loss': 1.4730489253997803, 'validation_average_accuracy': 0.2556968362042721, 'validation_mIoU': 0.18018177083703255, 'validation_accuracy_pixelclass_0': 0.29563932674703125, 'validation_accuracy_pixelclass_1': 0.009033322470262343, 'validation_accuracy_pixelclass_2': 0.4775956532181958, 'validation_accuracy_pixelclass_3': 0.005281976610773396, 'validation_accuracy_pixelclass_4': 0.4880460009808806, 'validation_accuracy_pixelclass_5': 0.056813561412332375, 'validation_accuracy_pixelclass_6': 0.8190606291454183, 'validation_accuracy_pixelclass_7': 0.07265159519549755, 'validation_accuracy_pixelclass_8': 0.18651725318747714, 'validation_accuracy_pixelclass_9': 0.8765897865377084, 'validation_accuracy_pixelclass_10': 0.036829765149960905, 'validation_accuracy_pixelclass_11': 0.0, 'validation_accuracy_pixelclass_12': 0.0, 'train_IoU_class_0': 0.25810362126029096, 'train_IoU_class_1': 0.00872768634643503, 'train_IoU_class_2': 0.32221136983181486, 'train_IoU_class_3': 0.005138904674536037, 'train_IoU_class_4': 0.43760185779382366, 'train_IoU_class_5': 0.05457308495357688, 'train_IoU_class_6': 0.566056182839688, 'train_IoU_class_7': 0.06902578577039044, 'train_IoU_class_8': 0.16255714063046972, 'train_IoU_class_9': 0.4252944969984633, 'train_IoU_class_10': 0.03307288978193413, 'train_IoU_class_11': 0.0, 'train_IoU_class_12': 0.0}\n"
          ]
        },
        {
          "name": "stderr",
          "output_type": "stream",
          "text": [
            "Epoch:14, Training Loss:1.482: 100%|██████████| 104/104 [04:53<00:00,  2.82s/it]\n"
          ]
        },
        {
          "name": "stdout",
          "output_type": "stream",
          "text": [
            "{'train_loss': 1.4838124513626099, 'train_average_accuracy': 0.26916890366814106, 'train_mIoU': 0.1869608926891836, 'train_accuracy_pixelclass_0': 0.32916940003205786, 'train_accuracy_pixelclass_1': 0.00772839203639407, 'train_accuracy_pixelclass_2': 0.5708221480262368, 'train_accuracy_pixelclass_3': 0.022593039850697112, 'train_accuracy_pixelclass_4': 0.46635804836045464, 'train_accuracy_pixelclass_5': 0.05378767967976063, 'train_accuracy_pixelclass_6': 0.8501670549312191, 'train_accuracy_pixelclass_7': 0.05188020316045316, 'train_accuracy_pixelclass_8': 0.19869158464245387, 'train_accuracy_pixelclass_9': 0.8263277915594521, 'train_accuracy_pixelclass_10': 0.12122122884642647, 'train_accuracy_pixelclass_11': 1.7964035999928142e-05, 'train_accuracy_pixelclass_12': 0.00043121252422733525, 'train_IoU_class_0': 0.28980641804513585, 'train_IoU_class_1': 0.007436653822787471, 'train_IoU_class_2': 0.3553610631910952, 'train_IoU_class_3': 0.0223293039404654, 'train_IoU_class_4': 0.4137584952727423, 'train_IoU_class_5': 0.052138902297641294, 'train_IoU_class_6': 0.56360996858111, 'train_IoU_class_7': 0.04923499084182341, 'train_IoU_class_8': 0.15889766257167182, 'train_IoU_class_9': 0.42251319015664174, 'train_IoU_class_10': 0.09497787530384967, 'train_IoU_class_11': 1.7159984441614106e-05, 'train_IoU_class_12': 0.0004099209499810142}\n"
          ]
        },
        {
          "name": "stderr",
          "output_type": "stream",
          "text": [
            "Validation Loss:1.445: 100%|██████████| 26/26 [00:21<00:00,  1.20it/s]\n"
          ]
        },
        {
          "name": "stdout",
          "output_type": "stream",
          "text": [
            "Epoch:14 {'validation_loss': 1.4445463418960571, 'validation_average_accuracy': 0.2740231982137996, 'validation_mIoU': 0.19476334389311328, 'validation_accuracy_pixelclass_0': 0.31347950036203454, 'validation_accuracy_pixelclass_1': 0.010748329802835261, 'validation_accuracy_pixelclass_2': 0.6358421322379383, 'validation_accuracy_pixelclass_3': 0.00234476370873195, 'validation_accuracy_pixelclass_4': 0.5260866598957589, 'validation_accuracy_pixelclass_5': 0.04401061388244952, 'validation_accuracy_pixelclass_6': 0.8028159720764274, 'validation_accuracy_pixelclass_7': 0.06396005190960735, 'validation_accuracy_pixelclass_8': 0.22017926333861843, 'validation_accuracy_pixelclass_9': 0.8619095637389671, 'validation_accuracy_pixelclass_10': 0.08092472582602693, 'validation_accuracy_pixelclass_11': 0.0, 'validation_accuracy_pixelclass_12': 0.0, 'train_IoU_class_0': 0.2698019371705906, 'train_IoU_class_1': 0.010345040526407103, 'train_IoU_class_2': 0.3895169260107584, 'train_IoU_class_3': 0.0023151390319258495, 'train_IoU_class_4': 0.48547294448014655, 'train_IoU_class_5': 0.04298604209955732, 'train_IoU_class_6': 0.5683222269081004, 'train_IoU_class_7': 0.06114187696268883, 'train_IoU_class_8': 0.1937036599514166, 'train_IoU_class_9': 0.43895496506405013, 'train_IoU_class_10': 0.06936271240483066, 'train_IoU_class_11': 0.0, 'train_IoU_class_12': 0.0}\n"
          ]
        },
        {
          "name": "stderr",
          "output_type": "stream",
          "text": [
            "Epoch:15, Training Loss:1.446: 100%|██████████| 104/104 [05:22<00:00,  3.10s/it]\n"
          ]
        },
        {
          "name": "stdout",
          "output_type": "stream",
          "text": [
            "{'train_loss': 1.4457509517669678, 'train_average_accuracy': 0.28260583324318544, 'train_mIoU': 0.19877250296573287, 'train_accuracy_pixelclass_0': 0.3732819486245091, 'train_accuracy_pixelclass_1': 0.007623015128919733, 'train_accuracy_pixelclass_2': 0.630680930060627, 'train_accuracy_pixelclass_3': 0.01776136077441186, 'train_accuracy_pixelclass_4': 0.5021894228648871, 'train_accuracy_pixelclass_5': 0.05194047225092227, 'train_accuracy_pixelclass_6': 0.8570307729742169, 'train_accuracy_pixelclass_7': 0.049253938902929964, 'train_accuracy_pixelclass_8': 0.25885701752795326, 'train_accuracy_pixelclass_9': 0.8263635881161034, 'train_accuracy_pixelclass_10': 0.09822267535638132, 'train_accuracy_pixelclass_11': 7.984015999968064e-06, 'train_accuracy_pixelclass_12': 0.0006627055635493784, 'train_IoU_class_0': 0.3265877015395086, 'train_IoU_class_1': 0.007398922674107275, 'train_IoU_class_2': 0.39967199932093317, 'train_IoU_class_3': 0.017643255226775872, 'train_IoU_class_4': 0.4554881767340939, 'train_IoU_class_5': 0.05055792537828982, 'train_IoU_class_6': 0.5719157788525461, 'train_IoU_class_7': 0.04700059142640611, 'train_IoU_class_8': 0.20203079541377786, 'train_IoU_class_9': 0.42539127944153654, 'train_IoU_class_10': 0.07970364880825809, 'train_IoU_class_11': 7.6614629371942e-06, 'train_IoU_class_12': 0.0006448022753570704}\n"
          ]
        },
        {
          "name": "stderr",
          "output_type": "stream",
          "text": [
            "Validation Loss:1.413: 100%|██████████| 26/26 [00:23<00:00,  1.09it/s]\n"
          ]
        },
        {
          "name": "stdout",
          "output_type": "stream",
          "text": [
            "Epoch:15 {'validation_loss': 1.4133045673370361, 'validation_average_accuracy': 0.31792675339213006, 'validation_mIoU': 0.22787085176864766, 'validation_accuracy_pixelclass_0': 0.3842201412389155, 'validation_accuracy_pixelclass_1': 0.010437713866710118, 'validation_accuracy_pixelclass_2': 0.6545046987379883, 'validation_accuracy_pixelclass_3': 0.004626944756198813, 'validation_accuracy_pixelclass_4': 0.6498256426891574, 'validation_accuracy_pixelclass_5': 0.09673894820818471, 'validation_accuracy_pixelclass_6': 0.8141053062933169, 'validation_accuracy_pixelclass_7': 0.11014664011901228, 'validation_accuracy_pixelclass_8': 0.4921949028511385, 'validation_accuracy_pixelclass_9': 0.8168787394790242, 'validation_accuracy_pixelclass_10': 0.09936811585804407, 'validation_accuracy_pixelclass_11': 0.0, 'validation_accuracy_pixelclass_12': 0.0, 'train_IoU_class_0': 0.32713573412918484, 'train_IoU_class_1': 0.010115066405721837, 'train_IoU_class_2': 0.4098170700839084, 'train_IoU_class_3': 0.004576574048472893, 'train_IoU_class_4': 0.5414613113210279, 'train_IoU_class_5': 0.09347402289091346, 'train_IoU_class_6': 0.5802684326651207, 'train_IoU_class_7': 0.10261760695594539, 'train_IoU_class_8': 0.35691913754424276, 'train_IoU_class_9': 0.45372581443614557, 'train_IoU_class_10': 0.08221030251173551, 'train_IoU_class_11': 0.0, 'train_IoU_class_12': 0.0}\n"
          ]
        },
        {
          "name": "stderr",
          "output_type": "stream",
          "text": [
            "Epoch:16, Training Loss:1.428: 100%|██████████| 104/104 [04:49<00:00,  2.78s/it]\n"
          ]
        },
        {
          "name": "stdout",
          "output_type": "stream",
          "text": [
            "{'train_loss': 1.4251420497894287, 'train_average_accuracy': 0.3042801547596855, 'train_mIoU': 0.21546566553817123, 'train_accuracy_pixelclass_0': 0.41002606107068035, 'train_accuracy_pixelclass_1': 0.009508291492834258, 'train_accuracy_pixelclass_2': 0.681097729302296, 'train_accuracy_pixelclass_3': 0.022538794857057984, 'train_accuracy_pixelclass_4': 0.5695967904374996, 'train_accuracy_pixelclass_5': 0.07004331786545392, 'train_accuracy_pixelclass_6': 0.8562142253120306, 'train_accuracy_pixelclass_7': 0.07305073538449668, 'train_accuracy_pixelclass_8': 0.3252214344328708, 'train_accuracy_pixelclass_9': 0.8041072735646009, 'train_accuracy_pixelclass_10': 0.13404387850644786, 'train_accuracy_pixelclass_11': 0.0001117762239995529, 'train_accuracy_pixelclass_12': 8.170342564307405e-05, 'train_IoU_class_0': 0.35404269826579476, 'train_IoU_class_1': 0.009191303575857264, 'train_IoU_class_2': 0.4199844033166884, 'train_IoU_class_3': 0.02242427902685491, 'train_IoU_class_4': 0.4972957415291201, 'train_IoU_class_5': 0.06802714409799819, 'train_IoU_class_6': 0.5785893648752846, 'train_IoU_class_7': 0.0683584662376943, 'train_IoU_class_8': 0.24183941012167845, 'train_IoU_class_9': 0.43657278547048245, 'train_IoU_class_10': 0.10454199692329758, 'train_IoU_class_11': 0.00010707897169768929, 'train_IoU_class_12': 7.897958377759349e-05}\n"
          ]
        },
        {
          "name": "stderr",
          "output_type": "stream",
          "text": [
            "Validation Loss:1.4: 100%|██████████| 26/26 [00:23<00:00,  1.08it/s]\n"
          ]
        },
        {
          "name": "stdout",
          "output_type": "stream",
          "text": [
            "Epoch:16 {'validation_loss': 1.4002556800842285, 'validation_average_accuracy': 0.316217120465737, 'validation_mIoU': 0.224393441882615, 'validation_accuracy_pixelclass_0': 0.5013668445028816, 'validation_accuracy_pixelclass_1': 0.013516376079517679, 'validation_accuracy_pixelclass_2': 0.783309125707553, 'validation_accuracy_pixelclass_3': 0.0053403870946208114, 'validation_accuracy_pixelclass_4': 0.6210325505597584, 'validation_accuracy_pixelclass_5': 0.0657779370759409, 'validation_accuracy_pixelclass_6': 0.8436405585093368, 'validation_accuracy_pixelclass_7': 0.09168662513697112, 'validation_accuracy_pixelclass_8': 0.29096459296925575, 'validation_accuracy_pixelclass_9': 0.8094724708414441, 'validation_accuracy_pixelclass_10': 0.08469752419745667, 'validation_accuracy_pixelclass_11': 1.7573379844211988e-05, 'validation_accuracy_pixelclass_12': 0.0, 'train_IoU_class_0': 0.38973491036376523, 'train_IoU_class_1': 0.013029750871791649, 'train_IoU_class_2': 0.42372910833676697, 'train_IoU_class_3': 0.005284081292288131, 'train_IoU_class_4': 0.5711074335554072, 'train_IoU_class_5': 0.06293627644392984, 'train_IoU_class_6': 0.5783571809028119, 'train_IoU_class_7': 0.08819203465600968, 'train_IoU_class_8': 0.2549612099993372, 'train_IoU_class_9': 0.4568259928872412, 'train_IoU_class_10': 0.07293963197551762, 'train_IoU_class_11': 1.7133189128991497e-05, 'train_IoU_class_12': 0.0}\n"
          ]
        },
        {
          "name": "stderr",
          "output_type": "stream",
          "text": [
            "Epoch:17, Training Loss:1.395: 100%|██████████| 104/104 [04:54<00:00,  2.84s/it]\n"
          ]
        },
        {
          "name": "stdout",
          "output_type": "stream",
          "text": [
            "{'train_loss': 1.395618200302124, 'train_average_accuracy': 0.3128236569950035, 'train_mIoU': 0.2230387274568687, 'train_accuracy_pixelclass_0': 0.45820396257325036, 'train_accuracy_pixelclass_1': 0.01148991890491054, 'train_accuracy_pixelclass_2': 0.7033192126411532, 'train_accuracy_pixelclass_3': 0.02004610824459326, 'train_accuracy_pixelclass_4': 0.5827565567335931, 'train_accuracy_pixelclass_5': 0.0889032418703188, 'train_accuracy_pixelclass_6': 0.8560073406434274, 'train_accuracy_pixelclass_7': 0.09013957636326281, 'train_accuracy_pixelclass_8': 0.32382833963536034, 'train_accuracy_pixelclass_9': 0.81498417403103, 'train_accuracy_pixelclass_10': 0.11677179411445425, 'train_accuracy_pixelclass_11': 8.483016999966068e-05, 'train_accuracy_pixelclass_12': 0.0001724850096909341, 'train_IoU_class_0': 0.3898309589334142, 'train_IoU_class_1': 0.011191521169931556, 'train_IoU_class_2': 0.4271585380288049, 'train_IoU_class_3': 0.019969224672754828, 'train_IoU_class_4': 0.5094946578031128, 'train_IoU_class_5': 0.08556305809257597, 'train_IoU_class_6': 0.5858960742963166, 'train_IoU_class_7': 0.08363321734211117, 'train_IoU_class_8': 0.2504241921873849, 'train_IoU_class_9': 0.4402048825262044, 'train_IoU_class_10': 0.09588797923877437, 'train_IoU_class_11': 8.140296574946274e-05, 'train_IoU_class_12': 0.00016774968215849698}\n"
          ]
        },
        {
          "name": "stderr",
          "output_type": "stream",
          "text": [
            "Validation Loss:1.361: 100%|██████████| 26/26 [00:22<00:00,  1.15it/s]\n"
          ]
        },
        {
          "name": "stdout",
          "output_type": "stream",
          "text": [
            "Epoch:17 {'validation_loss': 1.360668420791626, 'validation_average_accuracy': 0.33268560360690314, 'validation_mIoU': 0.23930458194179405, 'validation_accuracy_pixelclass_0': 0.46280637867500407, 'validation_accuracy_pixelclass_1': 0.008703356688935963, 'validation_accuracy_pixelclass_2': 0.7028050586372998, 'validation_accuracy_pixelclass_3': 0.0037507874984875856, 'validation_accuracy_pixelclass_4': 0.6576044631352392, 'validation_accuracy_pixelclass_5': 0.04671225934254822, 'validation_accuracy_pixelclass_6': 0.8552800107845202, 'validation_accuracy_pixelclass_7': 0.10067735707147821, 'validation_accuracy_pixelclass_8': 0.5597452598298136, 'validation_accuracy_pixelclass_9': 0.8058539509467245, 'validation_accuracy_pixelclass_10': 0.120973964279689, 'validation_accuracy_pixelclass_11': 0.0, 'validation_accuracy_pixelclass_12': 0.0, 'train_IoU_class_0': 0.3683587392043468, 'train_IoU_class_1': 0.008554897092976696, 'train_IoU_class_2': 0.43039194424811894, 'train_IoU_class_3': 0.0037349397590361448, 'train_IoU_class_4': 0.5860599365140549, 'train_IoU_class_5': 0.04478259905709176, 'train_IoU_class_6': 0.5860973594592963, 'train_IoU_class_7': 0.09724719485545152, 'train_IoU_class_8': 0.41785238730145946, 'train_IoU_class_9': 0.4693766009688765, 'train_IoU_class_10': 0.09850296678261339, 'train_IoU_class_11': 0.0, 'train_IoU_class_12': 0.0}\n"
          ]
        },
        {
          "name": "stderr",
          "output_type": "stream",
          "text": [
            "Epoch:18, Training Loss:1.37: 100%|██████████| 104/104 [05:09<00:00,  2.98s/it]\n"
          ]
        },
        {
          "name": "stdout",
          "output_type": "stream",
          "text": [
            "{'train_loss': 1.3672733306884766, 'train_average_accuracy': 0.33024141173881716, 'train_mIoU': 0.23743052671643172, 'train_accuracy_pixelclass_0': 0.48416568470354954, 'train_accuracy_pixelclass_1': 0.01247802485315491, 'train_accuracy_pixelclass_2': 0.7147785442312213, 'train_accuracy_pixelclass_3': 0.023565575093798634, 'train_accuracy_pixelclass_4': 0.6266834340511339, 'train_accuracy_pixelclass_5': 0.11032222916225526, 'train_accuracy_pixelclass_6': 0.8610120557876726, 'train_accuracy_pixelclass_7': 0.09965449085625439, 'train_accuracy_pixelclass_8': 0.42268410222667785, 'train_accuracy_pixelclass_9': 0.803998366431919, 'train_accuracy_pixelclass_10': 0.13361183510409205, 'train_accuracy_pixelclass_11': 6.986013999972056e-06, 'train_accuracy_pixelclass_12': 0.0001770240888933271, 'train_IoU_class_0': 0.411657184457755, 'train_IoU_class_1': 0.012175311808108331, 'train_IoU_class_2': 0.44236938388760255, 'train_IoU_class_3': 0.02348867147270855, 'train_IoU_class_4': 0.5414931843908432, 'train_IoU_class_5': 0.10648658114298949, 'train_IoU_class_6': 0.5975412364861241, 'train_IoU_class_7': 0.09283997705112276, 'train_IoU_class_8': 0.3018786493146833, 'train_IoU_class_9': 0.446642334786642, 'train_IoU_class_10': 0.10984524684168391, 'train_IoU_class_11': 6.602490459401286e-06, 'train_IoU_class_12': 0.00017248318288966825}\n"
          ]
        },
        {
          "name": "stderr",
          "output_type": "stream",
          "text": [
            "Validation Loss:1.351: 100%|██████████| 26/26 [00:23<00:00,  1.10it/s]\n"
          ]
        },
        {
          "name": "stdout",
          "output_type": "stream",
          "text": [
            "Epoch:18 {'validation_loss': 1.3508957624435425, 'validation_average_accuracy': 0.3558661814803839, 'validation_mIoU': 0.2560737974894396, 'validation_accuracy_pixelclass_0': 0.5088488917299596, 'validation_accuracy_pixelclass_1': 0.013352411601759817, 'validation_accuracy_pixelclass_2': 0.7944772571247014, 'validation_accuracy_pixelclass_3': 0.010622363705394208, 'validation_accuracy_pixelclass_4': 0.7278442639727207, 'validation_accuracy_pixelclass_5': 0.1626228699491081, 'validation_accuracy_pixelclass_6': 0.8611837147431273, 'validation_accuracy_pixelclass_7': 0.12326572323015218, 'validation_accuracy_pixelclass_8': 0.4880692426047716, 'validation_accuracy_pixelclass_9': 0.7565978742790684, 'validation_accuracy_pixelclass_10': 0.17933620619957744, 'validation_accuracy_pixelclass_11': 3.9540104649476975e-05, 'validation_accuracy_pixelclass_12': 0.0, 'train_IoU_class_0': 0.41488555840811, 'train_IoU_class_1': 0.012914811104511368, 'train_IoU_class_2': 0.4302422222939144, 'train_IoU_class_3': 0.010517227847107763, 'train_IoU_class_4': 0.57858857574387, 'train_IoU_class_5': 0.1524124628865756, 'train_IoU_class_6': 0.6053089985003757, 'train_IoU_class_7': 0.11632442027676512, 'train_IoU_class_8': 0.4105807416512808, 'train_IoU_class_9': 0.46412779329778137, 'train_IoU_class_10': 0.1330193721840035, 'train_IoU_class_11': 3.7183168419095625e-05, 'train_IoU_class_12': 0.0}\n"
          ]
        },
        {
          "name": "stderr",
          "output_type": "stream",
          "text": [
            "Epoch:19, Training Loss:1.336: 100%|██████████| 104/104 [04:40<00:00,  2.70s/it]\n"
          ]
        },
        {
          "name": "stdout",
          "output_type": "stream",
          "text": [
            "{'train_loss': 1.3369686603546143, 'train_average_accuracy': 0.34662937875115524, 'train_mIoU': 0.25216612215707224, 'train_accuracy_pixelclass_0': 0.5106082743003225, 'train_accuracy_pixelclass_1': 0.01432020273885188, 'train_accuracy_pixelclass_2': 0.7247450684761473, 'train_accuracy_pixelclass_3': 0.025363409168695474, 'train_accuracy_pixelclass_4': 0.6500006841449254, 'train_accuracy_pixelclass_5': 0.14917157641490664, 'train_accuracy_pixelclass_6': 0.8633961754321117, 'train_accuracy_pixelclass_7': 0.10568380933924404, 'train_accuracy_pixelclass_8': 0.4726561971563021, 'train_accuracy_pixelclass_9': 0.7984053490016418, 'train_accuracy_pixelclass_10': 0.1898942318729097, 'train_accuracy_pixelclass_11': 0.001623749253993505, 'train_accuracy_pixelclass_12': 0.00031319646496511715, 'train_IoU_class_0': 0.43140582652308906, 'train_IoU_class_1': 0.013972783642796265, 'train_IoU_class_2': 0.4507547008878492, 'train_IoU_class_3': 0.025171372466584293, 'train_IoU_class_4': 0.56208659339474, 'train_IoU_class_5': 0.1423058788180545, 'train_IoU_class_6': 0.6035100337121381, 'train_IoU_class_7': 0.09825664518475391, 'train_IoU_class_8': 0.3417634411198066, 'train_IoU_class_9': 0.4583614676428412, 'train_IoU_class_10': 0.1487400174887265, 'train_IoU_class_11': 0.001526657389744278, 'train_IoU_class_12': 0.0003041697708146901}\n"
          ]
        },
        {
          "name": "stderr",
          "output_type": "stream",
          "text": [
            "Validation Loss:1.315: 100%|██████████| 26/26 [00:24<00:00,  1.06it/s]\n"
          ]
        },
        {
          "name": "stdout",
          "output_type": "stream",
          "text": [
            "Epoch:19 {'validation_loss': 1.3149092197418213, 'validation_average_accuracy': 0.35774034131589805, 'validation_mIoU': 0.26373449022301326, 'validation_accuracy_pixelclass_0': 0.4748156249463512, 'validation_accuracy_pixelclass_1': 0.008928425941013524, 'validation_accuracy_pixelclass_2': 0.68421199450033, 'validation_accuracy_pixelclass_3': 0.0035546951598569776, 'validation_accuracy_pixelclass_4': 0.7147684310931411, 'validation_accuracy_pixelclass_5': 0.11766995604526895, 'validation_accuracy_pixelclass_6': 0.8354322000642146, 'validation_accuracy_pixelclass_7': 0.13009054036333711, 'validation_accuracy_pixelclass_8': 0.7313952424734259, 'validation_accuracy_pixelclass_9': 0.8042052609208055, 'validation_accuracy_pixelclass_10': 0.14555206559893, 'validation_accuracy_pixelclass_11': 0.0, 'validation_accuracy_pixelclass_12': 0.0, 'train_IoU_class_0': 0.3976871924390545, 'train_IoU_class_1': 0.008785995321885917, 'train_IoU_class_2': 0.4517535918445836, 'train_IoU_class_3': 0.003537221786297002, 'train_IoU_class_4': 0.6451421759649771, 'train_IoU_class_5': 0.11164171682231372, 'train_IoU_class_6': 0.5947016899855563, 'train_IoU_class_7': 0.12204080045530226, 'train_IoU_class_8': 0.5014534983056925, 'train_IoU_class_9': 0.4764140606980385, 'train_IoU_class_10': 0.11539042927547122, 'train_IoU_class_11': 0.0, 'train_IoU_class_12': 0.0}\n"
          ]
        },
        {
          "name": "stderr",
          "output_type": "stream",
          "text": [
            "Epoch:20, Training Loss:1.306: 100%|██████████| 104/104 [05:20<00:00,  3.08s/it]\n"
          ]
        },
        {
          "name": "stdout",
          "output_type": "stream",
          "text": [
            "{'train_loss': 1.3100166320800781, 'train_average_accuracy': 0.3581494142959563, 'train_mIoU': 0.2614023314993447, 'train_accuracy_pixelclass_0': 0.5479259453859512, 'train_accuracy_pixelclass_1': 0.013822426597763256, 'train_accuracy_pixelclass_2': 0.7470027597293684, 'train_accuracy_pixelclass_3': 0.03435903728051765, 'train_accuracy_pixelclass_4': 0.6613476254920673, 'train_accuracy_pixelclass_5': 0.16987019537197925, 'train_accuracy_pixelclass_6': 0.8620853704047212, 'train_accuracy_pixelclass_7': 0.12559091394390925, 'train_accuracy_pixelclass_8': 0.5335935887705047, 'train_accuracy_pixelclass_9': 0.8047591210793626, 'train_accuracy_pixelclass_10': 0.1553910568780002, 'train_accuracy_pixelclass_11': 3.093806199987625e-05, 'train_accuracy_pixelclass_12': 0.0001634068512861481, 'train_IoU_class_0': 0.4489879117598122, 'train_IoU_class_1': 0.013425888686786907, 'train_IoU_class_2': 0.45928520570031783, 'train_IoU_class_3': 0.034257494591531885, 'train_IoU_class_4': 0.5725545541398116, 'train_IoU_class_5': 0.16302920909998392, 'train_IoU_class_6': 0.60756975921699, 'train_IoU_class_7': 0.1159577945503763, 'train_IoU_class_8': 0.39058839095688785, 'train_IoU_class_9': 0.4668259471711008, 'train_IoU_class_10': 0.12555912155986151, 'train_IoU_class_11': 2.9337252537908934e-05, 'train_IoU_class_12': 0.000159694805482855}\n"
          ]
        },
        {
          "name": "stderr",
          "output_type": "stream",
          "text": [
            "Validation Loss:1.299: 100%|██████████| 26/26 [00:23<00:00,  1.09it/s]\n"
          ]
        },
        {
          "name": "stdout",
          "output_type": "stream",
          "text": [
            "Epoch:20 {'validation_loss': 1.2987087965011597, 'validation_average_accuracy': 0.3713122409690866, 'validation_mIoU': 0.2696159916798924, 'validation_accuracy_pixelclass_0': 0.5596246151173911, 'validation_accuracy_pixelclass_1': 0.018587053935147466, 'validation_accuracy_pixelclass_2': 0.8175676442386797, 'validation_accuracy_pixelclass_3': 0.011502693140523108, 'validation_accuracy_pixelclass_4': 0.7600408314056842, 'validation_accuracy_pixelclass_5': 0.22902129906367366, 'validation_accuracy_pixelclass_6': 0.8659985483833796, 'validation_accuracy_pixelclass_7': 0.15377015378447265, 'validation_accuracy_pixelclass_8': 0.5370253966169117, 'validation_accuracy_pixelclass_9': 0.7943043099275962, 'validation_accuracy_pixelclass_10': 0.07932223287227584, 'validation_accuracy_pixelclass_11': 0.0002943541123905508, 'validation_accuracy_pixelclass_12': 0.0, 'train_IoU_class_0': 0.448717356996702, 'train_IoU_class_1': 0.018000274180933775, 'train_IoU_class_2': 0.44416249522236056, 'train_IoU_class_3': 0.011432528591688298, 'train_IoU_class_4': 0.612325746843687, 'train_IoU_class_5': 0.2125396782817851, 'train_IoU_class_6': 0.6178638721048749, 'train_IoU_class_7': 0.14364228993016445, 'train_IoU_class_8': 0.4461894254992529, 'train_IoU_class_9': 0.478595875364662, 'train_IoU_class_10': 0.07126299919010254, 'train_IoU_class_11': 0.00027534963238769227, 'train_IoU_class_12': 0.0}\n"
          ]
        },
        {
          "name": "stderr",
          "output_type": "stream",
          "text": [
            "Epoch:21, Training Loss:1.29: 100%|██████████| 104/104 [04:54<00:00,  2.83s/it]\n"
          ]
        },
        {
          "name": "stdout",
          "output_type": "stream",
          "text": [
            "{'train_loss': 1.2904802560806274, 'train_average_accuracy': 0.3706499241790484, 'train_mIoU': 0.2720599629511545, 'train_accuracy_pixelclass_0': 0.5922986437898706, 'train_accuracy_pixelclass_1': 0.018979802608969764, 'train_accuracy_pixelclass_2': 0.7495451232849902, 'train_accuracy_pixelclass_3': 0.03492473507132571, 'train_accuracy_pixelclass_4': 0.6722357124287495, 'train_accuracy_pixelclass_5': 0.1814918540918943, 'train_accuracy_pixelclass_6': 0.8626595239741877, 'train_accuracy_pixelclass_7': 0.163861412343765, 'train_accuracy_pixelclass_8': 0.5490259993512323, 'train_accuracy_pixelclass_9': 0.7832136016331945, 'train_accuracy_pixelclass_10': 0.20923022381778583, 'train_accuracy_pixelclass_11': 0.0008552877139965788, 'train_accuracy_pixelclass_12': 0.00012709421766700406, 'train_IoU_class_0': 0.4813039134131183, 'train_IoU_class_1': 0.018395045258813934, 'train_IoU_class_2': 0.4653568064215143, 'train_IoU_class_3': 0.03480547496647008, 'train_IoU_class_4': 0.5801543362443017, 'train_IoU_class_5': 0.1733780385412156, 'train_IoU_class_6': 0.6154303628880811, 'train_IoU_class_7': 0.14943745904821004, 'train_IoU_class_8': 0.38771549297263325, 'train_IoU_class_9': 0.4659562912669849, 'train_IoU_class_10': 0.16391675228135083, 'train_IoU_class_11': 0.0008059662190121506, 'train_IoU_class_12': 0.00012357884330202668}\n"
          ]
        },
        {
          "name": "stderr",
          "output_type": "stream",
          "text": [
            "Validation Loss:1.266: 100%|██████████| 26/26 [00:23<00:00,  1.08it/s]\n"
          ]
        },
        {
          "name": "stdout",
          "output_type": "stream",
          "text": [
            "Epoch:21 {'validation_loss': 1.2661992311477661, 'validation_average_accuracy': 0.37833052838636344, 'validation_mIoU': 0.28223687281843696, 'validation_accuracy_pixelclass_0': 0.5030432108677013, 'validation_accuracy_pixelclass_1': 0.0163312693498452, 'validation_accuracy_pixelclass_2': 0.7103765609663382, 'validation_accuracy_pixelclass_3': 0.0012516532253017527, 'validation_accuracy_pixelclass_4': 0.7476922918492945, 'validation_accuracy_pixelclass_5': 0.1958692958571558, 'validation_accuracy_pixelclass_6': 0.8461488434265098, 'validation_accuracy_pixelclass_7': 0.16826686120209025, 'validation_accuracy_pixelclass_8': 0.7547096792351932, 'validation_accuracy_pixelclass_9': 0.7962182365503322, 'validation_accuracy_pixelclass_10': 0.17783979837283173, 'validation_accuracy_pixelclass_11': 0.0005491681201316246, 'validation_accuracy_pixelclass_12': 0.0, 'train_IoU_class_0': 0.430055503899259, 'train_IoU_class_1': 0.015877023365045796, 'train_IoU_class_2': 0.45612095369155203, 'train_IoU_class_3': 0.0012504011703754956, 'train_IoU_class_4': 0.6614552432143121, 'train_IoU_class_5': 0.18888698929247053, 'train_IoU_class_6': 0.618012002006099, 'train_IoU_class_7': 0.15532172578613201, 'train_IoU_class_8': 0.5152821120521407, 'train_IoU_class_9': 0.4825676274997645, 'train_IoU_class_10': 0.14371486342669348, 'train_IoU_class_11': 0.0005349012358358152, 'train_IoU_class_12': 0.0}\n"
          ]
        },
        {
          "name": "stderr",
          "output_type": "stream",
          "text": [
            "Epoch:22, Training Loss:1.272: 100%|██████████| 104/104 [05:20<00:00,  3.08s/it]\n"
          ]
        },
        {
          "name": "stdout",
          "output_type": "stream",
          "text": [
            "{'train_loss': 1.2705599069595337, 'train_average_accuracy': 0.38014233676764453, 'train_mIoU': 0.2812369061660742, 'train_accuracy_pixelclass_0': 0.5935241132757829, 'train_accuracy_pixelclass_1': 0.023702357847792874, 'train_accuracy_pixelclass_2': 0.7537597955128454, 'train_accuracy_pixelclass_3': 0.03445977798299032, 'train_accuracy_pixelclass_4': 0.7042527403186334, 'train_accuracy_pixelclass_5': 0.23584774158674693, 'train_accuracy_pixelclass_6': 0.8643673581817011, 'train_accuracy_pixelclass_7': 0.1655161956850385, 'train_accuracy_pixelclass_8': 0.5846195714276257, 'train_accuracy_pixelclass_9': 0.7873015294934834, 'train_accuracy_pixelclass_10': 0.1936431398295032, 'train_accuracy_pixelclass_11': 0.0007834315699968662, 'train_accuracy_pixelclass_12': 7.262526723828803e-05, 'train_IoU_class_0': 0.49262520322611497, 'train_IoU_class_1': 0.022962609957853132, 'train_IoU_class_2': 0.4673914981454145, 'train_IoU_class_3': 0.03442927359278199, 'train_IoU_class_4': 0.6022571946924304, 'train_IoU_class_5': 0.2260186179406465, 'train_IoU_class_6': 0.6203027417909242, 'train_IoU_class_7': 0.14931828210911824, 'train_IoU_class_8': 0.41543958680448034, 'train_IoU_class_9': 0.4698959508405528, 'train_IoU_class_10': 0.15464794029872023, 'train_IoU_class_11': 0.0007201246870668359, 'train_IoU_class_12': 7.075607286106603e-05}\n"
          ]
        },
        {
          "name": "stderr",
          "output_type": "stream",
          "text": [
            "Validation Loss:1.236: 100%|██████████| 26/26 [00:24<00:00,  1.05it/s]\n"
          ]
        },
        {
          "name": "stdout",
          "output_type": "stream",
          "text": [
            "Epoch:22 {'validation_loss': 1.236449122428894, 'validation_average_accuracy': 0.39536284248100473, 'validation_mIoU': 0.2982827083685801, 'validation_accuracy_pixelclass_0': 0.5615797026368435, 'validation_accuracy_pixelclass_1': 0.023392944435391885, 'validation_accuracy_pixelclass_2': 0.7527072825237963, 'validation_accuracy_pixelclass_3': 0.0062415774168380735, 'validation_accuracy_pixelclass_4': 0.7836102840563144, 'validation_accuracy_pixelclass_5': 0.32415698833975987, 'validation_accuracy_pixelclass_6': 0.850677963051653, 'validation_accuracy_pixelclass_7': 0.21187907051054997, 'validation_accuracy_pixelclass_8': 0.6694112431864452, 'validation_accuracy_pixelclass_9': 0.8258691359697587, 'validation_accuracy_pixelclass_10': 0.13010289322648802, 'validation_accuracy_pixelclass_11': 8.786689922105993e-05, 'validation_accuracy_pixelclass_12': 0.0, 'train_IoU_class_0': 0.4604534509768853, 'train_IoU_class_1': 0.02249960084513085, 'train_IoU_class_2': 0.4698284804648224, 'train_IoU_class_3': 0.006226225059723482, 'train_IoU_class_4': 0.6319468739002567, 'train_IoU_class_5': 0.2983029507731593, 'train_IoU_class_6': 0.6366041259219393, 'train_IoU_class_7': 0.18912081259249294, 'train_IoU_class_8': 0.5554128463576559, 'train_IoU_class_9': 0.49597153862273374, 'train_IoU_class_10': 0.111224886874574, 'train_IoU_class_11': 8.341640216715813e-05, 'train_IoU_class_12': 0.0}\n"
          ]
        },
        {
          "name": "stderr",
          "output_type": "stream",
          "text": [
            "Epoch:23, Training Loss:1.244: 100%|██████████| 104/104 [05:05<00:00,  2.94s/it]\n"
          ]
        },
        {
          "name": "stdout",
          "output_type": "stream",
          "text": [
            "{'train_loss': 1.2435011863708496, 'train_average_accuracy': 0.39554299610713056, 'train_mIoU': 0.2943608536534902, 'train_accuracy_pixelclass_0': 0.6171718847700209, 'train_accuracy_pixelclass_1': 0.022130504448507584, 'train_accuracy_pixelclass_2': 0.7664118583996031, 'train_accuracy_pixelclass_3': 0.04888765474353096, 'train_accuracy_pixelclass_4': 0.6946734385346698, 'train_accuracy_pixelclass_5': 0.25364360601278785, 'train_accuracy_pixelclass_6': 0.8603014445741008, 'train_accuracy_pixelclass_7': 0.19111473577208418, 'train_accuracy_pixelclass_8': 0.6483853196591293, 'train_accuracy_pixelclass_9': 0.7828232246191907, 'train_accuracy_pixelclass_10': 0.2556493073710154, 'train_accuracy_pixelclass_11': 0.00075249350799699, 'train_accuracy_pixelclass_12': 0.00011347698005982507, 'train_IoU_class_0': 0.5010313392859926, 'train_IoU_class_1': 0.021445388014889058, 'train_IoU_class_2': 0.4812250623941647, 'train_IoU_class_3': 0.04882446950534461, 'train_IoU_class_4': 0.5909097183857629, 'train_IoU_class_5': 0.24124626046967287, 'train_IoU_class_6': 0.6245068945767671, 'train_IoU_class_7': 0.17155231107654162, 'train_IoU_class_8': 0.4633087412762161, 'train_IoU_class_9': 0.4795289632401996, 'train_IoU_class_10': 0.2023152948226176, 'train_IoU_class_11': 0.0006871004633827396, 'train_IoU_class_12': 0.00010955398382106768}\n"
          ]
        },
        {
          "name": "stderr",
          "output_type": "stream",
          "text": [
            "Validation Loss:1.222: 100%|██████████| 26/26 [00:22<00:00,  1.16it/s]\n"
          ]
        },
        {
          "name": "stdout",
          "output_type": "stream",
          "text": [
            "Epoch:23 {'validation_loss': 1.2218884229660034, 'validation_average_accuracy': 0.4137790105069309, 'validation_mIoU': 0.3158776234841651, 'validation_accuracy_pixelclass_0': 0.6277376022103799, 'validation_accuracy_pixelclass_1': 0.042172478409646406, 'validation_accuracy_pixelclass_2': 0.7643061394699665, 'validation_accuracy_pixelclass_3': 0.019680160879161225, 'validation_accuracy_pixelclass_4': 0.7855218426137248, 'validation_accuracy_pixelclass_5': 0.34947768830102727, 'validation_accuracy_pixelclass_6': 0.8462707059788105, 'validation_accuracy_pixelclass_7': 0.258529137356981, 'validation_accuracy_pixelclass_8': 0.7146046965446716, 'validation_accuracy_pixelclass_9': 0.802450233198568, 'validation_accuracy_pixelclass_10': 0.1662017458714426, 'validation_accuracy_pixelclass_11': 0.0021747057557212333, 'validation_accuracy_pixelclass_12': 0.0, 'train_IoU_class_0': 0.5081950996182052, 'train_IoU_class_1': 0.03924973389609294, 'train_IoU_class_2': 0.4671977355345245, 'train_IoU_class_3': 0.019633960049449107, 'train_IoU_class_4': 0.661568049678721, 'train_IoU_class_5': 0.31970828397359957, 'train_IoU_class_6': 0.6501521593235574, 'train_IoU_class_7': 0.21788683156846406, 'train_IoU_class_8': 0.5852086326513365, 'train_IoU_class_9': 0.4968431232551868, 'train_IoU_class_10': 0.1387407736841284, 'train_IoU_class_11': 0.0020247220608807337, 'train_IoU_class_12': 0.0}\n"
          ]
        },
        {
          "name": "stderr",
          "output_type": "stream",
          "text": [
            "Epoch:24, Training Loss:1.222: 100%|██████████| 104/104 [04:53<00:00,  2.82s/it]\n"
          ]
        },
        {
          "name": "stdout",
          "output_type": "stream",
          "text": [
            "{'train_loss': 1.2222754955291748, 'train_average_accuracy': 0.40383643369538136, 'train_mIoU': 0.3030129395080874, 'train_accuracy_pixelclass_0': 0.6329245191709415, 'train_accuracy_pixelclass_1': 0.026946026038250238, 'train_accuracy_pixelclass_2': 0.7595639478506638, 'train_accuracy_pixelclass_3': 0.05006037984411022, 'train_accuracy_pixelclass_4': 0.7293824971544344, 'train_accuracy_pixelclass_5': 0.2742932782292346, 'train_accuracy_pixelclass_6': 0.8636860845161495, 'train_accuracy_pixelclass_7': 0.22186137107287274, 'train_accuracy_pixelclass_8': 0.6495187922443765, 'train_accuracy_pixelclass_9': 0.7985126608529945, 'train_accuracy_pixelclass_10': 0.23712042605312006, 'train_accuracy_pixelclass_11': 0.005940107903976239, 'train_accuracy_pixelclass_12': 6.354710883350203e-05, 'train_IoU_class_0': 0.5098234629137642, 'train_IoU_class_1': 0.02585691899989975, 'train_IoU_class_2': 0.4772369707025648, 'train_IoU_class_3': 0.04995823924273827, 'train_IoU_class_4': 0.6267663113695532, 'train_IoU_class_5': 0.2602676380848147, 'train_IoU_class_6': 0.6366854437803146, 'train_IoU_class_7': 0.19598779644402695, 'train_IoU_class_8': 0.468278644334259, 'train_IoU_class_9': 0.4907632796850837, 'train_IoU_class_10': 0.19198662210280565, 'train_IoU_class_11': 0.005494982320411385, 'train_IoU_class_12': 6.190362489940661e-05}\n"
          ]
        },
        {
          "name": "stderr",
          "output_type": "stream",
          "text": [
            "Validation Loss:1.219: 100%|██████████| 26/26 [00:24<00:00,  1.08it/s]\n"
          ]
        },
        {
          "name": "stdout",
          "output_type": "stream",
          "text": [
            "Epoch:24 {'validation_loss': 1.2194136381149292, 'validation_average_accuracy': 0.42547928438331845, 'validation_mIoU': 0.3115353385925034, 'validation_accuracy_pixelclass_0': 0.6685672217862997, 'validation_accuracy_pixelclass_1': 0.019750081473032425, 'validation_accuracy_pixelclass_2': 0.7917198572506567, 'validation_accuracy_pixelclass_3': 0.004209727014431562, 'validation_accuracy_pixelclass_4': 0.7866468945862345, 'validation_accuracy_pixelclass_5': 0.3922319021549573, 'validation_accuracy_pixelclass_6': 0.8548774855146152, 'validation_accuracy_pixelclass_7': 0.28206631587990855, 'validation_accuracy_pixelclass_8': 0.8602429659720985, 'validation_accuracy_pixelclass_9': 0.7258855727393897, 'validation_accuracy_pixelclass_10': 0.14499313250686632, 'validation_accuracy_pixelclass_11': 3.9540104649476975e-05, 'validation_accuracy_pixelclass_12': 0.0, 'train_IoU_class_0': 0.5074655009462663, 'train_IoU_class_1': 0.019026903352592762, 'train_IoU_class_2': 0.48094159681424115, 'train_IoU_class_3': 0.004204920048175298, 'train_IoU_class_4': 0.683210988455682, 'train_IoU_class_5': 0.36583660594732065, 'train_IoU_class_6': 0.6332529555836344, 'train_IoU_class_7': 0.24087933700903652, 'train_IoU_class_8': 0.5069970114014619, 'train_IoU_class_9': 0.48899641630979684, 'train_IoU_class_10': 0.11910959288018286, 'train_IoU_class_11': 3.757295415264639e-05, 'train_IoU_class_12': 0.0}\n"
          ]
        },
        {
          "name": "stderr",
          "output_type": "stream",
          "text": [
            "Epoch:25, Training Loss:1.2: 100%|██████████| 104/104 [04:48<00:00,  2.78s/it]\n"
          ]
        },
        {
          "name": "stdout",
          "output_type": "stream",
          "text": [
            "{'train_loss': 1.2027891874313354, 'train_average_accuracy': 0.4132846374856056, 'train_mIoU': 0.31204314650353354, 'train_accuracy_pixelclass_0': 0.6519272338444663, 'train_accuracy_pixelclass_1': 0.028019877649964088, 'train_accuracy_pixelclass_2': 0.7737334299982097, 'train_accuracy_pixelclass_3': 0.05046592574893609, 'train_accuracy_pixelclass_4': 0.7135030161245004, 'train_accuracy_pixelclass_5': 0.3497356343976412, 'train_accuracy_pixelclass_6': 0.8646576899969783, 'train_accuracy_pixelclass_7': 0.21394543449726222, 'train_accuracy_pixelclass_8': 0.663215878747792, 'train_accuracy_pixelclass_9': 0.7869335253273867, 'train_accuracy_pixelclass_10': 0.27414715794730504, 'train_accuracy_pixelclass_11': 0.002338318685990647, 'train_accuracy_pixelclass_12': 7.716434644068104e-05, 'train_IoU_class_0': 0.5265817842028608, 'train_IoU_class_1': 0.026874722706171344, 'train_IoU_class_2': 0.48671280399411565, 'train_IoU_class_3': 0.05037146278862008, 'train_IoU_class_4': 0.6248003490895473, 'train_IoU_class_5': 0.32726133123709034, 'train_IoU_class_6': 0.6454986968574044, 'train_IoU_class_7': 0.18752166486846947, 'train_IoU_class_8': 0.4715739799784433, 'train_IoU_class_9': 0.4921893172079062, 'train_IoU_class_10': 0.2149667866698122, 'train_IoU_class_11': 0.002132372749313782, 'train_IoU_class_12': 7.563219618101899e-05}\n"
          ]
        },
        {
          "name": "stderr",
          "output_type": "stream",
          "text": [
            "Validation Loss:1.201: 100%|██████████| 26/26 [00:24<00:00,  1.06it/s]\n"
          ]
        },
        {
          "name": "stdout",
          "output_type": "stream",
          "text": [
            "Epoch:25 {'validation_loss': 1.2014323472976685, 'validation_average_accuracy': 0.4427950466821936, 'validation_mIoU': 0.3273391946928644, 'validation_accuracy_pixelclass_0': 0.7686957768695777, 'validation_accuracy_pixelclass_1': 0.03980161316604204, 'validation_accuracy_pixelclass_2': 0.7903056969243076, 'validation_accuracy_pixelclass_3': 0.01290454475286107, 'validation_accuracy_pixelclass_4': 0.8067665311197871, 'validation_accuracy_pixelclass_5': 0.44685254449910683, 'validation_accuracy_pixelclass_6': 0.8665510340479551, 'validation_accuracy_pixelclass_7': 0.27149749570811244, 'validation_accuracy_pixelclass_8': 0.8210679572939046, 'validation_accuracy_pixelclass_9': 0.7262012437864606, 'validation_accuracy_pixelclass_10': 0.20301562161912073, 'validation_accuracy_pixelclass_11': 0.002675547081281275, 'validation_accuracy_pixelclass_12': 0.0, 'train_IoU_class_0': 0.5247870354283697, 'train_IoU_class_1': 0.03700014958353293, 'train_IoU_class_2': 0.4805458735483218, 'train_IoU_class_3': 0.012887446302307074, 'train_IoU_class_4': 0.686374662556195, 'train_IoU_class_5': 0.40371276958753194, 'train_IoU_class_6': 0.6433773900724314, 'train_IoU_class_7': 0.22690689949246765, 'train_IoU_class_8': 0.5819365038070038, 'train_IoU_class_9': 0.49160820614139145, 'train_IoU_class_10': 0.1637491730763069, 'train_IoU_class_11': 0.0025234214113756996, 'train_IoU_class_12': 0.0}\n"
          ]
        },
        {
          "name": "stderr",
          "output_type": "stream",
          "text": [
            "Epoch:26, Training Loss:1.186: 100%|██████████| 104/104 [04:54<00:00,  2.83s/it]\n"
          ]
        },
        {
          "name": "stdout",
          "output_type": "stream",
          "text": [
            "{'train_loss': 1.1865674257278442, 'train_average_accuracy': 0.42154665967977095, 'train_mIoU': 0.3191607429584308, 'train_accuracy_pixelclass_0': 0.6675159943483989, 'train_accuracy_pixelclass_1': 0.03426148501109391, 'train_accuracy_pixelclass_2': 0.7749607126380176, 'train_accuracy_pixelclass_3': 0.03421567551161424, 'train_accuracy_pixelclass_4': 0.7301369658140736, 'train_accuracy_pixelclass_5': 0.37659941455441975, 'train_accuracy_pixelclass_6': 0.861616561460134, 'train_accuracy_pixelclass_7': 0.23489113007777768, 'train_accuracy_pixelclass_8': 0.6965803552334168, 'train_accuracy_pixelclass_9': 0.7871972136582851, 'train_accuracy_pixelclass_10': 0.2784064645233522, 'train_accuracy_pixelclass_11': 0.003624743263985501, 'train_accuracy_pixelclass_12': 9.985974245264606e-05, 'train_IoU_class_0': 0.5317531886996698, 'train_IoU_class_1': 0.0328290111794678, 'train_IoU_class_2': 0.48624269857254476, 'train_IoU_class_3': 0.03418252010281078, 'train_IoU_class_4': 0.6332497844582533, 'train_IoU_class_5': 0.35465866081726605, 'train_IoU_class_6': 0.6456717158521074, 'train_IoU_class_7': 0.2054522417193769, 'train_IoU_class_8': 0.5038313835252642, 'train_IoU_class_9': 0.49446574414404904, 'train_IoU_class_10': 0.22330485170488132, 'train_IoU_class_11': 0.003349493656527501, 'train_IoU_class_12': 9.836402738096835e-05}\n"
          ]
        },
        {
          "name": "stderr",
          "output_type": "stream",
          "text": [
            "Validation Loss:1.198: 100%|██████████| 26/26 [00:22<00:00,  1.16it/s]\n"
          ]
        },
        {
          "name": "stdout",
          "output_type": "stream",
          "text": [
            "Epoch:26 {'validation_loss': 1.1984233856201172, 'validation_average_accuracy': 0.4389397860519469, 'validation_mIoU': 0.3331074703257227, 'validation_accuracy_pixelclass_0': 0.5845277443682674, 'validation_accuracy_pixelclass_1': 0.04589885123024279, 'validation_accuracy_pixelclass_2': 0.8578364623580875, 'validation_accuracy_pixelclass_3': 0.019763604427514677, 'validation_accuracy_pixelclass_4': 0.8050828148954822, 'validation_accuracy_pixelclass_5': 0.4085111466962653, 'validation_accuracy_pixelclass_6': 0.828142862058852, 'validation_accuracy_pixelclass_7': 0.2884789007944702, 'validation_accuracy_pixelclass_8': 0.7890553903310848, 'validation_accuracy_pixelclass_9': 0.6765359188989735, 'validation_accuracy_pixelclass_10': 0.40112702595720795, 'validation_accuracy_pixelclass_11': 0.0012564966588611572, 'validation_accuracy_pixelclass_12': 0.0, 'train_IoU_class_0': 0.48488313550852663, 'train_IoU_class_1': 0.04159433411134091, 'train_IoU_class_2': 0.476575286657531, 'train_IoU_class_3': 0.019729279466888797, 'train_IoU_class_4': 0.6677567623836902, 'train_IoU_class_5': 0.3926156535846638, 'train_IoU_class_6': 0.6592656894927202, 'train_IoU_class_7': 0.2453352594969201, 'train_IoU_class_8': 0.6223889522785833, 'train_IoU_class_9': 0.46618474201629545, 'train_IoU_class_10': 0.25293333274397045, 'train_IoU_class_11': 0.0011346864932632948, 'train_IoU_class_12': 0.0}\n"
          ]
        },
        {
          "name": "stderr",
          "output_type": "stream",
          "text": [
            "Epoch:27, Training Loss:1.171: 100%|██████████| 104/104 [05:06<00:00,  2.94s/it]\n"
          ]
        },
        {
          "name": "stdout",
          "output_type": "stream",
          "text": [
            "{'train_loss': 1.1685242652893066, 'train_average_accuracy': 0.4333011079198483, 'train_mIoU': 0.3307103387565374, 'train_accuracy_pixelclass_0': 0.6873286045471934, 'train_accuracy_pixelclass_1': 0.04237054266399592, 'train_accuracy_pixelclass_2': 0.77936991366069, 'train_accuracy_pixelclass_3': 0.04199208281402362, 'train_accuracy_pixelclass_4': 0.7345345857534297, 'train_accuracy_pixelclass_5': 0.37835777300842627, 'train_accuracy_pixelclass_6': 0.8632732451876698, 'train_accuracy_pixelclass_7': 0.2544153125776633, 'train_accuracy_pixelclass_8': 0.6986006305193107, 'train_accuracy_pixelclass_9': 0.769820358871375, 'train_accuracy_pixelclass_10': 0.3822975949826093, 'train_accuracy_pixelclass_11': 0.0004720549459981118, 'train_accuracy_pixelclass_12': 8.170342564307405e-05, 'train_IoU_class_0': 0.5519567748782047, 'train_IoU_class_1': 0.04024476836657558, 'train_IoU_class_2': 0.49842208559542434, 'train_IoU_class_3': 0.04192564204401851, 'train_IoU_class_4': 0.6381104551919359, 'train_IoU_class_5': 0.3561719921088731, 'train_IoU_class_6': 0.6466989838934907, 'train_IoU_class_7': 0.2228778315595412, 'train_IoU_class_8': 0.5132301206161891, 'train_IoU_class_9': 0.49644349663906306, 'train_IoU_class_10': 0.2926480505973885, 'train_IoU_class_11': 0.0004234439330690017, 'train_IoU_class_12': 8.075841121285674e-05}\n"
          ]
        },
        {
          "name": "stderr",
          "output_type": "stream",
          "text": [
            "Validation Loss:1.162: 100%|██████████| 26/26 [00:24<00:00,  1.05it/s]\n"
          ]
        },
        {
          "name": "stdout",
          "output_type": "stream",
          "text": [
            "Epoch:27 {'validation_loss': 1.1624267101287842, 'validation_average_accuracy': 0.42112286635205354, 'validation_mIoU': 0.3312243014882394, 'validation_accuracy_pixelclass_0': 0.6073949973592181, 'validation_accuracy_pixelclass_1': 0.047755417956656346, 'validation_accuracy_pixelclass_2': 0.736617721873292, 'validation_accuracy_pixelclass_3': 0.0004839725804500111, 'validation_accuracy_pixelclass_4': 0.8149572699082066, 'validation_accuracy_pixelclass_5': 0.3777505429305338, 'validation_accuracy_pixelclass_6': 0.8179487122821983, 'validation_accuracy_pixelclass_7': 0.28107906870185284, 'validation_accuracy_pixelclass_8': 0.7397145812419668, 'validation_accuracy_pixelclass_9': 0.8307225403407242, 'validation_accuracy_pixelclass_10': 0.2201724374015967, 'validation_accuracy_pixelclass_11': 0.0, 'validation_accuracy_pixelclass_12': 0.0, 'train_IoU_class_0': 0.5184292274911909, 'train_IoU_class_1': 0.0447702911329198, 'train_IoU_class_2': 0.5059185047933199, 'train_IoU_class_3': 0.00048392210522802743, 'train_IoU_class_4': 0.6888094655242758, 'train_IoU_class_5': 0.36174154701250577, 'train_IoU_class_6': 0.651543850525313, 'train_IoU_class_7': 0.2413158139920081, 'train_IoU_class_8': 0.619809300330607, 'train_IoU_class_9': 0.4992583909191917, 'train_IoU_class_10': 0.17383560552055152, 'train_IoU_class_11': 0.0, 'train_IoU_class_12': 0.0}\n"
          ]
        },
        {
          "name": "stderr",
          "output_type": "stream",
          "text": [
            "Epoch:28, Training Loss:1.156: 100%|██████████| 104/104 [05:00<00:00,  2.89s/it]\n"
          ]
        },
        {
          "name": "stdout",
          "output_type": "stream",
          "text": [
            "{'train_loss': 1.1537752151489258, 'train_average_accuracy': 0.43767153658978386, 'train_mIoU': 0.33569025966707233, 'train_accuracy_pixelclass_0': 0.6876238336147356, 'train_accuracy_pixelclass_1': 0.039913929405595266, 'train_accuracy_pixelclass_2': 0.7618590089846508, 'train_accuracy_pixelclass_3': 0.021428064034923443, 'train_accuracy_pixelclass_4': 0.7357472724096443, 'train_accuracy_pixelclass_5': 0.4515405986612002, 'train_accuracy_pixelclass_6': 0.8604762862147511, 'train_accuracy_pixelclass_7': 0.2663605443092374, 'train_accuracy_pixelclass_8': 0.727647952280171, 'train_accuracy_pixelclass_9': 0.7755083149953799, 'train_accuracy_pixelclass_10': 0.3537012617576933, 'train_accuracy_pixelclass_11': 0.007850283731968598, 'train_accuracy_pixelclass_12': 7.262526723828803e-05, 'train_IoU_class_0': 0.5533138461202459, 'train_IoU_class_1': 0.037929493560089324, 'train_IoU_class_2': 0.4946504804365169, 'train_IoU_class_3': 0.02140498000258031, 'train_IoU_class_4': 0.64862704041958, 'train_IoU_class_5': 0.4183052955939381, 'train_IoU_class_6': 0.6529080946230953, 'train_IoU_class_7': 0.22996036138420828, 'train_IoU_class_8': 0.5343737624497489, 'train_IoU_class_9': 0.5001537260499407, 'train_IoU_class_10': 0.26519663315440745, 'train_IoU_class_11': 0.007077604411760736, 'train_IoU_class_12': 7.205746582899863e-05}\n"
          ]
        },
        {
          "name": "stderr",
          "output_type": "stream",
          "text": [
            "Validation Loss:1.157: 100%|██████████| 26/26 [00:22<00:00,  1.14it/s]\n"
          ]
        },
        {
          "name": "stdout",
          "output_type": "stream",
          "text": [
            "Epoch:28 {'validation_loss': 1.156866431236267, 'validation_average_accuracy': 0.44398504665055355, 'validation_mIoU': 0.33996066745040704, 'validation_accuracy_pixelclass_0': 0.6447416123614852, 'validation_accuracy_pixelclass_1': 0.03688589701808701, 'validation_accuracy_pixelclass_2': 0.8029381060180536, 'validation_accuracy_pixelclass_3': 0.01265421410780072, 'validation_accuracy_pixelclass_4': 0.790558831593622, 'validation_accuracy_pixelclass_5': 0.4244165544192715, 'validation_accuracy_pixelclass_6': 0.843173313490153, 'validation_accuracy_pixelclass_7': 0.2584198619059749, 'validation_accuracy_pixelclass_8': 0.833770956665322, 'validation_accuracy_pixelclass_9': 0.691814367195003, 'validation_accuracy_pixelclass_10': 0.4236979218998491, 'validation_accuracy_pixelclass_11': 0.008733969782573358, 'validation_accuracy_pixelclass_12': 0.0, 'train_IoU_class_0': 0.5146703297146225, 'train_IoU_class_1': 0.03487804384816943, 'train_IoU_class_2': 0.49776273304741964, 'train_IoU_class_3': 0.012646194258552755, 'train_IoU_class_4': 0.7051205362217173, 'train_IoU_class_5': 0.3973071261581089, 'train_IoU_class_6': 0.6620727985229286, 'train_IoU_class_7': 0.2342873735993441, 'train_IoU_class_8': 0.6238961738707693, 'train_IoU_class_9': 0.47663911263313014, 'train_IoU_class_10': 0.252564717576025, 'train_IoU_class_11': 0.007643537404503843, 'train_IoU_class_12': 0.0}\n"
          ]
        },
        {
          "name": "stderr",
          "output_type": "stream",
          "text": [
            "Epoch:29, Training Loss:1.138:  85%|████████▍ | 88/104 [04:18<00:46,  2.94s/it]\n"
          ]
        },
        {
          "ename": "RasterioIOError",
          "evalue": "Caught RasterioIOError in DataLoader worker process 0.\nOriginal Traceback (most recent call last):\n  File \"rasterio/_io.pyx\", line 975, in rasterio._io.DatasetReaderBase._read\n  File \"rasterio/_io.pyx\", line 213, in rasterio._io.io_multi_band\n  File \"rasterio/_err.pyx\", line 195, in rasterio._err.exc_wrap_int\nrasterio._err.CPLE_AppDefinedError: /content/drive/MyDrive/MVA/flair1_fullset_13classes/train/mask_58.tif, band 1: IReadBlock failed at X offset 0, Y offset 1: TIFFReadEncodedStrip() failed.\n\nDuring handling of the above exception, another exception occurred:\n\nTraceback (most recent call last):\n  File \"/usr/local/lib/python3.10/dist-packages/torch/utils/data/_utils/worker.py\", line 308, in _worker_loop\n    data = fetcher.fetch(index)\n  File \"/usr/local/lib/python3.10/dist-packages/torch/utils/data/_utils/fetch.py\", line 51, in fetch\n    data = [self.dataset[idx] for idx in possibly_batched_index]\n  File \"/usr/local/lib/python3.10/dist-packages/torch/utils/data/_utils/fetch.py\", line 51, in <listcomp>\n    data = [self.dataset[idx] for idx in possibly_batched_index]\n  File \"/content/LandCover_map_Transformers_SSL/src/utils_B.py\", line 283, in __getitem__\n    label = rasterio.open(mask_path).read()\n  File \"rasterio/_io.pyx\", line 651, in rasterio._io.DatasetReaderBase.read\n  File \"rasterio/_io.pyx\", line 978, in rasterio._io.DatasetReaderBase._read\nrasterio.errors.RasterioIOError: Read or write failed. /content/drive/MyDrive/MVA/flair1_fullset_13classes/train/mask_58.tif, band 1: IReadBlock failed at X offset 0, Y offset 1: TIFFReadEncodedStrip() failed.\n",
          "output_type": "error",
          "traceback": [
            "\u001b[0;31m---------------------------------------------------------------------------\u001b[0m",
            "\u001b[0;31mRasterioIOError\u001b[0m                           Traceback (most recent call last)",
            "\u001b[0;32m<ipython-input-75-d1ab903e3a93>\u001b[0m in \u001b[0;36m<cell line: 14>\u001b[0;34m()\u001b[0m\n\u001b[1;32m     23\u001b[0m     \u001b[0mmetrics\u001b[0m \u001b[0;34m=\u001b[0m \u001b[0mPixelwiseMetrics\u001b[0m\u001b[0;34m(\u001b[0m\u001b[0mdata_config\u001b[0m\u001b[0;34m[\u001b[0m\u001b[0;34m'num_classes'\u001b[0m\u001b[0;34m]\u001b[0m\u001b[0;34m)\u001b[0m\u001b[0;34m\u001b[0m\u001b[0;34m\u001b[0m\u001b[0m\n\u001b[1;32m     24\u001b[0m \u001b[0;34m\u001b[0m\u001b[0m\n\u001b[0;32m---> 25\u001b[0;31m     \u001b[0;32mfor\u001b[0m \u001b[0midx\u001b[0m\u001b[0;34m,\u001b[0m \u001b[0;34m(\u001b[0m\u001b[0mimg\u001b[0m\u001b[0;34m,\u001b[0m \u001b[0my\u001b[0m\u001b[0;34m)\u001b[0m \u001b[0;32min\u001b[0m \u001b[0menumerate\u001b[0m\u001b[0;34m(\u001b[0m\u001b[0mpbar\u001b[0m\u001b[0;34m)\u001b[0m\u001b[0;34m:\u001b[0m\u001b[0;34m\u001b[0m\u001b[0;34m\u001b[0m\u001b[0m\n\u001b[0m\u001b[1;32m     26\u001b[0m         \u001b[0;31m# load target\u001b[0m\u001b[0;34m\u001b[0m\u001b[0;34m\u001b[0m\u001b[0m\n\u001b[1;32m     27\u001b[0m         \u001b[0my\u001b[0m \u001b[0;34m=\u001b[0m \u001b[0my\u001b[0m\u001b[0;34m.\u001b[0m\u001b[0mto\u001b[0m\u001b[0;34m(\u001b[0m\u001b[0mdevice\u001b[0m\u001b[0;34m)\u001b[0m\u001b[0;34m\u001b[0m\u001b[0;34m\u001b[0m\u001b[0m\n",
            "\u001b[0;32m/usr/local/lib/python3.10/dist-packages/tqdm/std.py\u001b[0m in \u001b[0;36m__iter__\u001b[0;34m(self)\u001b[0m\n\u001b[1;32m   1180\u001b[0m \u001b[0;34m\u001b[0m\u001b[0m\n\u001b[1;32m   1181\u001b[0m         \u001b[0;32mtry\u001b[0m\u001b[0;34m:\u001b[0m\u001b[0;34m\u001b[0m\u001b[0;34m\u001b[0m\u001b[0m\n\u001b[0;32m-> 1182\u001b[0;31m             \u001b[0;32mfor\u001b[0m \u001b[0mobj\u001b[0m \u001b[0;32min\u001b[0m \u001b[0miterable\u001b[0m\u001b[0;34m:\u001b[0m\u001b[0;34m\u001b[0m\u001b[0;34m\u001b[0m\u001b[0m\n\u001b[0m\u001b[1;32m   1183\u001b[0m                 \u001b[0;32myield\u001b[0m \u001b[0mobj\u001b[0m\u001b[0;34m\u001b[0m\u001b[0;34m\u001b[0m\u001b[0m\n\u001b[1;32m   1184\u001b[0m                 \u001b[0;31m# Update and possibly print the progressbar.\u001b[0m\u001b[0;34m\u001b[0m\u001b[0;34m\u001b[0m\u001b[0m\n",
            "\u001b[0;32m/usr/local/lib/python3.10/dist-packages/torch/utils/data/dataloader.py\u001b[0m in \u001b[0;36m__next__\u001b[0;34m(self)\u001b[0m\n\u001b[1;32m    628\u001b[0m                 \u001b[0;31m# TODO(https://github.com/pytorch/pytorch/issues/76750)\u001b[0m\u001b[0;34m\u001b[0m\u001b[0;34m\u001b[0m\u001b[0m\n\u001b[1;32m    629\u001b[0m                 \u001b[0mself\u001b[0m\u001b[0;34m.\u001b[0m\u001b[0m_reset\u001b[0m\u001b[0;34m(\u001b[0m\u001b[0;34m)\u001b[0m  \u001b[0;31m# type: ignore[call-arg]\u001b[0m\u001b[0;34m\u001b[0m\u001b[0;34m\u001b[0m\u001b[0m\n\u001b[0;32m--> 630\u001b[0;31m             \u001b[0mdata\u001b[0m \u001b[0;34m=\u001b[0m \u001b[0mself\u001b[0m\u001b[0;34m.\u001b[0m\u001b[0m_next_data\u001b[0m\u001b[0;34m(\u001b[0m\u001b[0;34m)\u001b[0m\u001b[0;34m\u001b[0m\u001b[0;34m\u001b[0m\u001b[0m\n\u001b[0m\u001b[1;32m    631\u001b[0m             \u001b[0mself\u001b[0m\u001b[0;34m.\u001b[0m\u001b[0m_num_yielded\u001b[0m \u001b[0;34m+=\u001b[0m \u001b[0;36m1\u001b[0m\u001b[0;34m\u001b[0m\u001b[0;34m\u001b[0m\u001b[0m\n\u001b[1;32m    632\u001b[0m             \u001b[0;32mif\u001b[0m \u001b[0mself\u001b[0m\u001b[0;34m.\u001b[0m\u001b[0m_dataset_kind\u001b[0m \u001b[0;34m==\u001b[0m \u001b[0m_DatasetKind\u001b[0m\u001b[0;34m.\u001b[0m\u001b[0mIterable\u001b[0m \u001b[0;32mand\u001b[0m\u001b[0;31m \u001b[0m\u001b[0;31m\\\u001b[0m\u001b[0;34m\u001b[0m\u001b[0;34m\u001b[0m\u001b[0m\n",
            "\u001b[0;32m/usr/local/lib/python3.10/dist-packages/torch/utils/data/dataloader.py\u001b[0m in \u001b[0;36m_next_data\u001b[0;34m(self)\u001b[0m\n\u001b[1;32m   1343\u001b[0m             \u001b[0;32melse\u001b[0m\u001b[0;34m:\u001b[0m\u001b[0;34m\u001b[0m\u001b[0;34m\u001b[0m\u001b[0m\n\u001b[1;32m   1344\u001b[0m                 \u001b[0;32mdel\u001b[0m \u001b[0mself\u001b[0m\u001b[0;34m.\u001b[0m\u001b[0m_task_info\u001b[0m\u001b[0;34m[\u001b[0m\u001b[0midx\u001b[0m\u001b[0;34m]\u001b[0m\u001b[0;34m\u001b[0m\u001b[0;34m\u001b[0m\u001b[0m\n\u001b[0;32m-> 1345\u001b[0;31m                 \u001b[0;32mreturn\u001b[0m \u001b[0mself\u001b[0m\u001b[0;34m.\u001b[0m\u001b[0m_process_data\u001b[0m\u001b[0;34m(\u001b[0m\u001b[0mdata\u001b[0m\u001b[0;34m)\u001b[0m\u001b[0;34m\u001b[0m\u001b[0;34m\u001b[0m\u001b[0m\n\u001b[0m\u001b[1;32m   1346\u001b[0m \u001b[0;34m\u001b[0m\u001b[0m\n\u001b[1;32m   1347\u001b[0m     \u001b[0;32mdef\u001b[0m \u001b[0m_try_put_index\u001b[0m\u001b[0;34m(\u001b[0m\u001b[0mself\u001b[0m\u001b[0;34m)\u001b[0m\u001b[0;34m:\u001b[0m\u001b[0;34m\u001b[0m\u001b[0;34m\u001b[0m\u001b[0m\n",
            "\u001b[0;32m/usr/local/lib/python3.10/dist-packages/torch/utils/data/dataloader.py\u001b[0m in \u001b[0;36m_process_data\u001b[0;34m(self, data)\u001b[0m\n\u001b[1;32m   1369\u001b[0m         \u001b[0mself\u001b[0m\u001b[0;34m.\u001b[0m\u001b[0m_try_put_index\u001b[0m\u001b[0;34m(\u001b[0m\u001b[0;34m)\u001b[0m\u001b[0;34m\u001b[0m\u001b[0;34m\u001b[0m\u001b[0m\n\u001b[1;32m   1370\u001b[0m         \u001b[0;32mif\u001b[0m \u001b[0misinstance\u001b[0m\u001b[0;34m(\u001b[0m\u001b[0mdata\u001b[0m\u001b[0;34m,\u001b[0m \u001b[0mExceptionWrapper\u001b[0m\u001b[0;34m)\u001b[0m\u001b[0;34m:\u001b[0m\u001b[0;34m\u001b[0m\u001b[0;34m\u001b[0m\u001b[0m\n\u001b[0;32m-> 1371\u001b[0;31m             \u001b[0mdata\u001b[0m\u001b[0;34m.\u001b[0m\u001b[0mreraise\u001b[0m\u001b[0;34m(\u001b[0m\u001b[0;34m)\u001b[0m\u001b[0;34m\u001b[0m\u001b[0;34m\u001b[0m\u001b[0m\n\u001b[0m\u001b[1;32m   1372\u001b[0m         \u001b[0;32mreturn\u001b[0m \u001b[0mdata\u001b[0m\u001b[0;34m\u001b[0m\u001b[0;34m\u001b[0m\u001b[0m\n\u001b[1;32m   1373\u001b[0m \u001b[0;34m\u001b[0m\u001b[0m\n",
            "\u001b[0;32m/usr/local/lib/python3.10/dist-packages/torch/_utils.py\u001b[0m in \u001b[0;36mreraise\u001b[0;34m(self)\u001b[0m\n\u001b[1;32m    692\u001b[0m             \u001b[0;31m# instantiate since we don't know how to\u001b[0m\u001b[0;34m\u001b[0m\u001b[0;34m\u001b[0m\u001b[0m\n\u001b[1;32m    693\u001b[0m             \u001b[0;32mraise\u001b[0m \u001b[0mRuntimeError\u001b[0m\u001b[0;34m(\u001b[0m\u001b[0mmsg\u001b[0m\u001b[0;34m)\u001b[0m \u001b[0;32mfrom\u001b[0m \u001b[0;32mNone\u001b[0m\u001b[0;34m\u001b[0m\u001b[0;34m\u001b[0m\u001b[0m\n\u001b[0;32m--> 694\u001b[0;31m         \u001b[0;32mraise\u001b[0m \u001b[0mexception\u001b[0m\u001b[0;34m\u001b[0m\u001b[0;34m\u001b[0m\u001b[0m\n\u001b[0m\u001b[1;32m    695\u001b[0m \u001b[0;34m\u001b[0m\u001b[0m\n\u001b[1;32m    696\u001b[0m \u001b[0;34m\u001b[0m\u001b[0m\n",
            "\u001b[0;31mRasterioIOError\u001b[0m: Caught RasterioIOError in DataLoader worker process 0.\nOriginal Traceback (most recent call last):\n  File \"rasterio/_io.pyx\", line 975, in rasterio._io.DatasetReaderBase._read\n  File \"rasterio/_io.pyx\", line 213, in rasterio._io.io_multi_band\n  File \"rasterio/_err.pyx\", line 195, in rasterio._err.exc_wrap_int\nrasterio._err.CPLE_AppDefinedError: /content/drive/MyDrive/MVA/flair1_fullset_13classes/train/mask_58.tif, band 1: IReadBlock failed at X offset 0, Y offset 1: TIFFReadEncodedStrip() failed.\n\nDuring handling of the above exception, another exception occurred:\n\nTraceback (most recent call last):\n  File \"/usr/local/lib/python3.10/dist-packages/torch/utils/data/_utils/worker.py\", line 308, in _worker_loop\n    data = fetcher.fetch(index)\n  File \"/usr/local/lib/python3.10/dist-packages/torch/utils/data/_utils/fetch.py\", line 51, in fetch\n    data = [self.dataset[idx] for idx in possibly_batched_index]\n  File \"/usr/local/lib/python3.10/dist-packages/torch/utils/data/_utils/fetch.py\", line 51, in <listcomp>\n    data = [self.dataset[idx] for idx in possibly_batched_index]\n  File \"/content/LandCover_map_Transformers_SSL/src/utils_B.py\", line 283, in __getitem__\n    label = rasterio.open(mask_path).read()\n  File \"rasterio/_io.pyx\", line 651, in rasterio._io.DatasetReaderBase.read\n  File \"rasterio/_io.pyx\", line 978, in rasterio._io.DatasetReaderBase._read\nrasterio.errors.RasterioIOError: Read or write failed. /content/drive/MyDrive/MVA/flair1_fullset_13classes/train/mask_58.tif, band 1: IReadBlock failed at X offset 0, Y offset 1: TIFFReadEncodedStrip() failed.\n"
          ]
        }
      ],
      "source": [
        "step = 0\n",
        "\n",
        "#Training loop\n",
        "train_losses = []\n",
        "val_losses = []\n",
        "patience = 3\n",
        "best_loss = float('inf')\n",
        "patience_counter = 0\n",
        "# Restaurer les poids du modèle et l'état de l'optimiseur\n",
        "# model.load_state_dict(torch.load(\"checkpoints/segmentation-epoch-6.pth\"))\n",
        "\n",
        "# Restaurer le numéro de l'époque\n",
        "#start_epoch = 6 + 1\n",
        "for epoch in range(train_config['epochs']):\n",
        "    # Model Training\n",
        "    model.train()\n",
        "    step += 1\n",
        "\n",
        "    pbar = tqdm(train_loader)\n",
        "\n",
        "    # track performance\n",
        "    epoch_losses = torch.Tensor()\n",
        "    metrics = PixelwiseMetrics(data_config['num_classes'])\n",
        "\n",
        "    for idx, (img, y) in enumerate(pbar):\n",
        "        # load target\n",
        "        y = y.to(device)\n",
        "        # model output\n",
        "        y_hat = model(img)\n",
        "\n",
        "        # loss computation\n",
        "        loss = criterion(y_hat, y)\n",
        "\n",
        "        # backward step\n",
        "        optimizer.zero_grad()\n",
        "        loss.backward()\n",
        "        optimizer.step()\n",
        "\n",
        "        # get prediction\n",
        "        _, pred = torch.max(y_hat, dim=1)\n",
        "\n",
        "        epoch_losses = torch.cat([epoch_losses, loss[None].detach().cpu()])\n",
        "        metrics.add_batch(y, pred)\n",
        "\n",
        "        pbar.set_description(f\"Epoch:{epoch}, Training Loss:{epoch_losses[-100:].mean():.4}\")\n",
        "\n",
        "    mean_loss = epoch_losses.mean()\n",
        "    train_losses.append(mean_loss)\n",
        "    train_stats = {\n",
        "            \"train_loss\": mean_loss.item(),\n",
        "            \"train_average_accuracy\": metrics.get_average_accuracy(),\n",
        "            \"train_mIoU\": metrics.get_mIoU(),\n",
        "            **{\n",
        "                \"train_accuracy_\" + k: v\n",
        "                for k, v in metrics.get_classwise_accuracy().items()\n",
        "            },\n",
        "            **{\n",
        "                \"train_IoU_\" + k: v\n",
        "                for k, v in metrics.get_IoU().items()\n",
        "            },\n",
        "        }\n",
        "    print(train_stats)\n",
        "\n",
        "    # Model Validation\n",
        "    model.eval()\n",
        "    pbar = tqdm(val_loader)\n",
        "\n",
        "    # track performance\n",
        "    epoch_losses = torch.Tensor()\n",
        "    metrics = PixelwiseMetrics(data_config['num_classes'])\n",
        "\n",
        "    with torch.no_grad():\n",
        "        for idx, (img, y) in enumerate(pbar):\n",
        "            y = y.to(device)\n",
        "            # model output\n",
        "            y_hat = model(img)\n",
        "\n",
        "            # loss computation\n",
        "            loss = criterion(y_hat, y)\n",
        "\n",
        "            # get prediction\n",
        "            _, pred = torch.max(y_hat, dim=1)\n",
        "\n",
        "            epoch_losses = torch.cat([epoch_losses, loss[None].detach().cpu()])\n",
        "            metrics.add_batch(y, pred)\n",
        "\n",
        "\n",
        "            pbar.set_description(f\"Validation Loss:{epoch_losses[-100:].mean():.4}\")\n",
        "\n",
        "        mean_loss = epoch_losses.mean()\n",
        "        val_losses.append(mean_loss)\n",
        "        val_stats = {\n",
        "            \"validation_loss\": mean_loss.item(),\n",
        "            \"validation_average_accuracy\": metrics.get_average_accuracy(),\n",
        "            \"validation_mIoU\": metrics.get_mIoU(),\n",
        "            **{\n",
        "                \"validation_accuracy_\" + k: v\n",
        "                for k, v in metrics.get_classwise_accuracy().items()\n",
        "            },\n",
        "            **{\n",
        "            \"train_IoU_\" + k: v\n",
        "            for k, v in metrics.get_IoU().items()\n",
        "        },\n",
        "        }\n",
        "\n",
        "        print(f\"Epoch:{epoch}\", val_stats)\n",
        "\n",
        "        # Save model checkpoint every 2 epochs\n",
        "        if epoch % 2 == 0:\n",
        "            if epoch == 0:\n",
        "                continue\n",
        "\n",
        "            save_weights_path = (\n",
        "                \"checkpoints/\" + \"-\".join([\"segmentation\", \"epoch\", str(epoch)]) + \".pth\"\n",
        "            )\n",
        "            torch.save(model.state_dict(), save_weights_path)\n",
        "        val_loss = val_stats[\"validation_loss\"]\n",
        "        if val_loss < best_loss:\n",
        "            best_loss = val_loss\n",
        "            patience_counter = 0\n",
        "            # Enregistrez les meilleurs poids ici si désiré\n",
        "        else:\n",
        "            patience_counter += 1\n",
        "            if patience_counter >= patience:\n",
        "                print(f\"Early stopping triggered after {epoch} epochs.\")\n",
        "                torch.save(model.state_dict(), '../../drive/MyDrive/MVA/swin-t_SSL_finetune_'+str(epoch)+'.pth')\n",
        "                break\n",
        "plt.plot(train_losses, label='Training loss')\n",
        "plt.plot(val_losses, label='Validation loss')\n",
        "plt.legend(frameon=False)\n",
        "plt.show()"
      ]
    },
    {
      "cell_type": "code",
      "execution_count": 76,
      "metadata": {
        "id": "N62ZV3Gmfg0z"
      },
      "outputs": [],
      "source": [
        "torch.save(optimizer.state_dict(), 'checkpoints/optimizer_epoch_28.pth')"
      ]
    },
    {
      "cell_type": "markdown",
      "metadata": {
        "id": "ahcf-TVfChJ9"
      },
      "source": [
        "You can evaluate the model on one example by creating a model's instance, loading checkpoint's weights of the classifier saved during training, running it, and displaying the results:"
      ]
    },
    {
      "cell_type": "code",
      "execution_count": 77,
      "metadata": {
        "id": "IqCN_PUlq1BD"
      },
      "outputs": [],
      "source": [
        "def test(model, test_ld):\n",
        "    model.eval()\n",
        "    pbar = tqdm(test_ld)\n",
        "\n",
        "    epoch_losses = torch.Tensor()\n",
        "    metrics = PixelwiseMetrics(data_config['num_classes'])\n",
        "    all_preds = []\n",
        "    all_gts = []\n",
        "    with torch.no_grad():\n",
        "        for idx, (img, y) in enumerate(pbar):\n",
        "            y = y.to(device)\n",
        "            # model output\n",
        "            y_hat = model(img)\n",
        "\n",
        "            # loss computation\n",
        "            loss = criterion(y_hat, y)\n",
        "\n",
        "            # get prediction\n",
        "            _, pred = torch.max(y_hat, dim=1)\n",
        "            all_gts.append(y.cpu().numpy())\n",
        "            all_preds.append(pred.cpu().numpy())\n",
        "            epoch_losses = torch.cat([epoch_losses, loss[None].detach().cpu()])\n",
        "            metrics.add_batch(y, pred)\n",
        "\n",
        "\n",
        "            pbar.set_description(f\"Validation Loss:{epoch_losses[-100:].mean():.4}\")\n",
        "\n",
        "        mean_loss = epoch_losses.mean()\n",
        "        test_stats = {\n",
        "            \"test_loss\": mean_loss.item(),\n",
        "            \"test_average_accuracy\": metrics.get_average_accuracy(),\n",
        "            \"test_mIoU\": metrics.get_mIoU(),\n",
        "            **{\n",
        "                \"test_accuracy_\" + k: v\n",
        "                for k, v in metrics.get_classwise_accuracy().items()\n",
        "            },\n",
        "            **{\n",
        "                \"train_IoU_\" + k: v\n",
        "                for k, v in metrics.get_IoU().items()\n",
        "            },\n",
        "        }\n",
        "        print(\"Test stats:\")\n",
        "\n",
        "        # Loss\n",
        "        print(f\"  Loss: {test_stats['test_loss']:.4f}\")\n",
        "\n",
        "        # Average accuracy and mIoU\n",
        "        print(f\"  Average Accuracy: {test_stats['test_average_accuracy']:.4f}\")\n",
        "        print(f\"  Mean IoU: {test_stats['test_mIoU']:.4f}\")\n",
        "\n",
        "        # Accuracy per class\n",
        "        print(\"  Accuracy by Class:\")\n",
        "        for i in range(data_config['num_classes']):\n",
        "            print(f\"    Class {i}: {test_stats[f'test_accuracy_pixelclass_{i}']:.4f}\")\n",
        "\n",
        "        # IoU per class\n",
        "        print(\"  IoU by Class:\")\n",
        "        for i in range(data_config['num_classes']):\n",
        "            print(f\"    Class {i}: {test_stats[f'train_IoU_class_{i}']:.4f}\")\n",
        "        all_preds = np.concatenate(all_preds)\n",
        "        all_gts = np.concatenate(all_gts)\n",
        "\n",
        "        # Calculer la matrice de confusion\n",
        "        conf_matrix = confusion_matrix(all_gts.flatten(), all_preds.flatten(), labels=np.arange(data_config['num_classes']))\n",
        "        # Normalisation par lignes\n",
        "        conf_matrix_normalized = conf_matrix.astype('float') / conf_matrix.sum(axis=1)[:, np.newaxis]\n",
        "\n",
        "        sns.set(font_scale=0.8)\n",
        "\n",
        "        # Tracer la matrice de confusion\n",
        "        plt.figure(figsize=(10, 10))\n",
        "        ax = sns.heatmap(conf_matrix_normalized, annot=True, fmt='.2f', cmap='Blues', xticklabels=list(dict_classes_13.values()), yticklabels=list(dict_classes_13.values()))\n",
        "        ax.set_xticklabels(ax.get_xticklabels(), rotation=90)\n",
        "        #sns.set(font_scale=1.2)\n",
        "        plt.xlabel('Predicted Labels')\n",
        "        plt.ylabel('True Labels')\n",
        "        plt.title('Confusion Matrix')\n",
        "        plt.show()\n",
        "    return"
      ]
    },
    {
      "cell_type": "code",
      "execution_count": 84,
      "metadata": {
        "colab": {
          "base_uri": "https://localhost:8080/",
          "height": 1000
        },
        "id": "YMVwzyf3ChJ-",
        "outputId": "9c5091f2-c627-4549-fbfe-7eedc6f54de2"
      },
      "outputs": [
        {
          "name": "stderr",
          "output_type": "stream",
          "text": [
            "\r  0%|          | 0/33 [00:00<?, ?it/s]/usr/local/lib/python3.10/dist-packages/torch/utils/data/dataloader.py:557: UserWarning: This DataLoader will create 4 worker processes in total. Our suggested max number of worker in current system is 2, which is smaller than what this DataLoader is going to create. Please be aware that excessive worker creation might get DataLoader running slow or even freeze, lower the worker number to avoid potential slowness/freeze if necessary.\n",
            "  warnings.warn(_create_warning_msg(\n",
            "Validation Loss:1.173: 100%|██████████| 33/33 [00:54<00:00,  1.66s/it]\n"
          ]
        },
        {
          "name": "stdout",
          "output_type": "stream",
          "text": [
            "Test stats:\n",
            "  Loss: 1.1734\n",
            "  Average Accuracy: 0.4118\n",
            "  Mean IoU: 0.3100\n",
            "  Accuracy by Class:\n",
            "    Class 0: 0.6540\n",
            "    Class 1: 0.0289\n",
            "    Class 2: 0.7955\n",
            "    Class 3: 0.0054\n",
            "    Class 4: 0.7245\n",
            "    Class 5: 0.3067\n",
            "    Class 6: 0.8384\n",
            "    Class 7: 0.1870\n",
            "    Class 8: 0.7410\n",
            "    Class 9: 0.6916\n",
            "    Class 10: 0.3766\n",
            "    Class 11: 0.0038\n",
            "    Class 12: 0.0000\n",
            "  IoU by Class:\n",
            "    Class 0: 0.5138\n",
            "    Class 1: 0.0277\n",
            "    Class 2: 0.5229\n",
            "    Class 3: 0.0054\n",
            "    Class 4: 0.6379\n",
            "    Class 5: 0.2873\n",
            "    Class 6: 0.6488\n",
            "    Class 7: 0.1583\n",
            "    Class 8: 0.5237\n",
            "    Class 9: 0.4562\n",
            "    Class 10: 0.2450\n",
            "    Class 11: 0.0034\n",
            "    Class 12: 0.0000\n"
          ]
        },
        {
          "data": {
            "image/png": "[encoded data removed]",
            "text/plain": [
              "<Figure size 1000x1000 with 2 Axes>"
            ]
          },
          "metadata": {},
          "output_type": "display_data"
        }
      ],
      "source": [
        "# create a new model's instance\n",
        "model = DoubleSwinTransformerSegmentation(\n",
        "        s1_backbone, s2_backbone, out_dim=data_config['num_classes'], device=device)\n",
        "\n",
        "model = model.to(device)\n",
        "\n",
        "# load checkpoints weights\n",
        "model.load_state_dict(torch.load(\"checkpoints/segmentation-epoch-28.pth\"))\n",
        "\n",
        "test(model, test_loader)"
      ]
    }
  ],
  "metadata": {
    "accelerator": "GPU",
    "colab": {
      "gpuType": "T4",
      "provenance": []
    },
    "kernelspec": {
      "display_name": "Python 3",
      "name": "python3"
    },
    "language_info": {
      "codemirror_mode": {
        "name": "ipython",
        "version": 3
      },
      "file_extension": ".py",
      "mimetype": "text/x-python",
      "name": "python",
      "nbconvert_exporter": "python",
      "pygments_lexer": "ipython3",
      "version": "3.6.13"
    }
  },
  "nbformat": 4,
  "nbformat_minor": 0
}
