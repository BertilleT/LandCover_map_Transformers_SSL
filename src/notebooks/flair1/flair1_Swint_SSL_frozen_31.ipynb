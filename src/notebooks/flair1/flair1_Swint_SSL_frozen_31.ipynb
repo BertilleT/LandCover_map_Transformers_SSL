{
  "cells": [
    {
      "cell_type": "markdown",
      "metadata": {
        "id": "ZwZVnpaWChJt"
      },
      "source": [
        "# Self-supervised Vision Transformer for Land Cover Segmentation\n",
        "### Pre-trained model with Swin Transformer and Sentinel-1/2, segmentation head trained with Flair1\n"
      ]
    },
    {
      "cell_type": "code",
      "execution_count": 92,
      "metadata": {
        "colab": {
          "base_uri": "https://localhost:8080/"
        },
        "id": "j_DK22QTC9im",
        "outputId": "193e377f-4506-4dc2-a993-8e611a4a54ab"
      },
      "outputs": [
        {
          "name": "stdout",
          "output_type": "stream",
          "text": [
            "Drive already mounted at /content/drive; to attempt to forcibly remount, call drive.mount(\"/content/drive\", force_remount=True).\n"
          ]
        }
      ],
      "source": [
        "from google.colab import drive\n",
        "drive.mount('/content/drive')"
      ]
    },
    {
      "cell_type": "code",
      "execution_count": 93,
      "metadata": {
        "colab": {
          "base_uri": "https://localhost:8080/"
        },
        "id": "psu86KKMDIa_",
        "outputId": "baa4ae3d-00bb-428e-db26-336bfc7c073a"
      },
      "outputs": [
        {
          "name": "stdout",
          "output_type": "stream",
          "text": [
            "Cloning into 'LandCover_map_Transformers_SSL'...\n",
            "remote: Enumerating objects: 8612, done.\u001b[K\n",
            "remote: Counting objects: 100% (195/195), done.\u001b[K\n",
            "remote: Compressing objects: 100% (139/139), done.\u001b[K\n",
            "remote: Total 8612 (delta 64), reused 179 (delta 49), pack-reused 8417\u001b[K\n",
            "Receiving objects: 100% (8612/8612), 423.77 MiB | 23.85 MiB/s, done.\n",
            "Resolving deltas: 100% (499/499), done.\n"
          ]
        }
      ],
      "source": [
        "!git clone https://github.com/BertilleT/LandCover_map_Transformers_SSL.git"
      ]
    },
    {
      "cell_type": "code",
      "execution_count": 1,
      "metadata": {
        "colab": {
          "base_uri": "https://localhost:8080/"
        },
        "id": "K5MJ9w1sDahB",
        "outputId": "f3be404f-4ba4-4119-84e1-3509492946a7"
      },
      "outputs": [
        {
          "name": "stdout",
          "output_type": "stream",
          "text": [
            "/content/LandCover_map_Transformers_SSL/src\n"
          ]
        }
      ],
      "source": [
        "cd LandCover_map_Transformers_SSL/src"
      ]
    },
    {
      "cell_type": "markdown",
      "metadata": {
        "id": "LbFX7YbsChJx"
      },
      "source": [
        "## Content\n",
        "\n",
        "1. [Installation](#installation)\n",
        "1. [Dataset](#dataset)\n",
        "1. [Quick Start](#quickstart)"
      ]
    },
    {
      "cell_type": "code",
      "execution_count": 2,
      "metadata": {
        "colab": {
          "base_uri": "https://localhost:8080/"
        },
        "id": "Bw95MlAaD5Yp",
        "outputId": "f378ae0c-84b9-4226-b2b5-b76628f59b76"
      },
      "outputs": [
        {
          "name": "stdout",
          "output_type": "stream",
          "text": [
            "Requirement already satisfied: wandb in /usr/local/lib/python3.10/dist-packages (0.16.1)\n",
            "Requirement already satisfied: Click!=8.0.0,>=7.1 in /usr/local/lib/python3.10/dist-packages (from wandb) (8.1.7)\n",
            "Requirement already satisfied: GitPython!=3.1.29,>=1.0.0 in /usr/local/lib/python3.10/dist-packages (from wandb) (3.1.40)\n",
            "Requirement already satisfied: requests<3,>=2.0.0 in /usr/local/lib/python3.10/dist-packages (from wandb) (2.31.0)\n",
            "Requirement already satisfied: psutil>=5.0.0 in /usr/local/lib/python3.10/dist-packages (from wandb) (5.9.5)\n",
            "Requirement already satisfied: sentry-sdk>=1.0.0 in /usr/local/lib/python3.10/dist-packages (from wandb) (1.39.1)\n",
            "Requirement already satisfied: docker-pycreds>=0.4.0 in /usr/local/lib/python3.10/dist-packages (from wandb) (0.4.0)\n",
            "Requirement already satisfied: PyYAML in /usr/local/lib/python3.10/dist-packages (from wandb) (6.0.1)\n",
            "Requirement already satisfied: setproctitle in /usr/local/lib/python3.10/dist-packages (from wandb) (1.3.3)\n",
            "Requirement already satisfied: setuptools in /usr/local/lib/python3.10/dist-packages (from wandb) (67.7.2)\n",
            "Requirement already satisfied: appdirs>=1.4.3 in /usr/local/lib/python3.10/dist-packages (from wandb) (1.4.4)\n",
            "Requirement already satisfied: protobuf!=4.21.0,<5,>=3.19.0 in /usr/local/lib/python3.10/dist-packages (from wandb) (3.20.3)\n",
            "Requirement already satisfied: six>=1.4.0 in /usr/local/lib/python3.10/dist-packages (from docker-pycreds>=0.4.0->wandb) (1.16.0)\n",
            "Requirement already satisfied: gitdb<5,>=4.0.1 in /usr/local/lib/python3.10/dist-packages (from GitPython!=3.1.29,>=1.0.0->wandb) (4.0.11)\n",
            "Requirement already satisfied: charset-normalizer<4,>=2 in /usr/local/lib/python3.10/dist-packages (from requests<3,>=2.0.0->wandb) (3.3.2)\n",
            "Requirement already satisfied: idna<4,>=2.5 in /usr/local/lib/python3.10/dist-packages (from requests<3,>=2.0.0->wandb) (3.6)\n",
            "Requirement already satisfied: urllib3<3,>=1.21.1 in /usr/local/lib/python3.10/dist-packages (from requests<3,>=2.0.0->wandb) (2.0.7)\n",
            "Requirement already satisfied: certifi>=2017.4.17 in /usr/local/lib/python3.10/dist-packages (from requests<3,>=2.0.0->wandb) (2023.11.17)\n",
            "Requirement already satisfied: smmap<6,>=3.0.1 in /usr/local/lib/python3.10/dist-packages (from gitdb<5,>=4.0.1->GitPython!=3.1.29,>=1.0.0->wandb) (5.0.1)\n",
            "Requirement already satisfied: rasterio in /usr/local/lib/python3.10/dist-packages (1.3.9)\n",
            "Requirement already satisfied: affine in /usr/local/lib/python3.10/dist-packages (from rasterio) (2.4.0)\n",
            "Requirement already satisfied: attrs in /usr/local/lib/python3.10/dist-packages (from rasterio) (23.1.0)\n",
            "Requirement already satisfied: certifi in /usr/local/lib/python3.10/dist-packages (from rasterio) (2023.11.17)\n",
            "Requirement already satisfied: click>=4.0 in /usr/local/lib/python3.10/dist-packages (from rasterio) (8.1.7)\n",
            "Requirement already satisfied: cligj>=0.5 in /usr/local/lib/python3.10/dist-packages (from rasterio) (0.7.2)\n",
            "Requirement already satisfied: numpy in /usr/local/lib/python3.10/dist-packages (from rasterio) (1.23.5)\n",
            "Requirement already satisfied: snuggs>=1.4.1 in /usr/local/lib/python3.10/dist-packages (from rasterio) (1.4.7)\n",
            "Requirement already satisfied: click-plugins in /usr/local/lib/python3.10/dist-packages (from rasterio) (1.1.1)\n",
            "Requirement already satisfied: setuptools in /usr/local/lib/python3.10/dist-packages (from rasterio) (67.7.2)\n",
            "Requirement already satisfied: pyparsing>=2.1.6 in /usr/local/lib/python3.10/dist-packages (from snuggs>=1.4.1->rasterio) (3.1.1)\n",
            "Requirement already satisfied: timm in /usr/local/lib/python3.10/dist-packages (0.9.12)\n",
            "Requirement already satisfied: torch>=1.7 in /usr/local/lib/python3.10/dist-packages (from timm) (2.1.0+cu121)\n",
            "Requirement already satisfied: torchvision in /usr/local/lib/python3.10/dist-packages (from timm) (0.16.0+cu121)\n",
            "Requirement already satisfied: pyyaml in /usr/local/lib/python3.10/dist-packages (from timm) (6.0.1)\n",
            "Requirement already satisfied: huggingface-hub in /usr/local/lib/python3.10/dist-packages (from timm) (0.20.1)\n",
            "Requirement already satisfied: safetensors in /usr/local/lib/python3.10/dist-packages (from timm) (0.4.1)\n",
            "Requirement already satisfied: filelock in /usr/local/lib/python3.10/dist-packages (from torch>=1.7->timm) (3.13.1)\n",
            "Requirement already satisfied: typing-extensions in /usr/local/lib/python3.10/dist-packages (from torch>=1.7->timm) (4.5.0)\n",
            "Requirement already satisfied: sympy in /usr/local/lib/python3.10/dist-packages (from torch>=1.7->timm) (1.12)\n",
            "Requirement already satisfied: networkx in /usr/local/lib/python3.10/dist-packages (from torch>=1.7->timm) (3.2.1)\n",
            "Requirement already satisfied: jinja2 in /usr/local/lib/python3.10/dist-packages (from torch>=1.7->timm) (3.1.2)\n",
            "Requirement already satisfied: fsspec in /usr/local/lib/python3.10/dist-packages (from torch>=1.7->timm) (2023.6.0)\n",
            "Requirement already satisfied: triton==2.1.0 in /usr/local/lib/python3.10/dist-packages (from torch>=1.7->timm) (2.1.0)\n",
            "Requirement already satisfied: requests in /usr/local/lib/python3.10/dist-packages (from huggingface-hub->timm) (2.31.0)\n",
            "Requirement already satisfied: tqdm>=4.42.1 in /usr/local/lib/python3.10/dist-packages (from huggingface-hub->timm) (4.66.1)\n",
            "Requirement already satisfied: packaging>=20.9 in /usr/local/lib/python3.10/dist-packages (from huggingface-hub->timm) (23.2)\n",
            "Requirement already satisfied: numpy in /usr/local/lib/python3.10/dist-packages (from torchvision->timm) (1.23.5)\n",
            "Requirement already satisfied: pillow!=8.3.*,>=5.3.0 in /usr/local/lib/python3.10/dist-packages (from torchvision->timm) (9.4.0)\n",
            "Requirement already satisfied: MarkupSafe>=2.0 in /usr/local/lib/python3.10/dist-packages (from jinja2->torch>=1.7->timm) (2.1.3)\n",
            "Requirement already satisfied: charset-normalizer<4,>=2 in /usr/local/lib/python3.10/dist-packages (from requests->huggingface-hub->timm) (3.3.2)\n",
            "Requirement already satisfied: idna<4,>=2.5 in /usr/local/lib/python3.10/dist-packages (from requests->huggingface-hub->timm) (3.6)\n",
            "Requirement already satisfied: urllib3<3,>=1.21.1 in /usr/local/lib/python3.10/dist-packages (from requests->huggingface-hub->timm) (2.0.7)\n",
            "Requirement already satisfied: certifi>=2017.4.17 in /usr/local/lib/python3.10/dist-packages (from requests->huggingface-hub->timm) (2023.11.17)\n",
            "Requirement already satisfied: mpmath>=0.19 in /usr/local/lib/python3.10/dist-packages (from sympy->torch>=1.7->timm) (1.3.0)\n",
            "Requirement already satisfied: einops in /usr/local/lib/python3.10/dist-packages (0.7.0)\n",
            "Requirement already satisfied: diffdist in /usr/local/lib/python3.10/dist-packages (0.1)\n"
          ]
        }
      ],
      "source": [
        "!pip install wandb\n",
        "!pip install rasterio\n",
        "!pip install timm\n",
        "!pip install einops\n",
        "!pip install diffdist"
      ]
    },
    {
      "cell_type": "code",
      "execution_count": 3,
      "metadata": {
        "id": "vLkB5HpsChJy"
      },
      "outputs": [],
      "source": [
        "# Import needed packages\n",
        "import json\n",
        "import random\n",
        "import numpy as np\n",
        "import torch\n",
        "from tqdm import tqdm\n",
        "import numpy as np\n",
        "import torch.nn as nn\n",
        "import matplotlib.pyplot as plt\n",
        "from sklearn.metrics import confusion_matrix\n",
        "import matplotlib.pyplot as plt\n",
        "import seaborn as sns\n",
        "\n",
        "from ...tools.utils_Flair1 import *\n",
        "from ...tools.metrics import PixelwiseMetrics\n",
        "from ...Transformer_SSL.models import build_model\n",
        "from ...Transformer_SSL.models.swin_transformer import SwinTransformerDecoder"
      ]
    },
    {
      "cell_type": "code",
      "execution_count": 4,
      "metadata": {
        "id": "64p9p3SyugNf"
      },
      "outputs": [],
      "source": [
        "import importlib\n",
        "import utils_B\n",
        "importlib.reload(utils_B)\n",
        "from utils_B import *"
      ]
    },
    {
      "cell_type": "markdown",
      "metadata": {
        "id": "FB8Ln4Q6ChJ1"
      },
      "source": [
        "### Quick Start\n",
        "You can specify in the some hyperparameters in train_config (cell below), such as the learning_rate, the batch_size, number of epochs, or if you wish to fine-tune the model or not (with the finetuning argument), etc."
      ]
    },
    {
      "cell_type": "code",
      "execution_count": 5,
      "metadata": {
        "id": "tGctZOdHChJ1"
      },
      "outputs": [],
      "source": [
        "# Data configurations:\n",
        "data_config = {\n",
        "    'train_dir': '../../drive/MyDrive/MVA/flair1_fullset_13classes/train', # path to the training directory,\n",
        "    'val_dir': '../../drive/MyDrive/MVA/flair1_fullset_13classes/val', # path to the validation directory,\n",
        "    'test_dir': '../../drive/MyDrive/MVA/flair1_fullset_13classes/test', # path to the validation directory,\n",
        "    'train_mode': 'validation', # can be one of the following: 'test', 'validation'\n",
        "    'val_mode': 'test', # can be one of the following: 'test', 'validation'\n",
        "    'num_classes': 13, # number of classes in the dataset.\n",
        "    'clip_sample_values': True, # clip (limit) values\n",
        "    'train_used_data_fraction': 1, # fraction of data to use, should be in the range [0, 1]\n",
        "    'val_used_data_fraction': 1,\n",
        "    'image_px_size': 224, # image size (224x224)\n",
        "    'cover_all_parts_train': True, # if True, if image_px_size is not 224 during training, we use a random crop of the image\n",
        "    'cover_all_parts_validation': True, # if True, if image_px_size is not 224 during validation, we use a non-overlapping sliding window to cover the entire image\n",
        "    'seed': 42,\n",
        "}"
      ]
    },
    {
      "cell_type": "code",
      "execution_count": 6,
      "metadata": {
        "id": "zpgubM7VChJ2"
      },
      "outputs": [],
      "source": [
        "# Ensure deterministic behavior\n",
        "random.seed(data_config['seed'])\n",
        "np.random.seed(data_config['seed'])\n",
        "torch.manual_seed(data_config['seed'])\n",
        "torch.cuda.manual_seed_all(data_config['seed'])"
      ]
    },
    {
      "cell_type": "markdown",
      "metadata": {
        "id": "sfriqPvoChJ2"
      },
      "source": [
        "#### Prepare\n",
        "\n",
        "We create the `train_dataset` and `val_dataset` by using the `DFCDataset`, a custom class of `torch.utils.data.Dataset`"
      ]
    },
    {
      "cell_type": "code",
      "execution_count": 7,
      "metadata": {
        "id": "iwpueZvTChJ3"
      },
      "outputs": [],
      "source": [
        "#from dfc_dataset import DFCDataset\n",
        "size = 224\n",
        "multimodal = True\n",
        "train_dataset = Flair1Dataset_SSL(data_config['train_dir'], size, multimodal)\n",
        "val_dataset = Flair1Dataset_SSL(data_config['val_dir'], size, multimodal)\n",
        "test_dataset = Flair1Dataset_SSL(data_config['test_dir'], size, multimodal)"
      ]
    },
    {
      "cell_type": "markdown",
      "metadata": {
        "id": "wDu1b8JiChJ3"
      },
      "source": [
        "We can see how many examples are in each split by checking their length:"
      ]
    },
    {
      "cell_type": "code",
      "execution_count": 8,
      "metadata": {
        "colab": {
          "base_uri": "https://localhost:8080/"
        },
        "id": "5sTRJYtGChJ4",
        "outputId": "b116986a-4b4d-4fad-97af-cf51a0d66958"
      },
      "outputs": [
        {
          "data": {
            "text/plain": [
              "(1664, 416)"
            ]
          },
          "execution_count": 8,
          "metadata": {},
          "output_type": "execute_result"
        }
      ],
      "source": [
        "len(train_dataset), len(val_dataset)"
      ]
    },
    {
      "cell_type": "code",
      "execution_count": 9,
      "metadata": {
        "colab": {
          "base_uri": "https://localhost:8080/"
        },
        "id": "FPnUbixCChJ4",
        "outputId": "aaadacac-609c-4327-9776-2bea78f760b9"
      },
      "outputs": [
        {
          "name": "stdout",
          "output_type": "stream",
          "text": [
            "torch.Size([3, 224, 224])\n",
            "torch.Size([2, 224, 224])\n"
          ]
        }
      ],
      "source": [
        "#loop on train_ds and check shape of rgb and ir_el\n",
        "rgb = train_dataset[0][0]['rgb']\n",
        "ir_el = train_dataset[0][0]['ir_el']\n",
        "print(rgb.shape)\n",
        "print(ir_el.shape)"
      ]
    },
    {
      "cell_type": "markdown",
      "metadata": {
        "id": "J0rW0IIBChJ4"
      },
      "source": [
        "We define a correspondance of label and names:"
      ]
    },
    {
      "cell_type": "code",
      "execution_count": 10,
      "metadata": {
        "id": "fGzvWHplChJ4"
      },
      "outputs": [],
      "source": [
        "dict_classes_13 = {\n",
        "1   : 'building',\n",
        "2   : 'pervious surface',\n",
        "3   : 'impervious surface',\n",
        "4   : 'bare soil',\n",
        "5   : 'water',\n",
        "6   : 'coniferous',\n",
        "7   : 'deciduous',\n",
        "8   : 'brushwood',\n",
        "9   : 'vineyard',\n",
        "10  : 'herbaceous vegetation',\n",
        "11  : 'agricultural land',\n",
        "12  : 'plowed land',\n",
        "13  : 'other'}"
      ]
    },
    {
      "cell_type": "markdown",
      "metadata": {
        "id": "v-9pqkDzChJ5"
      },
      "source": [
        "Our data is now ready to be used by the model. In the next section we load and configure the model."
      ]
    },
    {
      "cell_type": "markdown",
      "metadata": {
        "id": "sWtNgCbYChJ5"
      },
      "source": [
        "<a id='quickstart'></a>\n",
        "## 3. Quick Start\n",
        "\n",
        "#### Configure\n",
        "\n",
        "You can specify in the some hyperparameters in `train_config` (cell below), such as the `learning_rate`, the `batch_size`, number of `epochs`, or if you wish to fine-tune the model or not (with the `finetuning` argument), etc."
      ]
    },
    {
      "cell_type": "code",
      "execution_count": 11,
      "metadata": {
        "id": "YG5GPOngChJ5"
      },
      "outputs": [],
      "source": [
        "# Training configurations\n",
        "train_config = {\n",
        "    's1_input_channels': 2,\n",
        "    's2_input_channels': 13,\n",
        "    'finetuning': False, # If false, backbone layers is frozen and only the head is trained\n",
        "    'classifier_lr': 3e-6,\n",
        "    'learning_rate': 0.00001,\n",
        "    'adam_betas': (0.9, 0.999),\n",
        "    'weight_decay': 0.001,\n",
        "    'dataloader_workers': 4,\n",
        "    'batch_size': 16,\n",
        "    'epochs': 60,\n",
        "    'target': 'dfc_label'\n",
        "}"
      ]
    },
    {
      "cell_type": "markdown",
      "metadata": {
        "id": "v4rdvUUFChJ5"
      },
      "source": [
        "#### Download checkpoint\n",
        "\n",
        "You can download the pre-trained backbone model using this [link](https://drive.google.com/file/d/1e7QhC2-zoBFgb65yN1ADWBZLMShHOweY/view), save it in the `checkpoints/` directory then run the following cell.\n",
        "\n",
        "Make sure to properly modify the path to the downloaded checkpoint in the path below.\n",
        "\n",
        "In the case where you are using a uni-modal dataset (Sentinel-2 only or Sentinel-1 only), you can load the corresponding weight stream `s1_weights` or `s2_weights`, and comment the other one."
      ]
    },
    {
      "cell_type": "code",
      "execution_count": 12,
      "metadata": {
        "id": "NBf_uadVChJ5"
      },
      "outputs": [],
      "source": [
        "# path to the checkpoint\n",
        "checkpoint = torch.load(\n",
        "    \"../../drive/MyDrive/MVA/swin_t.pth\",#, map_location=torch.device('cpu') #comment map_location if using GPU\n",
        ")\n",
        "weights = checkpoint[\"state_dict\"]\n",
        "\n",
        "# Sentinel-1 stream weights\n",
        "s1_weights = {\n",
        "    k[len(\"backbone1.\"):]: v for k, v in weights.items() if \"backbone1\" in k\n",
        "}\n",
        "\n",
        "# Sentinel-2 stream weights\n",
        "s2_weights = {\n",
        "    k[len(\"backbone2.\"):]: v for k, v in weights.items() if \"backbone2\" in k\n",
        "}"
      ]
    },
    {
      "cell_type": "markdown",
      "metadata": {
        "id": "Uab4GR9aChJ6"
      },
      "source": [
        "#### Prepare model and load checkpoint\n",
        "\n",
        "We prepare the model by specifying the `input_channels`: only sentinel1, only sentinel2 or both. We also specify if we need both backbones `s1_backbone` and `s2_backbone` depending on our application. In the case where only one stream is needed, just comment the lines `s1_backbone` or `s2_backbone`."
      ]
    },
    {
      "cell_type": "code",
      "execution_count": 13,
      "metadata": {
        "id": "qi3F8OOOChJ6"
      },
      "outputs": [],
      "source": [
        "class dotdict(dict):\n",
        "    \"\"\"dot.notation access to dictionary attributes\"\"\"\n",
        "\n",
        "    __getattr__ = dict.get\n",
        "    __setattr__ = dict.__setitem__\n",
        "    __delattr__ = dict.__delitem__\n",
        "\n",
        "def dotdictify(d):\n",
        "    \"\"\"recursively wrap a dictionary and\n",
        "    all the dictionaries that it contains\n",
        "    with the dotdict class\n",
        "    \"\"\"\n",
        "    d = dotdict(d)\n",
        "    for k, v in d.items():\n",
        "        if isinstance(v, dict):\n",
        "            d[k] = dotdictify(v)\n",
        "    return d"
      ]
    },
    {
      "cell_type": "code",
      "execution_count": 14,
      "metadata": {
        "colab": {
          "base_uri": "https://localhost:8080/"
        },
        "id": "xU2D5n_xChJ6",
        "outputId": "59c86690-7dc2-4efd-bcb7-43c9eca61c94"
      },
      "outputs": [
        {
          "name": "stderr",
          "output_type": "stream",
          "text": [
            "/usr/local/lib/python3.10/dist-packages/torch/functional.py:504: UserWarning: torch.meshgrid: in an upcoming release, it will be required to pass the indexing argument. (Triggered internally at ../aten/src/ATen/native/TensorShape.cpp:3526.)\n",
            "  return _VF.meshgrid(tensors, **kwargs)  # type: ignore[attr-defined]\n"
          ]
        },
        {
          "data": {
            "text/plain": [
              "<All keys matched successfully>"
            ]
          },
          "execution_count": 14,
          "metadata": {},
          "output_type": "execute_result"
        }
      ],
      "source": [
        "#from utils_SSL import save_checkpoint_single_model, dotdictify\n",
        "\n",
        "if torch.cuda.is_available():\n",
        "    device = torch.device(\"cuda\")\n",
        "else:\n",
        "    device = torch.device(\"cpu:0\")\n",
        "\n",
        "# Input channel size\n",
        "# input_channels = 3#train_config['s1_input_channels'] + train_config['s2_input_channels']\n",
        "\n",
        "# If you are using a uni-modal dataset, you can un-comment one of these lines, and comment the one above:\n",
        "# input_channels = train_config['s1_input_channels']\n",
        "# input_channels = train_config['s2_input_channels']\n",
        "\n",
        "with open(\"configs/backbone_config.json\", \"r\") as fp:\n",
        "    swin_conf = dotdictify(json.load(fp))\n",
        "\n",
        "s1_backbone = build_model(swin_conf.model_config)\n",
        "\n",
        "swin_conf.model_config.MODEL.SWIN.IN_CHANS = 13\n",
        "s2_backbone = build_model(swin_conf.model_config)\n",
        "\n",
        "s1_backbone.load_state_dict(s1_weights)\n",
        "s2_backbone.load_state_dict(s2_weights)"
      ]
    },
    {
      "cell_type": "markdown",
      "metadata": {
        "id": "2I93RUQ4ChJ7"
      },
      "source": [
        "We create the downstream model head that will be trained. In this demo, we will train a classifier. You can find a segmentation head in the repository (/TransformerSSL/models/swin_transformer/DoubleSwinTransformerSegmentation). Our classifier takes as input the pre-trained backbone (in the form of two streams `encoder1` and `encoder2`), the `out_dim` (number of classes), and `freeze_layers` flag, specifying whether you wish to freeze the backbone weights or not."
      ]
    },
    {
      "cell_type": "code",
      "execution_count": 26,
      "metadata": {
        "id": "s1qCJdwJChJ7"
      },
      "outputs": [],
      "source": [
        "class DoubleSwinTransformerSegmentation(nn.Module):\n",
        "    def __init__(self, encoder1, encoder2, out_dim, device, freeze_layers=False):\n",
        "        super(DoubleSwinTransformerSegmentation, self).__init__()\n",
        "\n",
        "        self.device = device\n",
        "\n",
        "        self.backbone1 = encoder1\n",
        "        self.backbone2 = encoder2\n",
        "\n",
        "        self.decoder1 = SwinTransformerDecoder(self.backbone1, out_dim, device)\n",
        "        self.decoder2 = SwinTransformerDecoder(self.backbone2, out_dim, device)\n",
        "\n",
        "        # freeze all backbone layers\n",
        "        if freeze_layers:\n",
        "            for name, param in self.named_parameters():\n",
        "                if name.startswith(('backbone')):\n",
        "                    param.requires_grad = False\n",
        "\n",
        "        self.expand_channels = torch.nn.Conv2d(3, 13, kernel_size=1, stride=1, padding=0)\n",
        "\n",
        "    def forward(self, x):\n",
        "        expanded_rgb = self.expand_channels(x[\"rgb\"].to(self.device))\n",
        "        _, x2, x_seg2 = self.backbone2.forward_features(expanded_rgb)\n",
        "\n",
        "        _, x1, x_seg1 = self.backbone1.forward_features(x[\"ir_el\"].to(self.device))\n",
        "\n",
        "        x1 = self.decoder1.forward_up_features(x1, x_seg1)\n",
        "        x2 = self.decoder2.forward_up_features(x2, x_seg2)\n",
        "\n",
        "        x = torch.cat([x1, x2], dim=-1)\n",
        "\n",
        "        output = self.decoder1.up_x4(x)\n",
        "\n",
        "        return output"
      ]
    },
    {
      "cell_type": "code",
      "execution_count": 27,
      "metadata": {
        "id": "K2LOU6AaChJ7"
      },
      "outputs": [],
      "source": [
        "model = DoubleSwinTransformerSegmentation(\n",
        "        s1_backbone, s2_backbone, out_dim=data_config['num_classes'], device=device\n",
        "    )\n",
        "\n",
        "model = model.to(device)"
      ]
    },
    {
      "cell_type": "markdown",
      "metadata": {
        "id": "BFA80ExNChJ7"
      },
      "source": [
        "Define and initialise the loss for training. Here we are training for single-class classification and using a `torch.nn.CrossEntropyLoss` loss."
      ]
    },
    {
      "cell_type": "code",
      "execution_count": 28,
      "metadata": {
        "id": "fkuesPWXChJ8"
      },
      "outputs": [],
      "source": [
        "criterion = torch.nn.CrossEntropyLoss(ignore_index=255, reduction=\"mean\").to(device)"
      ]
    },
    {
      "cell_type": "markdown",
      "metadata": {
        "id": "Exy91QPfChJ8"
      },
      "source": [
        "Define the trainable parameters (needed for the optimizer):"
      ]
    },
    {
      "cell_type": "code",
      "execution_count": 29,
      "metadata": {
        "colab": {
          "base_uri": "https://localhost:8080/"
        },
        "id": "X6unpRvlChJ8",
        "outputId": "36f89a9d-ceb9-4ba5-cf0e-785ffa520c8a"
      },
      "outputs": [
        {
          "name": "stdout",
          "output_type": "stream",
          "text": [
            "Frozen backbone\n"
          ]
        }
      ],
      "source": [
        "if train_config['finetuning']:\n",
        "    # train all parameters (backbone + classifier head)\n",
        "    param_backbone = []\n",
        "    param_head = []\n",
        "    for p in model.parameters():\n",
        "        if p.requires_grad:\n",
        "            param_head.append(p)\n",
        "        else:\n",
        "            param_backbone.append(p)\n",
        "        p.requires_grad = True\n",
        "    # parameters = model.parameters()\n",
        "    parameters = [\n",
        "        {\"params\": param_backbone},  # train with default lr\n",
        "        {\n",
        "            \"params\": param_head,\n",
        "            \"lr\": train_config['classifier_lr'],\n",
        "        },  # train with classifier lr\n",
        "    ]\n",
        "    print(\"Finetuning\")\n",
        "\n",
        "else:\n",
        "    # train only final linear layer for SSL methods\n",
        "    print(\"Frozen backbone\")\n",
        "    parameters = list(filter(lambda p: p.requires_grad, model.parameters()))"
      ]
    },
    {
      "cell_type": "markdown",
      "metadata": {
        "id": "xa-UGs7-ChJ8"
      },
      "source": [
        "Initialise the selected optimizer. In this work we chose Adam optimizer. You can initialise any optimizer you want."
      ]
    },
    {
      "cell_type": "code",
      "execution_count": 30,
      "metadata": {
        "id": "_rnjKOr1ChJ8"
      },
      "outputs": [],
      "source": [
        "optimizer = torch.optim.Adam(\n",
        "    parameters,\n",
        "    lr=train_config['learning_rate'],\n",
        "    betas=train_config['adam_betas'],\n",
        "    weight_decay=train_config['weight_decay'],\n",
        ")"
      ]
    },
    {
      "cell_type": "markdown",
      "metadata": {
        "id": "-1fV7EhdChJ9"
      },
      "source": [
        "We load the data (training and validation) using pytorch's dataloader"
      ]
    },
    {
      "cell_type": "code",
      "execution_count": 31,
      "metadata": {
        "id": "bVEk9Y5mChJ9"
      },
      "outputs": [],
      "source": [
        "train_loader = torch.utils.data.DataLoader(\n",
        "    train_dataset,\n",
        "    batch_size=train_config['batch_size'],\n",
        "    shuffle=True,\n",
        "    pin_memory=True,\n",
        "    num_workers=train_config['dataloader_workers'],\n",
        ")\n",
        "\n",
        "val_loader = torch.utils.data.DataLoader(\n",
        "    val_dataset,\n",
        "    batch_size=train_config['batch_size'],\n",
        "    shuffle=False,\n",
        "    num_workers=train_config['dataloader_workers'],\n",
        ")\n",
        "\n",
        "test_loader = torch.utils.data.DataLoader(\n",
        "    test_dataset,\n",
        "    batch_size=train_config['batch_size'],\n",
        "    shuffle=False,\n",
        "    num_workers=train_config['dataloader_workers'],\n",
        ")"
      ]
    },
    {
      "cell_type": "markdown",
      "metadata": {
        "id": "-Yab7_LqChJ9"
      },
      "source": [
        "Everything is set and we are now ready to train the segmentation head:"
      ]
    },
    {
      "cell_type": "code",
      "execution_count": 32,
      "metadata": {
        "colab": {
          "base_uri": "https://localhost:8080/",
          "height": 1000
        },
        "id": "fANa6SNqChJ9",
        "outputId": "93bd9bc1-6f62-476a-a9b8-e743b3645e65"
      },
      "outputs": [
        {
          "name": "stderr",
          "output_type": "stream",
          "text": [
            "Epoch:20, Training Loss:0.9782: 100%|██████████| 104/104 [05:31<00:00,  3.19s/it]\n"
          ]
        },
        {
          "name": "stdout",
          "output_type": "stream",
          "text": [
            "{'train_loss': 0.9802197813987732, 'train_average_accuracy': 0.5189160377458987, 'train_mIoU': 0.4080607319390348, 'train_accuracy_pixelclass_0': 0.8002994283361525, 'train_accuracy_pixelclass_1': 0.19362160574098808, 'train_accuracy_pixelclass_2': 0.7927483830385563, 'train_accuracy_pixelclass_3': 0.1529721736098106, 'train_accuracy_pixelclass_4': 0.7837497442411703, 'train_accuracy_pixelclass_5': 0.5731918701591939, 'train_accuracy_pixelclass_6': 0.8570404112464771, 'train_accuracy_pixelclass_7': 0.4103914723570255, 'train_accuracy_pixelclass_8': 0.7968992991063757, 'train_accuracy_pixelclass_9': 0.7590781624039972, 'train_accuracy_pixelclass_10': 0.439339466557682, 'train_accuracy_pixelclass_11': 0.1865764738992537, 'train_accuracy_pixelclass_12': 0.0, 'train_IoU_class_0': 0.6134096987298362, 'train_IoU_class_1': 0.15680008858978872, 'train_IoU_class_2': 0.5691414559903577, 'train_IoU_class_3': 0.1527413645244282, 'train_IoU_class_4': 0.6919144673339109, 'train_IoU_class_5': 0.5023769655138326, 'train_IoU_class_6': 0.6818925252662235, 'train_IoU_class_7': 0.32339079115670055, 'train_IoU_class_8': 0.5947786280598231, 'train_IoU_class_9': 0.5313833826858293, 'train_IoU_class_10': 0.3389529207722643, 'train_IoU_class_11': 0.14800722658445714, 'train_IoU_class_12': 0.0}\n"
          ]
        },
        {
          "name": "stderr",
          "output_type": "stream",
          "text": [
            "Validation Loss:1.001: 100%|██████████| 26/26 [00:26<00:00,  1.03s/it]\n"
          ]
        },
        {
          "name": "stdout",
          "output_type": "stream",
          "text": [
            "Epoch:20 {'validation_loss': 1.0007444620132446, 'validation_average_accuracy': 0.5136576098766832, 'validation_mIoU': 0.3986757776834872, 'validation_accuracy_pixelclass_0': 0.7708568756772368, 'validation_accuracy_pixelclass_1': 0.3041938243441421, 'validation_accuracy_pixelclass_2': 0.749564073613877, 'validation_accuracy_pixelclass_3': 0.012036731849985188, 'validation_accuracy_pixelclass_4': 0.8106797553719944, 'validation_accuracy_pixelclass_5': 0.5341338066030373, 'validation_accuracy_pixelclass_6': 0.8436816003015625, 'validation_accuracy_pixelclass_7': 0.38410321028666344, 'validation_accuracy_pixelclass_8': 0.789553213746259, 'validation_accuracy_pixelclass_9': 0.6665231614136351, 'validation_accuracy_pixelclass_10': 0.46091323872284723, 'validation_accuracy_pixelclass_11': 0.35130943646564183, 'validation_accuracy_pixelclass_12': 0.0, 'train_IoU_class_0': 0.5677548005798555, 'train_IoU_class_1': 0.1971397984870025, 'train_IoU_class_2': 0.5803615227033446, 'train_IoU_class_3': 0.012018629917848394, 'train_IoU_class_4': 0.6817125432579325, 'train_IoU_class_5': 0.4628969363983267, 'train_IoU_class_6': 0.6931846302057637, 'train_IoU_class_7': 0.30264873685310634, 'train_IoU_class_8': 0.6734305310632969, 'train_IoU_class_9': 0.47309842326403934, 'train_IoU_class_10': 0.270896341686166, 'train_IoU_class_11': 0.2676422154686517, 'train_IoU_class_12': 0.0}\n"
          ]
        },
        {
          "name": "stderr",
          "output_type": "stream",
          "text": [
            "Epoch:21, Training Loss:0.9484: 100%|██████████| 104/104 [05:30<00:00,  3.18s/it]\n"
          ]
        },
        {
          "name": "stdout",
          "output_type": "stream",
          "text": [
            "{'train_loss': 0.948063313961029, 'train_average_accuracy': 0.52932820736147, 'train_mIoU': 0.41835423081926465, 'train_accuracy_pixelclass_0': 0.8070377181379214, 'train_accuracy_pixelclass_1': 0.2076139441403106, 'train_accuracy_pixelclass_2': 0.7894512146276188, 'train_accuracy_pixelclass_3': 0.14765228959077317, 'train_accuracy_pixelclass_4': 0.7940854239264254, 'train_accuracy_pixelclass_5': 0.6152956436336784, 'train_accuracy_pixelclass_6': 0.854840602422453, 'train_accuracy_pixelclass_7': 0.4109308649750984, 'train_accuracy_pixelclass_8': 0.8253236139066552, 'train_accuracy_pixelclass_9': 0.7419228571753186, 'train_accuracy_pixelclass_10': 0.5162096706735414, 'train_accuracy_pixelclass_11': 0.1709028524893164, 'train_accuracy_pixelclass_12': 0.0, 'train_IoU_class_0': 0.6084148535704985, 'train_IoU_class_1': 0.16786934549227608, 'train_IoU_class_2': 0.5705407401377001, 'train_IoU_class_3': 0.14709053526534246, 'train_IoU_class_4': 0.7137310645332433, 'train_IoU_class_5': 0.5393595156469413, 'train_IoU_class_6': 0.6874662077631035, 'train_IoU_class_7': 0.32435146801447995, 'train_IoU_class_8': 0.6341056485049148, 'train_IoU_class_9': 0.5298466540842496, 'train_IoU_class_10': 0.3806670606507411, 'train_IoU_class_11': 0.13516190698694988, 'train_IoU_class_12': 0.0}\n"
          ]
        },
        {
          "name": "stderr",
          "output_type": "stream",
          "text": [
            "Validation Loss:1.033: 100%|██████████| 26/26 [00:26<00:00,  1.01s/it]\n"
          ]
        },
        {
          "name": "stdout",
          "output_type": "stream",
          "text": [
            "Epoch:21 {'validation_loss': 1.0327807664871216, 'validation_average_accuracy': 0.5056188292798759, 'validation_mIoU': 0.3960607060083006, 'validation_accuracy_pixelclass_0': 0.7163275054355674, 'validation_accuracy_pixelclass_1': 0.31688630438324916, 'validation_accuracy_pixelclass_2': 0.8457236661692756, 'validation_accuracy_pixelclass_3': 0.01075587338275973, 'validation_accuracy_pixelclass_4': 0.7927625947251282, 'validation_accuracy_pixelclass_5': 0.4983899965892208, 'validation_accuracy_pixelclass_6': 0.8012194463588511, 'validation_accuracy_pixelclass_7': 0.45003624930478203, 'validation_accuracy_pixelclass_8': 0.7528837403484412, 'validation_accuracy_pixelclass_9': 0.7131845982911228, 'validation_accuracy_pixelclass_10': 0.26987869376027845, 'validation_accuracy_pixelclass_11': 0.40499611188970946, 'validation_accuracy_pixelclass_12': 0.0, 'train_IoU_class_0': 0.5837515327578119, 'train_IoU_class_1': 0.2055005409003911, 'train_IoU_class_2': 0.5563811782900309, 'train_IoU_class_3': 0.010745293203122721, 'train_IoU_class_4': 0.6979920234016486, 'train_IoU_class_5': 0.44806325370605526, 'train_IoU_class_6': 0.6702574976831573, 'train_IoU_class_7': 0.31388908600158216, 'train_IoU_class_8': 0.6539584782770349, 'train_IoU_class_9': 0.4889960211649029, 'train_IoU_class_10': 0.19267681047817203, 'train_IoU_class_11': 0.3265774622439978, 'train_IoU_class_12': 0.0}\n"
          ]
        },
        {
          "name": "stderr",
          "output_type": "stream",
          "text": [
            "Epoch:22, Training Loss:0.9449: 100%|██████████| 104/104 [05:06<00:00,  2.95s/it]\n"
          ]
        },
        {
          "name": "stdout",
          "output_type": "stream",
          "text": [
            "{'train_loss': 0.9420670866966248, 'train_average_accuracy': 0.5366013164002202, 'train_mIoU': 0.42572471461272865, 'train_accuracy_pixelclass_0': 0.8021289267642433, 'train_accuracy_pixelclass_1': 0.22106540792032695, 'train_accuracy_pixelclass_2': 0.7891514935587185, 'train_accuracy_pixelclass_3': 0.16913459861933575, 'train_accuracy_pixelclass_4': 0.8053079463592193, 'train_accuracy_pixelclass_5': 0.6212235195473065, 'train_accuracy_pixelclass_6': 0.8554889030513249, 'train_accuracy_pixelclass_7': 0.41495944237641386, 'train_accuracy_pixelclass_8': 0.7965793766131045, 'train_accuracy_pixelclass_9': 0.7406785766479762, 'train_accuracy_pixelclass_10': 0.5194826355498554, 'train_accuracy_pixelclass_11': 0.24061628619503753, 'train_accuracy_pixelclass_12': 0.0, 'train_IoU_class_0': 0.6066472188483751, 'train_IoU_class_1': 0.1784197770449385, 'train_IoU_class_2': 0.5755374636938068, 'train_IoU_class_3': 0.1686373540334918, 'train_IoU_class_4': 0.7151664221332508, 'train_IoU_class_5': 0.5428969026484897, 'train_IoU_class_6': 0.6844917488994181, 'train_IoU_class_7': 0.3237751964282189, 'train_IoU_class_8': 0.6276815573087299, 'train_IoU_class_9': 0.5264159990841105, 'train_IoU_class_10': 0.38202835808012037, 'train_IoU_class_11': 0.20272329176252168, 'train_IoU_class_12': 0.0}\n"
          ]
        },
        {
          "name": "stderr",
          "output_type": "stream",
          "text": [
            "Validation Loss:0.9949: 100%|██████████| 26/26 [00:23<00:00,  1.09it/s]\n"
          ]
        },
        {
          "name": "stdout",
          "output_type": "stream",
          "text": [
            "Epoch:22 {'validation_loss': 0.9949438571929932, 'validation_average_accuracy': 0.4967062911489597, 'validation_mIoU': 0.38831513185428973, 'validation_accuracy_pixelclass_0': 0.758736544887739, 'validation_accuracy_pixelclass_1': 0.2710281896692195, 'validation_accuracy_pixelclass_2': 0.7834041595509486, 'validation_accuracy_pixelclass_3': 0.0018941685476233192, 'validation_accuracy_pixelclass_4': 0.7280257654923132, 'validation_accuracy_pixelclass_5': 0.414571542539354, 'validation_accuracy_pixelclass_6': 0.8414962827185957, 'validation_accuracy_pixelclass_7': 0.3962968433713511, 'validation_accuracy_pixelclass_8': 0.7775016652750284, 'validation_accuracy_pixelclass_9': 0.7461772357728518, 'validation_accuracy_pixelclass_10': 0.33304888187678144, 'validation_accuracy_pixelclass_11': 0.4050005052346705, 'validation_accuracy_pixelclass_12': 0.0, 'train_IoU_class_0': 0.5821733062959539, 'train_IoU_class_1': 0.19026810609852005, 'train_IoU_class_2': 0.5808823555189552, 'train_IoU_class_3': 0.0018937892888278946, 'train_IoU_class_4': 0.6744067911811947, 'train_IoU_class_5': 0.3560554028356798, 'train_IoU_class_6': 0.6693314951742045, 'train_IoU_class_7': 0.3027997118578775, 'train_IoU_class_8': 0.6430379624061608, 'train_IoU_class_9': 0.5092950124012645, 'train_IoU_class_10': 0.23757708741502007, 'train_IoU_class_11': 0.300375693632107, 'train_IoU_class_12': 0.0}\n"
          ]
        },
        {
          "name": "stderr",
          "output_type": "stream",
          "text": [
            "Epoch:23, Training Loss:0.9155: 100%|██████████| 104/104 [05:23<00:00,  3.11s/it]\n"
          ]
        },
        {
          "name": "stdout",
          "output_type": "stream",
          "text": [
            "{'train_loss': 0.915687620639801, 'train_average_accuracy': 0.5404029532231985, 'train_mIoU': 0.42860538770906687, 'train_accuracy_pixelclass_0': 0.8092623062895313, 'train_accuracy_pixelclass_1': 0.23922837026150848, 'train_accuracy_pixelclass_2': 0.797005889465757, 'train_accuracy_pixelclass_3': 0.12006612723034103, 'train_accuracy_pixelclass_4': 0.7848720601258381, 'train_accuracy_pixelclass_5': 0.5901072252837581, 'train_accuracy_pixelclass_6': 0.854163725161792, 'train_accuracy_pixelclass_7': 0.44475236118849404, 'train_accuracy_pixelclass_8': 0.8304452520940316, 'train_accuracy_pixelclass_9': 0.7622039799856782, 'train_accuracy_pixelclass_10': 0.5295447945879066, 'train_accuracy_pixelclass_11': 0.2635863002269457, 'train_accuracy_pixelclass_12': 0.0, 'train_IoU_class_0': 0.619987253147431, 'train_IoU_class_1': 0.19200873228789528, 'train_IoU_class_2': 0.5852982382873643, 'train_IoU_class_3': 0.1191460620011176, 'train_IoU_class_4': 0.7020334254465223, 'train_IoU_class_5': 0.5010853758201308, 'train_IoU_class_6': 0.687262044701311, 'train_IoU_class_7': 0.3582849166024732, 'train_IoU_class_8': 0.6517201857398978, 'train_IoU_class_9': 0.5446515447732967, 'train_IoU_class_10': 0.4101731767899419, 'train_IoU_class_11': 0.20021908462048707, 'train_IoU_class_12': 0.0}\n"
          ]
        },
        {
          "name": "stderr",
          "output_type": "stream",
          "text": [
            "Validation Loss:1.013: 100%|██████████| 26/26 [00:23<00:00,  1.10it/s]\n"
          ]
        },
        {
          "name": "stdout",
          "output_type": "stream",
          "text": [
            "Epoch:23 {'validation_loss': 1.0125447511672974, 'validation_average_accuracy': 0.5136950535210155, 'validation_mIoU': 0.3969003765315073, 'validation_accuracy_pixelclass_0': 0.7875548984737997, 'validation_accuracy_pixelclass_1': 0.2573172967247841, 'validation_accuracy_pixelclass_2': 0.8499552726289292, 'validation_accuracy_pixelclass_3': 0.06945006529457659, 'validation_accuracy_pixelclass_4': 0.7285844297441086, 'validation_accuracy_pixelclass_5': 0.39775081270968105, 'validation_accuracy_pixelclass_6': 0.8585011600620426, 'validation_accuracy_pixelclass_7': 0.391809013642098, 'validation_accuracy_pixelclass_8': 0.7375274418561015, 'validation_accuracy_pixelclass_9': 0.7070893215381535, 'validation_accuracy_pixelclass_10': 0.37433609170241394, 'validation_accuracy_pixelclass_11': 0.5181598913965125, 'validation_accuracy_pixelclass_12': 0.0, 'train_IoU_class_0': 0.5940908277183373, 'train_IoU_class_1': 0.18094001584071062, 'train_IoU_class_2': 0.5700065222926382, 'train_IoU_class_3': 0.06871413828689371, 'train_IoU_class_4': 0.6644990337812612, 'train_IoU_class_5': 0.34429554605897444, 'train_IoU_class_6': 0.6802667227029502, 'train_IoU_class_7': 0.30467169120038534, 'train_IoU_class_8': 0.6372522396090349, 'train_IoU_class_9': 0.49767469560302774, 'train_IoU_class_10': 0.26387212924117914, 'train_IoU_class_11': 0.35342133257420255, 'train_IoU_class_12': 0.0}\n"
          ]
        },
        {
          "name": "stderr",
          "output_type": "stream",
          "text": [
            "Epoch:24, Training Loss:0.8942: 100%|██████████| 104/104 [05:26<00:00,  3.14s/it]\n"
          ]
        },
        {
          "name": "stdout",
          "output_type": "stream",
          "text": [
            "{'train_loss': 0.8948570489883423, 'train_average_accuracy': 0.5535796468436002, 'train_mIoU': 0.4447835609528464, 'train_accuracy_pixelclass_0': 0.815757345775459, 'train_accuracy_pixelclass_1': 0.23174029172931176, 'train_accuracy_pixelclass_2': 0.7893430641905975, 'train_accuracy_pixelclass_3': 0.19960091183251213, 'train_accuracy_pixelclass_4': 0.8173466695984133, 'train_accuracy_pixelclass_5': 0.5746107936075556, 'train_accuracy_pixelclass_6': 0.864063668059256, 'train_accuracy_pixelclass_7': 0.45613792373318546, 'train_accuracy_pixelclass_8': 0.8543962646638339, 'train_accuracy_pixelclass_9': 0.7549771221093697, 'train_accuracy_pixelclass_10': 0.5719680734143758, 'train_accuracy_pixelclass_11': 0.2665932802529336, 'train_accuracy_pixelclass_12': 0.0, 'train_IoU_class_0': 0.6332560851573186, 'train_IoU_class_1': 0.18569784190353097, 'train_IoU_class_2': 0.5809176143055629, 'train_IoU_class_3': 0.1990305015943664, 'train_IoU_class_4': 0.7398317103856363, 'train_IoU_class_5': 0.5136561525927856, 'train_IoU_class_6': 0.691099273927357, 'train_IoU_class_7': 0.3600132107299792, 'train_IoU_class_8': 0.6768303325756908, 'train_IoU_class_9': 0.5508427660143513, 'train_IoU_class_10': 0.4328809935608935, 'train_IoU_class_11': 0.2181298096395302, 'train_IoU_class_12': 0.0}\n"
          ]
        },
        {
          "name": "stderr",
          "output_type": "stream",
          "text": [
            "Validation Loss:1.027: 100%|██████████| 26/26 [00:22<00:00,  1.13it/s]\n"
          ]
        },
        {
          "name": "stdout",
          "output_type": "stream",
          "text": [
            "Epoch:24 {'validation_loss': 1.027450680732727, 'validation_average_accuracy': 0.5055812461091324, 'validation_mIoU': 0.39638541609047007, 'validation_accuracy_pixelclass_0': 0.7364317835023333, 'validation_accuracy_pixelclass_1': 0.23509654554342513, 'validation_accuracy_pixelclass_2': 0.792163348519836, 'validation_accuracy_pixelclass_3': 0.09490869189721424, 'validation_accuracy_pixelclass_4': 0.8310928837244627, 'validation_accuracy_pixelclass_5': 0.4998737818989754, 'validation_accuracy_pixelclass_6': 0.8639208865784815, 'validation_accuracy_pixelclass_7': 0.3696773435062498, 'validation_accuracy_pixelclass_8': 0.5137701826642525, 'validation_accuracy_pixelclass_9': 0.6541257051328598, 'validation_accuracy_pixelclass_10': 0.528216073438948, 'validation_accuracy_pixelclass_11': 0.4532789730116819, 'validation_accuracy_pixelclass_12': 0.0, 'train_IoU_class_0': 0.6047514873276533, 'train_IoU_class_1': 0.1762091738749439, 'train_IoU_class_2': 0.5860507350932478, 'train_IoU_class_3': 0.09417784825062205, 'train_IoU_class_4': 0.7248687822430798, 'train_IoU_class_5': 0.46234159730514907, 'train_IoU_class_6': 0.6884552681895945, 'train_IoU_class_7': 0.29648090863925325, 'train_IoU_class_8': 0.484796776711943, 'train_IoU_class_9': 0.4631327516075008, 'train_IoU_class_10': 0.26261320436009594, 'train_IoU_class_11': 0.30913187557302685, 'train_IoU_class_12': 0.0}\n"
          ]
        },
        {
          "name": "stderr",
          "output_type": "stream",
          "text": [
            "Epoch:25, Training Loss:0.8832: 100%|██████████| 104/104 [05:08<00:00,  2.96s/it]\n"
          ]
        },
        {
          "name": "stdout",
          "output_type": "stream",
          "text": [
            "{'train_loss': 0.8851364850997925, 'train_average_accuracy': 0.5556410781354211, 'train_mIoU': 0.44372825996168763, 'train_accuracy_pixelclass_0': 0.8167088385898447, 'train_accuracy_pixelclass_1': 0.2373376783820064, 'train_accuracy_pixelclass_2': 0.797589120870656, 'train_accuracy_pixelclass_3': 0.1687200118822367, 'train_accuracy_pixelclass_4': 0.8086249355233184, 'train_accuracy_pixelclass_5': 0.6289310351065177, 'train_accuracy_pixelclass_6': 0.8626913133633969, 'train_accuracy_pixelclass_7': 0.4695145376718013, 'train_accuracy_pixelclass_8': 0.8522211371049936, 'train_accuracy_pixelclass_9': 0.7458077952138136, 'train_accuracy_pixelclass_10': 0.5961192269588441, 'train_accuracy_pixelclass_11': 0.23906838509304373, 'train_accuracy_pixelclass_12': 0.0, 'train_IoU_class_0': 0.6340311313654888, 'train_IoU_class_1': 0.1906246647160997, 'train_IoU_class_2': 0.5812371857460096, 'train_IoU_class_3': 0.16559300076310138, 'train_IoU_class_4': 0.7179780147500702, 'train_IoU_class_5': 0.555742819184195, 'train_IoU_class_6': 0.7006879373943392, 'train_IoU_class_7': 0.36759191188608165, 'train_IoU_class_8': 0.6830236718242764, 'train_IoU_class_9': 0.5515277691656856, 'train_IoU_class_10': 0.44233218088153936, 'train_IoU_class_11': 0.1780970918250515, 'train_IoU_class_12': 0.0}\n"
          ]
        },
        {
          "name": "stderr",
          "output_type": "stream",
          "text": [
            "Validation Loss:0.9724: 100%|██████████| 26/26 [00:25<00:00,  1.01it/s]\n"
          ]
        },
        {
          "name": "stdout",
          "output_type": "stream",
          "text": [
            "Epoch:25 {'validation_loss': 0.9723742604255676, 'validation_average_accuracy': 0.5031730925174644, 'validation_mIoU': 0.3889015533104486, 'validation_accuracy_pixelclass_0': 0.7942512751997755, 'validation_accuracy_pixelclass_1': 0.20429261039595895, 'validation_accuracy_pixelclass_2': 0.7801011424864636, 'validation_accuracy_pixelclass_3': 0.015875135074243898, 'validation_accuracy_pixelclass_4': 0.7868502792677636, 'validation_accuracy_pixelclass_5': 0.567050716552685, 'validation_accuracy_pixelclass_6': 0.848988304036334, 'validation_accuracy_pixelclass_7': 0.4710721504353685, 'validation_accuracy_pixelclass_8': 0.8438728433515653, 'validation_accuracy_pixelclass_9': 0.5937141964774271, 'validation_accuracy_pixelclass_10': 0.543325493003756, 'validation_accuracy_pixelclass_11': 0.09185605644569605, 'validation_accuracy_pixelclass_12': 0.0, 'train_IoU_class_0': 0.6129901406804099, 'train_IoU_class_1': 0.1588880316953897, 'train_IoU_class_2': 0.5916476496060564, 'train_IoU_class_3': 0.01586659549980818, 'train_IoU_class_4': 0.6889130072174662, 'train_IoU_class_5': 0.4697629051620648, 'train_IoU_class_6': 0.6886916877776742, 'train_IoU_class_7': 0.3297503064986147, 'train_IoU_class_8': 0.703970654702624, 'train_IoU_class_9': 0.4447291112149642, 'train_IoU_class_10': 0.27255538889797976, 'train_IoU_class_11': 0.07795471408277935, 'train_IoU_class_12': 0.0}\n"
          ]
        },
        {
          "name": "stderr",
          "output_type": "stream",
          "text": [
            "Epoch:26, Training Loss:0.8873: 100%|██████████| 104/104 [05:07<00:00,  2.96s/it]\n"
          ]
        },
        {
          "name": "stdout",
          "output_type": "stream",
          "text": [
            "{'train_loss': 0.886393666267395, 'train_average_accuracy': 0.5541126176689419, 'train_mIoU': 0.44297119616890684, 'train_accuracy_pixelclass_0': 0.8106342380708765, 'train_accuracy_pixelclass_1': 0.25870211302135904, 'train_accuracy_pixelclass_2': 0.7958313804527669, 'train_accuracy_pixelclass_3': 0.19579084680309713, 'train_accuracy_pixelclass_4': 0.8009790591193495, 'train_accuracy_pixelclass_5': 0.6178850326187464, 'train_accuracy_pixelclass_6': 0.8595995416240624, 'train_accuracy_pixelclass_7': 0.4559317487105089, 'train_accuracy_pixelclass_8': 0.8449498442698471, 'train_accuracy_pixelclass_9': 0.7413836131768059, 'train_accuracy_pixelclass_10': 0.5967630889017256, 'train_accuracy_pixelclass_11': 0.22501352292709995, 'train_accuracy_pixelclass_12': 0.0, 'train_IoU_class_0': 0.6391635334873492, 'train_IoU_class_1': 0.20743499320336406, 'train_IoU_class_2': 0.5849429857133576, 'train_IoU_class_3': 0.19422578231501697, 'train_IoU_class_4': 0.7182621300491936, 'train_IoU_class_5': 0.5364668765344561, 'train_IoU_class_6': 0.6956503086982536, 'train_IoU_class_7': 0.3606239875147996, 'train_IoU_class_8': 0.6714013989551806, 'train_IoU_class_9': 0.5464485524030285, 'train_IoU_class_10': 0.43357814048109883, 'train_IoU_class_11': 0.17042686084069006, 'train_IoU_class_12': 0.0}\n"
          ]
        },
        {
          "name": "stderr",
          "output_type": "stream",
          "text": [
            "Validation Loss:0.9457: 100%|██████████| 26/26 [00:23<00:00,  1.09it/s]\n"
          ]
        },
        {
          "name": "stdout",
          "output_type": "stream",
          "text": [
            "Epoch:26 {'validation_loss': 0.9456803202629089, 'validation_average_accuracy': 0.5286697506464088, 'validation_mIoU': 0.40803168866884937, 'validation_accuracy_pixelclass_0': 0.8551861827017169, 'validation_accuracy_pixelclass_1': 0.2600425696594427, 'validation_accuracy_pixelclass_2': 0.8338354524461995, 'validation_accuracy_pixelclass_3': 0.04512627094954586, 'validation_accuracy_pixelclass_4': 0.7849104013243174, 'validation_accuracy_pixelclass_5': 0.6226444908207646, 'validation_accuracy_pixelclass_6': 0.8083386187795244, 'validation_accuracy_pixelclass_7': 0.4266113607280609, 'validation_accuracy_pixelclass_8': 0.8167540740601751, 'validation_accuracy_pixelclass_9': 0.7417130273704116, 'validation_accuracy_pixelclass_10': 0.3144914620166175, 'validation_accuracy_pixelclass_11': 0.3630528475465365, 'validation_accuracy_pixelclass_12': 0.0, 'train_IoU_class_0': 0.6017052781912683, 'train_IoU_class_1': 0.19023923231089024, 'train_IoU_class_2': 0.5729166057558304, 'train_IoU_class_3': 0.045076621087156744, 'train_IoU_class_4': 0.6556058623481433, 'train_IoU_class_5': 0.4788777273549141, 'train_IoU_class_6': 0.6933395759886679, 'train_IoU_class_7': 0.31521247664082214, 'train_IoU_class_8': 0.7110437740687954, 'train_IoU_class_9': 0.5209741011568227, 'train_IoU_class_10': 0.23213054993483956, 'train_IoU_class_11': 0.28729014785689205, 'train_IoU_class_12': 0.0}\n"
          ]
        },
        {
          "name": "stderr",
          "output_type": "stream",
          "text": [
            "Epoch:27, Training Loss:0.882: 100%|██████████| 104/104 [05:05<00:00,  2.94s/it]\n"
          ]
        },
        {
          "name": "stdout",
          "output_type": "stream",
          "text": [
            "{'train_loss': 0.8796742558479309, 'train_average_accuracy': 0.5632594855571061, 'train_mIoU': 0.4507415132778379, 'train_accuracy_pixelclass_0': 0.8187431793891703, 'train_accuracy_pixelclass_1': 0.260804461301741, 'train_accuracy_pixelclass_2': 0.7925626104060363, 'train_accuracy_pixelclass_3': 0.18740353754851374, 'train_accuracy_pixelclass_4': 0.8123549572982194, 'train_accuracy_pixelclass_5': 0.6285522298964563, 'train_accuracy_pixelclass_6': 0.8428134759279078, 'train_accuracy_pixelclass_7': 0.48473057733492314, 'train_accuracy_pixelclass_8': 0.818219262183607, 'train_accuracy_pixelclass_9': 0.752454281960761, 'train_accuracy_pixelclass_10': 0.5894050669983808, 'train_accuracy_pixelclass_11': 0.3343296719966627, 'train_accuracy_pixelclass_12': 0.0, 'train_IoU_class_0': 0.6425693013606163, 'train_IoU_class_1': 0.20496679293585346, 'train_IoU_class_2': 0.5776688960381101, 'train_IoU_class_3': 0.1853207095573632, 'train_IoU_class_4': 0.7368474221305277, 'train_IoU_class_5': 0.5424517386217752, 'train_IoU_class_6': 0.68785791331363, 'train_IoU_class_7': 0.37739933759540734, 'train_IoU_class_8': 0.6603697363582448, 'train_IoU_class_9': 0.5560021863251977, 'train_IoU_class_10': 0.4322038612755949, 'train_IoU_class_11': 0.25598177709957265, 'train_IoU_class_12': 0.0}\n"
          ]
        },
        {
          "name": "stderr",
          "output_type": "stream",
          "text": [
            "Validation Loss:0.9686: 100%|██████████| 26/26 [00:23<00:00,  1.13it/s]\n"
          ]
        },
        {
          "name": "stdout",
          "output_type": "stream",
          "text": [
            "Epoch:27 {'validation_loss': 0.96858149766922, 'validation_average_accuracy': 0.5244535194977392, 'validation_mIoU': 0.40924914148172387, 'validation_accuracy_pixelclass_0': 0.7592030998639719, 'validation_accuracy_pixelclass_1': 0.2945616750855467, 'validation_accuracy_pixelclass_2': 0.7583653422447656, 'validation_accuracy_pixelclass_3': 0.03905575280683236, 'validation_accuracy_pixelclass_4': 0.8327753127039479, 'validation_accuracy_pixelclass_5': 0.6544803571875909, 'validation_accuracy_pixelclass_6': 0.843897543269888, 'validation_accuracy_pixelclass_7': 0.4064112283917216, 'validation_accuracy_pixelclass_8': 0.7510601469194758, 'validation_accuracy_pixelclass_9': 0.6634884354717034, 'validation_accuracy_pixelclass_10': 0.5121458123713951, 'validation_accuracy_pixelclass_11': 0.30245104715377147, 'validation_accuracy_pixelclass_12': 0.0, 'train_IoU_class_0': 0.5956238002013958, 'train_IoU_class_1': 0.20237006583205236, 'train_IoU_class_2': 0.5972104833995465, 'train_IoU_class_3': 0.038941211707739155, 'train_IoU_class_4': 0.7018497022033696, 'train_IoU_class_5': 0.4993200539252368, 'train_IoU_class_6': 0.6866155776997018, 'train_IoU_class_7': 0.31746356924286895, 'train_IoU_class_8': 0.6852840137883289, 'train_IoU_class_9': 0.477510049864207, 'train_IoU_class_10': 0.2840424729528717, 'train_IoU_class_11': 0.2340078384450918, 'train_IoU_class_12': 0.0}\n"
          ]
        },
        {
          "name": "stderr",
          "output_type": "stream",
          "text": [
            "Epoch:28, Training Loss:0.8443: 100%|██████████| 104/104 [05:09<00:00,  2.97s/it]\n"
          ]
        },
        {
          "name": "stdout",
          "output_type": "stream",
          "text": [
            "{'train_loss': 0.8460353016853333, 'train_average_accuracy': 0.5826191374612482, 'train_mIoU': 0.47221698643905946, 'train_accuracy_pixelclass_0': 0.8262829149683953, 'train_accuracy_pixelclass_1': 0.264905811773376, 'train_accuracy_pixelclass_2': 0.7956802774898828, 'train_accuracy_pixelclass_3': 0.3098151149800133, 'train_accuracy_pixelclass_4': 0.8176212821894165, 'train_accuracy_pixelclass_5': 0.6547605493526794, 'train_accuracy_pixelclass_6': 0.8626740659288259, 'train_accuracy_pixelclass_7': 0.46527278713999, 'train_accuracy_pixelclass_8': 0.839644858688666, 'train_accuracy_pixelclass_9': 0.7606418104715511, 'train_accuracy_pixelclass_10': 0.6235534122088429, 'train_accuracy_pixelclass_11': 0.3531959018045872, 'train_accuracy_pixelclass_12': 0.0, 'train_IoU_class_0': 0.6491437417876377, 'train_IoU_class_1': 0.2098966934797693, 'train_IoU_class_2': 0.5933157932676888, 'train_IoU_class_3': 0.3062724314082488, 'train_IoU_class_4': 0.7337801473063937, 'train_IoU_class_5': 0.5674586999784209, 'train_IoU_class_6': 0.701056795655301, 'train_IoU_class_7': 0.36416296595910824, 'train_IoU_class_8': 0.7014184728841657, 'train_IoU_class_9': 0.5655874722306912, 'train_IoU_class_10': 0.4662093171640844, 'train_IoU_class_11': 0.2805182925862632, 'train_IoU_class_12': 0.0}\n"
          ]
        },
        {
          "name": "stderr",
          "output_type": "stream",
          "text": [
            "Validation Loss:0.9868: 100%|██████████| 26/26 [00:25<00:00,  1.03it/s]\n"
          ]
        },
        {
          "name": "stdout",
          "output_type": "stream",
          "text": [
            "Epoch:28 {'validation_loss': 0.9867604970932007, 'validation_average_accuracy': 0.5167235739913221, 'validation_mIoU': 0.4097910404964846, 'validation_accuracy_pixelclass_0': 0.7484420396329363, 'validation_accuracy_pixelclass_1': 0.24975659931562652, 'validation_accuracy_pixelclass_2': 0.8033102037033885, 'validation_accuracy_pixelclass_3': 0.10229761810391225, 'validation_accuracy_pixelclass_4': 0.7889626480170637, 'validation_accuracy_pixelclass_5': 0.5176657166586697, 'validation_accuracy_pixelclass_6': 0.8286909278381109, 'validation_accuracy_pixelclass_7': 0.4535194985085785, 'validation_accuracy_pixelclass_8': 0.7911217386409479, 'validation_accuracy_pixelclass_9': 0.6805492554690237, 'validation_accuracy_pixelclass_10': 0.46090202267417707, 'validation_accuracy_pixelclass_11': 0.29218819332475165, 'validation_accuracy_pixelclass_12': 0.0, 'train_IoU_class_0': 0.5934325944134615, 'train_IoU_class_1': 0.18134593570542276, 'train_IoU_class_2': 0.5789649625042468, 'train_IoU_class_3': 0.10016504211842181, 'train_IoU_class_4': 0.7055600259243014, 'train_IoU_class_5': 0.44716153570863815, 'train_IoU_class_6': 0.6908276042486377, 'train_IoU_class_7': 0.3220460979434131, 'train_IoU_class_8': 0.6881405742911891, 'train_IoU_class_9': 0.48237621421241056, 'train_IoU_class_10': 0.2800849484095745, 'train_IoU_class_11': 0.25717799097458266, 'train_IoU_class_12': 0.0}\n"
          ]
        },
        {
          "name": "stderr",
          "output_type": "stream",
          "text": [
            "Epoch:29, Training Loss:0.825: 100%|██████████| 104/104 [05:19<00:00,  3.07s/it]\n"
          ]
        },
        {
          "name": "stdout",
          "output_type": "stream",
          "text": [
            "{'train_loss': 0.8253605365753174, 'train_average_accuracy': 0.5812105009936039, 'train_mIoU': 0.47185245126431496, 'train_accuracy_pixelclass_0': 0.8301610931617983, 'train_accuracy_pixelclass_1': 0.26614551354995847, 'train_accuracy_pixelclass_2': 0.7949446415304068, 'train_accuracy_pixelclass_3': 0.2733340652102316, 'train_accuracy_pixelclass_4': 0.8162774942730706, 'train_accuracy_pixelclass_5': 0.6573217407589086, 'train_accuracy_pixelclass_6': 0.8597388738405962, 'train_accuracy_pixelclass_7': 0.4843121263750609, 'train_accuracy_pixelclass_8': 0.8765887828812827, 'train_accuracy_pixelclass_9': 0.7709842916927554, 'train_accuracy_pixelclass_10': 0.6343316652839479, 'train_accuracy_pixelclass_11': 0.2915962243588336, 'train_accuracy_pixelclass_12': 0.0, 'train_IoU_class_0': 0.6533543155011104, 'train_IoU_class_1': 0.21146327898960612, 'train_IoU_class_2': 0.5889317048351767, 'train_IoU_class_3': 0.269943838497734, 'train_IoU_class_4': 0.742098764789232, 'train_IoU_class_5': 0.5768977187405445, 'train_IoU_class_6': 0.702089042474387, 'train_IoU_class_7': 0.3822991461356843, 'train_IoU_class_8': 0.7337497051643165, 'train_IoU_class_9': 0.5774254558272328, 'train_IoU_class_10': 0.4872925964757894, 'train_IoU_class_11': 0.20853629900528087, 'train_IoU_class_12': 0.0}\n"
          ]
        },
        {
          "name": "stderr",
          "output_type": "stream",
          "text": [
            "Validation Loss:0.9673: 100%|██████████| 26/26 [00:23<00:00,  1.12it/s]\n"
          ]
        },
        {
          "name": "stdout",
          "output_type": "stream",
          "text": [
            "Epoch:29 {'validation_loss': 0.9672771692276001, 'validation_average_accuracy': 0.5377025343462865, 'validation_mIoU': 0.41394480574017667, 'validation_accuracy_pixelclass_0': 0.8351111905533726, 'validation_accuracy_pixelclass_1': 0.33102289392211176, 'validation_accuracy_pixelclass_2': 0.8169208467373605, 'validation_accuracy_pixelclass_3': 0.10740019108572572, 'validation_accuracy_pixelclass_4': 0.7870227700736175, 'validation_accuracy_pixelclass_5': 0.6286200989318673, 'validation_accuracy_pixelclass_6': 0.7851749469534836, 'validation_accuracy_pixelclass_7': 0.5476569082432878, 'validation_accuracy_pixelclass_8': 0.7969449239602585, 'validation_accuracy_pixelclass_9': 0.7161164804896152, 'validation_accuracy_pixelclass_10': 0.2748735741013959, 'validation_accuracy_pixelclass_11': 0.3632681214496281, 'validation_accuracy_pixelclass_12': 0.0, 'train_IoU_class_0': 0.6071983458695199, 'train_IoU_class_1': 0.22360174100039418, 'train_IoU_class_2': 0.5767862990733388, 'train_IoU_class_3': 0.1070981323769861, 'train_IoU_class_4': 0.6274911274911275, 'train_IoU_class_5': 0.4756023064418542, 'train_IoU_class_6': 0.6757733691312078, 'train_IoU_class_7': 0.33251215523560523, 'train_IoU_class_8': 0.7359994671414739, 'train_IoU_class_9': 0.5095025370001252, 'train_IoU_class_10': 0.2028850230127825, 'train_IoU_class_11': 0.3068319708478828, 'train_IoU_class_12': 0.0}\n"
          ]
        },
        {
          "name": "stderr",
          "output_type": "stream",
          "text": [
            "Epoch:30, Training Loss:0.8114: 100%|██████████| 104/104 [05:20<00:00,  3.09s/it]\n"
          ]
        },
        {
          "name": "stdout",
          "output_type": "stream",
          "text": [
            "{'train_loss': 0.8131614923477173, 'train_average_accuracy': 0.5935097940494348, 'train_mIoU': 0.4855999817430469, 'train_accuracy_pixelclass_0': 0.8276671372920146, 'train_accuracy_pixelclass_1': 0.29653490491595685, 'train_accuracy_pixelclass_2': 0.806544071717229, 'train_accuracy_pixelclass_3': 0.2814966452054529, 'train_accuracy_pixelclass_4': 0.820576151853444, 'train_accuracy_pixelclass_5': 0.6496801968935845, 'train_accuracy_pixelclass_6': 0.8578468979051638, 'train_accuracy_pixelclass_7': 0.5048076103525342, 'train_accuracy_pixelclass_8': 0.8784637042678495, 'train_accuracy_pixelclass_9': 0.7724361533393752, 'train_accuracy_pixelclass_10': 0.6430576343615544, 'train_accuracy_pixelclass_11': 0.37651621453849393, 'train_accuracy_pixelclass_12': 0.0, 'train_IoU_class_0': 0.6640385110395889, 'train_IoU_class_1': 0.23323508103862045, 'train_IoU_class_2': 0.6011630689236123, 'train_IoU_class_3': 0.27906521162954173, 'train_IoU_class_4': 0.7485770866758649, 'train_IoU_class_5': 0.5586762529366148, 'train_IoU_class_6': 0.7015814220421371, 'train_IoU_class_7': 0.3996347508330755, 'train_IoU_class_8': 0.7468501114697824, 'train_IoU_class_9': 0.5790376952436376, 'train_IoU_class_10': 0.49821955608145063, 'train_IoU_class_11': 0.3027210147456837, 'train_IoU_class_12': 0.0}\n"
          ]
        },
        {
          "name": "stderr",
          "output_type": "stream",
          "text": [
            "Validation Loss:0.9483: 100%|██████████| 26/26 [00:22<00:00,  1.14it/s]\n"
          ]
        },
        {
          "name": "stdout",
          "output_type": "stream",
          "text": [
            "Epoch:30 {'validation_loss': 0.9482657313346863, 'validation_average_accuracy': 0.5671589132464081, 'validation_mIoU': 0.4271814904780985, 'validation_accuracy_pixelclass_0': 0.7994328630418779, 'validation_accuracy_pixelclass_1': 0.3289494052468633, 'validation_accuracy_pixelclass_2': 0.8067248027929548, 'validation_accuracy_pixelclass_3': 0.10946124673005594, 'validation_accuracy_pixelclass_4': 0.7825766264660109, 'validation_accuracy_pixelclass_5': 0.6190429392052692, 'validation_accuracy_pixelclass_6': 0.8148535297361992, 'validation_accuracy_pixelclass_7': 0.512995488807933, 'validation_accuracy_pixelclass_8': 0.8191147773222378, 'validation_accuracy_pixelclass_9': 0.6659908652880643, 'validation_accuracy_pixelclass_10': 0.40727575730526955, 'validation_accuracy_pixelclass_11': 0.7066475702605692, 'validation_accuracy_pixelclass_12': 0.0, 'train_IoU_class_0': 0.6258473068804402, 'train_IoU_class_1': 0.2095919859788372, 'train_IoU_class_2': 0.5942124730667526, 'train_IoU_class_3': 0.1068959194898853, 'train_IoU_class_4': 0.6420603061247121, 'train_IoU_class_5': 0.46479138152050303, 'train_IoU_class_6': 0.6952045035217432, 'train_IoU_class_7': 0.33615709142052613, 'train_IoU_class_8': 0.721780712564037, 'train_IoU_class_9': 0.4941399799868217, 'train_IoU_class_10': 0.2654079342958635, 'train_IoU_class_11': 0.3972697813651587, 'train_IoU_class_12': 0.0}\n"
          ]
        },
        {
          "name": "stderr",
          "output_type": "stream",
          "text": [
            "Epoch:31, Training Loss:0.8029: 100%|██████████| 104/104 [05:18<00:00,  3.06s/it]\n"
          ]
        },
        {
          "name": "stdout",
          "output_type": "stream",
          "text": [
            "{'train_loss': 0.8018607497215271, 'train_average_accuracy': 0.5968333062866682, 'train_mIoU': 0.4875594779665564, 'train_accuracy_pixelclass_0': 0.8315906368600532, 'train_accuracy_pixelclass_1': 0.28580451207219965, 'train_accuracy_pixelclass_2': 0.8026104249685044, 'train_accuracy_pixelclass_3': 0.34860157697945793, 'train_accuracy_pixelclass_4': 0.8141878292845213, 'train_accuracy_pixelclass_5': 0.6903469579068672, 'train_accuracy_pixelclass_6': 0.8631596150304967, 'train_accuracy_pixelclass_7': 0.49774454573756916, 'train_accuracy_pixelclass_8': 0.8628296691198375, 'train_accuracy_pixelclass_9': 0.7714409701551657, 'train_accuracy_pixelclass_10': 0.6650188893153165, 'train_accuracy_pixelclass_11': 0.325497354296698, 'train_accuracy_pixelclass_12': 0.0, 'train_IoU_class_0': 0.6619104190091752, 'train_IoU_class_1': 0.22843086438856744, 'train_IoU_class_2': 0.5974281489101781, 'train_IoU_class_3': 0.3421315820495952, 'train_IoU_class_4': 0.740797980742589, 'train_IoU_class_5': 0.6018537458272629, 'train_IoU_class_6': 0.7055498967278339, 'train_IoU_class_7': 0.3955718847853808, 'train_IoU_class_8': 0.7287572785511744, 'train_IoU_class_9': 0.5848332260564463, 'train_IoU_class_10': 0.5063514196719295, 'train_IoU_class_11': 0.2446567668450995, 'train_IoU_class_12': 0.0}\n"
          ]
        },
        {
          "name": "stderr",
          "output_type": "stream",
          "text": [
            "Validation Loss:0.9529: 100%|██████████| 26/26 [00:25<00:00,  1.02it/s]\n"
          ]
        },
        {
          "name": "stdout",
          "output_type": "stream",
          "text": [
            "Epoch:31 {'validation_loss': 0.9528785347938538, 'validation_average_accuracy': 0.5363389939466354, 'validation_mIoU': 0.4164132202052506, 'validation_accuracy_pixelclass_0': 0.7723736842796219, 'validation_accuracy_pixelclass_1': 0.345440565422845, 'validation_accuracy_pixelclass_2': 0.7406091432959061, 'validation_accuracy_pixelclass_3': 0.09063221004409991, 'validation_accuracy_pixelclass_4': 0.8343483258737496, 'validation_accuracy_pixelclass_5': 0.5095627072722824, 'validation_accuracy_pixelclass_6': 0.8061258347663759, 'validation_accuracy_pixelclass_7': 0.4823727393170058, 'validation_accuracy_pixelclass_8': 0.9230941982756194, 'validation_accuracy_pixelclass_9': 0.739714486323605, 'validation_accuracy_pixelclass_10': 0.25796164204821875, 'validation_accuracy_pixelclass_11': 0.4701713843869307, 'validation_accuracy_pixelclass_12': 0.0, 'train_IoU_class_0': 0.6309014539473359, 'train_IoU_class_1': 0.23058443001910914, 'train_IoU_class_2': 0.5901951084054899, 'train_IoU_class_3': 0.0904766863116683, 'train_IoU_class_4': 0.6844334437509174, 'train_IoU_class_5': 0.46313927420484796, 'train_IoU_class_6': 0.6911690864565663, 'train_IoU_class_7': 0.32348089501278116, 'train_IoU_class_8': 0.6686159703310575, 'train_IoU_class_9': 0.515198337955883, 'train_IoU_class_10': 0.19384387389950028, 'train_IoU_class_11': 0.33133330237310177, 'train_IoU_class_12': 0.0}\n",
            "Early stopping triggered after 31 epochs.\n"
          ]
        },
        {
          "data": {
            "image/png": "[encoded data removed]",
            "text/plain": [
              "<Figure size 640x480 with 1 Axes>"
            ]
          },
          "metadata": {},
          "output_type": "display_data"
        }
      ],
      "source": [
        "step = 20\n",
        "\n",
        "#Training loop\n",
        "train_losses = []\n",
        "val_losses = []\n",
        "patience = 5\n",
        "best_loss = float('inf')\n",
        "patience_counter = 0\n",
        "# Restaurer les poids du modèle et l'état de l'optimiseur\n",
        "model.load_state_dict(torch.load(\"../../drive/MyDrive/MVA/swin-t_SSL_freeze_20.pth\"))\n",
        "#optimizer.load_state_dict(torch.load('checkpoints/optimizer_epoch_28.pth'))\n",
        "\n",
        "# Restaurer le numéro de l'époque\n",
        "start_epoch = 20\n",
        "for epoch in range(start_epoch, train_config['epochs']):\n",
        "    # Model Training\n",
        "    model.train()\n",
        "    step += 1\n",
        "\n",
        "    pbar = tqdm(train_loader)\n",
        "\n",
        "    # track performance\n",
        "    epoch_losses = torch.Tensor()\n",
        "    metrics = PixelwiseMetrics(data_config['num_classes'])\n",
        "\n",
        "    for idx, (img, y) in enumerate(pbar):\n",
        "        # load target\n",
        "        y = y.to(device)\n",
        "        # model output\n",
        "        y_hat = model(img)\n",
        "\n",
        "        # loss computation\n",
        "        loss = criterion(y_hat, y)\n",
        "\n",
        "        # backward step\n",
        "        optimizer.zero_grad()\n",
        "        loss.backward()\n",
        "        optimizer.step()\n",
        "\n",
        "        # get prediction\n",
        "        _, pred = torch.max(y_hat, dim=1)\n",
        "\n",
        "        epoch_losses = torch.cat([epoch_losses, loss[None].detach().cpu()])\n",
        "        metrics.add_batch(y, pred)\n",
        "\n",
        "        pbar.set_description(f\"Epoch:{epoch}, Training Loss:{epoch_losses[-100:].mean():.4}\")\n",
        "\n",
        "    mean_loss = epoch_losses.mean()\n",
        "    train_losses.append(mean_loss)\n",
        "    train_stats = {\n",
        "            \"train_loss\": mean_loss.item(),\n",
        "            \"train_average_accuracy\": metrics.get_average_accuracy(),\n",
        "            \"train_mIoU\": metrics.get_mIoU(),\n",
        "            **{\n",
        "                \"train_accuracy_\" + k: v\n",
        "                for k, v in metrics.get_classwise_accuracy().items()\n",
        "            },\n",
        "            **{\n",
        "                \"train_IoU_\" + k: v\n",
        "                for k, v in metrics.get_IoU().items()\n",
        "            },\n",
        "        }\n",
        "    print(train_stats)\n",
        "\n",
        "    # Model Validation\n",
        "    model.eval()\n",
        "    pbar = tqdm(val_loader)\n",
        "\n",
        "    # track performance\n",
        "    epoch_losses = torch.Tensor()\n",
        "    metrics = PixelwiseMetrics(data_config['num_classes'])\n",
        "\n",
        "    with torch.no_grad():\n",
        "        for idx, (img, y) in enumerate(pbar):\n",
        "            y = y.to(device)\n",
        "            # model output\n",
        "            y_hat = model(img)\n",
        "\n",
        "            # loss computation\n",
        "            loss = criterion(y_hat, y)\n",
        "\n",
        "            # get prediction\n",
        "            _, pred = torch.max(y_hat, dim=1)\n",
        "\n",
        "            epoch_losses = torch.cat([epoch_losses, loss[None].detach().cpu()])\n",
        "            metrics.add_batch(y, pred)\n",
        "\n",
        "\n",
        "            pbar.set_description(f\"Validation Loss:{epoch_losses[-100:].mean():.4}\")\n",
        "\n",
        "        mean_loss = epoch_losses.mean()\n",
        "        val_losses.append(mean_loss)\n",
        "        val_stats = {\n",
        "            \"validation_loss\": mean_loss.item(),\n",
        "            \"validation_average_accuracy\": metrics.get_average_accuracy(),\n",
        "            \"validation_mIoU\": metrics.get_mIoU(),\n",
        "            **{\n",
        "                \"validation_accuracy_\" + k: v\n",
        "                for k, v in metrics.get_classwise_accuracy().items()\n",
        "            },\n",
        "            **{\n",
        "            \"train_IoU_\" + k: v\n",
        "            for k, v in metrics.get_IoU().items()\n",
        "        },\n",
        "        }\n",
        "\n",
        "        print(f\"Epoch:{epoch}\", val_stats)\n",
        "\n",
        "        # Save model checkpoint every 2 epochs\n",
        "        if epoch % 2 == 0:\n",
        "            if epoch == 0:\n",
        "                continue\n",
        "\n",
        "            save_weights_path = (\n",
        "                \"checkpoints/\" + \"-\".join([\"segmentation\", \"epoch\", str(epoch)]) + \".pth\"\n",
        "            )\n",
        "            save_opt_path = (\n",
        "                \"checkpoints/\" + \"-\".join([\"optimizer\", \"epoch\", str(epoch)]) + \".pth\"\n",
        "            )\n",
        "            torch.save(model.state_dict(), save_weights_path)\n",
        "            torch.save(optimizer.state_dict(), save_opt_path)\n",
        "        val_loss = val_stats[\"validation_loss\"]\n",
        "        if val_loss < best_loss:\n",
        "            best_loss = val_loss\n",
        "            patience_counter = 0\n",
        "            # Enregistrez les meilleurs poids ici si désiré\n",
        "        else:\n",
        "            patience_counter += 1\n",
        "            if patience_counter >= patience:\n",
        "                print(f\"Early stopping triggered after {epoch} epochs.\")\n",
        "                torch.save(model.state_dict(), '../../drive/MyDrive/MVA/swin-t_SSL_freeze_2_'+str(epoch)+'.pth')\n",
        "                break\n",
        "plt.plot(train_losses, label='Training loss')\n",
        "plt.plot(val_losses, label='Validation loss')\n",
        "plt.legend(frameon=False)\n",
        "plt.show()"
      ]
    },
    {
      "cell_type": "markdown",
      "metadata": {
        "id": "ahcf-TVfChJ9"
      },
      "source": [
        "You can evaluate the model on one example by creating a model's instance, loading checkpoint's weights of the classifier saved during training, running it, and displaying the results:"
      ]
    },
    {
      "cell_type": "code",
      "execution_count": 1,
      "metadata": {
        "id": "IqCN_PUlq1BD"
      },
      "outputs": [],
      "source": [
        "def test(model, test_ld):\n",
        "    model.eval()\n",
        "    pbar = tqdm(test_ld)\n",
        "\n",
        "    epoch_losses = torch.Tensor()\n",
        "    metrics = PixelwiseMetrics(data_config['num_classes'])\n",
        "    all_preds = []\n",
        "    all_gts = []\n",
        "    with torch.no_grad():\n",
        "        for idx, (img, y) in enumerate(pbar):\n",
        "            y = y.to(device)\n",
        "            # model output\n",
        "            y_hat = model(img)\n",
        "\n",
        "            # loss computation\n",
        "            loss = criterion(y_hat, y)\n",
        "\n",
        "            # get prediction\n",
        "            _, pred = torch.max(y_hat, dim=1)\n",
        "            all_gts.append(y.cpu().numpy())\n",
        "            all_preds.append(pred.cpu().numpy())\n",
        "            epoch_losses = torch.cat([epoch_losses, loss[None].detach().cpu()])\n",
        "            metrics.add_batch(y, pred)\n",
        "\n",
        "\n",
        "            pbar.set_description(f\"Validation Loss:{epoch_losses[-100:].mean():.4}\")\n",
        "\n",
        "        mean_loss = epoch_losses.mean()\n",
        "        test_stats = {\n",
        "            \"test_loss\": mean_loss.item(),\n",
        "            \"test_average_accuracy\": metrics.get_average_accuracy(),\n",
        "            \"test_mIoU\": metrics.get_mIoU(),\n",
        "            **{\n",
        "                \"test_accuracy_\" + k: v\n",
        "                for k, v in metrics.get_classwise_accuracy().items()\n",
        "            },\n",
        "            **{\n",
        "                \"train_IoU_\" + k: v\n",
        "                for k, v in metrics.get_IoU().items()\n",
        "            },\n",
        "        }\n",
        "        print(\"Test stats:\")\n",
        "\n",
        "        # Loss\n",
        "        print(f\"  Loss: {test_stats['test_loss']:.4f}\")\n",
        "\n",
        "        # Average accuracy and mIoU\n",
        "        print(f\"  Average Accuracy: {test_stats['test_average_accuracy']:.4f}\")\n",
        "        print(f\"  Mean IoU: {test_stats['test_mIoU']:.4f}\")\n",
        "\n",
        "        # Accuracy per class\n",
        "        print(\"  Accuracy by Class:\")\n",
        "        for i in range(data_config['num_classes']):\n",
        "            print(f\"    Class {i}: {test_stats[f'test_accuracy_pixelclass_{i}']:.4f}\")\n",
        "\n",
        "        # IoU per class\n",
        "        print(\"  IoU by Class:\")\n",
        "        for i in range(data_config['num_classes']):\n",
        "            print(f\"    Class {i}: {test_stats[f'train_IoU_class_{i}']:.4f}\")\n",
        "        all_preds = np.concatenate(all_preds)\n",
        "        all_gts = np.concatenate(all_gts)\n",
        "\n",
        "        # Calculer la matrice de confusion\n",
        "        conf_matrix = confusion_matrix(all_gts.flatten(), all_preds.flatten(), labels=np.arange(data_config['num_classes']))\n",
        "        # Normalisation par lignes\n",
        "        conf_matrix_normalized = conf_matrix.astype('float') / conf_matrix.sum(axis=1)[:, np.newaxis]\n",
        "\n",
        "        sns.set(font_scale=0.8)\n",
        "\n",
        "        # Tracer la matrice de confusion\n",
        "        plt.figure(figsize=(10, 10))\n",
        "        ax = sns.heatmap(conf_matrix_normalized, annot=True, fmt='.2f', cmap='Blues', xticklabels=list(dict_classes_13.values()), yticklabels=list(dict_classes_13.values()))\n",
        "        ax.set_xticklabels(ax.get_xticklabels(), rotation=90)\n",
        "        #sns.set(font_scale=1.2)\n",
        "        plt.xlabel('Predicted Labels')\n",
        "        plt.ylabel('True Labels')\n",
        "        plt.title('Confusion Matrix')\n",
        "        plt.show()\n",
        "    return"
      ]
    },
    {
      "cell_type": "code",
      "execution_count": 34,
      "metadata": {
        "id": "r7S2rzkTs2V2"
      },
      "outputs": [],
      "source": [
        "torch.save(model.state_dict(), '../../drive/MyDrive/MVA/swin-t_SSL_freeze_60epochs.pth')\n",
        "# torch.save(model.state_dict(), 'checkpoints/segmentation-epoch-28.pth')"
      ]
    },
    {
      "cell_type": "code",
      "execution_count": 35,
      "metadata": {
        "colab": {
          "base_uri": "https://localhost:8080/",
          "height": 1000
        },
        "id": "YMVwzyf3ChJ-",
        "outputId": "80f9f9f2-2ca7-4db7-de49-7b52400a7b25"
      },
      "outputs": [
        {
          "name": "stderr",
          "output_type": "stream",
          "text": [
            "Validation Loss:0.9647: 100%|██████████| 33/33 [00:42<00:00,  1.28s/it]\n"
          ]
        },
        {
          "name": "stdout",
          "output_type": "stream",
          "text": [
            "Test stats:\n",
            "  Loss: 0.9647\n",
            "  Average Accuracy: 0.5109\n",
            "  Mean IoU: 0.3897\n",
            "  Accuracy by Class:\n",
            "    Class 0: 0.7905\n",
            "    Class 1: 0.3527\n",
            "    Class 2: 0.7256\n",
            "    Class 3: 0.0562\n",
            "    Class 4: 0.8261\n",
            "    Class 5: 0.4787\n",
            "    Class 6: 0.7762\n",
            "    Class 7: 0.4789\n",
            "    Class 8: 0.9207\n",
            "    Class 9: 0.7281\n",
            "    Class 10: 0.3054\n",
            "    Class 11: 0.2032\n",
            "    Class 12: 0.0000\n",
            "  IoU by Class:\n",
            "    Class 0: 0.6265\n",
            "    Class 1: 0.2230\n",
            "    Class 2: 0.5945\n",
            "    Class 3: 0.0556\n",
            "    Class 4: 0.6647\n",
            "    Class 5: 0.4112\n",
            "    Class 6: 0.6733\n",
            "    Class 7: 0.2984\n",
            "    Class 8: 0.6196\n",
            "    Class 9: 0.5073\n",
            "    Class 10: 0.2439\n",
            "    Class 11: 0.1474\n",
            "    Class 12: 0.0000\n"
          ]
        },
        {
          "data": {
            "image/png": "[encoded data removed]",
            "text/plain": [
              "<Figure size 1000x1000 with 2 Axes>"
            ]
          },
          "metadata": {},
          "output_type": "display_data"
        }
      ],
      "source": [
        "# create a new model's instance\n",
        "model = DoubleSwinTransformerSegmentation(\n",
        "        s1_backbone, s2_backbone, out_dim=data_config['num_classes'], device=device)\n",
        "\n",
        "model = model.to(device)\n",
        "\n",
        "# load checkpoints weights\n",
        "model.load_state_dict(torch.load('../../drive/MyDrive/MVA/swin-t_SSL_freeze_60epochs.pth'))#\"checkpoints/segmentation-epoch-20.pth\"))\n",
        "\n",
        "test(model, test_loader)"
      ]
    }
  ],
  "metadata": {
    "accelerator": "GPU",
    "colab": {
      "gpuType": "T4",
      "provenance": []
    },
    "kernelspec": {
      "display_name": "Python 3",
      "name": "python3"
    },
    "language_info": {
      "codemirror_mode": {
        "name": "ipython",
        "version": 3
      },
      "file_extension": ".py",
      "mimetype": "text/x-python",
      "name": "python",
      "nbconvert_exporter": "python",
      "pygments_lexer": "ipython3",
      "version": "3.6.13"
    }
  },
  "nbformat": 4,
  "nbformat_minor": 0
}
