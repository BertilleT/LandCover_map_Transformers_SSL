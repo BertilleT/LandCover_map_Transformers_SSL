{
 "cells": [
  {
   "cell_type": "markdown",
   "metadata": {},
   "source": [
    "# Sementic segmentation of flair1 data with a basic UNet"
   ]
  },
  {
   "cell_type": "code",
   "execution_count": 4,
   "metadata": {},
   "outputs": [
    {
     "name": "stderr",
     "output_type": "stream",
     "text": [
      "/home/bertille/miniconda3/envs/env_pytorch/lib/python3.6/site-packages/tqdm/auto.py:22: TqdmWarning: IProgress not found. Please update jupyter and ipywidgets. See https://ipywidgets.readthedocs.io/en/stable/user_install.html\n",
      "  from .autonotebook import tqdm as notebook_tqdm\n"
     ]
    }
   ],
   "source": [
    "# import all the necessary modules\n",
    "import matplotlib.pyplot as plt\n",
    "import rasterio\n",
    "from pathlib import Path\n",
    "from utils import *\n",
    "import numpy as np\n",
    "from sklearn.model_selection import train_test_split\n",
    "import torch.utils.data as data"
   ]
  },
  {
   "cell_type": "markdown",
   "metadata": {},
   "source": [
    "## Prepare the data\n",
    "1) Download the data and split it into training, validation and test sets\n",
    "2) Create a Dataloader\n",
    "3) Load the data"
   ]
  },
  {
   "cell_type": "code",
   "execution_count": 3,
   "metadata": {},
   "outputs": [],
   "source": [
    "folder_path = '../../data/flair1/'\n",
    "dict_classes = {\n",
    "1   : 'building',\n",
    "2   : 'pervious surface',\n",
    "3   : 'impervious surface',\n",
    "4   : 'bare soil',\n",
    "5   : 'water',\n",
    "6   : 'coniferous',\n",
    "7   : 'deciduous',\n",
    "8   : 'brushwood',\n",
    "9   : 'vineyard',\n",
    "10  : 'herbaceous vegetation',\n",
    "11  : 'agricultural land',\n",
    "12  : 'plowed land',\n",
    "13  : 'swimming_pool',\n",
    "14  : 'snow',\n",
    "15  : 'clear cut',\n",
    "16  : 'mixed',\n",
    "17  : 'ligneous',\n",
    "18  : 'greenhouse',\n",
    "19  : 'other'}\n",
    "\n",
    "colors = {\n",
    "1   : '#db0e9a',\n",
    "2   : '#938e7b',\n",
    "3   : '#f80c00',\n",
    "4   : '#a97101',\n",
    "5   : '#1553ae',\n",
    "6   : '#194a26',\n",
    "7   : '#46e483',\n",
    "8   : '#f3a60d',\n",
    "9   : '#660082',\n",
    "10  : '#55ff00',\n",
    "11  : '#fff30d',\n",
    "12  : '#e4df7c',\n",
    "13  : '#3de6eb',\n",
    "14  : '#ffffff',\n",
    "15  : '#8ab3a0',\n",
    "16  : '#6b714f',\n",
    "17  : '#c5dc42',\n",
    "18  : '#9999ff',\n",
    "19  : '#000000'}\n",
    "\n",
    "images = sorted(list(get_data_paths(Path(folder_path), 'IMG*.tif')), key=lambda x: int(x.split('_')[-1][:-4]))[0:100]\n",
    "masks  = sorted(list(get_data_paths(Path(folder_path), 'MSK*.tif')), key=lambda x: int(x.split('_')[-1][:-4]))[0:100]\n",
    "\n",
    "#split into train, validation and test\n",
    "images_train, images_test = train_test_split(images, test_size=0.2, random_state=42)\n",
    "masks_train, masks_test = train_test_split(masks, test_size=0.2, random_state=42)\n",
    "images_train, images_val = train_test_split(images_train, test_size=0.2, random_state=42)\n",
    "masks_train, masks_val = train_test_split(masks_train, test_size=0.2, random_state=42)"
   ]
  },
  {
   "cell_type": "code",
   "execution_count": 5,
   "metadata": {},
   "outputs": [],
   "source": [
    "class DataLoaderSegmentation(data.Dataset):\n",
    "    def __init__(self, folder_path):\n",
    "        super(DataLoaderSegmentation, self).__init__()\n",
    "        self.img_files = sorted(list(get_data_paths(Path(folder_path), 'IMG*.tif')), key=lambda x: int(x.split('_')[-1][:-4]))\n",
    "        self.mask_files = sorted(list(get_data_paths(Path(folder_path), 'MSK*.tif')), key=lambda x: int(x.split('_')[-1][:-4]))\n",
    "\n",
    "    def __getitem__(self, index):\n",
    "        img_path = self.img_files[index]\n",
    "        mask_path = self.mask_files[index]\n",
    "        data = rasterio.open(img_path).read()\n",
    "        label = rasterio.open(mask_path).read()\n",
    "        return torch.from_numpy(data).float(), torch.from_numpy(label).float()\n",
    "\n",
    "    def __len__(self):\n",
    "        return len(self.img_files)"
   ]
  },
  {
   "cell_type": "code",
   "execution_count": null,
   "metadata": {},
   "outputs": [],
   "source": [
    "train_loader = DataLoaderSegmentation(folder_path)"
   ]
  },
  {
   "cell_type": "markdown",
   "metadata": {},
   "source": [
    "## Create the model\n",
    "\n",
    "## Create the functions for training, validation and test, with plots of the loss\n",
    "\n",
    "## Run the algorithm for a tiny subset"
   ]
  }
 ],
 "metadata": {
  "kernelspec": {
   "display_name": "env_pytorch",
   "language": "python",
   "name": "python3"
  },
  "language_info": {
   "codemirror_mode": {
    "name": "ipython",
    "version": 3
   },
   "file_extension": ".py",
   "mimetype": "text/x-python",
   "name": "python",
   "nbconvert_exporter": "python",
   "pygments_lexer": "ipython3",
   "version": "3.6.13"
  }
 },
 "nbformat": 4,
 "nbformat_minor": 2
}
